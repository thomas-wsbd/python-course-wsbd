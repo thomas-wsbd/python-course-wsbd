{
 "cells": [
  {
   "cell_type": "markdown",
   "metadata": {},
   "source": [
    "# welkom!\n",
    "welkom in een ```jupyter notebook```! jupyter is een omgeving waarin je interactief ```python``` kan gebruiken en ```Markdown``` (een opmaaktaal, zoals bijv. LateX). vanuit een ```jupyter notebook``` kan je snel een presentatie of rapport maken met zowel code als tekst (dit is bijvoorbeeld een tekstblok). daarnaast is notebook handig om wat te proberen en prutsen in ```python``` je ziet meteen het resultaat van je code (gebruikt ```ipython```). vaak zal je als je echt een applicatie maakt op een gegevenmoment overstappen naar ```.py```-files. hieronder volgt een korte introductie van ```jupyter notebooks```. \n",
    "\n",
    "als je vragen hebt kan je ```Thomas```, ```Valerie``` of ```Jaap``` benaderen, succes!\n",
    "\n",
    "Een notebook bestaat uit verschillende ```cellen```, een cel kan code of markdown bevatten. Als een cel ```groen``` omlijnt is kan je de inhoud aanpassen. Als een cel ```blauw``` omlijnt is kan je de structuur van jouw notebook aanpassen (cellen toevoegen, verwijderen, type aanpassen).\n",
    "\n",
    "Hieronder volgen de belangrijkste toetscombinaties in notebooks. Alle toetscombinaties zijn terug te vinden onder het toetsenbordje in bovenstaand menu. Daarnaast kan je ook bovenstaand menu gebruiken alleen met het toetsenbord gaat gewoon veel sneller, dus leer dat vooral aan ;) De complexere dingen kan je dan via het menu doen.\n",
    "\n",
    "__run een cel__, control + enter (kan zowel bij blauwe als groene cellen)  \n",
    "__run een cel en ga naar volgende cel__, shift + enter (kan zowel bij blauwe als groene cellen)  \n",
    "__voeg een cel boven toe__, a (kan alleen bij blauwe cellen)  \n",
    "__voeg een cel beneden toe__, b (kan ook alleen bij blauwe cellen)  \n",
    "__verwijder een cel__, dd (twee keer d achter elkaar, kan alleen bij blauwe cellen)  \n",
    "__verander cel naar markdown__, m (blauw)  \n",
    "__verander een cel naar code__, y (blauw)  \n",
    "\n",
    "Oefen hieronder even met cellen runnen en toevoegen en verwijderen."
   ]
  },
  {
   "cell_type": "markdown",
   "metadata": {},
   "source": [
    "## oefenen met jupyter"
   ]
  },
  {
   "cell_type": "code",
   "execution_count": 1,
   "metadata": {},
   "outputs": [
    {
     "name": "stdout",
     "output_type": "stream",
     "text": [
      "run mij\n"
     ]
    }
   ],
   "source": [
    "print('run mij')\n"
   ]
  },
  {
   "cell_type": "code",
   "execution_count": null,
   "metadata": {},
   "outputs": [],
   "source": []
  },
  {
   "cell_type": "code",
   "execution_count": 2,
   "metadata": {},
   "outputs": [
    {
     "name": "stdout",
     "output_type": "stream",
     "text": [
      "run mij en voeg hierboven een cel toe\n"
     ]
    }
   ],
   "source": [
    "print('run mij en voeg hierboven een cel toe')"
   ]
  },
  {
   "cell_type": "markdown",
   "metadata": {},
   "source": [
    "print('run mij en verander mij in een markdown-cel')"
   ]
  },
  {
   "cell_type": "markdown",
   "metadata": {},
   "source": [
    "## docstrings en autosuggest"
   ]
  },
  {
   "cell_type": "markdown",
   "metadata": {},
   "source": [
    "Daarnaast nog wat handigheden in ```jupyter notebook``` die je veel zal gebruiken.  \n",
    "__open docstring__, ? achter functie, druk op +, om meer informatie te krijgen, een ```docstring``` is de informatie die de maker meegeeft over een bepaalde functie, methode of script   \n",
    "__autosuggest__, tab, stelt mogelijke dingen voor, kan bijvoorbeeld functies, of variables aanvullen, voorstellen  \n",
    "  \n",
    "Kijk hieronder wat er gebeurt wauw!"
   ]
  },
  {
   "cell_type": "code",
   "execution_count": 49,
   "metadata": {},
   "outputs": [],
   "source": [
    "# door mij te runnen check je de docstring\n",
    "print?\n"
   ]
  },
  {
   "cell_type": "code",
   "execution_count": 51,
   "metadata": {},
   "outputs": [],
   "source": [
    "my_variable = 'hai' # run mij"
   ]
  },
  {
   "cell_type": "code",
   "execution_count": null,
   "metadata": {},
   "outputs": [],
   "source": []
  },
  {
   "cell_type": "code",
   "execution_count": 55,
   "metadata": {},
   "outputs": [],
   "source": [
    "# wat begint er met m? max bijvoorbeeld... maar ook my_variable; gebruik tab my_variable"
   ]
  },
  {
   "cell_type": "markdown",
   "metadata": {},
   "source": [
    "# python deel in notebook\n",
    "hieronder volgt het vervolg van ```python-basics```, lees de teksten run de voorbeelden (shift+enter), en maak de opdrachten!   \n",
    "bij vragen benaderen ```Thomas```, ```Valerie``` of ```Jaap```"
   ]
  },
  {
   "cell_type": "markdown",
   "metadata": {},
   "source": [
    "<a id='index'></a>\n",
    "# python-basics\n",
    "nu naar ```python```, dit is de inhoud van deze ```notebook```:\n",
    "- [operators](#op);\n",
    "- [values&types](#vt);\n",
    "- [assigment](#as);\n",
    "- [exercise 1](#ex1);\n",
    "- [functies](#func);\n",
    "- [exercise 2](#ex2)\n",
    "- [exercise 3](#ex3)\n",
    "- [conditionals](#con);\n",
    "- [exercise 4](#ex4);\n",
    "- [iteration](#it);\n",
    "- [exercise 5](#ex5)\n",
    "- [strings](#str);\n",
    "- [exercise 6](#ex6)\n",
    "- [list](#list);\n",
    "- [range](#range);\n",
    "- [exercise 7](#ex7);\n",
    "- [dictionary](#dict);\n",
    "- [exercise 7](#ex8);\n",
    "- [tuple](#tuple);\n",
    "- [set](#set);\n",
    "- [file handling](#file);\n",
    "- [os](#os);\n",
    "- [eindopdracht](#ex)\n",
    "\n",
    "je kan deze inhoudsgave gebruiken om snel naar een gedeelte te springen, je vind hier en daar ook [terug naar index](#index) daarmee spring je naar de index, dit kan handig zijn als je snel iets wil opzoeken bij een opdracht of om straks als naslagwerk te gebruiken."
   ]
  },
  {
   "cell_type": "markdown",
   "metadata": {},
   "source": [
    "<a id='op'></a>\n",
    "[terug naar index](#index)\n",
    "# operators\n",
    "```operators``` zijn symbolen die berekeningen voorstellen, zoals optellen, vermenigvuldigen, zie hieronder enkele voorbeelden in ```python```, loop de voorbeelden hieronder door. ```+```, ```-```, ```*``` en ```/``` zijn zoals je zou verwachten, er zitten wel een paar verassingen in ```^``` is niet machtsverheffen maar ```**```.\n",
    "\n",
    "< ```shift``` + ```enter``` om een cel te runnen en te springen naar volgende cel!  \n",
    "< voel je vrij om de getallen in een cel aan te passen als je de werking niet direct begrijpt en de cel nogmaals te runnen"
   ]
  },
  {
   "cell_type": "code",
   "execution_count": 57,
   "metadata": {
    "scrolled": true
   },
   "outputs": [
    {
     "data": {
      "text/plain": [
       "6"
      ]
     },
     "execution_count": 57,
     "metadata": {},
     "output_type": "execute_result"
    }
   ],
   "source": [
    "8 - 2 # as expected..."
   ]
  },
  {
   "cell_type": "code",
   "execution_count": null,
   "metadata": {},
   "outputs": [],
   "source": [
    "7 * 6 # as expected..."
   ]
  },
  {
   "cell_type": "code",
   "execution_count": null,
   "metadata": {},
   "outputs": [],
   "source": [
    "6**2 # tot de macht, pas op dus geen ^"
   ]
  },
  {
   "cell_type": "code",
   "execution_count": null,
   "metadata": {},
   "outputs": [],
   "source": [
    "6^2 # bitwise operator, kan je vergeten"
   ]
  },
  {
   "cell_type": "code",
   "execution_count": null,
   "metadata": {},
   "outputs": [],
   "source": [
    "125 // 60 # floor, hoeveel keer past het te delen getal erin (delen afgerond naar hele getallen beneden)"
   ]
  },
  {
   "cell_type": "code",
   "execution_count": null,
   "metadata": {},
   "outputs": [],
   "source": [
    "165 % 60 # remainder"
   ]
  },
  {
   "cell_type": "markdown",
   "metadata": {},
   "source": [
    "<a id='vt'></a>\n",
    "[terug naar index](#index)\n",
    "# values&types\n",
    "\n",
    "```values``` zijn een van de basis bouwstenen waar een programma op werkt, zoals een letter of een number, voorbeelden van ```values``` zijn 2, 42.0 & 'hoi'.  \n",
    "```values``` hebben een ```type```:\n",
    "- 2 is een ```int``` (integer), \n",
    "- 42.0 ```float``` (floating-point number), \n",
    "- True ```bool``` (boolean) & \n",
    "- 'hoi' een ```str``` (string).  \n",
    "voor strings kan zowel \"\" als '' worden gebruikt, \" 's morgens\" kan bijvoorbeeld ook, andersom uiteraard ook ' \" '.  \n",
    "  \n",
    "```python``` heeft een ```method``` ```type()``` die het type teruggeeft van een ```value``` voer de cellen hieronder uit, en zie hoe het werkt."
   ]
  },
  {
   "cell_type": "code",
   "execution_count": null,
   "metadata": {},
   "outputs": [],
   "source": [
    "type(2)"
   ]
  },
  {
   "cell_type": "code",
   "execution_count": null,
   "metadata": {},
   "outputs": [],
   "source": [
    "type(2.0)"
   ]
  },
  {
   "cell_type": "code",
   "execution_count": null,
   "metadata": {},
   "outputs": [],
   "source": [
    "type(True)"
   ]
  },
  {
   "cell_type": "code",
   "execution_count": null,
   "metadata": {},
   "outputs": [],
   "source": [
    "type('hallo')"
   ]
  },
  {
   "cell_type": "markdown",
   "metadata": {},
   "source": [
    "<a id='as'></a>\n",
    "[terug naar index](#index)\n",
    "# assignment\n",
    "een ```assignment statement``` creeert een nieuwe ```variable``` in je ```python``` omgeving die je overal in deze ```notebook``` kan hergebruiken. deze ```variable``` heeft een ```value```. zie hieronder een paar voorbeelden van ```assignment```."
   ]
  },
  {
   "cell_type": "code",
   "execution_count": null,
   "metadata": {},
   "outputs": [],
   "source": [
    "message = 'hello world' # assignment, message is een variable, 'hello world' de value\n",
    "print(message) # print de value"
   ]
  },
  {
   "cell_type": "code",
   "execution_count": null,
   "metadata": {},
   "outputs": [],
   "source": [
    "n = 17"
   ]
  },
  {
   "cell_type": "code",
   "execution_count": null,
   "metadata": {},
   "outputs": [],
   "source": [
    "print(n) # n heeft nu de waarde 17!"
   ]
  },
  {
   "cell_type": "code",
   "execution_count": null,
   "metadata": {},
   "outputs": [],
   "source": [
    "pi = 3.141592653589793"
   ]
  },
  {
   "cell_type": "code",
   "execution_count": null,
   "metadata": {},
   "outputs": [],
   "source": [
    "print(pi)"
   ]
  },
  {
   "cell_type": "markdown",
   "metadata": {},
   "source": [
    "een ```variable```mag zo lang zijn als je wil, kan zowel letters (zowel hoofd- als klein, conventie is alles klein) als nummers bevatten maaaaarrr... de naam van de ```variable```:\n",
    "- mag niet beginnen met een nummer;\n",
    "- geen symbolen behalve ``` underscore``` _;\n",
    "- geen python keywords (zoals True, False, from, def, if, in, else, try, return ...., maar sum of max kan bijvoorbeeld weer wel)"
   ]
  },
  {
   "cell_type": "code",
   "execution_count": null,
   "metadata": {},
   "outputs": [],
   "source": [
    "0integer = 12"
   ]
  },
  {
   "cell_type": "code",
   "execution_count": null,
   "metadata": {},
   "outputs": [],
   "source": [
    "hallo/doei = 'hoi'"
   ]
  },
  {
   "cell_type": "markdown",
   "metadata": {},
   "source": [
    "<a id='ex1'></a>\n",
    "[terug naar index](#index)\n",
    "# exercise 1\n",
    "Laten we ```python``` gebruiken als een rekenmachine.  \n",
    "Hoeveel seconden zitten er in 42 minuten en 42 seconden? Maak een ```variable``` ```minuten``` en ```seconden_in``` aan. Bereken het totaal aantal seconden en sla het op in de ```variable``` ```seconden_uit```."
   ]
  },
  {
   "cell_type": "code",
   "execution_count": 3,
   "metadata": {},
   "outputs": [
    {
     "data": {
      "text/plain": [
       "2562"
      ]
     },
     "execution_count": 3,
     "metadata": {},
     "output_type": "execute_result"
    }
   ],
   "source": [
    "minuten = 42\n",
    "seconden_in = 42\n",
    "seconden_uit = minuten * 60 + seconden_in\n",
    "seconden_uit"
   ]
  },
  {
   "cell_type": "markdown",
   "metadata": {},
   "source": [
    "Hoeveel mijlen zitten er in 10 kilometer? (hint: 1.61 km in een mijl) Maak logische ```variables``` aan, zodat je ze later misschien kan gebruiken..."
   ]
  },
  {
   "cell_type": "code",
   "execution_count": 2,
   "metadata": {},
   "outputs": [
    {
     "data": {
      "text/plain": [
       "6.211180124223602"
      ]
     },
     "execution_count": 2,
     "metadata": {},
     "output_type": "execute_result"
    }
   ],
   "source": [
    "kilometer = 10\n",
    "mijl_kilometer = 1.61\n",
    "mijlen = kilometer / mijl_kilometer\n",
    "mijlen"
   ]
  },
  {
   "cell_type": "markdown",
   "metadata": {},
   "source": [
    "Als je 10 kilometer rent in 42 minuten en 42 seconden, wat is dan je gemiddelde tempo (tijd per mijl in minuten en seconden)? Wat is je gemiddelde snelheid in mijlen per uur? Kijk of je de ```variables``` van hierboven kan hergebruiken."
   ]
  },
  {
   "cell_type": "code",
   "execution_count": 13,
   "metadata": {},
   "outputs": [
    {
     "name": "stdout",
     "output_type": "stream",
     "text": [
      "tempo tijd per mijl,  6.0 minuten 52.48200000000003 seconden\n",
      "gemiddelde snelheid:  8.727653570337614 mijl/uur\n"
     ]
    }
   ],
   "source": [
    "tempo_seconden_totaal = seconden_uit / mijlen\n",
    "tempo_minuten = tempo_seconden_totaal // 60 # floor, aantal keer dat het erin\n",
    "# past\n",
    "tempo_seconden = tempo_seconden_totaal % 60 # remainder, hoeveel seconden blijven\n",
    "# er over na de minuten\n",
    "\n",
    "print('tempo tijd per mijl, ', tempo_minuten, 'minuten', tempo_seconden, 'seconden')\n",
    "\n",
    "gemiddelde_snelheid_mijl_per_uur = mijlen / (seconden_uit / (60*60)) # seconden naar uren\n",
    "print('gemiddelde snelheid: ', gemiddelde_snelheid_mijl_per_uur, 'mijl/uur')"
   ]
  },
  {
   "cell_type": "markdown",
   "metadata": {},
   "source": [
    "# je hebt functioneel geprogrammeerd, gefeliciteerd!\n",
    "![](https://media.giphy.com/media/ZdFxoPhIS4glG/giphy.gif)\n",
    "en door..."
   ]
  },
  {
   "cell_type": "markdown",
   "metadata": {
    "slideshow": {
     "slide_type": "-"
    }
   },
   "source": [
    "<a id='func'></a>\n",
    "[terug naar index](#index)\n",
    "# functions (functies)\n",
    "een ```function``` is benoemde volgorde van ```statements``` die iets doen, bijvoorbeeld een berekening. als je een ```function``` aanmaakt geef je die ```function name```, je geeft eventuele ```variable(s)``` mee en de volgorde van statements (```indented```). enkele simpele voorbeelden van ingebouwde ```functions``` in ```python```:\n",
    "- ```str()```, ```value``` omzetten naar ```str```;\n",
    "- ```int()```, ```value``` omzetten naar ```int```;\n",
    "- ```type()```, geeft het ```type``` van de ```value``` terug;\n",
    "- ```add()```, ```values``` optellen; \n",
    "- ```sum()```, ```values``` sommeren; \n",
    "- etc."
   ]
  },
  {
   "cell_type": "code",
   "execution_count": null,
   "metadata": {},
   "outputs": [],
   "source": [
    "int('32') # zet een value om naar een integer"
   ]
  },
  {
   "cell_type": "code",
   "execution_count": null,
   "metadata": {},
   "outputs": [],
   "source": [
    "int(32.0) # zet een value om naar een integer"
   ]
  },
  {
   "cell_type": "markdown",
   "metadata": {},
   "source": [
    "```packages``` bevatten vaak ook functies, de ```math package``` bijv. bevat de meest voorkomende wiskundige functies"
   ]
  },
  {
   "cell_type": "code",
   "execution_count": null,
   "metadata": {},
   "outputs": [],
   "source": [
    "import math # importeert de gehele package math, hierna zijn de functies te benaderen met math.\n",
    "degrees = 45 # assignment\n",
    "radians = degrees / 180.0 * math.pi\n",
    "math.sin(radians) # functie sin in package math"
   ]
  },
  {
   "cell_type": "code",
   "execution_count": null,
   "metadata": {},
   "outputs": [],
   "source": [
    "# bekijk de docstring van functie sin\n",
    "math.sin?"
   ]
  },
  {
   "cell_type": "code",
   "execution_count": null,
   "metadata": {},
   "outputs": [],
   "source": [
    "# bekijk welke functies er nog meer in math zitten, herinner je <TAB>?\n",
    "math."
   ]
  },
  {
   "cell_type": "markdown",
   "metadata": {
    "slideshow": {
     "slide_type": "slide"
    }
   },
   "source": [
    "# functions toevoegen\n",
    "functies toevoegen, hiervoor gebruik je een __functie definitie__ ```def <functionname>():```, hieronder een voorbeeld, let op de syntax:\n",
    "- begint met ```def```,\n",
    "- daarna de ```function name``` gevold oor ```()``` tussen haakjes kan je eventuele parameters definieren,\n",
    "- eindigend met ```:```, \n",
    "- indent na de : (doet jupyter notebooks automatisch)  \n",
    "  \n",
    "bekijk en run onderstaande functies"
   ]
  },
  {
   "cell_type": "code",
   "execution_count": null,
   "metadata": {},
   "outputs": [],
   "source": [
    "def print_lyrics():\n",
    "    print(\"I'm a lumberjack, and I'm okay.\") \n",
    "    print(\"I sleep all night and I work all day.\")"
   ]
  },
  {
   "cell_type": "code",
   "execution_count": null,
   "metadata": {},
   "outputs": [],
   "source": [
    "def repeat_lyrics(): \n",
    "    print_lyrics() \n",
    "    print_lyrics() "
   ]
  },
  {
   "cell_type": "markdown",
   "metadata": {
    "slideshow": {
     "slide_type": "slide"
    }
   },
   "source": [
    "# functions, parameters en argumenten\n",
    "sommige functies hebben ```argumenten``` of ook wel parameters genoemd nodig, dit is een input in de functie, zoals de radians bij math.sin hierboven. \n",
    "als in een functie argumenten worden toegekend worden deze ook wel ```parameters``` genoemd.  \n",
    "een functie kan meerdere parameters hebben.  \n",
    "een ```default argument``` is een argument dat een default waarde heeft (bijv. degrees=45).  \n",
    "een variabele in een functie is ```local```, hierdoor kan deze variable enkel in de functie definitie worden gebruikt"
   ]
  },
  {
   "cell_type": "code",
   "execution_count": null,
   "metadata": {},
   "outputs": [],
   "source": [
    "def print_twice(text): # text is een argument\n",
    "    print(text)\n",
    "    print(text)\n",
    "\n",
    "print_twice('spam') # spam is een parameter"
   ]
  },
  {
   "cell_type": "code",
   "execution_count": null,
   "metadata": {},
   "outputs": [],
   "source": [
    "text # variabele is local kan alleen in de functie definitie worden gebruikt"
   ]
  },
  {
   "cell_type": "code",
   "execution_count": null,
   "metadata": {},
   "outputs": [],
   "source": [
    "def printinfo(naam, leeftijd=35): # naam is een argument, leeftijd een default argument\n",
    "    print(\"Naam: \", naam)\n",
    "    print(\"Leeftijd \", leeftijd)"
   ]
  },
  {
   "cell_type": "code",
   "execution_count": null,
   "metadata": {},
   "outputs": [],
   "source": [
    "printinfo('Miki') # nu wordt default voor leeftijd gebruikt"
   ]
  },
  {
   "cell_type": "code",
   "execution_count": null,
   "metadata": {},
   "outputs": [],
   "source": [
    "printinfo('Miki', leeftijd=50) # nu dus geen default waarde"
   ]
  },
  {
   "cell_type": "markdown",
   "metadata": {},
   "source": [
    "<a id='ex2'></a>\n",
    "[terug naar index](#index)\n",
    "# exercise 2\n",
    "Laten we wat oefenen met ```functions```.  \n",
    "Maak een functie ```greet```, waarmee je een ```persoon``` (```argument```) groet, je kan je begroeting printen (```print```). Test of je functie werkt!"
   ]
  },
  {
   "cell_type": "code",
   "execution_count": 14,
   "metadata": {},
   "outputs": [],
   "source": [
    "def greet(persoon):\n",
    "    print('Hallo', persoon)"
   ]
  },
  {
   "cell_type": "code",
   "execution_count": 15,
   "metadata": {},
   "outputs": [
    {
     "name": "stdout",
     "output_type": "stream",
     "text": [
      "Hallo waterschap Brabantse Delta\n"
     ]
    }
   ],
   "source": [
    "greet('waterschap Brabantse Delta')"
   ]
  },
  {
   "cell_type": "markdown",
   "metadata": {},
   "source": [
    "Maak een functie ```greet_goodbye```, hiermee zeg je de ```persoon``` ook gedag naast de begroeting, je kan bovenstaande functie hergebruiken. Test of je functie werkt!"
   ]
  },
  {
   "cell_type": "code",
   "execution_count": 16,
   "metadata": {},
   "outputs": [],
   "source": [
    "def greet_goodbye(persoon):\n",
    "    greet(persoon) # gebruik argument persoon van greet_goodbye in greet\n",
    "    print('Doei', persoon)"
   ]
  },
  {
   "cell_type": "code",
   "execution_count": 17,
   "metadata": {},
   "outputs": [
    {
     "name": "stdout",
     "output_type": "stream",
     "text": [
      "Hallo waterschap Brabantse Delta\n",
      "Doei waterschap Brabantse Delta\n"
     ]
    }
   ],
   "source": [
    "greet_goodbye('waterschap Brabantse Delta')"
   ]
  },
  {
   "cell_type": "markdown",
   "metadata": {
    "slideshow": {
     "slide_type": "slide"
    }
   },
   "source": [
    "# functions, fruitfull & void\n",
    "er zijn verschillende type functies, vaak worden ```functions``` verdeeld in functies die een waarde teruggeven (fruitfull), en functies die een actie doen maar geen waarde teruggeven (fruitless of void).  \n",
    "- een voorbeeld van een ```fruitfull``` functie is ```math.sin```  \n",
    "- een voorbeeld van een ```void``` of ```fruitless``` functie is ```print_twice``` van hierboven of de functies die je net in exercise 2 hebt aangemaakt.  "
   ]
  },
  {
   "cell_type": "code",
   "execution_count": null,
   "metadata": {},
   "outputs": [],
   "source": [
    "result = print_twice('Bing') # void of fruitless"
   ]
  },
  {
   "cell_type": "code",
   "execution_count": null,
   "metadata": {},
   "outputs": [],
   "source": [
    "print(result) # returnt None, ofwel niks"
   ]
  },
  {
   "cell_type": "markdown",
   "metadata": {},
   "source": [
    "```fruitfull``` functies kun je herkennen aan ```return```, je kan ```return``` gebruiken om een waarde terug te geven.\n",
    "je kan ook meerdere malen ```return``` gebruiken in een functie als je conditionals gebruikt, die volgen hierna ;) zie een ander voorbeeld van een ```fruitfull``` functie hieronder."
   ]
  },
  {
   "cell_type": "code",
   "execution_count": null,
   "metadata": {},
   "outputs": [],
   "source": [
    "def area_circle(radius): \n",
    "    import math\n",
    "    area = math.pi * radius**2\n",
    "    return area # fruitfull!"
   ]
  },
  {
   "cell_type": "code",
   "execution_count": null,
   "metadata": {},
   "outputs": [],
   "source": [
    "area = area_circle(2)\n",
    "print(area)"
   ]
  },
  {
   "cell_type": "markdown",
   "metadata": {},
   "source": [
    "<a id='ex3'></a>\n",
    "[terug naar index](#index)\n",
    "# exercise 3\n",
    "Maak een ```fruitfull``` functie ```area_rectangle``` die het oppervlak van een rechthoek berekend, gegeven de ```arguments```, ```langezijde``` en ```kortezijde```. Maak van ```kortezijde``` een ```default argument``` met de waarde 1. Test of de functie werkt."
   ]
  },
  {
   "cell_type": "code",
   "execution_count": 20,
   "metadata": {},
   "outputs": [
    {
     "name": "stdout",
     "output_type": "stream",
     "text": [
      "langezijde=5, kortezijde=1, oppervlak= 5\n",
      "langezijde=5, kortezijde=3, oppervlak= 15\n"
     ]
    }
   ],
   "source": [
    "def area_rectangle(langezijde, kortezijde=1):\n",
    "    return langezijde * kortezijde # lengte x breedte\n",
    "\n",
    "print('langezijde=5, kortezijde=1, oppervlak=', area_rectangle(5))\n",
    "print('langezijde=5, kortezijde=3, oppervlak=', area_rectangle(5,3))"
   ]
  },
  {
   "cell_type": "markdown",
   "metadata": {},
   "source": [
    "Maak een ```fruitfull``` functie ```volume_cube``` die het volume van een kubus berekend, gegeven de ```langezijde``` en ```kortezijde``` en ```hoogte```. Kan je de hierboven gemaakte functie hergebruiken? Test of je functie werkt."
   ]
  },
  {
   "cell_type": "code",
   "execution_count": 22,
   "metadata": {},
   "outputs": [
    {
     "name": "stdout",
     "output_type": "stream",
     "text": [
      "5\n",
      "5\n"
     ]
    }
   ],
   "source": [
    "def volume_cube1(hoogte, langezijde, kortezijde=1): # arugmenten meegeven\n",
    "    return area_rectangle(langezijde, kortezijde) * hoogte # argumenten uit volume_cube1 meegeven aan area_rectangle\n",
    "\n",
    "def volume_cube2(area_rectangle, hoogte): # functie meegeven\n",
    "    return area_rectangle * hoogte # je kan ook een functie meegeven zie hieronder\n",
    "\n",
    "print(volume_cube1(1,5))\n",
    "print(volume_cube1(area_rectangle(5), 1)) # functie meegeven als input"
   ]
  },
  {
   "cell_type": "markdown",
   "metadata": {},
   "source": [
    "Maak een ```fruitfull``` functie ```area_cube``` die het oppervlak van een kubus berekend, gegeven de ```langezijde``` en ```kortezijde``` en ```hoogte```. Kan je de hierboven gemaakte functies hergebruiken? Test of je functie werkt."
   ]
  },
  {
   "cell_type": "code",
   "execution_count": 24,
   "metadata": {},
   "outputs": [
    {
     "data": {
      "text/plain": [
       "22"
      ]
     },
     "execution_count": 24,
     "metadata": {},
     "output_type": "execute_result"
    }
   ],
   "source": [
    "def area_cube(hoogte, langezijde, kortezijde=1):\n",
    "    return area_rectangle(hoogte, langezijde) * 2 \\\n",
    "+ area_rectangle(hoogte, kortezijde) * 2 \\\n",
    "+ area_rectangle(kortezijde, langezijde) * 2\n",
    "\n",
    "area_cube(1,2,3)"
   ]
  },
  {
   "cell_type": "markdown",
   "metadata": {
    "slideshow": {
     "slide_type": "slide"
    }
   },
   "source": [
    "<a id='con'></a>\n",
    "[terug naar index](#index)\n",
    "# conditionals\n",
    "\n",
    "een ```boolean expression``` is een expressie (query, vraagstelling) die waar of onwaar (```True``` of ```False```) is, denk daarbij aan is a groter dan b, is c gelijk aan d, zie hieronder een paar voorbeelden;\n"
   ]
  },
  {
   "cell_type": "code",
   "execution_count": null,
   "metadata": {},
   "outputs": [],
   "source": [
    "5 == 5 # == gelijk aan"
   ]
  },
  {
   "cell_type": "code",
   "execution_count": null,
   "metadata": {},
   "outputs": [],
   "source": [
    "5 == 6"
   ]
  },
  {
   "cell_type": "markdown",
   "metadata": {},
   "source": [
    "andere ```relational operators``` in ```python``` zijn:\n",
    "- ``==`` gelijk aan,\n",
    "- ``!=`` niet gelijk aan, \n",
    "- ``>``; groter, \n",
    "- ``<`` kleiner, \n",
    "- ``>=`` groter gelijk, \n",
    "- ``<=`` kleiner gelijk;\n",
    "\n",
    "```logical operators``` in ```python``` zijn;\n",
    "- ```and``` of ```&```,\n",
    "- ```or``` of ```|```, \n",
    "- ```not``` of ```~```,  \n",
    "  \n",
    "deze zijn gelijk aan hun betekenis in het engels, hiermee kan je meerdere ``boolean expressions`` combineren"
   ]
  },
  {
   "cell_type": "code",
   "execution_count": null,
   "metadata": {},
   "outputs": [],
   "source": [
    "n = 4 # je kan deze n veranderen tot je het begrijpt ;)\n",
    "print(n%2 == 0 or n%3 == 0) # True als n gedeeld kan worden door 2 en/of 3, bijvoorbeeld n=4, maar ook n=6\n",
    "print(n%2 == 0 and n%3 == 0) # True als n gedeeld kan worden door 2 en 3, bijvoorbeeld n=6"
   ]
  },
  {
   "cell_type": "markdown",
   "metadata": {
    "slideshow": {
     "slide_type": "slide"
    }
   },
   "source": [
    "# conditional statements\n",
    "\n",
    "met ```conditional execution``` kan je het gevolg het uitvoeren van code aanpassen, vergelijkbaar met als dan. voorbeelden hiervan in python zijn:\n",
    "- ```if```, if x == 2:, als x gelijk is aan 2 dan ..., \n",
    "- ```elif```, als je na de 1e if nog extra ifs wil toepassen gebruik je elif, elif x == 3:, als x gelijk is aan 3 dan, \n",
    "- ```else```, else: in dit geval als x niet gelijk is aan 2 of 3 dan; \n",
    "  \n",
    "zoals je hierboven ook zag heeft een ```conditional statement```ook syntax;\n",
    "- eindigt op een ```:```;\n",
    "- daarna indent;  \n",
    "  \n",
    "een simpel voorbeeld"
   ]
  },
  {
   "cell_type": "code",
   "execution_count": null,
   "metadata": {},
   "outputs": [],
   "source": [
    "n = 4 # je kan de n veranderen om te zien dat het werkt ;)\n",
    "if n % 2 == 0: # remainder is handig te gebruiken om te checken of een variable even is of niet\n",
    "    print('n is even')\n",
    "else:\n",
    "    print('n is oneven')"
   ]
  },
  {
   "cell_type": "markdown",
   "metadata": {},
   "source": [
    "je kan ook ```nesten``` (of wel een ```conditional statement``` in een ```conditional statement``` gebruiken), zie hieronder"
   ]
  },
  {
   "cell_type": "code",
   "execution_count": null,
   "metadata": {},
   "outputs": [],
   "source": [
    "x = 4\n",
    "y = 6\n",
    "if x == y:\n",
    "    print('x is gelijk aan y')\n",
    "else:\n",
    "    if x < y:\n",
    "        print('x is kleiner dan y')\n",
    "    else:\n",
    "        print('x is groter dan y')"
   ]
  },
  {
   "cell_type": "markdown",
   "metadata": {},
   "source": [
    "<a id='ex4'></a>\n",
    "[terug naar index](#index)\n",
    "# exercise 4\n",
    "Maak een functie ```between_10_50``` die checkt of een gegeven waarde tussen de 10 en 50 ligt. Test je functie."
   ]
  },
  {
   "cell_type": "code",
   "execution_count": 28,
   "metadata": {},
   "outputs": [
    {
     "name": "stdout",
     "output_type": "stream",
     "text": [
      "40 True\n",
      "60 False\n"
     ]
    }
   ],
   "source": [
    "def between_10_50(number):\n",
    "    if (number > 10) & (number <50): # als getal tussen 10 en 50, return True\n",
    "        return True\n",
    "    else: # als getal niet tussen 10 en 50, return False\n",
    "        return False\n",
    "\n",
    "print('40', between_10_50(40))\n",
    "print('60', between_10_50(60))"
   ]
  },
  {
   "cell_type": "markdown",
   "metadata": {},
   "source": [
    "Maak een functie ```between_10_50_divideable_by_5```die checkt of een waarde tussen de 10 en 50 ligt (hiervoor kan je misschien bovenstaande functie gebruiken?). En of het getal te delen is door 5. Test je functie! Als de waarde tussen de 10 en 50 ligt en het getal is deelbaar door 5 moet de functie ```True``` teruggeven anders ```False```. Test je functie."
   ]
  },
  {
   "cell_type": "code",
   "execution_count": 33,
   "metadata": {},
   "outputs": [
    {
     "name": "stdout",
     "output_type": "stream",
     "text": [
      "45 True\n",
      "42 False\n",
      "60 False\n"
     ]
    }
   ],
   "source": [
    "def between_10_50_divideable_by_5(number):\n",
    "    if between_10_50(number) & (number % 5 == 0): # hergebruiken functie van hierboven en daaraan toevoegen test of getal\n",
    "        # te delen is door 5\n",
    "        return True\n",
    "    else:\n",
    "        return False\n",
    "    \n",
    "print('45', between_10_50_divideable_by_5(45))\n",
    "print('42', between_10_50_divideable_by_5(42))\n",
    "print('60', between_10_50_divideable_by_5(60))"
   ]
  },
  {
   "cell_type": "markdown",
   "metadata": {
    "slideshow": {
     "slide_type": "slide"
    }
   },
   "source": [
    "<a id='it'></a>\n",
    "[terug naar index](#index)\n",
    "# iteration\n",
    "```iteration``` geeft je de mogelijkheid om een stukje code meerdere malen te runnen;\n",
    "```python``` kent:\n",
    "- ```for``` loop, deze itereren over een van de voren meegegeven volgorde;\n",
    "- ```while``` loop, itereren zolang er wordt voldaan aan een ```boolean condition```\n",
    "  \n",
    "zie hieronder voorbeelden van een ```for``` en ```while``` loop"
   ]
  },
  {
   "cell_type": "code",
   "execution_count": null,
   "metadata": {},
   "outputs": [],
   "source": [
    "def for_countdown(n):\n",
    "    for counter in range(n,-1,-1): # for loop, range komen we later op terug\n",
    "        if counter > 0:\n",
    "            print(counter)\n",
    "        else:\n",
    "            print('BLASTOFF!')\n",
    "\n",
    "for_countdown(5)"
   ]
  },
  {
   "cell_type": "code",
   "execution_count": null,
   "metadata": {},
   "outputs": [],
   "source": [
    "def while_countdown(n):\n",
    "    while n > 0: # while loop, eigenlijk in het kort de for loop en if statement van hierboven\n",
    "        print(n)\n",
    "        n = n-1 # je kan ook n -= 1 gebruiken in een loop\n",
    "    print('BLASTOFF!')\n",
    "\n",
    "while_countdown(5)"
   ]
  },
  {
   "cell_type": "markdown",
   "metadata": {},
   "source": [
    "je kan ```break``` in een loop gebruiken als je niet exact weet wanneer je wil stoppen, met ```break``` kan je geforceerd stoppen. dit stukje script stopt pas als je 'done' intypt als input."
   ]
  },
  {
   "cell_type": "code",
   "execution_count": null,
   "metadata": {},
   "outputs": [],
   "source": [
    "while True:\n",
    "    line = input('> ')\n",
    "    if line == 'done':\n",
    "        break\n",
    "    print(line)\n",
    "print('Done')"
   ]
  },
  {
   "cell_type": "markdown",
   "metadata": {},
   "source": [
    "<a id='ex5'></a>\n",
    "[terug naar index](#index)\n",
    "# exercise 5\n",
    "Maak een functie ```fibonnaci``` die de Fibonnaci reeks print tot n (```fruitless```). (hint: [link](https://nl.wikipedia.org/wiki/Rij_van_Fibonacci), denk aan de base cases)  \n",
    "Deze functie zullen we ook ergens vandaag nog behandelen.\n",
    "\n",
    "```fibonacci(1000)``` zou dus terug moeten geven, 0 1 1 2 3 5 8 13 21 34 55 89 144 233 377 610 987"
   ]
  },
  {
   "cell_type": "code",
   "execution_count": 51,
   "metadata": {},
   "outputs": [
    {
     "name": "stdout",
     "output_type": "stream",
     "text": [
      "0 1 1 2 3 5 8 13 21 34 55 89 144 233 377 610 987 "
     ]
    }
   ],
   "source": [
    "def fibonacci(n):\n",
    "    a = 0 # basecase \n",
    "    b = 1 # basecase\n",
    "    while a < n: # als a kleiner dan meegegeven n\n",
    "        print(a, end=' ') # print a\n",
    "        a, b = b, a+b # a wordt b, b wordt a + b\n",
    "fibonacci(1000)"
   ]
  },
  {
   "cell_type": "markdown",
   "metadata": {
    "slideshow": {
     "slide_type": "slide"
    }
   },
   "source": [
    "<a id='str'></a>\n",
    "[terug naar index](#index)\n",
    "# strings\n",
    "je kan strings in python aanmaken door ```str()```, ```\" \"``` of ```' '```, bijv. str(1), \"1\", of '1', maar ook \"'s ochtends\".\n",
    "  \n",
    "strings zijn niet als integers, floats of booleans, het zijn reeksen (```sequences```). hier door kan je ```indexing``` toepassen, je kan elke letter opvragen door ```[]``` rechte haken met daarin het ```index``` nummer,  \n",
    "  \n",
    "LET OP: de ```index``` in ```python``` begint bij 0\n",
    "  \n",
    "  \n",
    "een string heeft een lengte, welke opgevraagd kan worden met ```len()```.  \n",
    "je kan ook door een string loopen met een ```for``` of ```while``` loop (omdat het sequence is).  \n",
    "je kan een string ```slicen```, ofwel een gedeelte van een string selecteren dit doe je met rechte haken, ```[n:m]```, waarin n de startindex is en m de eindindex, als je geen start- of eindindex meegeeft pak hij automatisch van het begin of tot het einde van de string.  \n",
    "strings zijn ```immutable```, dit betekend dat je ze niet met assignment kan aanpassen,  dus je kan niet string[0] = 'a' doen.\n",
    " \n",
    "zie hieronder voor voorbeelden om bovenstaande te illusteren, het is belangrijk dat je ```indexing``` en ```slicing``` snapt, dat komt nog op veel plekken terug"
   ]
  },
  {
   "cell_type": "code",
   "execution_count": null,
   "metadata": {},
   "outputs": [],
   "source": [
    "word = 'banana'\n",
    "word[0]"
   ]
  },
  {
   "cell_type": "code",
   "execution_count": null,
   "metadata": {},
   "outputs": [],
   "source": [
    "len(word)"
   ]
  },
  {
   "cell_type": "code",
   "execution_count": null,
   "metadata": {},
   "outputs": [],
   "source": [
    "word[0:2] # van index 0 tot index 1"
   ]
  },
  {
   "cell_type": "code",
   "execution_count": null,
   "metadata": {},
   "outputs": [],
   "source": [
    "word[1:] # van index 1 tot eind"
   ]
  },
  {
   "cell_type": "code",
   "execution_count": null,
   "metadata": {},
   "outputs": [],
   "source": [
    "word[:-1] # van index 0 tot een na laatste index"
   ]
  },
  {
   "cell_type": "code",
   "execution_count": null,
   "metadata": {},
   "outputs": [],
   "source": [
    "word[::-1] # omdraaien van indexen"
   ]
  },
  {
   "cell_type": "code",
   "execution_count": null,
   "metadata": {},
   "outputs": [],
   "source": [
    "word[0] = 'k' # immutable"
   ]
  },
  {
   "cell_type": "markdown",
   "metadata": {
    "slideshow": {
     "slide_type": "slide"
    }
   },
   "source": [
    "strings hebben verschillende ```methods```, dit zijn een soort functies die je op ```str``` los kan laten. voorbeelden zijn upper(), lower(), find() en nog veel meer. hieronder volgen een paar voorbeelden. als je wil zien wat er mogelijk is kan je autosuggest, ```TAB``` gebruiken."
   ]
  },
  {
   "cell_type": "code",
   "execution_count": null,
   "metadata": {},
   "outputs": [],
   "source": [
    "word = 'banana'\n",
    "word.upper()"
   ]
  },
  {
   "cell_type": "code",
   "execution_count": null,
   "metadata": {},
   "outputs": [],
   "source": [
    "word.find('a') # geeft de index van eerste a terug"
   ]
  },
  {
   "cell_type": "code",
   "execution_count": null,
   "metadata": {},
   "outputs": [],
   "source": [
    "word.find('a', 4) # geeft de eerste index met een a op vanaf index 4"
   ]
  },
  {
   "cell_type": "code",
   "execution_count": null,
   "metadata": {},
   "outputs": [],
   "source": [
    "word. # kijk even wat er nog meer kan, probeer een van de functies uit je kan ? gebruiken om de docstring van de functie te openen"
   ]
  },
  {
   "cell_type": "markdown",
   "metadata": {},
   "source": [
    "daarnaast kan je de operator ```in``` gebruiken bij strings, deze is ```True``` als het stringgedeelte voorkomt in de string en anders ```False```"
   ]
  },
  {
   "cell_type": "code",
   "execution_count": null,
   "metadata": {},
   "outputs": [],
   "source": [
    "'a' in 'banana'"
   ]
  },
  {
   "cell_type": "code",
   "execution_count": null,
   "metadata": {},
   "outputs": [],
   "source": [
    "'hoi' in 'banana'"
   ]
  },
  {
   "cell_type": "markdown",
   "metadata": {},
   "source": [
    "<a id='ex6'></a>\n",
    "[terug naar index](#index)\n",
    "# exercise 6\n",
    "Maak een functie ```isinstring``` die checkt of een bepaalde ```string``` in een ```woord``` (```arguments```) zit, ofwel hij moet een ```boolean``` teruggeven. Je zou je functie nu in een ```boolean expression``` kunnen gebruiken. Gebruik je functie in een ```if```, ```print('string is in woord!')```."
   ]
  },
  {
   "cell_type": "code",
   "execution_count": 52,
   "metadata": {},
   "outputs": [
    {
     "name": "stdout",
     "output_type": "stream",
     "text": [
      "string is in woord!\n"
     ]
    }
   ],
   "source": [
    "def isinstring(string, woord):\n",
    "    if string in woord: # \n",
    "        return True\n",
    "    else:\n",
    "        return False\n",
    "\n",
    "if isinstring('a', 'banana'):\n",
    "    print('string is in woord!')"
   ]
  },
  {
   "cell_type": "markdown",
   "metadata": {},
   "source": [
    "Maak een functie ```uppercaseflippedselectedstring``` die een ```string``` teruggeeft in:\n",
    "- hoofdletters, \n",
    "- omgedraaid en,\n",
    "- voor een bepaalde selectie, ```fromindex``` tot ```toindex```.  \n",
    "  \n",
    "Met defaultwaardes voor ```fromindex``` vanaf het begin en ```toindex``` tot het eind."
   ]
  },
  {
   "cell_type": "code",
   "execution_count": 58,
   "metadata": {},
   "outputs": [
    {
     "data": {
      "text/plain": [
       "'OLLE'"
      ]
     },
     "execution_count": 58,
     "metadata": {},
     "output_type": "execute_result"
    }
   ],
   "source": [
    "def uppercaseflippedselectedstring(string, fromindex=None, toindex=None):\n",
    "    return string.upper()[fromindex:toindex][::-1]\n",
    "uppercaseflippedselectedstring('hello', fromindex=1)"
   ]
  },
  {
   "cell_type": "markdown",
   "metadata": {
    "slideshow": {
     "slide_type": "slide"
    }
   },
   "source": [
    "# basic data structures\n",
    "```python``` kent verschillende ingebouwde datastructuren, een ```data structure``` is een opslagformaat welke toegang biedt tot de waarden en soms ook aanpassing van de waarden. we zullen hier behandelen:\n",
    "- ```lists```\n",
    "- ```dictionaries```\n",
    "- ```tuples```\n",
    "- ```sets```"
   ]
  },
  {
   "cell_type": "markdown",
   "metadata": {
    "slideshow": {
     "slide_type": "slide"
    }
   },
   "source": [
    "<a id='list'></a>\n",
    "[terug naar index](#index)\n",
    "# lists\n",
    "```list``` is een built-in type in ```python```, het definieren (```assignment```) van een ```list``` kan met ```list()``` of met rechte haken ```[]```, dus [1,2,3] is hetzelfde als list(1,2,3).  \n",
    "  \n",
    "net als ```strings``` is een list een ```sequence``` dus een reeks, en komt op veel punten overeen met ```str``` (je kan erdoor loopen, heeft ook een lengte ```len```, ```slicen``` of ```indexing``` met rechte haken), maar het grote verschil is een ```list``` is ```mutable```!\n",
    "\n",
    "net als bij ```strings``` is de eerste ```index``` van ```list``` 0. daarnaast kan een ```list``` alle ```values```/```types``` bevatten, ook door elkaar, dus [1, 'abc', 25.12] kan. verder kan een ```list``` worden genest, ofwel een ```list``` in een ```list```.\n",
    "\n",
    "hieronder wat voorbeelden om het een en ander te illustreren, loop ze weer door."
   ]
  },
  {
   "cell_type": "code",
   "execution_count": null,
   "metadata": {},
   "outputs": [],
   "source": [
    "my_list = list(('appel', True, [1,2,3])) # zelfde als ['appel', True, [1,2,3]]\n",
    "my_list"
   ]
  },
  {
   "cell_type": "code",
   "execution_count": null,
   "metadata": {},
   "outputs": [],
   "source": [
    "my_list[2][2] # dubbele indexing, omdat genest"
   ]
  },
  {
   "cell_type": "code",
   "execution_count": null,
   "metadata": {},
   "outputs": [],
   "source": [
    "my_list[0] = 'peer' # assignment, aanpassen eerste waarde\n",
    "my_list"
   ]
  },
  {
   "cell_type": "markdown",
   "metadata": {
    "slideshow": {
     "slide_type": "slide"
    }
   },
   "source": [
    "zoals hierboven ook al gemeld je kan door een ```list``` ```loopen```. je kan ook ```list operations``` doen ofwel je kan een ```+``` gebruiken om lijsten samen te voegen, een ```*``` om ze te herhalen (dit kan je ook gebruiken bij ```strings```!), uiteraard werken de slices ook."
   ]
  },
  {
   "cell_type": "code",
   "execution_count": null,
   "metadata": {},
   "outputs": [],
   "source": [
    "my_list = ['appel', 'peer', 'banaan'] # of gebruik list()\n",
    "for fruit in my_list: # loop\n",
    "    print(fruit)"
   ]
  },
  {
   "cell_type": "code",
   "execution_count": null,
   "metadata": {},
   "outputs": [],
   "source": [
    "other_fruits = ['ananas', 'meloen']\n",
    "my_list + other_fruits"
   ]
  },
  {
   "cell_type": "code",
   "execution_count": null,
   "metadata": {},
   "outputs": [],
   "source": [
    "my_list[:-1] # slicing"
   ]
  },
  {
   "cell_type": "markdown",
   "metadata": {},
   "source": [
    "ook heeft een ```list``` zoals alle ```data structures``` en ook ```strings```, ```methods``` functies om je ```list``` aan te passen. dit gebeurt allemaal ```inplace``` het gebeurt dus meteen je hoeft geen ```statement``` gebruiken, zie voorbeeld ook hieronder.\n",
    "\n",
    "voorbeelden zijn:\n",
    "- ```extend()```, een ```list``` toevoegen aan een ```list```, vergelijkbaar met ```+```,\n",
    "- ```append()```, een waarde toevoegen aan een ```list```,\n",
    "- ```sort()```, een ```list``` sorteren,\n",
    "- ```remove()```, een waarde uit een ```list``` verwijderen,\n",
    "- ```pop()```, default verwijderd laatste value in ```list```, je kan ook een index meegeven\n",
    "\n",
    "met TAB kan je weer alle mogelijke ```methods``` bekijken."
   ]
  },
  {
   "cell_type": "code",
   "execution_count": null,
   "metadata": {},
   "outputs": [],
   "source": [
    "my_list.extend(['aardbei']) # inplace dus je hoeft geen my_list = my_list.extend(['aardbei']) te doen\n",
    "my_list"
   ]
  },
  {
   "cell_type": "code",
   "execution_count": null,
   "metadata": {},
   "outputs": [],
   "source": [
    "my_list.sort()\n",
    "my_list"
   ]
  },
  {
   "cell_type": "code",
   "execution_count": null,
   "metadata": {},
   "outputs": [],
   "source": [
    "my_list.remove('appel')\n",
    "my_list"
   ]
  },
  {
   "cell_type": "code",
   "execution_count": null,
   "metadata": {},
   "outputs": [],
   "source": [
    "my_list.pop()\n",
    "my_list"
   ]
  },
  {
   "cell_type": "markdown",
   "metadata": {
    "slideshow": {
     "slide_type": "slide"
    }
   },
   "source": [
    "<a id='range'></a>\n",
    "[terug naar index](#index)\n",
    "# range\n",
    "```range``` is een manier om een ```list``` te maken van ```integers``` range(start, stop, step), index is tot stop - 1, default start = 0, step=1, dus range(3) -> [0,1,2]"
   ]
  },
  {
   "cell_type": "code",
   "execution_count": null,
   "metadata": {},
   "outputs": [],
   "source": [
    "my_range = range(1, 5, 1) # start=1, stop=5, step=1\n",
    "my_range"
   ]
  },
  {
   "cell_type": "code",
   "execution_count": null,
   "metadata": {},
   "outputs": [],
   "source": [
    "for x in my_range: # inhoud van range printen\n",
    "    print(x)"
   ]
  },
  {
   "cell_type": "markdown",
   "metadata": {},
   "source": [
    "<a id='ex7'></a>\n",
    "[terug naar index](#index)\n",
    "# exercise 7\n",
    "Maak een ```list```, ```my_veggies``` met daarin 6 verschillende groenten."
   ]
  },
  {
   "cell_type": "code",
   "execution_count": 96,
   "metadata": {},
   "outputs": [
    {
     "data": {
      "text/plain": [
       "['boerenkool', 'wortel', 'sla', 'komkommer', 'prei', 'aardappel']"
      ]
     },
     "execution_count": 96,
     "metadata": {},
     "output_type": "execute_result"
    }
   ],
   "source": [
    "my_veggies = ['boerenkool', 'wortel', 'sla', 'komkommer', 'prei', 'aardappel']\n",
    "my_veggies"
   ]
  },
  {
   "cell_type": "markdown",
   "metadata": {},
   "source": [
    "Maak een functie ```deletewithstring``` die de waarden uit een meegegeven ```list``` verwijderd die een te definieren ```string``` bevatten. Test je functie uit op ```my_veggies```."
   ]
  },
  {
   "cell_type": "code",
   "execution_count": 97,
   "metadata": {
    "scrolled": true
   },
   "outputs": [
    {
     "name": "stdout",
     "output_type": "stream",
     "text": [
      "boerenkool\n",
      "wortel\n",
      "sla\n",
      "prei\n",
      "aardappel\n"
     ]
    }
   ],
   "source": [
    "def deletewithstring(mylist, string):\n",
    "    for element in mylist: # loop langs alle elementen in de lijst\n",
    "        if string in element: # als stukje tekst voorkomt in element\n",
    "            mylist.remove(element) # verwijder element\n",
    "    return mylist # geef aangepaste lijst terug\n",
    "\n",
    "for veggie in deletewithstring(my_veggies, 'm'): # check of het werkt\n",
    "    print(veggie)"
   ]
  },
  {
   "cell_type": "markdown",
   "metadata": {
    "slideshow": {
     "slide_type": "slide"
    }
   },
   "source": [
    "<a id='dict'></a>\n",
    "[terug naar index](#index)\n",
    "# dictionaries\n",
    "een ```dictionary``` is nog een built-in type in python, assignment met ```dict()```, of accolades ```{}```. \n",
    "een ```dictionary``` is vergelijkbaar met een ```list``` maar algemener, bij een ```list``` moeten de ```indices``` altijd ```integers``` zijn bij een ```dictionary``` kunnen ze (bijna) alle types zijn. hierdoor is een ```dictionary``` zoals de naam ook al enigzins verraad handig om dingen op te zoeken.  \n",
    "  \n",
    "de collectie indices worden ```keys``` genoemd (te vergelijken met de indexes van een ```list```). elke ```key``` is geassocieerd met een ```value``` (te vergelijken met de waardes in de ```list```), samen vormen ze een ```key-value pair``` of ook wel genoemd ```item```. ```keys``` moeten uniek zijn! \n",
    "\n",
    "hieronder wat voorbeelden om het te illustreren, en een beetje spaanse les ;)"
   ]
  },
  {
   "cell_type": "code",
   "execution_count": null,
   "metadata": {},
   "outputs": [],
   "source": [
    "nl2sp = dict() # initieren van een dictionary, initaite\n",
    "nl2sp['een'] = 'uno' # toevoegen van een item, key-value pair, key = 'een', value = 'uno', declare\n",
    "nl2sp"
   ]
  },
  {
   "cell_type": "code",
   "execution_count": null,
   "metadata": {},
   "outputs": [],
   "source": [
    "nl2sp = {'een': 'uno', 'twee': 'dos', 'drie': 'tres'} # andere manier om meteen te initereen en toevoegen, opbouw is {key: value,\n",
    "# key: value, etc}\n",
    "nl2sp"
   ]
  },
  {
   "cell_type": "code",
   "execution_count": null,
   "metadata": {},
   "outputs": [],
   "source": [
    "nl2sp['drie'] # indexing"
   ]
  },
  {
   "cell_type": "markdown",
   "metadata": {},
   "source": [
    "geen verassing meer maar een ```dictionairy``` heeft ook ```methods```, gebeurt uiteraard ook weer ```inplace```, enkele voorbeelden, zie ook hieronder:\n",
    "- ```keys()```, geeft alle ```keys``` van een ```dictionary``` terug\n",
    "- ```values()```, geeft alle ```values```van een ```dictionary``` terug\n",
    "- ```update()```, kan je een ```key-value pair``` toevoegen\n",
    "- ```get()```, is indexing zelfde als met ```[]```\n",
    "- ```pop()```, verwijder een ```key-value pair``` door de key te geven"
   ]
  },
  {
   "cell_type": "code",
   "execution_count": null,
   "metadata": {},
   "outputs": [],
   "source": [
    "nl2sp.keys()"
   ]
  },
  {
   "cell_type": "code",
   "execution_count": null,
   "metadata": {},
   "outputs": [],
   "source": [
    "nl2sp.values()"
   ]
  },
  {
   "cell_type": "code",
   "execution_count": null,
   "metadata": {},
   "outputs": [],
   "source": [
    "nl2sp.update({'vier': 'cuatro'})\n",
    "nl2sp"
   ]
  },
  {
   "cell_type": "code",
   "execution_count": null,
   "metadata": {},
   "outputs": [],
   "source": [
    "nl2sp.pop('drie')\n",
    "nl2sp"
   ]
  },
  {
   "cell_type": "markdown",
   "metadata": {},
   "source": [
    "<a id='ex8'></a>\n",
    "[terug naar index](#index)\n",
    "# exercise 8\n",
    "Maak een ```dictionary``` ```nl2en``` met daarin van 1 t/m 5 in het nederlands naar engels."
   ]
  },
  {
   "cell_type": "code",
   "execution_count": 109,
   "metadata": {},
   "outputs": [
    {
     "data": {
      "text/plain": [
       "{'drie': 'three', 'een': 'one', 'twee': 'two', 'vier': 'four', 'vijf': 'five'}"
      ]
     },
     "execution_count": 109,
     "metadata": {},
     "output_type": "execute_result"
    }
   ],
   "source": [
    "nl2en = {'een': 'one', 'twee': 'two', 'drie': 'three', 'vier': 'four', 'vijf': 'five'}\n",
    "nl2en"
   ]
  },
  {
   "cell_type": "markdown",
   "metadata": {},
   "source": [
    "Voeg 6 toe aan ```nl2en``` met ```indexing``` en 7 met ```update()```"
   ]
  },
  {
   "cell_type": "code",
   "execution_count": 110,
   "metadata": {},
   "outputs": [
    {
     "data": {
      "text/plain": [
       "{'drie': 'three',\n",
       " 'een': 'one',\n",
       " 'twee': 'two',\n",
       " 'vier': 'four',\n",
       " 'vijf': 'five',\n",
       " 'zes': 'six',\n",
       " 'zeven': 'seven'}"
      ]
     },
     "execution_count": 110,
     "metadata": {},
     "output_type": "execute_result"
    }
   ],
   "source": [
    "nl2en['zes'] = 'six' # indexing\n",
    "nl2en.update({'zeven': 'seven'}) # update\n",
    "nl2en"
   ]
  },
  {
   "cell_type": "markdown",
   "metadata": {},
   "source": [
    "Verwijder 1 en 2 uit ```nl2en```"
   ]
  },
  {
   "cell_type": "code",
   "execution_count": 113,
   "metadata": {},
   "outputs": [
    {
     "data": {
      "text/plain": [
       "{'drie': 'three',\n",
       " 'twee': 'two',\n",
       " 'vier': 'four',\n",
       " 'vijf': 'five',\n",
       " 'zes': 'six',\n",
       " 'zeven': 'seven'}"
      ]
     },
     "execution_count": 113,
     "metadata": {},
     "output_type": "execute_result"
    }
   ],
   "source": [
    "nl2en.pop('een', 'twee') # gooi keys 'een' en 'twee' weg\n",
    "nl2en"
   ]
  },
  {
   "cell_type": "markdown",
   "metadata": {
    "slideshow": {
     "slide_type": "slide"
    }
   },
   "source": [
    "<a id='tuple'></a>\n",
    "[terug naar index](#index)\n",
    "# tuples\n",
    "een ```tuple``` kan aangemaakt worden met ```tuple()``` of haakjes ```()```.  \n",
    "\n",
    "```tuples``` zijn ```immutable```, je kan ze niet aanpassen met een statement, lijken erg op ```list```, kan elk ```type``` bevatten, indices zijn ```integers```. zijn sneller dan ```lists```, daarnaast is er ```tuple assignment``` het toekennen van meerdere variabelen in een keer!"
   ]
  },
  {
   "cell_type": "code",
   "execution_count": null,
   "metadata": {},
   "outputs": [],
   "source": [
    "my_tuple = ('a', 'b', 7, 'hoi', 12.75) # of gebruik tuple()\n",
    "my_tuple[0] # indexing"
   ]
  },
  {
   "cell_type": "code",
   "execution_count": null,
   "metadata": {},
   "outputs": [],
   "source": [
    "my_tuple[1:3] # slicing"
   ]
  },
  {
   "cell_type": "code",
   "execution_count": null,
   "metadata": {},
   "outputs": [],
   "source": [
    "my_tuple[0] = 'A' # immutable"
   ]
  },
  {
   "cell_type": "code",
   "execution_count": null,
   "metadata": {},
   "outputs": [],
   "source": [
    "my_tuple = ('A',) + my_tuple[1:] # zo kan je zelf aanpassen, modify\n",
    "my_tuple"
   ]
  },
  {
   "cell_type": "code",
   "execution_count": null,
   "metadata": {},
   "outputs": [],
   "source": [
    "a, b = 1, 7 # tuple assignment\n",
    "a + b"
   ]
  },
  {
   "cell_type": "markdown",
   "metadata": {
    "slideshow": {
     "slide_type": "slide"
    }
   },
   "source": [
    "<a id='set'></a>\n",
    "[terug naar index](#index)\n",
    "# sets\n",
    "```set``` het laatste built-in type in ```python```, kan aangemaakt worden met ```set()```, of accolades (enkel keys) ```{}```. een ```set``` is ```mutable```. een ```set``` lijkt erg op ```keys``` in een ```dictionary``` en zijn dus uniek."
   ]
  },
  {
   "cell_type": "code",
   "execution_count": null,
   "metadata": {},
   "outputs": [],
   "source": [
    "my_set = {'uno', 'dos', 'tres'} # of set()\n",
    "my_set"
   ]
  },
  {
   "cell_type": "code",
   "execution_count": null,
   "metadata": {},
   "outputs": [],
   "source": [
    "my_list = [1, 1, 3, 6, 7, 8, 8]\n",
    "list_to_set = set(my_list) # unieke waarden uit de list\n",
    "list_to_set"
   ]
  },
  {
   "cell_type": "markdown",
   "metadata": {
    "slideshow": {
     "slide_type": "slide"
    }
   },
   "source": [
    "<a id='file'></a>\n",
    "[terug naar index](#index)\n",
    "# file handling (basics)\n",
    "```file handling``` slaat op het openen (```open(file, 'r')```)  en wegschrijven van ```values``` (```open(file, 'w')```). naast ```'w'``` (write), ```'r'``` (read-only), ```'a'``` (append), kan combineren met ```'b'``` (binary, bijv. fotos videos) bv. 'wb'. gebruik ```with```, deze sluit ook meteen de file nadat je ```indented block``` is afgelopen, kan dan dus niet fout gaat ;) er zijn meerdere methodes om files te openen en te sluiten, maar ```with``` is de meest robuuste methode, dus dat is de enige die wij zullen gebruiken.\n",
    "\n",
    "zie hieronder voor wat voorbeelden om het te illustreren!"
   ]
  },
  {
   "cell_type": "code",
   "execution_count": null,
   "metadata": {},
   "outputs": [],
   "source": [
    "with open('data/text1.txt', 'r') as file: # opent het bestand en sluit het automatisch na het ingesprongen stuk\n",
    "    string_file = file.read() # lees het hele bestand in naar een string\n",
    "string_file"
   ]
  },
  {
   "cell_type": "code",
   "execution_count": null,
   "metadata": {},
   "outputs": [],
   "source": [
    "with open('data/text1.txt', 'r') as file:\n",
    "    list_file = file.readlines() # lees het bestand per regel in en voeg elke regel toe aan een list\n",
    "list_file"
   ]
  },
  {
   "cell_type": "code",
   "execution_count": null,
   "metadata": {},
   "outputs": [],
   "source": [
    "with open('data/text2.txt', 'w') as file:\n",
    "    file.write(str(nl2sp)) # schrijf onze spaanse dictionary weg naar het bestand text2.txt"
   ]
  },
  {
   "cell_type": "code",
   "execution_count": null,
   "metadata": {},
   "outputs": [],
   "source": [
    "with open('data/text2.txt', 'r') as file:\n",
    "    string_file = file.read() # lees het hele bestand (met daarin onze spaanse dictionary) in naar een string\n",
    "string_file"
   ]
  },
  {
   "cell_type": "markdown",
   "metadata": {
    "slideshow": {
     "slide_type": "slide"
    }
   },
   "source": [
    "<a id='os'></a>\n",
    "[terug naar index](#index)\n",
    "# os (basics)\n",
    "```os``` kan vergelijkbare dingen als verkenner, de code is vergelijkbaar met commando's in cmd (cd, ls, mkdir etc.). het is een ```package```. zie hieronder wat voorbeelden voor het basis gebruik."
   ]
  },
  {
   "cell_type": "code",
   "execution_count": null,
   "metadata": {},
   "outputs": [],
   "source": [
    "import os\n",
    "cwd = os.getcwd() # geeft het pad terug naar huidige directory (ofwel locatie van deze notebook)\n",
    "cwd"
   ]
  },
  {
   "cell_type": "code",
   "execution_count": null,
   "metadata": {},
   "outputs": [],
   "source": [
    "os.path.join(cwd, 'text2.txt') # met path join kan paden samenvoegen"
   ]
  },
  {
   "cell_type": "code",
   "execution_count": null,
   "metadata": {},
   "outputs": [],
   "source": [
    "os.listdir(cwd) # list met alle bestanden in een map, handig als je meerdere bestanden moet openen"
   ]
  },
  {
   "cell_type": "code",
   "execution_count": null,
   "metadata": {},
   "outputs": [],
   "source": [
    "os.path.exists('text1.txt') # returns True if path exists"
   ]
  },
  {
   "cell_type": "markdown",
   "metadata": {},
   "source": [
    "<a id='ex'></a>\n",
    "[terug naar index](#index)\n",
    "# twee grotere exercises\n",
    "gebruiken van verschillende datatypes, laden van files.  \n",
    "ook deze twee opdrachten bespreken we hopelijk ergens vandaag plenair.\n",
    "\n",
    "# #1\n",
    "Het bestand staat in de map ```data```, gebruik ```os``` om de naam van het bestand te vinden. Laad alle meetwaarden in een ```list```. Bepaal de het gemiddelde van alle metingen.\n",
    "  \n",
    "Enkele tips:  \n",
    "Het is een csv dus...  \n",
    "Kijk naar .split()  \n",
    "For loop?  \n",
    "Er zitten ook NaN waardes in deze worden in WISKI weergegeven als '---'  \n",
    "De eerste rij is de kolomnaam  "
   ]
  },
  {
   "cell_type": "code",
   "execution_count": 136,
   "metadata": {},
   "outputs": [
    {
     "name": "stdout",
     "output_type": "stream",
     "text": [
      "['text1.txt', 'text2.txt', 'wiski_export.csv']\n"
     ]
    },
    {
     "data": {
      "text/plain": [
       "0.5328690486514603"
      ]
     },
     "execution_count": 136,
     "metadata": {},
     "output_type": "execute_result"
    }
   ],
   "source": [
    "import os\n",
    "\n",
    "values = [] # maak een lege list voor de waardes\n",
    "print(os.listdir('data')) # print de files in de datamap\n",
    "file = os.listdir('data')[2] # selecteerd juiste file\n",
    "with open(os.path.join('data', file), 'r') as file: # join data & filename\n",
    "    list_file = file.readlines() # lees het bestand per regel in en voeg elke regel toe aan een list\n",
    "for line in list_file[1:]: # geeft index & waarde terug, sla de eerste rij over!\n",
    "    if line.split(',')[2] != '---': # als waarde niet gelijk aan '---' en niet eerste regel\n",
    "        values.append(float(line.split(',')[2])) # waarde toevoegen aan lijst\n",
    "\n",
    "sum(values)/len(values) # som van alle waardes in lijst delen door lengte van lijst ofwel het gemiddelde"
   ]
  },
  {
   "cell_type": "markdown",
   "metadata": {},
   "source": [
    "# #2\n",
    "Je kan hierboven ingelezen bestand hergebruiken. Maar er nu een ```dictionary``` van met als ```key``` de maand als string (vb. '01', '02') en als ```value``` een ```list``` van de alle metingen in deze maand in alle jaren. En bepaal de gemiddelde waarde in juli.\n",
    "  \n",
    "Tips:  \n",
    "For loop \n",
    "Dictionary aanvullen met keys: maand, values: waterstanden, wat doe je als er al een key is van deze maand?  \n",
    "Hoe sla je meerdere waarde op als value?"
   ]
  },
  {
   "cell_type": "code",
   "execution_count": 142,
   "metadata": {},
   "outputs": [
    {
     "data": {
      "text/plain": [
       "0.47266800401203485"
      ]
     },
     "execution_count": 142,
     "metadata": {},
     "output_type": "execute_result"
    }
   ],
   "source": [
    "maanddict = dict() # maak lege dictionary\n",
    "\n",
    "for line in list_file[1:]: # na header beginnen, dus eerste regel overslaan\n",
    "    maand = line.split(',')[0].split('-')[1] # pak datum (eerste kolom csv), split op -, maand is dan tweede element\n",
    "    value = line.split(',')[2] # pak de waarde 3e kolom\n",
    "    if value != '---': # als value niet '---'\n",
    "        value = float(value) # value omzetten naar een getal\n",
    "        if maand not in maanddict.keys(): # als maand nog niet bestaat aanmaken!\n",
    "            maanddict.update({maand: [value]}) # de value van de dictionary, is lijst met getallen\n",
    "        else: # als de maand wel bestaat\n",
    "            maanddict[maand].append(value) # value toevoegen aan de lijst met getallen bij betreffende maand\n",
    "metingen_juli = maanddict['07'] # laad alle values uit juli\n",
    "sum(metingen_juli)/len(metingen_juli)"
   ]
  },
  {
   "cell_type": "code",
   "execution_count": null,
   "metadata": {},
   "outputs": [],
   "source": []
  }
 ],
 "metadata": {
  "kernelspec": {
   "display_name": "Python 3",
   "language": "python",
   "name": "python3"
  },
  "language_info": {
   "codemirror_mode": {
    "name": "ipython",
    "version": 3
   },
   "file_extension": ".py",
   "mimetype": "text/x-python",
   "name": "python",
   "nbconvert_exporter": "python",
   "pygments_lexer": "ipython3",
   "version": "3.6.2"
  }
 },
 "nbformat": 4,
 "nbformat_minor": 2
}
