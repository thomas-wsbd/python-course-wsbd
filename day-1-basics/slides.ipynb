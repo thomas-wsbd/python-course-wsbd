{
 "cells": [
  {
   "cell_type": "code",
   "execution_count": 1,
   "metadata": {
    "slideshow": {
     "slide_type": "skip"
    }
   },
   "outputs": [
    {
     "name": "stderr",
     "output_type": "stream",
     "text": [
      "[NbConvertApp] Converting notebook slides.ipynb to slides\n",
      "[NbConvertApp] Writing 301363 bytes to slides.slides.html\n"
     ]
    }
   ],
   "source": [
    "!jupyter nbconvert --to slides slides.ipynb --SlidesExporter.reveal_transition=none --SlidesExporter.reveal_scroll=True --TemplateExporter.exclude_input=True"
   ]
  },
  {
   "cell_type": "markdown",
   "metadata": {
    "slideshow": {
     "slide_type": "slide"
    }
   },
   "source": [
    "# Python bij WSBD\n",
    "### today: the basics\n",
    "\n",
    "- python...;\n",
    "- omgeving, modules&packages;\n",
    "- jupyter notebook;\n",
    "- jullie aan de slag!\n",
    "- tusendoor terugkoppeling opdracht 'fibonacci'\n",
    "- aan het eind terugkoppeling 2 'eindopdrachten'"
   ]
  },
  {
   "cell_type": "markdown",
   "metadata": {
    "slideshow": {
     "slide_type": "slide"
    }
   },
   "source": [
    "# Python\n",
    "## thoughts? expectations?\n",
    "\n",
    "pak je telefoon en ga naar [menti.com](https://www.mentimeter.com/s/3101ec4c4b478974961447b87b36bd48/1a42b02ae7ac)"
   ]
  },
  {
   "cell_type": "markdown",
   "metadata": {
    "slideshow": {
     "slide_type": "slide"
    }
   },
   "source": [
    "# Python\n",
    "## wat is dat?\n",
    "\n",
    "- progammeertaal;\n",
    "- object-oriented (georganiseerd rond data of objecten)\n",
    "- high-level (geen bits en bytes je kan gewoon text gebruiken);\n",
    "- ontwikkeld in de jaren 80 door Guido van Rossum (NL);\n",
    "- niet van de slang maar Monty Python.\n",
    "\n",
    "![IMAGE ALT TEXT HERE](https://img.maximummedia.ie/joe_ie/eyJkYXRhIjoie1widXJsXCI6XCJodHRwOlxcXC9cXFwvbWVkaWEtam9lLm1heGltdW1tZWRpYS5pZS5zMy5hbWF6b25hd3MuY29tXFxcL3dwLWNvbnRlbnRcXFwvdXBsb2Fkc1xcXC8yMDEzXFxcLzExXFxcL21vbnR5LXB5dGhvbi5qcGdcIixcIndpZHRoXCI6NzY3LFwiaGVpZ2h0XCI6NDMxLFwiZGVmYXVsdFwiOlwiaHR0cHM6XFxcL1xcXC93d3cuam9lLmllXFxcL2Fzc2V0c1xcXC9pbWFnZXNcXFwvam9lXFxcL25vLWltYWdlLnBuZz9pZD0yNjRhMmRiZTM3MGYyYzY3NWZjZFwiLFwib3B0aW9uc1wiOltdfSIsImhhc2giOiIwOWEzNWY4YjgwYmE0YmRhODgyMTA2NDk4MmEwYmU4YjMxNjAwYWI0In0=/monty-python.jpg)"
   ]
  },
  {
   "cell_type": "markdown",
   "metadata": {
    "slideshow": {
     "slide_type": "slide"
    }
   },
   "source": [
    "# Python\n",
    "## waarom?\n",
    "\n",
    "- populair (daardoor veel packages, voorbeelden, etc.);\n",
    "- intrepeted (je hoeft niet te compilen, daar door wel iets trager);\n",
    "- gratis;\n",
    "- redelijk simpel... (hopelijk);\n",
    "\n",
    "![](https://www.python.org/static/community_logos/python-logo-master-v3-TM.png)"
   ]
  },
  {
   "cell_type": "markdown",
   "metadata": {
    "slideshow": {
     "slide_type": "slide"
    }
   },
   "source": [
    "# Omgeving\n",
    "## python installatie bij het waterschap\n",
    "\n",
    "- toegang via helpdesk ICT (is voor jullie geregeld... woehoe!);\n",
    "- te vinden op S-schijf;\n",
    "- WinPython installatie, speciaal voor Windows, daarnaast portable (dus kan los in een mapje staan en verplaatst worden);\n",
    "- python 3.6;\n",
    "- Spyder (Matlabachtige omgeving), jupyter notebooks (gaan wij gebruiken, een paar slides verder meer...) & binnenkort Visual Studio (van microsoft);\n",
    "- basis packages zijn reeds geinstalleerd, mocht je heftige dingen (packages) nodig hebben vraag het me!"
   ]
  },
  {
   "cell_type": "markdown",
   "metadata": {
    "slideshow": {
     "slide_type": "slide"
    }
   },
   "source": [
    "# modules&packages\n",
    "\n",
    "stukken code die je kan hergebruiken (```package``` is de filestructure van verschillende ```modules```)\n",
    "\n",
    "## waarom?\n",
    "\n",
    "- simpeler, opbreken probleem;\n",
    "- onderhoud;\n",
    "- herbruikbaarheid!"
   ]
  },
  {
   "cell_type": "markdown",
   "metadata": {
    "slideshow": {
     "slide_type": "slide"
    }
   },
   "source": [
    "# modules&packages\n",
    "## installeren\n",
    "\n",
    "- internet staat vol met ```packages```, zoals op Github, Gitlab etc..\n",
    "- een centrale databank, pypi.org\n",
    "- met ```pip``` (wat zelf ook een package is) kan je andere ```modules```&```packages``` installeren\n",
    "- dit doe je vanuit de console (cmd);\n",
    "- bij ons iets complexer omdat we geen uitvoerbare bestanden mogen binnenhalen & SSL (work-in-progess)\n",
    "\n",
    "```console\n",
    "python -m pip install {package}\n",
    "```\n"
   ]
  },
  {
   "cell_type": "markdown",
   "metadata": {
    "slideshow": {
     "slide_type": "slide"
    }
   },
   "source": [
    "# modules&packages\n",
    "## gebruiken in jouw code\n",
    "\n",
    "```python\n",
    "import os # importeer hele package\n",
    "from math import sqrt # importeer een module uit package\n",
    "import pandas as pd # importeer package en geef naam\n",
    "from math import sqrt as wortel # kan ook...\n",
    "```"
   ]
  },
  {
   "cell_type": "markdown",
   "metadata": {
    "slideshow": {
     "slide_type": "slide"
    }
   },
   "source": [
    "# jupyter notebooks/jupyterlab\n",
    "## waaaaaaaaattt?\n",
    "\n",
    "- open-source web applicatie om code te bewerken (oa. python);\n",
    "- gebruikt ipython, je krijgt direct antwoord;\n",
    "- gaan wij ook gebruiken (is deze presentatie bijv. ook in gemaakt);\n",
    "- ondersteund zowel code als markdown (progammeren met tekst...);\n",
    "- daardoor overzichtelijk en makkelijk rapporten maken;\n",
    "- minder handig voor programma's uitvoerbare scripts.\n",
    "\n",
    "we gaan zo oefenen in een notebook! daar staat ook nog veeeeel meer uitleg, en als je vragen hebt vraag ```Valerie``` of ```Thomas```\n",
    "\n",
    "![](http://www.ccri.com/wp-content/uploads/2016/06/JupyterAnimated.gif)"
   ]
  },
  {
   "cell_type": "markdown",
   "metadata": {
    "slideshow": {
     "slide_type": "slide"
    }
   },
   "source": [
    "# koffie & aan de slag\n",
    "<img src=\"https://media.giphy.com/media/DrJm6F9poo4aA/giphy.gif\" width=\"480\" height=\"480\"></img>"
   ]
  },
  {
   "cell_type": "markdown",
   "metadata": {
    "slideshow": {
     "slide_type": "slide"
    }
   },
   "source": [
    "# aan de slag!\n",
    "de bestanden zijn te vinden op ```G:\\Iedereen\\python-wsbd```  \n",
    "kopieer de bestanden naar een eigen map bijv. naar Per_Persoon  \n",
    "pas het .bat bestand aan (rechter muisknop -> bewerken), verander ```G:\\Iedereen\\python-wsbd```, naar de map waar je het naartoe hebt gekopieerd  \n",
    "run het .bat bestand (dubbelklik), er zou een ```cmd``` scherm moeten openen, wacht even  \n",
    "```browser``` moet geopend worden, met daarin de filetree van de map die je hebt geselecteerd\n",
    "open ```notebook.ipynb```  \n",
    "ga aan de slag!  \n",
    "bij vragen ```Valerie```, ```Jaap``` (gedeelte van de cursus) of ```Thomas```\n",
    "\n",
    "![](http://giphygifs.s3.amazonaws.com/media/A06UFEx8jxEwU/giphy.gif)"
   ]
  },
  {
   "cell_type": "markdown",
   "metadata": {
    "slideshow": {
     "slide_type": "slide"
    }
   },
   "source": [
    "# exercise Fibonacci\n",
    "\n",
    "Maak een functie ```fibonnaci``` die de Fibonnaci reeks print tot n (```fruitless```). (hint: [link](https://nl.wikipedia.org/wiki/Rij_van_Fibonacci), denk aan de base cases)\n",
    "\n",
    "```fibonacci(1000)``` zou dus terug moeten geven, 0 1 1 2 3 5 8 13 21 34 55 89 144 233 377 610 987\n",
    "\n",
    "wie is het gelukt, of deels gelukt en wil ons meenemen in zijn/haar denkproces?"
   ]
  },
  {
   "cell_type": "markdown",
   "metadata": {
    "slideshow": {
     "slide_type": "slide"
    }
   },
   "source": [
    "# exercise Fibonacci\n",
    "\n",
    "Maak een functie ```fibonnaci``` die de Fibonnaci reeks print tot n (```fruitless```). (hint: [link](https://nl.wikipedia.org/wiki/Rij_van_Fibonacci), denk aan de base cases)\n",
    "\n",
    "```fibonacci(1000)``` zou dus terug moeten geven, 0 1 1 2 3 5 8 13 21 34 55 89 144 233 377 610 987\n",
    "\n",
    "\n",
    "wat ik er van heb gemaakt...\n",
    "\n",
    "```python\n",
    ">>> def fibonacci(n):\n",
    "        a, b = 0, 1 # default case\n",
    "        while a < n: # als a kleiner als n\n",
    "            print(a, end=' ') # default is end \\n, dus een nieuwe regel, nu een spatie\n",
    "            a, b = b, a+b # waarde aanpassen a ->  b, b -> a + b\n",
    "    \n",
    ">>> fib(1000)\n",
    "0 1 1 2 3 5 8 13 21 34 55 89 144 233 377 610 987\n",
    "```\n",
    "\n"
   ]
  },
  {
   "cell_type": "markdown",
   "metadata": {
    "slideshow": {
     "slide_type": "slide"
    }
   },
   "source": [
    "# exercise list\n",
    "\n",
    "Het bestand staat in de map ```data```, gebruik ```os``` om de naam van het bestand te vinden. Laad alle meetwaarden in een ```list```. Bepaal de het gemiddelde van alle metingen.\n",
    "  \n",
    "Enkele tips:  \n",
    "Het is een csv dus...  \n",
    "Kijk naar .split()  \n",
    "For loop?  \n",
    "Er zitten ook NaN waardes in deze worden in WISKI weergegeven als '---'  \n",
    "De eerste rij is de kolomnaam  \n",
    "\n",
    "wie is het gelukt, of deels gelukt en wil ons meenemen in zijn/haar denkproces?"
   ]
  },
  {
   "cell_type": "markdown",
   "metadata": {
    "slideshow": {
     "slide_type": "slide"
    }
   },
   "source": [
    "# exercise list\n",
    "Het bestand staat in de map ```data```, gebruik ```os``` om de naam van het bestand te vinden. Laad alle meetwaarden in een ```list```. Bepaal de het gemiddelde van alle metingen.\n",
    "  \n",
    "Enkele tips:  \n",
    "Het is een csv dus...  \n",
    "Kijk naar .split()  \n",
    "For loop?  \n",
    "Er zitten ook NaN waardes in deze worden in WISKI weergegeven als '---'  \n",
    "De eerste rij is de kolomnaam  \n",
    "\n",
    "wat ik er van heb gemaakt...\n",
    "\n",
    "```python\n",
    ">>> import os\n",
    ">>> print(os.listdir('data'))\n",
    "['wiski_export.csv']\n",
    ">>> with open(os.path.join('data', os.listdir('data')[0]), 'r') as file:\n",
    ">>>    regels = file.readlines()\n",
    ">>> waarden = []\n",
    ">>> for regel in regels[1:]:\n",
    ">>>     waarde = regel.split(',')[2]\n",
    ">>>     if not waarde == '---':\n",
    ">>>         waarden.append(float(waarde))\n",
    ">>> gemiddelde = sum(waarden)/len(waarden)\n",
    ">>> print(gemiddelde)\n",
    "0.5328690486514603\n",
    "```"
   ]
  },
  {
   "cell_type": "markdown",
   "metadata": {
    "slideshow": {
     "slide_type": "slide"
    }
   },
   "source": [
    "# exercise dictionary\n",
    "\n",
    "Je kan hierboven ingelezen bestand hergebruiken. Maar er nu een ```dictionary``` van met als ```key``` de maand als string (vb. '01', '02') en als ```value``` een ```list``` van de alle metingen in deze maand in alle jaren. En bepaal de gemiddelde waarde in juli.\n",
    "  \n",
    "Tips:  \n",
    "For loop \n",
    "Dictionary aanvullen met keys: maand, values: waterstanden, wat doe je als er al een key is van deze maand?  \n",
    "Hoe sla je meerdere waarde op als value?\n",
    "\n",
    "wie is het gelukt, of deels gelukt en wil ons meenemen in zijn/haar denkproces?"
   ]
  },
  {
   "cell_type": "markdown",
   "metadata": {
    "slideshow": {
     "slide_type": "slide"
    }
   },
   "source": [
    "# exercise dictionary\n",
    "\n",
    "Je kan hierboven ingelezen bestand hergebruiken. Maar er nu een ```dictionary``` van met als ```key``` de maand als string (vb. '01', '02') en als ```value``` een ```list``` van de alle metingen in deze maand in alle jaren. En bepaal de gemiddelde waarde in juli.\n",
    "  \n",
    "Tips:  \n",
    "For loop \n",
    "Dictionary aanvullen met keys: maand, values: waterstanden, wat doe je als er al een key is van deze maand?  \n",
    "Hoe sla je meerdere waarde op als value?\n",
    "\n",
    "wat ik er van heb gemaakt...\n",
    "\n",
    "```python\n",
    ">>> data = dict()\n",
    ">>> for regel in regels[1:]:\n",
    ">>>     maand = regel.split(',')[0].split('-')[1]\n",
    ">>>     waarde = regel.split(',')[2]\n",
    ">>>     if not waarde == '---':\n",
    ">>>         if maand in data:\n",
    ">>>             data[maand].append(float(waarde))\n",
    ">>>         else:\n",
    ">>>             data[maand] = [float(waarde)]\n",
    ">>>  waarden_juli = data.get('07')\n",
    ">>>  gemiddelde_juli = sum(waarden_juli)/len(waarden_juli)\n",
    ">>>  print(gemiddelde_juli)\n",
    "0.47266800401203485\n",
    "```"
   ]
  },
  {
   "cell_type": "code",
   "execution_count": null,
   "metadata": {},
   "outputs": [],
   "source": []
  }
 ],
 "metadata": {
  "celltoolbar": "Slideshow",
  "kernelspec": {
   "display_name": "Python 3",
   "language": "python",
   "name": "python3"
  },
  "language_info": {
   "codemirror_mode": {
    "name": "ipython",
    "version": 3
   },
   "file_extension": ".py",
   "mimetype": "text/x-python",
   "name": "python",
   "nbconvert_exporter": "python",
   "pygments_lexer": "ipython3",
   "version": "3.7.1"
  }
 },
 "nbformat": 4,
 "nbformat_minor": 2
}
