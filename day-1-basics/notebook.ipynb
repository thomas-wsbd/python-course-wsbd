{
 "cells": [
  {
   "cell_type": "markdown",
   "metadata": {},
   "source": [
    "# welkom!\n",
    "welkom in een ```jupyter notebook```, dit is een omgeving waarin je interactief ```python``` kan gebruiken en daarnaast ```Markdown``` (een opmaaktaal, zoals bijv. LateX), vanuit een ```jupyter notebook``` kan je snel bijv. een presentatie, rapport maken. daarnaast is het handig om wat te prusten in ```python``` je ziet meteen het resultaat van je code. hieronder volgt allereerst een korte introductie van ```jupyter notebooks```. \n",
    "\n",
    "als je vragen hebt kan je ```Thomas```, ```Valerie``` of ```Jaap``` benaderen, succes!\n",
    "\n",
    "Een notebook bestaat uit verschillende ```cellen```, een cel kan code of markdown bevatten. Als een cel ```groen``` omlijnt is kan je de inhoud aanpassen. Als een cel ```blauw``` omlijnt is kan je de structuur van de notebook aanpassen (cellen toevoegen, verwijderen, type aanpassen).\n",
    "\n",
    "Hieronder volgen de belangrijkste toetscombinaties. Alle toetscombinaties zijn terug te vinden onder het toetsenbordje in bovenstaand menu. Daarnaast kunnen ook al deze commandos uitgevoerd worden via bovenstaand menu alleen met het toetsenbord gaat gewoon veel sneller, dus leer dat vooral aan ;)\n",
    "\n",
    "__run een cel__, control + enter (kan zowel bij blauwe als groene cellen)  \n",
    "__run een cel en gaat naar volgende cel__, shift + enter (kan zowel bij blauwe als groene cellen)  \n",
    "__voeg een cel boven toe__, a (kan alleen bij blauwe cellen)  \n",
    "__voeg een cel beneden toe__, b (kan ook alleen bij blauwe cellen)  \n",
    "__verwijder een cel__, dd (twee keer d achter elkaar, kan alleen bij blauwe cellen)  \n",
    "__verander cel naar markdown__, m (blauw)  \n",
    "__verander een cel naar code__, y (blauw)  \n",
    "\n",
    "Oefen hieronder even met cellen runnen en toevoegen en verwijderen."
   ]
  },
  {
   "cell_type": "markdown",
   "metadata": {},
   "source": [
    "## oefenen met jupyter"
   ]
  },
  {
   "cell_type": "code",
   "execution_count": null,
   "metadata": {},
   "outputs": [],
   "source": [
    "print('run mij')"
   ]
  },
  {
   "cell_type": "code",
   "execution_count": null,
   "metadata": {},
   "outputs": [],
   "source": [
    "print('run mij en voeg hierboven een cel toe')"
   ]
  },
  {
   "cell_type": "code",
   "execution_count": null,
   "metadata": {},
   "outputs": [],
   "source": [
    "print('run mij en verwijder mij')"
   ]
  },
  {
   "cell_type": "markdown",
   "metadata": {},
   "source": [
    "## docstrings en autosuggest"
   ]
  },
  {
   "cell_type": "markdown",
   "metadata": {},
   "source": [
    "Daarnaast nog wat handigheden in ```jupyter notebook```  \n",
    "__open docstring__, ? achter functie, druk op +, om meer informatie te krijgen   \n",
    "__autosuggest__, tab, stelt mogelijke dingen voor, kan bijvoorbeeld functies, of variables aanvullen, voorstellen  \n",
    "  \n",
    "Kijk hieronder wat er gebeurt wauw!"
   ]
  },
  {
   "cell_type": "code",
   "execution_count": null,
   "metadata": {},
   "outputs": [],
   "source": [
    "# door mij te runnen check je de docstring\n",
    "print?"
   ]
  },
  {
   "cell_type": "code",
   "execution_count": null,
   "metadata": {},
   "outputs": [],
   "source": [
    "my_variable = 'hai' # run mij"
   ]
  },
  {
   "cell_type": "code",
   "execution_count": null,
   "metadata": {},
   "outputs": [],
   "source": [
    "# wat begint er met m? max bijvoorbeeld... maar ook my_variable; gebruik tab\n",
    "m"
   ]
  },
  {
   "cell_type": "markdown",
   "metadata": {},
   "source": [
    "# python deel in notebook\n",
    "hieronder volgt het vervolg van ```python-basics```, lees de teksten run de voorbeelden (shift+enter), en maak de opdrachten!   \n",
    "bij vragen benaderen ```Thomas```, ```Valerie``` of ```Jaap```"
   ]
  },
  {
   "cell_type": "markdown",
   "metadata": {},
   "source": [
    "<a id='index'></a>\n",
    "# python-basics\n",
    "nu naar python-basic, dit is de inhoud:\n",
    "- [operators](#op);\n",
    "- [values&types](#vt);\n",
    "- [assigment](#as);\n",
    "- [exercise 1](#ex1);\n",
    "- [functies](#func);\n",
    "- [exercise 2](#ex2)\n",
    "- [exercise 3](#ex3)\n",
    "- [conditionals](#con);\n",
    "- [exercise 4](#ex4);\n",
    "- [iteration](#it);\n",
    "- [exercise 5](#ex5)\n",
    "- [strings](#str);\n",
    "- [exercise 6](#ex6)\n",
    "- [list](#list);\n",
    "- [range](#range);\n",
    "- [exercise 7](#ex7);\n",
    "- [dictionary](#dict);\n",
    "- [exercise 7](#ex8);\n",
    "- [tuple](#tuple);\n",
    "- [set](#set);\n",
    "- [file handling](#file);\n",
    "- [os](#os);\n",
    "- [eindopdracht](#ex)\n",
    "\n",
    "je kan deze inhoudsgave gebruiken om snel naar een gedeelte te springen, je vind hier en daar ook [terug naar index](#index) daarmee spring je naar de index, kan handig zijn als je snel iets wil opzoeken bij een opdracht of om straks als naslagwerk te gebruiken."
   ]
  },
  {
   "cell_type": "markdown",
   "metadata": {},
   "source": [
    "<a id='op'></a>\n",
    "[terug naar index](#index)\n",
    "# operators\n",
    "```operators``` zijn symbolen die berekeningen voorstellen, zoals optellen, vermenigvuldigen, enkele voorbeelden in python, loop de voorbeelden hieronder door. ```+```, ```-```, ```*``` en ```/``` door zijn zoals je zou verwachten.\n",
    "\n",
    "< ```shift``` + ```enter``` om een cel te runnen en te springen naar volgende cel!\n",
    "< voel je vrij om getallen, dingen in een cel aan te passen als je de werking niet direct begrijpt"
   ]
  },
  {
   "cell_type": "code",
   "execution_count": null,
   "metadata": {},
   "outputs": [],
   "source": [
    "5 - 2 # as expected..."
   ]
  },
  {
   "cell_type": "code",
   "execution_count": null,
   "metadata": {},
   "outputs": [],
   "source": [
    "7 * 6 # as expected..."
   ]
  },
  {
   "cell_type": "code",
   "execution_count": null,
   "metadata": {},
   "outputs": [],
   "source": [
    "6**2 # tot de macht, pas op dus geen ^"
   ]
  },
  {
   "cell_type": "code",
   "execution_count": null,
   "metadata": {},
   "outputs": [],
   "source": [
    "6^2 # bitwise operator, kan je vergeten"
   ]
  },
  {
   "cell_type": "code",
   "execution_count": null,
   "metadata": {},
   "outputs": [],
   "source": [
    "125 // 60 # floor, hoeveel keer past het te delen getal erin (delen afgerond naar hele getallen beneden)"
   ]
  },
  {
   "cell_type": "code",
   "execution_count": null,
   "metadata": {},
   "outputs": [],
   "source": [
    "165 % 60 # remainder"
   ]
  },
  {
   "cell_type": "markdown",
   "metadata": {},
   "source": [
    "<a id='vt'></a>\n",
    "[terug naar index](#index)\n",
    "# values&types\n",
    "\n",
    "```values``` zijn een van de basis dingen waar een programma mee werkt, zoals een letter of een number, bijv. 2, 42.0 & 'hoi'. ```values``` hebben een ```type```, 2 is een ```int``` (integer), 42.0 ```float``` (floating-point number), True ```bool``` (boolean) & 'hoi' een ```str``` (string). voor strings kan zowel \"\" als '' worden gebruikt, \" 's morgens\" kan bijvoorbeeld ook, andersom uiteraard ook ' \" '. ```python``` heeft een ```method``` ```type()``` die het type van een ```value``` voer de cellen hieronder uit."
   ]
  },
  {
   "cell_type": "code",
   "execution_count": null,
   "metadata": {},
   "outputs": [],
   "source": [
    "type(2)"
   ]
  },
  {
   "cell_type": "code",
   "execution_count": null,
   "metadata": {},
   "outputs": [],
   "source": [
    "type(2.0)"
   ]
  },
  {
   "cell_type": "code",
   "execution_count": null,
   "metadata": {},
   "outputs": [],
   "source": [
    "type(True)"
   ]
  },
  {
   "cell_type": "code",
   "execution_count": null,
   "metadata": {},
   "outputs": [],
   "source": [
    "type('hallo')"
   ]
  },
  {
   "cell_type": "markdown",
   "metadata": {},
   "source": [
    "<a id='as'></a>\n",
    "[terug naar index](#index)\n",
    "# assignment\n",
    "een ```assignment statement``` creeert een nieuwe ```variable``` in je ```python``` omgeving die je overal kan hergebruiken. deze ```variable``` heeft het een ```value```. zie hieronder een paar voorbeelden."
   ]
  },
  {
   "cell_type": "code",
   "execution_count": null,
   "metadata": {},
   "outputs": [],
   "source": [
    "message = 'hello world' # assignment, message is een variable, 'hello world' de value\n",
    "print(message) # print de value"
   ]
  },
  {
   "cell_type": "code",
   "execution_count": null,
   "metadata": {},
   "outputs": [],
   "source": [
    "n = 17"
   ]
  },
  {
   "cell_type": "code",
   "execution_count": null,
   "metadata": {},
   "outputs": [],
   "source": [
    "print(n)"
   ]
  },
  {
   "cell_type": "code",
   "execution_count": null,
   "metadata": {},
   "outputs": [],
   "source": [
    "pi = 3.141592653589793"
   ]
  },
  {
   "cell_type": "code",
   "execution_count": null,
   "metadata": {},
   "outputs": [],
   "source": [
    "print(pi)"
   ]
  },
  {
   "cell_type": "markdown",
   "metadata": {},
   "source": [
    "een ```variable```mag zo lang zijn als je wil, kan zowel letters (zowel hoofd- als klein, conventie is alles klein) als nummers bevatten maaaaarrr... de naam van de ```variable```:\n",
    "- mag niet beginnen met een nummer;\n",
    "- geen symbolen behalve ``` underscore``` _;\n",
    "- geen python keywords (zoals True, False, from, def, if, in, else, try, return ...., maar sum of max kan bijvoorbeeld weer wel)"
   ]
  },
  {
   "cell_type": "markdown",
   "metadata": {},
   "source": [
    "<a id='ex1'></a>\n",
    "[terug naar index](#index)\n",
    "# exercise 1\n",
    "Laten we python gebruiken als een rekenmachine.  \n",
    "Hoeveel seconden zitten er in 42 minuten en 42 seconden? Maak een ```variable``` ```minuten``` en ```seconden_in``` aan. Bereken het totaal aantal seconden en sla het op in de ```variable``` ```seconden_uit```."
   ]
  },
  {
   "cell_type": "code",
   "execution_count": null,
   "metadata": {},
   "outputs": [],
   "source": []
  },
  {
   "cell_type": "markdown",
   "metadata": {},
   "source": [
    "Hoeveel mijlen zitten er in 10 kilometer? (hint: 1.61 km in een mijl) Maak logische ```variables``` aan."
   ]
  },
  {
   "cell_type": "code",
   "execution_count": null,
   "metadata": {},
   "outputs": [],
   "source": []
  },
  {
   "cell_type": "markdown",
   "metadata": {},
   "source": [
    "Als je 10 kilometer rent in 42 minuten en 42 seconden, wat is dan je gemiddelde tempo (tijd per mijl in minuten en seconden)? Wat is je gemiddelde snelheid in mijlen per uur? Hergebruikt de ```variables``` van hierboven."
   ]
  },
  {
   "cell_type": "code",
   "execution_count": null,
   "metadata": {},
   "outputs": [],
   "source": []
  },
  {
   "cell_type": "markdown",
   "metadata": {},
   "source": [
    "# je hebt functioneel geprogrammeerd, gefeliciteerd!\n",
    "![](https://media.giphy.com/media/ZdFxoPhIS4glG/giphy.gif)\n",
    "en door..."
   ]
  },
  {
   "cell_type": "markdown",
   "metadata": {
    "slideshow": {
     "slide_type": "-"
    }
   },
   "source": [
    "<a id='func'></a>\n",
    "[terug naar index](#index)\n",
    "# functions (functies)\n",
    "een ```function``` is benoemde volgorde van ```statements``` die iets doen, bijvoorbeeld een berekening. als je een ```function``` aanmaakt geef je de ```function name```, eventuele ```variable(s)``` en de volgorde van statements. enkele voorbeelden van ingebouwde ```functions``` in python:\n",
    "- ```str()```, andere ```value``` omzetten naar ```str```;\n",
    "- ```int()```, ```value``` omzetten naar ```int```;\n",
    "- ```type()```, geeft het ```type``` van de ```value``` terug;\n",
    "- ```add()```, ```values``` optellen; \n",
    "- ```sum()```, ```values``` sommeren; \n",
    "- etc."
   ]
  },
  {
   "cell_type": "code",
   "execution_count": null,
   "metadata": {},
   "outputs": [],
   "source": [
    "int('32') # zet een value om naar een integer"
   ]
  },
  {
   "cell_type": "code",
   "execution_count": null,
   "metadata": {},
   "outputs": [],
   "source": [
    "int(32.0) # zet een value om naar een integer"
   ]
  },
  {
   "cell_type": "markdown",
   "metadata": {},
   "source": [
    "packages bevatten vaak ook functies, de math package bijv. bevat de meest voorkomende wiskundige functies"
   ]
  },
  {
   "cell_type": "code",
   "execution_count": null,
   "metadata": {},
   "outputs": [],
   "source": [
    "import math # importeer gehele package math, hierna zijn de functies te benaderen met math.\n",
    "degrees = 45 # assignment\n",
    "radians = degrees / 180.0 * math.pi\n",
    "math.sin(radians) # functie sin in package math"
   ]
  },
  {
   "cell_type": "code",
   "execution_count": null,
   "metadata": {},
   "outputs": [],
   "source": [
    "# bekijk de docstring van functie sin\n",
    "math.sin?"
   ]
  },
  {
   "cell_type": "markdown",
   "metadata": {
    "slideshow": {
     "slide_type": "slide"
    }
   },
   "source": [
    "# functions toevoegen\n",
    "functies toevoegen, hiervoor gebruik je een __functie definitie__ ```def <functionname>():```, hieronder een voorbeeld, let op de syntax:\n",
    "- begint met ```def```,\n",
    "- daarna function name met ```()``` tussen haakjes kan je eventuele parameters definieren,\n",
    "- eindigend op ```:```, \n",
    "- indent na de : (doet jupyter notebooks automatisch)"
   ]
  },
  {
   "cell_type": "code",
   "execution_count": null,
   "metadata": {},
   "outputs": [],
   "source": [
    "def print_lyrics():\n",
    "    print(\"I'm a lumberjack, and I'm okay.\") \n",
    "    print(\"I sleep all night and I work all day.\")"
   ]
  },
  {
   "cell_type": "code",
   "execution_count": null,
   "metadata": {},
   "outputs": [],
   "source": [
    "def repeat_lyrics(): \n",
    "    print_lyrics() \n",
    "    print_lyrics() "
   ]
  },
  {
   "cell_type": "markdown",
   "metadata": {
    "slideshow": {
     "slide_type": "slide"
    }
   },
   "source": [
    "# functions, parameters en argumenten\n",
    "sommige functies hebben ```argumenten``` nodig, dit is input in de functie, zoals de radians bij math.sin hierboven. \n",
    "als in een functie argumenten worden toegekend worden deze ook wel ```parameters``` genoemd.  \n",
    "een functie kan meerdere parameters hebben.  \n",
    "een ```default argument``` is een argument dat een default waarde heeft (bijv. degrees=45).  \n",
    "een variabele in een functie is ```local```, hierdoor kan deze variable enkel in de functie definitie worden gebruikt"
   ]
  },
  {
   "cell_type": "code",
   "execution_count": null,
   "metadata": {},
   "outputs": [],
   "source": [
    "def print_twice(text): # text is een argument\n",
    "    print(text)\n",
    "    print(text)\n",
    "\n",
    "print_twice('spam') # spam is een parameter"
   ]
  },
  {
   "cell_type": "code",
   "execution_count": null,
   "metadata": {},
   "outputs": [],
   "source": [
    "text # variabele is local kan alleen in de functie definitie worden gebruikt"
   ]
  },
  {
   "cell_type": "code",
   "execution_count": null,
   "metadata": {},
   "outputs": [],
   "source": [
    "def printinfo(naam, leeftijd=35): # naam is een argument, leeftijd een default argument\n",
    "    print(\"Naam: \", naam)\n",
    "    print(\"Leeftijd \", leeftijd)"
   ]
  },
  {
   "cell_type": "code",
   "execution_count": null,
   "metadata": {},
   "outputs": [],
   "source": [
    "printinfo('Miki') # nu wordt default voor leeftijd gebruikt"
   ]
  },
  {
   "cell_type": "code",
   "execution_count": null,
   "metadata": {},
   "outputs": [],
   "source": [
    "printinfo('Miki', leeftijd=50)"
   ]
  },
  {
   "cell_type": "markdown",
   "metadata": {},
   "source": [
    "<a id='ex2'></a>\n",
    "[terug naar index](#index)\n",
    "# exercise 2\n",
    "Maak een functie ```greet```, waarmee je een ```persoon``` groet, je print de begroeting. Test of je functie werkt!"
   ]
  },
  {
   "cell_type": "code",
   "execution_count": null,
   "metadata": {},
   "outputs": [],
   "source": []
  },
  {
   "cell_type": "code",
   "execution_count": null,
   "metadata": {},
   "outputs": [],
   "source": [
    "print(greet('waterschap Brabantse Delta'))"
   ]
  },
  {
   "cell_type": "markdown",
   "metadata": {},
   "source": [
    "Maak een functie ```greet_goodbye```, hiermee zeg je de ```persoon``` ook gedag naast de begroeting, je kan bovenstaande functie hergebruiken. Test of je functie werkt!"
   ]
  },
  {
   "cell_type": "code",
   "execution_count": null,
   "metadata": {},
   "outputs": [],
   "source": []
  },
  {
   "cell_type": "code",
   "execution_count": null,
   "metadata": {},
   "outputs": [],
   "source": [
    "print(greet_goodbye('waterschap Brabantse Delta'))"
   ]
  },
  {
   "cell_type": "markdown",
   "metadata": {
    "slideshow": {
     "slide_type": "slide"
    }
   },
   "source": [
    "# functions, fruitfull & void\n",
    "er zijn verschillende type functies, vaak worden ze verdeeld in functies die een waarde teruggeven (fruitfull), en functies die een actie doen maar geen waarde teruggeven (fruitless of void).\n",
    "een voorbeeld van een ```fruitfull``` functie is ```math.sin```\n",
    "een voorbeeld van een ```void``` of ```fruitless``` functie is ```print_twice``` van hierboven."
   ]
  },
  {
   "cell_type": "code",
   "execution_count": null,
   "metadata": {},
   "outputs": [],
   "source": [
    "result = print_twice('Bing') # void of fruitless"
   ]
  },
  {
   "cell_type": "code",
   "execution_count": null,
   "metadata": {},
   "outputs": [],
   "source": [
    "print(result) # returnt None, ofwel niks"
   ]
  },
  {
   "cell_type": "markdown",
   "metadata": {},
   "source": [
    "```fruitfull``` functies kun je herkennen aan ```return```, je kan ```return``` gebruiken om een waarde terug te geven.\n",
    "je kan ook meerdere malen ```return``` gebruiken in een functie als je conditionals gebruikt, die volgen hierna ;)"
   ]
  },
  {
   "cell_type": "code",
   "execution_count": null,
   "metadata": {},
   "outputs": [],
   "source": [
    "def area_circle(radius): \n",
    "    import math\n",
    "    area = math.pi * radius**2\n",
    "    return area # fruitfull!"
   ]
  },
  {
   "cell_type": "code",
   "execution_count": null,
   "metadata": {},
   "outputs": [],
   "source": [
    "area = area_circle(2)\n",
    "print(area)"
   ]
  },
  {
   "cell_type": "markdown",
   "metadata": {},
   "source": [
    "<a id='ex3'></a>\n",
    "[terug naar index](#index)\n",
    "# exercise 3\n",
    "Maak een ```fruitfull``` functie ```area_rectangle``` die het oppervlak van een rechthoek berekend, gegeven de ```langezijde``` en ```kortezijde```. Test of de functie werkt."
   ]
  },
  {
   "cell_type": "code",
   "execution_count": null,
   "metadata": {},
   "outputs": [],
   "source": []
  },
  {
   "cell_type": "markdown",
   "metadata": {},
   "source": [
    "Maak een ```fruitfull``` functie ```volume_cube``` die het volume van een kubus berekend, gegeven de ```langezijde``` en ```kortezijde``` en ```hoogte```. Kan je de hierboven gemaakte functie hergebruiken? Test of je functie werkt."
   ]
  },
  {
   "cell_type": "code",
   "execution_count": null,
   "metadata": {},
   "outputs": [],
   "source": []
  },
  {
   "cell_type": "markdown",
   "metadata": {},
   "source": [
    "Maak een ```fruitfull``` functie ```area_cube``` die het oppervlak van een kubus berekend, gegeven de ```langezijde``` en ```kortezijde``` en ```hoogte```. Kan je de hierboven gemaakte functies hergebruiken? Test of je functie werkt."
   ]
  },
  {
   "cell_type": "code",
   "execution_count": null,
   "metadata": {},
   "outputs": [],
   "source": []
  },
  {
   "cell_type": "markdown",
   "metadata": {
    "slideshow": {
     "slide_type": "slide"
    }
   },
   "source": [
    "<a id='con'></a>\n",
    "[terug naar index](#index)\n",
    "# conditionals\n",
    "\n",
    "```boolean expression``` is een expressie die waar of onwaar (```True``` of ```False```) is, denk daarbij aan is a groter dan b, is c gelijk aan d, zie hieronder een paar voorbeelden;\n"
   ]
  },
  {
   "cell_type": "code",
   "execution_count": null,
   "metadata": {},
   "outputs": [],
   "source": [
    "5 == 5 # == gelijk aan"
   ]
  },
  {
   "cell_type": "code",
   "execution_count": null,
   "metadata": {},
   "outputs": [],
   "source": [
    "5 == 6"
   ]
  },
  {
   "cell_type": "markdown",
   "metadata": {},
   "source": [
    "andere ```relational operators``` in python zijn:\n",
    "- == gelijk aan,\n",
    "- != niet gelijk aan, \n",
    "- &gt; groter, \n",
    "- < kleiner, \n",
    "- &gt;= groter gelijk, \n",
    "- <= kleiner gelijk;\n",
    "\n",
    "```logical operators``` in python zijn;\n",
    "- and, \n",
    "- or, \n",
    "- not, \n",
    "zijn gelijk aan hun betekenis in het engels, hiermee kan je boolean expressions combineren"
   ]
  },
  {
   "cell_type": "code",
   "execution_count": null,
   "metadata": {},
   "outputs": [],
   "source": [
    "n = 4 # je kan deze n veranderen tot je het begrijpt ;)\n",
    "print(n%2 == 0 or n%3 == 0) # True als n gedeeld kan worden door 2 en/of 3, bijvoorbeeld n=4, maar ook n=6\n",
    "print(n%2 == 0 and n%3 == 0) # True als n gedeeld kan worden door 2 en 3, bijvoorbeeld n=6"
   ]
  },
  {
   "cell_type": "markdown",
   "metadata": {
    "slideshow": {
     "slide_type": "slide"
    }
   },
   "source": [
    "# conditional statements\n",
    "\n",
    "met ```conditional execution``` kan je het gevolg van een excecution aanpassen, als dan. voorbeelden hiervan in python zijn:\n",
    "- ```if```, if x == 2:, als x gelijk is aan 2 dan ..., \n",
    "- ```elif```, als je na de 1e if nog extra ifs wil toepassen gebruik je elif, elif x == 3:, als x gelijk is aan 3 dan, \n",
    "- ```else```, else: in dit geval als x niet gelijk is aan 2 of 3 dan; \n",
    "  \n",
    "zoals je hierboven ook zag heeft een ```conditional statement```ook syntax;\n",
    "- eindigt op een ```:```;\n",
    "- daarna indent;  \n",
    "  \n",
    "een simpel voorbeeld"
   ]
  },
  {
   "cell_type": "code",
   "execution_count": null,
   "metadata": {},
   "outputs": [],
   "source": [
    "n = 4 # je kan de n veranderen om te zien dat het werkt ;)\n",
    "if n % 2 == 0:\n",
    "    print('n is even')\n",
    "else:\n",
    "    print('n is oneven')"
   ]
  },
  {
   "cell_type": "markdown",
   "metadata": {},
   "source": [
    "je kan ook ```nesten``` (of wel een ```conditional statement``` in een ```conditional statement``` gebruiken), zie hieronder"
   ]
  },
  {
   "cell_type": "code",
   "execution_count": null,
   "metadata": {},
   "outputs": [],
   "source": [
    "x = 4\n",
    "y = 6\n",
    "if x == y:\n",
    "    print('x is gelijk aan y')\n",
    "else:\n",
    "    if x < y:\n",
    "        print('x is kleiner dan y')\n",
    "    else:\n",
    "        print('x is groter dan y')"
   ]
  },
  {
   "cell_type": "markdown",
   "metadata": {},
   "source": [
    "<a id='ex4'></a>\n",
    "[terug naar index](#index)\n",
    "# exercise 4\n",
    "Maak een functie ```between_10_50``` die checkt of een gegeven waarde tussen de 10 en 50 ligt."
   ]
  },
  {
   "cell_type": "code",
   "execution_count": null,
   "metadata": {},
   "outputs": [],
   "source": []
  },
  {
   "cell_type": "markdown",
   "metadata": {},
   "source": [
    "Maak een functie ```between_10_50_dividedable_by_5```die checkt of een waarde tussen de 10 en 50 ligt (hiervoor kan je misschien bovenstaande functie gebruiken? En of het getal te delen is door 5. Test je functie! Als de waarde tussen de 10 en 50 ligt en het getal is deelbaar door 5 moet de functie True teruggeven anders False!"
   ]
  },
  {
   "cell_type": "code",
   "execution_count": null,
   "metadata": {},
   "outputs": [],
   "source": []
  },
  {
   "cell_type": "markdown",
   "metadata": {
    "slideshow": {
     "slide_type": "slide"
    }
   },
   "source": [
    "<a id='it'></a>\n",
    "[terug naar index](#index)\n",
    "# iteration\n",
    "```iteration``` geeft je de mogelijkheid om een stukje code meerdere malen te runnen;\n",
    "python kent:\n",
    "```for``` loop, deze itereren over een van de voren meegegeven volgorde;\n",
    "```while``` loop, itereren zolang er wordt voldaan aan een ```boolean condition```\n",
    "zie hieronder voorbeelden voor een ```for``` en ```while``` loop"
   ]
  },
  {
   "cell_type": "code",
   "execution_count": null,
   "metadata": {},
   "outputs": [],
   "source": [
    "def for_countdown(n):\n",
    "    for counter in range(n,-1,-1): # for loop, range komen we later op terug\n",
    "        if counter > 0:\n",
    "            print(counter)\n",
    "        else:\n",
    "            print('BLASTOFF!')\n",
    "\n",
    "for_countdown(5)"
   ]
  },
  {
   "cell_type": "code",
   "execution_count": null,
   "metadata": {},
   "outputs": [],
   "source": [
    "def while_countdown(n):\n",
    "    while n > 0: # while loop, eigenlijk in het kort de for loop en if statement van hierboven\n",
    "        print(n)\n",
    "        n = n-1 # je kan ook n -= 1 gebruiken in een loop\n",
    "    print('BLASTOFF!')\n",
    "\n",
    "while_countdown(5)"
   ]
  },
  {
   "cell_type": "markdown",
   "metadata": {},
   "source": [
    "je kan ```break``` in een loop gebruiken als je niet exact weet wanneer je wil stoppen, met ```break``` kan je geforceerd stoppen."
   ]
  },
  {
   "cell_type": "code",
   "execution_count": null,
   "metadata": {},
   "outputs": [],
   "source": [
    "while True:\n",
    "    line = input('> ')\n",
    "    if line == 'done':\n",
    "        break\n",
    "    print(line)\n",
    "print('Done')"
   ]
  },
  {
   "cell_type": "markdown",
   "metadata": {},
   "source": [
    "<a id='ex5'></a>\n",
    "[terug naar index](#index)\n",
    "# exercise 5\n",
    "Maak een functie ```fibonnaci``` die de Fibonnaci reeks print tot n (```fruitless```). (hint: [link](https://nl.wikipedia.org/wiki/Rij_van_Fibonacci), denk aan de base cases)\n",
    "\n",
    "```fibonacci(1000)``` zou dus terug moeten geven, 0 1 1 2 3 5 8 13 21 34 55 89 144 233 377 610 987"
   ]
  },
  {
   "cell_type": "code",
   "execution_count": null,
   "metadata": {},
   "outputs": [],
   "source": []
  },
  {
   "cell_type": "markdown",
   "metadata": {
    "slideshow": {
     "slide_type": "slide"
    }
   },
   "source": [
    "<a id='str'></a>\n",
    "[terug naar index](#index)\n",
    "# strings\n",
    "je kan strings in python aanmaken door ```str()```, ```\"``` of ```'```, bijv. str(1), \"1\", of '1', maar ook \"'s ochtends\".\n",
    "  \n",
    "strings zijn niet als integers, floats of booleans, het zijn reeksen (```sequences```). hier door kan je ```indexing``` toepassen, je kan elke letter opvragen door ```[]``` rechte haken met daarin het index nummer,  \n",
    "  \n",
    "LET OP: de index in python begint bij 0\n",
    "  \n",
    "  \n",
    "een string heeft een lengte, welke opgevraagd kan worden met ```len()```. je kan ook door een string loopen met een ```for``` of ```while``` loop (omdat het sequence is). je kan een string ```slicen```, ofwel een gedeelte van een string selecteren dit doe je met rechte haken, ```[n:m]```, waarin n de startindex is en m de eindindex, als je geen start- of eindindex meegeeft pak hij automatisch van het begin of tot het einde van de string. strings zijn ```immutable```, dit betekend dat je ze niet met assignment kan aanpassen,  dus je kan niet string[0] = 'a' doen.\n",
    " \n",
    "zie hieronder voor voorbeelden van bovenstaande, het is belangrijk dat je slicing snapt, dat komt nog op veel plekken terug"
   ]
  },
  {
   "cell_type": "code",
   "execution_count": null,
   "metadata": {},
   "outputs": [],
   "source": [
    "word = 'banana'\n",
    "word[0]"
   ]
  },
  {
   "cell_type": "code",
   "execution_count": null,
   "metadata": {},
   "outputs": [],
   "source": [
    "len(word)"
   ]
  },
  {
   "cell_type": "code",
   "execution_count": null,
   "metadata": {},
   "outputs": [],
   "source": [
    "word[0:2] # van index 0 tot index 1"
   ]
  },
  {
   "cell_type": "code",
   "execution_count": null,
   "metadata": {},
   "outputs": [],
   "source": [
    "word[1:] # van index 1 tot eind"
   ]
  },
  {
   "cell_type": "code",
   "execution_count": null,
   "metadata": {},
   "outputs": [],
   "source": [
    "word[:-1] # van index 0 tot een na laatste index"
   ]
  },
  {
   "cell_type": "code",
   "execution_count": null,
   "metadata": {},
   "outputs": [],
   "source": [
    "word[::-1] # omdraaien van indexen"
   ]
  },
  {
   "cell_type": "code",
   "execution_count": null,
   "metadata": {},
   "outputs": [],
   "source": [
    "word[0] = 'k'"
   ]
  },
  {
   "cell_type": "markdown",
   "metadata": {
    "slideshow": {
     "slide_type": "slide"
    }
   },
   "source": [
    "strings hebben verschillende ```methods```, dit zijn een soort functies die je op je string los kan laten voorbeelden zijn upper(), lower(), find() en nog veel meer. hieronder volgen een paar voorbeelden."
   ]
  },
  {
   "cell_type": "code",
   "execution_count": null,
   "metadata": {},
   "outputs": [],
   "source": [
    "word = 'banana'\n",
    "word.upper()"
   ]
  },
  {
   "cell_type": "code",
   "execution_count": null,
   "metadata": {},
   "outputs": [],
   "source": [
    "word.find('a') # geeft de index van eerste a terug"
   ]
  },
  {
   "cell_type": "code",
   "execution_count": null,
   "metadata": {},
   "outputs": [],
   "source": [
    "word.find('a', 4) # geeft de eerste index met een a op vanaf index 4"
   ]
  },
  {
   "cell_type": "markdown",
   "metadata": {},
   "source": [
    "daarnaast kan je de operator ```in``` gebruiken bij strings, deze is ```True``` als het stringgedeelte voorkomt in de string en anders ```False"
   ]
  },
  {
   "cell_type": "code",
   "execution_count": null,
   "metadata": {},
   "outputs": [],
   "source": [
    "'a' in 'banana'"
   ]
  },
  {
   "cell_type": "code",
   "execution_count": null,
   "metadata": {},
   "outputs": [],
   "source": [
    "'hoi' in 'banana'"
   ]
  },
  {
   "cell_type": "markdown",
   "metadata": {},
   "source": [
    "<a id='ex6'></a>\n",
    "[terug naar index](#index)\n",
    "# exercise 6\n",
    "Maak een functie ```isinstring``` die checkt of een bepaalde ```string``` in een ```woord``` zit, ofwel hij moet een ```boolean``` teruggeven."
   ]
  },
  {
   "cell_type": "code",
   "execution_count": null,
   "metadata": {},
   "outputs": [],
   "source": []
  },
  {
   "cell_type": "markdown",
   "metadata": {},
   "source": [
    "Maak een functie ```uppercaseflippedselectedstring``` die een ```string``` teruggeeft in:\n",
    "- hoofdletters, \n",
    "- omgedraaid en,\n",
    "- voor een bepaalde selectie, ```fromindex``` tot ```toindex```.  \n",
    "  \n",
    "Met defaultwaardes voor ```fromindex``` vanaf het begin en ```toindex``` tot het eind."
   ]
  },
  {
   "cell_type": "code",
   "execution_count": null,
   "metadata": {},
   "outputs": [],
   "source": []
  },
  {
   "cell_type": "markdown",
   "metadata": {
    "slideshow": {
     "slide_type": "slide"
    }
   },
   "source": [
    "# basic data structures\n",
    "```python``` kent verschillende ingebouwde datastructuren, deze ```data structures``` is een opslagformaat welke toegang biedt tot de waarden en soms ook aanpassing van de waarden. we zullen hier behandelen:\n",
    "- ```lists```\n",
    "- ```dictionaries```\n",
    "- ```tuples```\n",
    "- ```sets```"
   ]
  },
  {
   "cell_type": "markdown",
   "metadata": {
    "slideshow": {
     "slide_type": "slide"
    }
   },
   "source": [
    "<a id='list'></a>\n",
    "[terug naar index](#index)\n",
    "# lists\n",
    "```list``` is een built-in type in python, het definieren (```assignment```) van een ```list``` kan met ```list()``` of met rechte haken ```[]```, dus [1,2,3] is hetzelfde als list(1,2,3).  \n",
    "  \n",
    "net als ```strings``` is een list een ```sequence``` dus een reeks, en komt op veel punten overeen (je kan erdoor loopen, heeft ook een lengte ```len```, ```slicen``` of ```indexing``` met rechte haken), maar het grote verschil is een ```list``` is ```mutable```!\n",
    "\n",
    "net als bij ```strings``` is de eerste ```index``` van ```list``` is 0. daarnaast kan een ```list``` alle ```values```/```types``` bevatten, ook door elkaar, dus [1, 'abc', 25.12] kan. daarnaast kan een ```list``` worden genest, ofwel een ```list``` in een ```list```.\n",
    "\n",
    "hieronder wat voorbeelden om het een en ander te illustreren, loop ze weer rustig door."
   ]
  },
  {
   "cell_type": "code",
   "execution_count": null,
   "metadata": {},
   "outputs": [],
   "source": [
    "my_list = list(('appel', True, [1,2,3])) # zelfde als ['appel', True, [1,2,3]]\n",
    "my_list"
   ]
  },
  {
   "cell_type": "code",
   "execution_count": null,
   "metadata": {},
   "outputs": [],
   "source": [
    "my_list[2][2] # dubbele indexing, omdat genest"
   ]
  },
  {
   "cell_type": "code",
   "execution_count": null,
   "metadata": {},
   "outputs": [],
   "source": [
    "my_list[0] = 'peer' # aanpassen eerste waarde\n",
    "my_list"
   ]
  },
  {
   "cell_type": "markdown",
   "metadata": {
    "slideshow": {
     "slide_type": "slide"
    }
   },
   "source": [
    "zoals hierboven ook al deels gemeld je kan door een ```list``` ```loopen```. je kan ook ```list operations``` doen ofwel je kan een ```+``` gebruiken om lijsten samen te voegen, een ```*``` om ze te herhaling (dit kan je ook gebruiken bij strings!), uiteraard werken de slices ook."
   ]
  },
  {
   "cell_type": "code",
   "execution_count": null,
   "metadata": {},
   "outputs": [],
   "source": [
    "my_list = ['appel', 'peer', 'banaan'] # of gebruik list()\n",
    "for fruit in my_list: # loop\n",
    "    print(fruit)"
   ]
  },
  {
   "cell_type": "code",
   "execution_count": null,
   "metadata": {},
   "outputs": [],
   "source": [
    "other_fruits = ['ananas', 'meloen']\n",
    "my_list + other_fruits"
   ]
  },
  {
   "cell_type": "code",
   "execution_count": null,
   "metadata": {},
   "outputs": [],
   "source": [
    "my_list[:-1] # slicing"
   ]
  },
  {
   "cell_type": "markdown",
   "metadata": {},
   "source": [
    "ook heeft een ```list``` zoals alle ```data structures``` en ook ```strings```, ```methods``` functies om je ```list``` aan te passen. dit gebeurt allemaal ```inplace``` het gebeurt dus meteen je hoeft geen ```statement``` gebruiken, zie voorbeeld ook hieronder.\n",
    "\n",
    "voorbeelden zijn:\n",
    "- ```extend()```, een ```list``` toevoegen aan een ```list```, vergelijkbaar met ```+```,\n",
    "- ```append()```, een waarde toevoegen aan een ```list```,\n",
    "- ```sort()```, een ```list``` sorteren,\n",
    "- ```remove()```, een waarde uit een ```list``` verwijderen,\n",
    "- ```pop()```, default verwijderd laatste value in ```list```, je kan ook een index meegeven"
   ]
  },
  {
   "cell_type": "code",
   "execution_count": null,
   "metadata": {},
   "outputs": [],
   "source": [
    "my_list.extend(['aardbei']) # inplace dus je hoeft geen my_list = my_list.extend(['aardbei']) te doen\n",
    "my_list"
   ]
  },
  {
   "cell_type": "code",
   "execution_count": null,
   "metadata": {},
   "outputs": [],
   "source": [
    "my_list.sort()\n",
    "my_list"
   ]
  },
  {
   "cell_type": "code",
   "execution_count": null,
   "metadata": {},
   "outputs": [],
   "source": [
    "my_list.remove('appel')\n",
    "my_list"
   ]
  },
  {
   "cell_type": "code",
   "execution_count": null,
   "metadata": {},
   "outputs": [],
   "source": [
    "my_list.pop()\n",
    "my_list"
   ]
  },
  {
   "cell_type": "markdown",
   "metadata": {
    "slideshow": {
     "slide_type": "slide"
    }
   },
   "source": [
    "<a id='range'></a>\n",
    "[terug naar index](#index)\n",
    "# range\n",
    "```range``` is een manier om een ```list``` te maken van ```integers``` range(start, stop, step), index is tot stop - 1, default start = 0, step=1, dus range(3) -> [0,1,2]"
   ]
  },
  {
   "cell_type": "code",
   "execution_count": null,
   "metadata": {},
   "outputs": [],
   "source": [
    "my_range = range(1, 5, 1) # start=1, stop=5, step=1\n",
    "my_range"
   ]
  },
  {
   "cell_type": "code",
   "execution_count": null,
   "metadata": {},
   "outputs": [],
   "source": [
    "for x in my_range: # inhoud van range printen\n",
    "    print(x)"
   ]
  },
  {
   "cell_type": "markdown",
   "metadata": {},
   "source": [
    "<a id='ex7'></a>\n",
    "[terug naar index](#index)\n",
    "# exercise 7\n",
    "Maak een ```list```, ```my_veggies``` met daarin 6 verschillende groenten."
   ]
  },
  {
   "cell_type": "code",
   "execution_count": null,
   "metadata": {},
   "outputs": [],
   "source": []
  },
  {
   "cell_type": "markdown",
   "metadata": {},
   "source": [
    "Maak een functie ```deletewithstring``` die de waarden uit eeen meegegeven ```list``` verwijderd die een te definieren ```string``` bevatten."
   ]
  },
  {
   "cell_type": "code",
   "execution_count": null,
   "metadata": {},
   "outputs": [],
   "source": [
    "def deletewithstring(list, string):\n",
    "    # doe de bewerking\n",
    "    return list\n",
    "\n",
    "\n",
    "for veggie in deletewithstring(my_veggies, 'a'): # check of het werkt\n",
    "    print('veggie')"
   ]
  },
  {
   "cell_type": "markdown",
   "metadata": {
    "slideshow": {
     "slide_type": "slide"
    }
   },
   "source": [
    "<a id='dict'></a>\n",
    "[terug naar index](#index)\n",
    "# dictionaries\n",
    "nog een built-in type in python, assignment met ```dict()```, of accolades ```{}```. een ```dictionary``` is vergelijkbaar met een ```list``` maar algemener, bij een ```list``` moeten de ```indices``` ```integers``` zijn bij een ```dictionary``` kunnen ze (bijna) alle types zijn.  \n",
    "  \n",
    "de collectie indices worden ```keys``` genoemd (te vergelijken met de indexes van een ```list```). elke ```key``` is geassocieerd met een ```value``` (te vergelijken met de waardes in de ```list```), samen vormen ze een ```key-value pair``` of ook wel genoemd ```item```. ```keys``` moeten uniek zijn! \n",
    "\n",
    "hieronder wat voorbeelden om het te illustreren, en een beetje spaanse les ;)"
   ]
  },
  {
   "cell_type": "code",
   "execution_count": null,
   "metadata": {},
   "outputs": [],
   "source": [
    "nl2sp = dict() # initieren van een dictionary, initaite\n",
    "nl2sp['een'] = 'uno' # toevoegen van een item, key-value pair, key = 'een', value = 'uno', declare\n",
    "nl2sp"
   ]
  },
  {
   "cell_type": "code",
   "execution_count": null,
   "metadata": {},
   "outputs": [],
   "source": [
    "nl2sp = {'een': 'uno', 'twee': 'dos', 'drie': 'tres'} # andere manier om meteen te initereen en toevoegen, opbouw is {key: value,\n",
    "# key: value, etc}\n",
    "nl2sp"
   ]
  },
  {
   "cell_type": "code",
   "execution_count": null,
   "metadata": {},
   "outputs": [],
   "source": [
    "nl2sp['drie'] # indexing"
   ]
  },
  {
   "cell_type": "markdown",
   "metadata": {},
   "source": [
    "uiteraard heeft een ```dictionairy``` ook ```method```, gebeurt uiteraard ook weer ```inplace```, enkele voorbeelden, zie ook hieronder:\n",
    "- ```keys()```, geeft alle ```keys``` van een ```dictionary``` terug\n",
    "- ```values()```, geeft alle ```values```van een ```dictionary``` terug\n",
    "- ```update()```, kan je een ```key-value pair``` toevoegen\n",
    "- ```get()```, is indexing zelfde als met ```[]```\n",
    "- ```pop()```, verwijder een ```key-value pair``` door de key te geven"
   ]
  },
  {
   "cell_type": "code",
   "execution_count": null,
   "metadata": {},
   "outputs": [],
   "source": [
    "nl2sp.keys()"
   ]
  },
  {
   "cell_type": "code",
   "execution_count": null,
   "metadata": {},
   "outputs": [],
   "source": [
    "nl2sp.values()"
   ]
  },
  {
   "cell_type": "code",
   "execution_count": null,
   "metadata": {},
   "outputs": [],
   "source": [
    "nl2sp.update({'vier': 'cuatro'})\n",
    "nl2sp"
   ]
  },
  {
   "cell_type": "code",
   "execution_count": null,
   "metadata": {},
   "outputs": [],
   "source": [
    "nl2sp.pop('drie')\n",
    "nl2sp"
   ]
  },
  {
   "cell_type": "markdown",
   "metadata": {},
   "source": [
    "<a id='ex8'></a>\n",
    "[terug naar index](#index)\n",
    "# exercise 8\n",
    "Maak een ```dictionary``` ```nl2en``` met daarin van 1 t/m 5 in het nederlands naar engels."
   ]
  },
  {
   "cell_type": "code",
   "execution_count": null,
   "metadata": {},
   "outputs": [],
   "source": [
    "nl2en = "
   ]
  },
  {
   "cell_type": "markdown",
   "metadata": {},
   "source": [
    "Voeg 6 toe aan ```nl2en``` met ```indexing``` en 7 met ```update()```"
   ]
  },
  {
   "cell_type": "code",
   "execution_count": null,
   "metadata": {},
   "outputs": [],
   "source": []
  },
  {
   "cell_type": "markdown",
   "metadata": {},
   "source": [
    "Verwijder 1 en 2 uit ```nl2en```"
   ]
  },
  {
   "cell_type": "code",
   "execution_count": null,
   "metadata": {},
   "outputs": [],
   "source": []
  },
  {
   "cell_type": "markdown",
   "metadata": {
    "slideshow": {
     "slide_type": "slide"
    }
   },
   "source": [
    "<a id='tuple'></a>\n",
    "[terug naar index](#index)\n",
    "# tuples\n",
    "```tuples``` nog een built-in type in python, kan aangemaakt worden met ```tuple()``` of haakjes ```()```. ```tuples``` zijn ```immutable``` kan ze niet aanpassen met een statement, lijken erg op ```list```, kan elk ```type``` bevatten, indices zijn ```integers```. zijn sneller dan ```lists```, daarnaast is er ```tuple assignment``` het toekennen van meerdere variabelen in een keer!"
   ]
  },
  {
   "cell_type": "code",
   "execution_count": null,
   "metadata": {},
   "outputs": [],
   "source": [
    "my_tuple = ('a', 'b', 7, 'hoi', 12.75) # of gebruik tuple()\n",
    "my_tuple[0] # indexing"
   ]
  },
  {
   "cell_type": "code",
   "execution_count": null,
   "metadata": {},
   "outputs": [],
   "source": [
    "my_tuple[1:3] # slicing"
   ]
  },
  {
   "cell_type": "code",
   "execution_count": null,
   "metadata": {},
   "outputs": [],
   "source": [
    "my_tuple[0] = 'A' # immutable"
   ]
  },
  {
   "cell_type": "code",
   "execution_count": null,
   "metadata": {},
   "outputs": [],
   "source": [
    "my_tuple = ('A',) + my_tuple[1:] # zo kan je zelf aanpassen, modify\n",
    "my_tuple"
   ]
  },
  {
   "cell_type": "code",
   "execution_count": null,
   "metadata": {},
   "outputs": [],
   "source": [
    "a, b = 1, 7 # tuple assignment\n",
    "a + b"
   ]
  },
  {
   "cell_type": "markdown",
   "metadata": {
    "slideshow": {
     "slide_type": "slide"
    }
   },
   "source": [
    "<a id='set'></a>\n",
    "[terug naar index](#index)\n",
    "# sets\n",
    "```set``` het laatste built-in type in python, kan gemaakt worden met ```set()```, of accolades (enkel keys) ```{}```. een ```set``` is ```mutable```. een ```set``` lijkt erg op ```keys``` in een ```dictionary```."
   ]
  },
  {
   "cell_type": "code",
   "execution_count": null,
   "metadata": {},
   "outputs": [],
   "source": [
    "my_set = {'uno', 'dos', 'tres'} # of set()\n",
    "my_set"
   ]
  },
  {
   "cell_type": "code",
   "execution_count": null,
   "metadata": {},
   "outputs": [],
   "source": [
    "my_list = [1, 1, 3, 6, 7, 8, 8]\n",
    "list_to_set = set(my_list) # unieke waarden in set\n",
    "list_to_set"
   ]
  },
  {
   "cell_type": "markdown",
   "metadata": {
    "slideshow": {
     "slide_type": "slide"
    }
   },
   "source": [
    "<a id='file'></a>\n",
    "[terug naar index](#index)\n",
    "# file handling (basics)\n",
    "```file handling``` slaat op het openen (```open(file, 'r')```)  en schrijven van files (```open(file, 'w')```). naast ```'w'``` (write), ```'r'``` (read-only), ```'a'``` (append), kan combineren met ```'b'``` (binary, bijv. fotos videos) bv. 'wb'. gebruik ```with```, deze sluit ook meteen de file nadat je ```indented block``` is afgelopen, kan dan dus niet fout gaat ;)\n",
    "\n",
    "zie hieronder voor wat voorbeelden om het te illustreren!"
   ]
  },
  {
   "cell_type": "code",
   "execution_count": null,
   "metadata": {},
   "outputs": [],
   "source": [
    "with open('data/text1.txt', 'r') as file: # opent het bestand en sluit het automatisch naar het ingesprongen stuk\n",
    "    string_file = file.read() # lees het hele bestand in naar een string\n",
    "string_file"
   ]
  },
  {
   "cell_type": "code",
   "execution_count": null,
   "metadata": {},
   "outputs": [],
   "source": [
    "with open('data/text1.txt', 'r') as file:\n",
    "    list_file = file.readlines() # lees het bestand per regel in en voeg elke regel toe aan een list\n",
    "list_file"
   ]
  },
  {
   "cell_type": "code",
   "execution_count": null,
   "metadata": {},
   "outputs": [],
   "source": [
    "with open('data/text2.txt', 'w') as file:\n",
    "    file.write(str(nl2sp)) # schrijf onze spaanse dictionary weg naar het bestand text2.txt"
   ]
  },
  {
   "cell_type": "code",
   "execution_count": null,
   "metadata": {},
   "outputs": [],
   "source": [
    "with open('data/text2.txt', 'r') as file:\n",
    "    string_file = file.read() # lees het hele bestand in naar een string\n",
    "string_file"
   ]
  },
  {
   "cell_type": "markdown",
   "metadata": {
    "slideshow": {
     "slide_type": "slide"
    }
   },
   "source": [
    "<a id='os'></a>\n",
    "[terug naar index](#index)\n",
    "# os (basics)\n",
    "kan vergelijkbare dingen als verkenner, vergelijkbaar met commando's in cmd (cd, ls, mkdir etc.). het is een ```package```. zie hieronder wat voorbeelden voor het basis gebruik."
   ]
  },
  {
   "cell_type": "code",
   "execution_count": null,
   "metadata": {},
   "outputs": [],
   "source": [
    "import os\n",
    "cwd = os.getcwd() # geeft het pad terug naar huidige directory (ofwel locatie van deze notebook)\n",
    "cwd"
   ]
  },
  {
   "cell_type": "code",
   "execution_count": null,
   "metadata": {},
   "outputs": [],
   "source": [
    "os.path.join(cwd, 'text2.txt') # met path join kan paden samenvoegen"
   ]
  },
  {
   "cell_type": "code",
   "execution_count": null,
   "metadata": {},
   "outputs": [],
   "source": [
    "os.listdir(cwd)"
   ]
  },
  {
   "cell_type": "code",
   "execution_count": null,
   "metadata": {},
   "outputs": [],
   "source": [
    "os.path.exists('text1.txt') # returns True if path exists"
   ]
  },
  {
   "cell_type": "markdown",
   "metadata": {},
   "source": [
    "<a id='ex'></a>\n",
    "[terug naar index](#index)\n",
    "# twee grotere exercises\n",
    "gebruiken van verschillende datatypes, laden van files, aan het eind van de middag mag iemand het voordoen, meenemen in het denk proces.\n",
    "\n",
    "\n",
    "# #1\n",
    "Het bestand staat in de map ```data```, gebruik ```os``` om de naam van het bestand te vinden. Laad alle meetwaarden in een ```list```. Bepaal de het gemiddelde van alle metingen.\n",
    "  \n",
    "Enkele tips:  \n",
    "Het is een csv dus...  \n",
    "Kijk naar .split()  \n",
    "For loop?  \n",
    "Er zitten ook NaN waardes in deze worden in WISKI weergegeven als '---'  \n",
    "De eerste rij is de kolomnaam  "
   ]
  },
  {
   "cell_type": "code",
   "execution_count": null,
   "metadata": {},
   "outputs": [],
   "source": []
  },
  {
   "cell_type": "markdown",
   "metadata": {},
   "source": [
    "# #2\n",
    "Je kan hierboven ingelezen bestand hergebruiken. Maar er nu een ```dictionary``` van met als ```key``` de maand als string (vb. '01', '02') en als ```value``` een ```list``` van de alle metingen in deze maand in alle jaren. En bepaal de gemiddelde waarde in juli.\n",
    "  \n",
    "Tips:  \n",
    "For loop \n",
    "Dictionary aanvullen met keys: maand, values: waterstanden, wat doe je als er al een key is van deze maand?  \n",
    "Hoe sla je meerdere waarde op als value?"
   ]
  },
  {
   "cell_type": "code",
   "execution_count": null,
   "metadata": {},
   "outputs": [],
   "source": []
  }
 ],
 "metadata": {
  "kernelspec": {
   "display_name": "Python 3",
   "language": "python",
   "name": "python3"
  },
  "language_info": {
   "codemirror_mode": {
    "name": "ipython",
    "version": 3
   },
   "file_extension": ".py",
   "mimetype": "text/x-python",
   "name": "python",
   "nbconvert_exporter": "python",
   "pygments_lexer": "ipython3",
   "version": "3.7.1"
  }
 },
 "nbformat": 4,
 "nbformat_minor": 2
}
