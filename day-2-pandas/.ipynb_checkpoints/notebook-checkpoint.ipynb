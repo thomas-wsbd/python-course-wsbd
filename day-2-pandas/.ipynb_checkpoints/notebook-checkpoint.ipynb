{
 "cells": [
  {
   "cell_type": "markdown",
   "metadata": {},
   "source": [
    "# welkom (again?)\n",
    "als je nog weet hoe een jupyter notebook werkt, lekker bezig, je kan dit stuk [overslaan](#index).  \n",
    "\n",
    "![](https://media0.giphy.com/media/d31w24psGYeekCZy/giphy.gif)\n",
    "\n",
    "nog een herhaling nodig of voor het eerst een notebook voor je. doorloop deze korte oefening.\n",
    "\n",
    "welkom in een ```jupyter notebook```, dit is een omgeving waarin je interactief ```python``` kan gebruiken en daarnaast ```Markdown``` (een opmaaktaal, dit block is er ook mee opgemaakt, vergelijkbaar met bijv. LateX), vanuit een ```jupyter notebook``` kan je snel bijv. een presentatie, rapport maken. daarnaast is het handig om wat te prusten in ```python``` je ziet meteen het resultaat van je code. hieronder volgt allereerst een korte introductie van ```jupyter notebooks```. \n",
    "\n",
    "als je vragen hebt kan je ```Thomas```, ```Valerie``` of ```Jaap``` benaderen, succes!\n",
    "\n",
    "Een notebook bestaat uit verschillende ```cellen```, een cel kan code of markdown bevatten. Als een cel ```groen``` omlijnt is kan je de inhoud aanpassen. Als een cel ```blauw``` omlijnt is kan je de structuur van de notebook aanpassen (cellen toevoegen, verwijderen, type aanpassen).\n",
    "\n",
    "Hieronder volgen de belangrijkste toetscombinaties. Alle toetscombinaties zijn terug te vinden onder het toetsenbordje in bovenstaand menu. Daarnaast kunnen ook al deze commandos uitgevoerd worden via bovenstaand menu alleen met het toetsenbord gaat gewoon veel sneller, dus leer dat vooral aan ;)\n",
    "\n",
    "__run een cel__, control + enter (kan zowel bij blauwe als groene cellen)  \n",
    "__run een cel en gaat naar volgende cel__, shift + enter (kan zowel bij blauwe als groene cellen)  \n",
    "__voeg een cel boven toe__, a (kan alleen bij blauwe cellen)  \n",
    "__voeg een cel beneden toe__, b (kan ook alleen bij blauwe cellen)  \n",
    "__verwijder een cel__, dd (twee keer d achter elkaar, kan alleen bij blauwe cellen)  \n",
    "__verander cel naar markdown__, m (blauw)  \n",
    "__verander een cel naar code__, y (blauw)  \n",
    "\n",
    "Oefen hieronder even met cellen runnen en toevoegen en verwijderen."
   ]
  },
  {
   "cell_type": "markdown",
   "metadata": {},
   "source": [
    "# oefenen met notebooks"
   ]
  },
  {
   "cell_type": "code",
   "execution_count": 1,
   "metadata": {},
   "outputs": [
    {
     "name": "stdout",
     "output_type": "stream",
     "text": [
      "run mij\n"
     ]
    }
   ],
   "source": [
    "print('run mij')"
   ]
  },
  {
   "cell_type": "code",
   "execution_count": 2,
   "metadata": {},
   "outputs": [
    {
     "name": "stdout",
     "output_type": "stream",
     "text": [
      "run mij en voeg hierboven een cel toe\n"
     ]
    }
   ],
   "source": [
    "print('run mij en voeg hierboven een cel toe')"
   ]
  },
  {
   "cell_type": "code",
   "execution_count": 3,
   "metadata": {},
   "outputs": [
    {
     "name": "stdout",
     "output_type": "stream",
     "text": [
      "run mij en verwijder mij\n"
     ]
    }
   ],
   "source": [
    "print('run mij en verwijder mij')"
   ]
  },
  {
   "cell_type": "markdown",
   "metadata": {},
   "source": [
    "# docstrings & autosuggest\n",
    "Daarnaast nog wat handigheden in ```jupyter notebook```  \n",
    "__open docstring__, ? achter functie, druk op +, om meer informatie te krijgen    \n",
    "__autosuggest__, tab, stelt mogelijke dingen voor, kan bijvoorbeeld functies, of variables aanvullen, voorstellen  \n",
    "  \n",
    "Kijk hieronder wat er gebeurt wauw!"
   ]
  },
  {
   "cell_type": "code",
   "execution_count": 4,
   "metadata": {},
   "outputs": [],
   "source": [
    "# door mij te runnen (shift+enter) check je de docstring\n",
    "print?"
   ]
  },
  {
   "cell_type": "code",
   "execution_count": 5,
   "metadata": {},
   "outputs": [],
   "source": [
    "my_variable = 'hai' # run mij"
   ]
  },
  {
   "cell_type": "code",
   "execution_count": 6,
   "metadata": {},
   "outputs": [
    {
     "ename": "NameError",
     "evalue": "name 'm' is not defined",
     "output_type": "error",
     "traceback": [
      "\u001b[1;31m---------------------------------------------------------------------------\u001b[0m",
      "\u001b[1;31mNameError\u001b[0m                                 Traceback (most recent call last)",
      "\u001b[1;32m<ipython-input-6-b323a73b6589>\u001b[0m in \u001b[0;36m<module>\u001b[1;34m\u001b[0m\n\u001b[0;32m      1\u001b[0m \u001b[1;31m# wat begint er met m? max bijvoorbeeld... maar ook my_variable; gebruik tab\u001b[0m\u001b[1;33m\u001b[0m\u001b[1;33m\u001b[0m\u001b[1;33m\u001b[0m\u001b[0m\n\u001b[1;32m----> 2\u001b[1;33m \u001b[0mm\u001b[0m\u001b[1;33m\u001b[0m\u001b[1;33m\u001b[0m\u001b[0m\n\u001b[0m",
      "\u001b[1;31mNameError\u001b[0m: name 'm' is not defined"
     ]
    }
   ],
   "source": [
    "# wat begint er met m? max bijvoorbeeld... maar ook my_variable; gebruik tab\n",
    "m"
   ]
  },
  {
   "cell_type": "markdown",
   "metadata": {},
   "source": [
    "<a id='index'></a>\n",
    "# pandas\n",
    "nu op naar de pandas, dit is de inhoud:\n",
    "- [pandas object](#objects) ([pd.Series](#series), [pd.DataFrame](#dataframe), [gpd.GeoDataFrame](#gdf));\n",
    "- [i/o](#io) (inlezen, wegschrijven);\n",
    "- [indexing & selection](#is);\n",
    "- [exercise 1](#ex1);\n",
    "- [dropping](#drop);\n",
    "- [missende data](#nan) (nans);\n",
    "- [exercise 2](#ex1);\n",
    "- [sorteren](#sort);\n",
    "- [samenvoegen](#merge) (merge);\n",
    "- [exercise 3](#ex1);\n",
    "- [grouping](#group);\n",
    "- [exercise 4](#ex1);\n",
    "- [string](#str);\n",
    "- [exercise 5](#ex5);\n",
    "- [timeseries](#ts);\n",
    "- [exercise 6](#ex6);\n",
    "- [exercise 7](#ex7);\n",
    "- [exercise 8](#ex8);"
   ]
  },
  {
   "cell_type": "markdown",
   "metadata": {
    "slideshow": {
     "slide_type": "slide"
    }
   },
   "source": [
    "<a id='objects'></a>\n",
    "[terug naar index](#index)\n",
    "# pandas objects\n",
    "<a id='series'></a>\n",
    "## pd.Series\n",
    "een ```Series``` is één dimensionale array (een soort van vector) met een gelabelde ```index```, vergelijkbaar dus met een ```dictionary```. een ```Series``` kan worden gemaakt vanuit bijv. een ``list``. de default ``index`` is een ```range()``` [0,1,2,..], met ``index`` kan je ook andere index meegeven;\n",
    "\n",
    "^ reminder: object (of wel Class) begint volgens conventie met hoofdletter;"
   ]
  },
  {
   "cell_type": "code",
   "execution_count": 14,
   "metadata": {},
   "outputs": [
    {
     "data": {
      "text/plain": [
       "0    0.25\n",
       "1    0.50\n",
       "2    0.75\n",
       "3    1.00\n",
       "dtype: float64"
      ]
     },
     "execution_count": 14,
     "metadata": {},
     "output_type": "execute_result"
    }
   ],
   "source": [
    "import pandas as pd\n",
    "\n",
    "data = pd.Series([0.25, 0.5, 0.75, 1.0])\n",
    "data"
   ]
  },
  {
   "cell_type": "code",
   "execution_count": 15,
   "metadata": {
    "slideshow": {
     "slide_type": "fragment"
    }
   },
   "outputs": [
    {
     "data": {
      "text/plain": [
       "a    0.25\n",
       "b    0.50\n",
       "c    0.75\n",
       "d    1.00\n",
       "dtype: float64"
      ]
     },
     "execution_count": 15,
     "metadata": {},
     "output_type": "execute_result"
    }
   ],
   "source": [
    "data = pd.Series([0.25, 0.5, 0.75, 1.0],\n",
    "                 index=['a', 'b', 'c', 'd'])\n",
    "data"
   ]
  },
  {
   "cell_type": "markdown",
   "metadata": {
    "slideshow": {
     "slide_type": "fragment"
    }
   },
   "source": [
    "een ``Series`` bestaat uit indices en waardes met  ``index`` en ``values`` kunnen deze indices en waardes worden benanderd:\n",
    "- ``values`` returnt een numpy array (1d-vector);\n",
    "- ``index`` returnt ``pd.Index`` object, hier meer over later"
   ]
  },
  {
   "cell_type": "code",
   "execution_count": 11,
   "metadata": {
    "slideshow": {
     "slide_type": "fragment"
    }
   },
   "outputs": [
    {
     "name": "stdout",
     "output_type": "stream",
     "text": [
      "values: \n",
      "[0.25 0.5  0.75 1.  ]\n",
      "\n",
      "index:  \n",
      "Index(['a', 'b', 'c', 'd'], dtype='object')\n"
     ]
    }
   ],
   "source": [
    "print('values: ', data.values, sep='\\n')\n",
    "print()\n",
    "print('index:  ', data.index, sep='\\n')"
   ]
  },
  {
   "cell_type": "markdown",
   "metadata": {
    "slideshow": {
     "slide_type": "fragment"
    }
   },
   "source": [
    "net als bij een ```list``` kan je de ```values``` benaderen door de ```index``` te gebruiken"
   ]
  },
  {
   "cell_type": "code",
   "execution_count": 12,
   "metadata": {
    "slideshow": {
     "slide_type": "fragment"
    }
   },
   "outputs": [
    {
     "name": "stdout",
     "output_type": "stream",
     "text": [
      "first element:\n"
     ]
    },
    {
     "data": {
      "text/plain": [
       "0.25"
      ]
     },
     "metadata": {},
     "output_type": "display_data"
    },
    {
     "data": {
      "text/plain": [
       "0.25"
      ]
     },
     "metadata": {},
     "output_type": "display_data"
    }
   ],
   "source": [
    "print('first element:')\n",
    "display(data[0]) # index als positie\n",
    "display(data['a']) # index als key"
   ]
  },
  {
   "cell_type": "code",
   "execution_count": 13,
   "metadata": {},
   "outputs": [
    {
     "name": "stdout",
     "output_type": "stream",
     "text": [
      "first - third element:\n"
     ]
    },
    {
     "data": {
      "text/plain": [
       "a    0.25\n",
       "b    0.50\n",
       "c    0.75\n",
       "dtype: float64"
      ]
     },
     "metadata": {},
     "output_type": "display_data"
    },
    {
     "data": {
      "text/plain": [
       "a    0.25\n",
       "b    0.50\n",
       "c    0.75\n",
       "dtype: float64"
      ]
     },
     "metadata": {},
     "output_type": "display_data"
    }
   ],
   "source": [
    "print('first - third element:')\n",
    "display(data[0:3]) # index als positie\n",
    "display(data['a':'c']) # index als key"
   ]
  },
  {
   "cell_type": "markdown",
   "metadata": {
    "slideshow": {
     "slide_type": "slide"
    }
   },
   "source": [
    "# pandas objects\n",
    "\n",
    "## pd.Series; meer voorbeelden\n",
    "een ```Series``` kan ook andere index hebben als de default rangeindex, je kan deze meegeven in ``index`` hierdoor werkt je  ``Series`` als een soort ```dictionary```"
   ]
  },
  {
   "cell_type": "code",
   "execution_count": 14,
   "metadata": {
    "slideshow": {
     "slide_type": "fragment"
    }
   },
   "outputs": [
    {
     "data": {
      "text/plain": [
       "California    38332521\n",
       "Texas         26448193\n",
       "New York      19651127\n",
       "Florida       19552860\n",
       "Illinois      12882135\n",
       "dtype: int64"
      ]
     },
     "execution_count": 14,
     "metadata": {},
     "output_type": "execute_result"
    }
   ],
   "source": [
    "population_dict = {'California': 38332521,\n",
    "                   'Texas': 26448193,\n",
    "                   'New York': 19651127,\n",
    "                   'Florida': 19552860,\n",
    "                   'Illinois': 12882135}\n",
    "population = pd.Series(population_dict) # kan dus ook een series maken uit een dict, key -> index, value -> value\n",
    "population"
   ]
  },
  {
   "cell_type": "code",
   "execution_count": 15,
   "metadata": {
    "slideshow": {
     "slide_type": "fragment"
    }
   },
   "outputs": [
    {
     "data": {
      "text/plain": [
       "38332521"
      ]
     },
     "execution_count": 15,
     "metadata": {},
     "output_type": "execute_result"
    }
   ],
   "source": [
    "population['California']"
   ]
  },
  {
   "cell_type": "markdown",
   "metadata": {
    "slideshow": {
     "slide_type": "slide"
    }
   },
   "source": [
    "<a id='dataframe'></a>\n",
    "[terug naar index](#index)\n",
    "# pandas object\n",
    "\n",
    "## pd.DataFrame\n",
    "een ``DataFrame`` kan worden gezien als een soort flexibele matrix of als een soort spreadsheet. een ```DataFrame``` heeft een gelabelde indexes (ranges, strings, maar kan ook bijv. datums zijn (```index```)) en gelabelde kolomnamen (```columns```).\n",
    "je kan een ``DataFrame`` ook zien als een aantal ``Series`` met gelijke indices;"
   ]
  },
  {
   "cell_type": "code",
   "execution_count": 16,
   "metadata": {
    "slideshow": {
     "slide_type": "fragment"
    }
   },
   "outputs": [
    {
     "data": {
      "text/plain": [
       "California    423967\n",
       "Texas         695662\n",
       "New York      141297\n",
       "Florida       170312\n",
       "Illinois      149995\n",
       "dtype: int64"
      ]
     },
     "execution_count": 16,
     "metadata": {},
     "output_type": "execute_result"
    }
   ],
   "source": [
    "area_dict = {'California': 423967, 'Texas': 695662, 'New York': 141297,\n",
    "             'Florida': 170312, 'Illinois': 149995}\n",
    "area = pd.Series(area_dict)\n",
    "area"
   ]
  },
  {
   "cell_type": "markdown",
   "metadata": {
    "slideshow": {
     "slide_type": "fragment"
    }
   },
   "source": [
    "je kan een ```DataFrame``` aanmaken met bijvoorbeeld een ``dict`` van twee ``Series``. of door de ``values``, ``index`` en ``columns`` mee te geven."
   ]
  },
  {
   "cell_type": "code",
   "execution_count": 17,
   "metadata": {
    "slideshow": {
     "slide_type": "fragment"
    }
   },
   "outputs": [
    {
     "data": {
      "text/html": [
       "<div>\n",
       "<style scoped>\n",
       "    .dataframe tbody tr th:only-of-type {\n",
       "        vertical-align: middle;\n",
       "    }\n",
       "\n",
       "    .dataframe tbody tr th {\n",
       "        vertical-align: top;\n",
       "    }\n",
       "\n",
       "    .dataframe thead th {\n",
       "        text-align: right;\n",
       "    }\n",
       "</style>\n",
       "<table border=\"1\" class=\"dataframe\">\n",
       "  <thead>\n",
       "    <tr style=\"text-align: right;\">\n",
       "      <th></th>\n",
       "      <th>population</th>\n",
       "      <th>area</th>\n",
       "    </tr>\n",
       "  </thead>\n",
       "  <tbody>\n",
       "    <tr>\n",
       "      <th>California</th>\n",
       "      <td>38332521</td>\n",
       "      <td>423967</td>\n",
       "    </tr>\n",
       "    <tr>\n",
       "      <th>Texas</th>\n",
       "      <td>26448193</td>\n",
       "      <td>695662</td>\n",
       "    </tr>\n",
       "    <tr>\n",
       "      <th>New York</th>\n",
       "      <td>19651127</td>\n",
       "      <td>141297</td>\n",
       "    </tr>\n",
       "    <tr>\n",
       "      <th>Florida</th>\n",
       "      <td>19552860</td>\n",
       "      <td>170312</td>\n",
       "    </tr>\n",
       "    <tr>\n",
       "      <th>Illinois</th>\n",
       "      <td>12882135</td>\n",
       "      <td>149995</td>\n",
       "    </tr>\n",
       "  </tbody>\n",
       "</table>\n",
       "</div>"
      ],
      "text/plain": [
       "            population    area\n",
       "California    38332521  423967\n",
       "Texas         26448193  695662\n",
       "New York      19651127  141297\n",
       "Florida       19552860  170312\n",
       "Illinois      12882135  149995"
      ]
     },
     "execution_count": 17,
     "metadata": {},
     "output_type": "execute_result"
    }
   ],
   "source": [
    "states = pd.DataFrame({'population': population,\n",
    "                       'area': area}) # dict met twee Series\n",
    "states = pd.DataFrame([[38332521,   423967], # values\n",
    "                       [26448193,   695662],\n",
    "                       [19651127,   141297],\n",
    "                       [19552860,   170312],\n",
    "                       [12882135,   149995]],\n",
    "                     columns=['population', 'area'], # kolom labels\n",
    "                     index=['California', 'Texas', 'New York', 'Florida', 'Illinois']) # index labels\n",
    "states"
   ]
  },
  {
   "cell_type": "markdown",
   "metadata": {
    "slideshow": {
     "slide_type": "fragment"
    }
   },
   "source": [
    "naast ``values``, ``index`` van ```Series``` heeft een ``DataFrame`` ook ``columns``, ``columns`` is een ``Index`` met de kolomnamen"
   ]
  },
  {
   "cell_type": "code",
   "execution_count": 18,
   "metadata": {
    "slideshow": {
     "slide_type": "fragment"
    }
   },
   "outputs": [
    {
     "data": {
      "text/plain": [
       "Index(['population', 'area'], dtype='object')"
      ]
     },
     "execution_count": 18,
     "metadata": {},
     "output_type": "execute_result"
    }
   ],
   "source": [
    "states.columns"
   ]
  },
  {
   "cell_type": "code",
   "execution_count": 19,
   "metadata": {
    "slideshow": {
     "slide_type": "fragment"
    }
   },
   "outputs": [
    {
     "data": {
      "text/plain": [
       "array([[38332521,   423967],\n",
       "       [26448193,   695662],\n",
       "       [19651127,   141297],\n",
       "       [19552860,   170312],\n",
       "       [12882135,   149995]], dtype=int64)"
      ]
     },
     "execution_count": 19,
     "metadata": {},
     "output_type": "execute_result"
    }
   ],
   "source": [
    "states.values # 2d-array, soort van matrix"
   ]
  },
  {
   "cell_type": "code",
   "execution_count": 20,
   "metadata": {
    "slideshow": {
     "slide_type": "fragment"
    }
   },
   "outputs": [
    {
     "data": {
      "text/plain": [
       "California    38332521\n",
       "Texas         26448193\n",
       "New York      19651127\n",
       "Florida       19552860\n",
       "Illinois      12882135\n",
       "Name: population, dtype: int64"
      ]
     },
     "execution_count": 20,
     "metadata": {},
     "output_type": "execute_result"
    }
   ],
   "source": [
    "states['population'] # geeft de kolom 'population' terug"
   ]
  },
  {
   "cell_type": "code",
   "execution_count": 21,
   "metadata": {
    "slideshow": {
     "slide_type": "fragment"
    }
   },
   "outputs": [
    {
     "data": {
      "text/plain": [
       "26448193"
      ]
     },
     "execution_count": 21,
     "metadata": {},
     "output_type": "execute_result"
    }
   ],
   "source": [
    "states['population']['Texas'] # geeft de 'population' van 'Texas' terug"
   ]
  },
  {
   "cell_type": "markdown",
   "metadata": {
    "slideshow": {
     "slide_type": "slide"
    }
   },
   "source": [
    "hieronder een aantal verschillende methodes, en functies om informatie over je dataframe te krijgen;\n",
    "- ``df.shape``, (aantalrijen, aantalkolommen);\n",
    "- ``df.head()``, eerste 5 rijen, je kan ook aantal specificeren;\n",
    "- ``df.tail()``, laatste 5 rijen, je kan ook aantal specificeren;\n",
    "- ``df.count``, aantal niet-NAN waarden;\n",
    "- ``df.info()``, informatie;\n",
    "- ``df.sum()``, som van waarden;\n",
    "- ``df.min()/df.max()``, min/max waarden;\n",
    "- ``df.idxmin()/df.idxmax()``, min/max index;\n",
    "- ``df.desribe()``, samenvatting van de statistieken;\n",
    "- ``df.mean()``, ``df.median()``, ``df.std()``, ``df.var()``, ``df.mad()``"
   ]
  },
  {
   "cell_type": "code",
   "execution_count": 22,
   "metadata": {
    "slideshow": {
     "slide_type": "subslide"
    }
   },
   "outputs": [
    {
     "data": {
      "text/plain": [
       "(5, 2)"
      ]
     },
     "execution_count": 22,
     "metadata": {},
     "output_type": "execute_result"
    }
   ],
   "source": [
    "states.shape"
   ]
  },
  {
   "cell_type": "code",
   "execution_count": 23,
   "metadata": {
    "slideshow": {
     "slide_type": "subslide"
    }
   },
   "outputs": [
    {
     "name": "stdout",
     "output_type": "stream",
     "text": [
      "<class 'pandas.core.frame.DataFrame'>\n",
      "Index: 5 entries, California to Illinois\n",
      "Data columns (total 2 columns):\n",
      "population    5 non-null int64\n",
      "area          5 non-null int64\n",
      "dtypes: int64(2)\n",
      "memory usage: 280.0+ bytes\n"
     ]
    }
   ],
   "source": [
    "states.info()"
   ]
  },
  {
   "cell_type": "code",
   "execution_count": 24,
   "metadata": {
    "slideshow": {
     "slide_type": "subslide"
    }
   },
   "outputs": [
    {
     "data": {
      "text/html": [
       "<div>\n",
       "<style scoped>\n",
       "    .dataframe tbody tr th:only-of-type {\n",
       "        vertical-align: middle;\n",
       "    }\n",
       "\n",
       "    .dataframe tbody tr th {\n",
       "        vertical-align: top;\n",
       "    }\n",
       "\n",
       "    .dataframe thead th {\n",
       "        text-align: right;\n",
       "    }\n",
       "</style>\n",
       "<table border=\"1\" class=\"dataframe\">\n",
       "  <thead>\n",
       "    <tr style=\"text-align: right;\">\n",
       "      <th></th>\n",
       "      <th>population</th>\n",
       "      <th>area</th>\n",
       "    </tr>\n",
       "  </thead>\n",
       "  <tbody>\n",
       "    <tr>\n",
       "      <th>count</th>\n",
       "      <td>5.000000e+00</td>\n",
       "      <td>5.000000</td>\n",
       "    </tr>\n",
       "    <tr>\n",
       "      <th>mean</th>\n",
       "      <td>2.337337e+07</td>\n",
       "      <td>316246.600000</td>\n",
       "    </tr>\n",
       "    <tr>\n",
       "      <th>std</th>\n",
       "      <td>9.640386e+06</td>\n",
       "      <td>242437.411951</td>\n",
       "    </tr>\n",
       "    <tr>\n",
       "      <th>min</th>\n",
       "      <td>1.288214e+07</td>\n",
       "      <td>141297.000000</td>\n",
       "    </tr>\n",
       "    <tr>\n",
       "      <th>25%</th>\n",
       "      <td>1.955286e+07</td>\n",
       "      <td>149995.000000</td>\n",
       "    </tr>\n",
       "    <tr>\n",
       "      <th>50%</th>\n",
       "      <td>1.965113e+07</td>\n",
       "      <td>170312.000000</td>\n",
       "    </tr>\n",
       "    <tr>\n",
       "      <th>75%</th>\n",
       "      <td>2.644819e+07</td>\n",
       "      <td>423967.000000</td>\n",
       "    </tr>\n",
       "    <tr>\n",
       "      <th>max</th>\n",
       "      <td>3.833252e+07</td>\n",
       "      <td>695662.000000</td>\n",
       "    </tr>\n",
       "  </tbody>\n",
       "</table>\n",
       "</div>"
      ],
      "text/plain": [
       "         population           area\n",
       "count  5.000000e+00       5.000000\n",
       "mean   2.337337e+07  316246.600000\n",
       "std    9.640386e+06  242437.411951\n",
       "min    1.288214e+07  141297.000000\n",
       "25%    1.955286e+07  149995.000000\n",
       "50%    1.965113e+07  170312.000000\n",
       "75%    2.644819e+07  423967.000000\n",
       "max    3.833252e+07  695662.000000"
      ]
     },
     "execution_count": 24,
     "metadata": {},
     "output_type": "execute_result"
    }
   ],
   "source": [
    "states.describe()"
   ]
  },
  {
   "cell_type": "markdown",
   "metadata": {
    "slideshow": {
     "slide_type": "slide"
    }
   },
   "source": [
    "<a id='gdf'></a>\n",
    "[terug naar index](#index)\n",
    "# geopandas objects\n",
    "\n",
    "\n",
    "## gpd.GeoDataFrame\n",
    "een ```GeoDataFrame``` is een ```DataFrame``` met een geometrie. een ```GeoDataFrame``` heeft een ``GeoSeries`` dit is de kolom \"geometry\", hierin zit de geometrie opgeslagen;"
   ]
  },
  {
   "cell_type": "code",
   "execution_count": 2,
   "metadata": {
    "slideshow": {
     "slide_type": "fragment"
    }
   },
   "outputs": [
    {
     "data": {
      "text/html": [
       "<div>\n",
       "<style scoped>\n",
       "    .dataframe tbody tr th:only-of-type {\n",
       "        vertical-align: middle;\n",
       "    }\n",
       "\n",
       "    .dataframe tbody tr th {\n",
       "        vertical-align: top;\n",
       "    }\n",
       "\n",
       "    .dataframe thead th {\n",
       "        text-align: right;\n",
       "    }\n",
       "</style>\n",
       "<table border=\"1\" class=\"dataframe\">\n",
       "  <thead>\n",
       "    <tr style=\"text-align: right;\">\n",
       "      <th></th>\n",
       "      <th>pop_est</th>\n",
       "      <th>continent</th>\n",
       "      <th>name</th>\n",
       "      <th>iso_a3</th>\n",
       "      <th>gdp_md_est</th>\n",
       "      <th>geometry</th>\n",
       "    </tr>\n",
       "  </thead>\n",
       "  <tbody>\n",
       "    <tr>\n",
       "      <th>0</th>\n",
       "      <td>28400000.0</td>\n",
       "      <td>Asia</td>\n",
       "      <td>Afghanistan</td>\n",
       "      <td>AFG</td>\n",
       "      <td>22270.0</td>\n",
       "      <td>POLYGON ((61.21081709172574 35.65007233330923,...</td>\n",
       "    </tr>\n",
       "    <tr>\n",
       "      <th>1</th>\n",
       "      <td>12799293.0</td>\n",
       "      <td>Africa</td>\n",
       "      <td>Angola</td>\n",
       "      <td>AGO</td>\n",
       "      <td>110300.0</td>\n",
       "      <td>(POLYGON ((16.32652835456705 -5.87747039146621...</td>\n",
       "    </tr>\n",
       "    <tr>\n",
       "      <th>2</th>\n",
       "      <td>3639453.0</td>\n",
       "      <td>Europe</td>\n",
       "      <td>Albania</td>\n",
       "      <td>ALB</td>\n",
       "      <td>21810.0</td>\n",
       "      <td>POLYGON ((20.59024743010491 41.85540416113361,...</td>\n",
       "    </tr>\n",
       "    <tr>\n",
       "      <th>3</th>\n",
       "      <td>4798491.0</td>\n",
       "      <td>Asia</td>\n",
       "      <td>United Arab Emirates</td>\n",
       "      <td>ARE</td>\n",
       "      <td>184300.0</td>\n",
       "      <td>POLYGON ((51.57951867046327 24.24549713795111,...</td>\n",
       "    </tr>\n",
       "    <tr>\n",
       "      <th>4</th>\n",
       "      <td>40913584.0</td>\n",
       "      <td>South America</td>\n",
       "      <td>Argentina</td>\n",
       "      <td>ARG</td>\n",
       "      <td>573900.0</td>\n",
       "      <td>(POLYGON ((-65.50000000000003 -55.199999999999...</td>\n",
       "    </tr>\n",
       "  </tbody>\n",
       "</table>\n",
       "</div>"
      ],
      "text/plain": [
       "      pop_est      continent                  name iso_a3  gdp_md_est  \\\n",
       "0  28400000.0           Asia           Afghanistan    AFG     22270.0   \n",
       "1  12799293.0         Africa                Angola    AGO    110300.0   \n",
       "2   3639453.0         Europe               Albania    ALB     21810.0   \n",
       "3   4798491.0           Asia  United Arab Emirates    ARE    184300.0   \n",
       "4  40913584.0  South America             Argentina    ARG    573900.0   \n",
       "\n",
       "                                            geometry  \n",
       "0  POLYGON ((61.21081709172574 35.65007233330923,...  \n",
       "1  (POLYGON ((16.32652835456705 -5.87747039146621...  \n",
       "2  POLYGON ((20.59024743010491 41.85540416113361,...  \n",
       "3  POLYGON ((51.57951867046327 24.24549713795111,...  \n",
       "4  (POLYGON ((-65.50000000000003 -55.199999999999...  "
      ]
     },
     "execution_count": 2,
     "metadata": {},
     "output_type": "execute_result"
    }
   ],
   "source": [
    "import geopandas as gpd # package importeren, te benaderen met gpd\n",
    "world = gpd.read_file(gpd.datasets.get_path('naturalearth_lowres')) # laden voorbeeld dataset\n",
    "world.head()"
   ]
  },
  {
   "cell_type": "code",
   "execution_count": 4,
   "metadata": {
    "slideshow": {
     "slide_type": "fragment"
    }
   },
   "outputs": [
    {
     "data": {
      "text/plain": [
       "0    POLYGON ((61.21081709172574 35.65007233330923,...\n",
       "1    (POLYGON ((16.32652835456705 -5.87747039146621...\n",
       "2    POLYGON ((20.59024743010491 41.85540416113361,...\n",
       "3    POLYGON ((51.57951867046327 24.24549713795111,...\n",
       "4    (POLYGON ((-65.50000000000003 -55.199999999999...\n",
       "Name: geometry, dtype: object"
      ]
     },
     "execution_count": 4,
     "metadata": {},
     "output_type": "execute_result"
    }
   ],
   "source": [
    "world.geometry.head()"
   ]
  },
  {
   "cell_type": "markdown",
   "metadata": {
    "slideshow": {
     "slide_type": "slide"
    }
   },
   "source": [
    "verschillende functies, methoden, voor ```GeoDataFrames``` boven op die van ```DataFrame```;\n",
    "- je kan verschillende attributes loslaten op deze kolom, ``area``, ``bounds`` (min, max coordinaten), ``total_bounds``, (min, max voor elke as), ``geom_type`` (bijv. Point, MultiPolygon), ``is_valid`` (checkt of de geometry logisch is);\n",
    "- daarnaast zijn er basic methodes, ``distance(other)`` (afstand van elke geometrie tot ``other``), ``centroid``, ``representative_point()``, ``to_crs()`` (aanpassen coordinatenstelsel), ``plot()``;\n",
    "- relationship test, zoals ``geom_almost_equal(other)``, ``contains(other)``, ``intersects(other)``"
   ]
  },
  {
   "cell_type": "code",
   "execution_count": 27,
   "metadata": {
    "slideshow": {
     "slide_type": "fragment"
    }
   },
   "outputs": [
    {
     "data": {
      "text/plain": [
       "0     63.593500\n",
       "1    103.599439\n",
       "2      3.185163\n",
       "3      7.095047\n",
       "4    278.923392\n",
       "dtype: float64"
      ]
     },
     "execution_count": 27,
     "metadata": {},
     "output_type": "execute_result"
    }
   ],
   "source": [
    "world.area.head() # oppervlak van de geometry"
   ]
  },
  {
   "cell_type": "code",
   "execution_count": 29,
   "metadata": {
    "slideshow": {
     "slide_type": "fragment"
    }
   },
   "outputs": [
    {
     "data": {
      "text/plain": [
       "0      0.000000\n",
       "1     53.947407\n",
       "2     40.126758\n",
       "3      6.108543\n",
       "4    127.442954\n",
       "5     14.919345\n",
       "6     95.462384\n",
       "7     78.112639\n",
       "8     69.921475\n",
       "9     45.827825\n",
       "dtype: float64"
      ]
     },
     "execution_count": 29,
     "metadata": {},
     "output_type": "execute_result"
    }
   ],
   "source": [
    "world.distance(world[world.name.isin(['Afghanistan'])].geometry[0]).head(10) # afstand tot Afghanistan\n",
    "# met head(10) laat je alleen eerste 10 rijen zien"
   ]
  },
  {
   "cell_type": "markdown",
   "metadata": {
    "slideshow": {
     "slide_type": "slide"
    }
   },
   "source": [
    "# pandas objects\n",
    "## summary\n",
    "![](https://www.kdnuggets.com/wp-content/uploads/pandas-02.png)"
   ]
  },
  {
   "cell_type": "markdown",
   "metadata": {
    "slideshow": {
     "slide_type": "slide"
    }
   },
   "source": [
    "<a id='io'></a>\n",
    "[terug naar index](#index)\n",
    "# i/o\n",
    "\n",
    "## i (input)\n",
    "je zal meestal niet zelf een ``DataFrame`` of ``Series`` opbouwen, maar een ``DataFrame`` inladen vanuit bijv. een .CSV, .JSON, .XLSX of enig ander bestandsformaat. met ``geopandas`` kan je ook geodata inladen vanuit bijv. .SHP, .GeoJSON. of .gdb. voor verschillende formaten zijn specifieke functies, zoals ``read_csv()``, ``read_excel()`` etc. \n",
    "\n",
    "^ je kan zien welke specifieke inleesfuncties er in ```pandas``` zitten zijn door pd.read< TAB > te gerbuiken;  \n",
    "^ wil je de documentatie van bijv. ``read_csv()`` openen kan je pd.read_csv? gebruiken;\n",
    "\n",
    "```python\n",
    "df = pd.read_csv('data/loadcsvfile.csv', decimal=',', sep=';') # default instelling is Engels dus decimaal is een '.' \n",
    "# en scheidingsteken ',' voor nederlandse files\n",
    "gdf = gpd.read_file('data/loadshpfile.shp') # heeft dezelfde mogelijke settings als read_csv()\n",
    "```\n",
    "\n",
    "als voorbeeld ```pd.read_csv``` heeft tal van andere settings, hieronder een paar settings die ik vaak gebruik: \n",
    "- ``skiprows`` (aantal rijen vanaf het begin van het bestand overslaan);\n",
    "- ``index_col`` (kolomnaam ['index'] of index van kolom [0] om daar index van DataFrame van te maken);\n",
    "- ``parse_dates`` (kolomnaam om te zetten naar datumformat ['date'] of bijv. [['date'],['time']], of index [0]);\n",
    "- ``day_first`` (boolean, True voor Nederlands datumformaat dag-maand-jaar)\n",
    "- ``use_cols`` (kolomnamen die ingelezen moeten worden);  \n",
    "  \n",
    "^ zie ook pd.read_csv?"
   ]
  },
  {
   "cell_type": "markdown",
   "metadata": {
    "slideshow": {
     "slide_type": "fragment"
    }
   },
   "source": [
    "## o (output)\n",
    "```pandas``` kan ook ```DataFrames``` of ```Series``` wegschrijven naar een tal van bestandsformaten (``to_csv()``, ``to_excel()`` etc.). dit zijn methodes op een ```pandas object```, zoals een ```DataFrame```\n",
    "\n",
    "```python\n",
    "df.to_csv('data/writecsvfile.csv') # pandas object df naar csv\n",
    "gdf.to_file('data/writeshpfile.shp', writer='ESRI Shapefile') # default is ESRI Shapefile, andere writers bijv. \n",
    "# GeoJSON, \n",
    "```"
   ]
  },
  {
   "cell_type": "markdown",
   "metadata": {
    "slideshow": {
     "slide_type": "slide"
    }
   },
   "source": [
    "<a id='is'></a>\n",
    "[terug naar index](#index)\n",
    "# indexing & selection\n",
    "indexing & selection is het selecteren van een gedeelte van bijv. je ```DataFrame```. ```pandas``` heeft hiervoor verschillende methodes.\n",
    "\n",
    "## basics\n",
    "zoals je hierboven ook al paar keer gezien kan je selecteren met vergelijkbare methodes als die van een ``dict``,  ``[]``, altijd __eerst__ de __kolom__ selecteren, __daarna__ de __rij__.  \n",
    "daarnaast heb je ook attribute-style toegang met een ``.``, dit is enkel voor het gemak, heeft ook limitaties.  \n",
    "hieronder wat voorbeelden"
   ]
  },
  {
   "cell_type": "code",
   "execution_count": 30,
   "metadata": {
    "slideshow": {
     "slide_type": "fragment"
    }
   },
   "outputs": [
    {
     "data": {
      "text/html": [
       "<div>\n",
       "<style scoped>\n",
       "    .dataframe tbody tr th:only-of-type {\n",
       "        vertical-align: middle;\n",
       "    }\n",
       "\n",
       "    .dataframe tbody tr th {\n",
       "        vertical-align: top;\n",
       "    }\n",
       "\n",
       "    .dataframe thead th {\n",
       "        text-align: right;\n",
       "    }\n",
       "</style>\n",
       "<table border=\"1\" class=\"dataframe\">\n",
       "  <thead>\n",
       "    <tr style=\"text-align: right;\">\n",
       "      <th></th>\n",
       "      <th>population</th>\n",
       "      <th>area</th>\n",
       "    </tr>\n",
       "  </thead>\n",
       "  <tbody>\n",
       "    <tr>\n",
       "      <th>California</th>\n",
       "      <td>38332521</td>\n",
       "      <td>423967</td>\n",
       "    </tr>\n",
       "    <tr>\n",
       "      <th>Texas</th>\n",
       "      <td>26448193</td>\n",
       "      <td>695662</td>\n",
       "    </tr>\n",
       "    <tr>\n",
       "      <th>New York</th>\n",
       "      <td>19651127</td>\n",
       "      <td>141297</td>\n",
       "    </tr>\n",
       "    <tr>\n",
       "      <th>Florida</th>\n",
       "      <td>19552860</td>\n",
       "      <td>170312</td>\n",
       "    </tr>\n",
       "    <tr>\n",
       "      <th>Illinois</th>\n",
       "      <td>12882135</td>\n",
       "      <td>149995</td>\n",
       "    </tr>\n",
       "  </tbody>\n",
       "</table>\n",
       "</div>"
      ],
      "text/plain": [
       "            population    area\n",
       "California    38332521  423967\n",
       "Texas         26448193  695662\n",
       "New York      19651127  141297\n",
       "Florida       19552860  170312\n",
       "Illinois      12882135  149995"
      ]
     },
     "execution_count": 30,
     "metadata": {},
     "output_type": "execute_result"
    }
   ],
   "source": [
    "states"
   ]
  },
  {
   "cell_type": "code",
   "execution_count": 31,
   "metadata": {
    "slideshow": {
     "slide_type": "fragment"
    }
   },
   "outputs": [
    {
     "data": {
      "text/plain": [
       "19651127"
      ]
     },
     "execution_count": 31,
     "metadata": {},
     "output_type": "execute_result"
    }
   ],
   "source": [
    "# bracket-style (indexing)\n",
    "states['population']['New York']"
   ]
  },
  {
   "cell_type": "code",
   "execution_count": 32,
   "metadata": {},
   "outputs": [
    {
     "ename": "KeyError",
     "evalue": "'New York'",
     "output_type": "error",
     "traceback": [
      "\u001b[1;31m---------------------------------------------------------------------------\u001b[0m",
      "\u001b[1;31mKeyError\u001b[0m                                  Traceback (most recent call last)",
      "\u001b[1;32mC:\\ProgramData\\Anaconda3\\lib\\site-packages\\pandas\\core\\indexes\\base.py\u001b[0m in \u001b[0;36mget_loc\u001b[1;34m(self, key, method, tolerance)\u001b[0m\n\u001b[0;32m   3077\u001b[0m             \u001b[1;32mtry\u001b[0m\u001b[1;33m:\u001b[0m\u001b[1;33m\u001b[0m\u001b[1;33m\u001b[0m\u001b[0m\n\u001b[1;32m-> 3078\u001b[1;33m                 \u001b[1;32mreturn\u001b[0m \u001b[0mself\u001b[0m\u001b[1;33m.\u001b[0m\u001b[0m_engine\u001b[0m\u001b[1;33m.\u001b[0m\u001b[0mget_loc\u001b[0m\u001b[1;33m(\u001b[0m\u001b[0mkey\u001b[0m\u001b[1;33m)\u001b[0m\u001b[1;33m\u001b[0m\u001b[1;33m\u001b[0m\u001b[0m\n\u001b[0m\u001b[0;32m   3079\u001b[0m             \u001b[1;32mexcept\u001b[0m \u001b[0mKeyError\u001b[0m\u001b[1;33m:\u001b[0m\u001b[1;33m\u001b[0m\u001b[1;33m\u001b[0m\u001b[0m\n",
      "\u001b[1;32mpandas\\_libs\\index.pyx\u001b[0m in \u001b[0;36mpandas._libs.index.IndexEngine.get_loc\u001b[1;34m()\u001b[0m\n",
      "\u001b[1;32mpandas\\_libs\\index.pyx\u001b[0m in \u001b[0;36mpandas._libs.index.IndexEngine.get_loc\u001b[1;34m()\u001b[0m\n",
      "\u001b[1;32mpandas\\_libs\\hashtable_class_helper.pxi\u001b[0m in \u001b[0;36mpandas._libs.hashtable.PyObjectHashTable.get_item\u001b[1;34m()\u001b[0m\n",
      "\u001b[1;32mpandas\\_libs\\hashtable_class_helper.pxi\u001b[0m in \u001b[0;36mpandas._libs.hashtable.PyObjectHashTable.get_item\u001b[1;34m()\u001b[0m\n",
      "\u001b[1;31mKeyError\u001b[0m: 'New York'",
      "\nDuring handling of the above exception, another exception occurred:\n",
      "\u001b[1;31mKeyError\u001b[0m                                  Traceback (most recent call last)",
      "\u001b[1;32m<ipython-input-32-0713c17beb25>\u001b[0m in \u001b[0;36m<module>\u001b[1;34m\u001b[0m\n\u001b[1;32m----> 1\u001b[1;33m \u001b[0mstates\u001b[0m\u001b[1;33m[\u001b[0m\u001b[1;34m'New York'\u001b[0m\u001b[1;33m]\u001b[0m\u001b[1;33m\u001b[0m\u001b[1;33m\u001b[0m\u001b[0m\n\u001b[0m",
      "\u001b[1;32mC:\\ProgramData\\Anaconda3\\lib\\site-packages\\pandas\\core\\frame.py\u001b[0m in \u001b[0;36m__getitem__\u001b[1;34m(self, key)\u001b[0m\n\u001b[0;32m   2686\u001b[0m             \u001b[1;32mreturn\u001b[0m \u001b[0mself\u001b[0m\u001b[1;33m.\u001b[0m\u001b[0m_getitem_multilevel\u001b[0m\u001b[1;33m(\u001b[0m\u001b[0mkey\u001b[0m\u001b[1;33m)\u001b[0m\u001b[1;33m\u001b[0m\u001b[1;33m\u001b[0m\u001b[0m\n\u001b[0;32m   2687\u001b[0m         \u001b[1;32melse\u001b[0m\u001b[1;33m:\u001b[0m\u001b[1;33m\u001b[0m\u001b[1;33m\u001b[0m\u001b[0m\n\u001b[1;32m-> 2688\u001b[1;33m             \u001b[1;32mreturn\u001b[0m \u001b[0mself\u001b[0m\u001b[1;33m.\u001b[0m\u001b[0m_getitem_column\u001b[0m\u001b[1;33m(\u001b[0m\u001b[0mkey\u001b[0m\u001b[1;33m)\u001b[0m\u001b[1;33m\u001b[0m\u001b[1;33m\u001b[0m\u001b[0m\n\u001b[0m\u001b[0;32m   2689\u001b[0m \u001b[1;33m\u001b[0m\u001b[0m\n\u001b[0;32m   2690\u001b[0m     \u001b[1;32mdef\u001b[0m \u001b[0m_getitem_column\u001b[0m\u001b[1;33m(\u001b[0m\u001b[0mself\u001b[0m\u001b[1;33m,\u001b[0m \u001b[0mkey\u001b[0m\u001b[1;33m)\u001b[0m\u001b[1;33m:\u001b[0m\u001b[1;33m\u001b[0m\u001b[1;33m\u001b[0m\u001b[0m\n",
      "\u001b[1;32mC:\\ProgramData\\Anaconda3\\lib\\site-packages\\pandas\\core\\frame.py\u001b[0m in \u001b[0;36m_getitem_column\u001b[1;34m(self, key)\u001b[0m\n\u001b[0;32m   2693\u001b[0m         \u001b[1;31m# get column\u001b[0m\u001b[1;33m\u001b[0m\u001b[1;33m\u001b[0m\u001b[1;33m\u001b[0m\u001b[0m\n\u001b[0;32m   2694\u001b[0m         \u001b[1;32mif\u001b[0m \u001b[0mself\u001b[0m\u001b[1;33m.\u001b[0m\u001b[0mcolumns\u001b[0m\u001b[1;33m.\u001b[0m\u001b[0mis_unique\u001b[0m\u001b[1;33m:\u001b[0m\u001b[1;33m\u001b[0m\u001b[1;33m\u001b[0m\u001b[0m\n\u001b[1;32m-> 2695\u001b[1;33m             \u001b[1;32mreturn\u001b[0m \u001b[0mself\u001b[0m\u001b[1;33m.\u001b[0m\u001b[0m_get_item_cache\u001b[0m\u001b[1;33m(\u001b[0m\u001b[0mkey\u001b[0m\u001b[1;33m)\u001b[0m\u001b[1;33m\u001b[0m\u001b[1;33m\u001b[0m\u001b[0m\n\u001b[0m\u001b[0;32m   2696\u001b[0m \u001b[1;33m\u001b[0m\u001b[0m\n\u001b[0;32m   2697\u001b[0m         \u001b[1;31m# duplicate columns & possible reduce dimensionality\u001b[0m\u001b[1;33m\u001b[0m\u001b[1;33m\u001b[0m\u001b[1;33m\u001b[0m\u001b[0m\n",
      "\u001b[1;32mC:\\ProgramData\\Anaconda3\\lib\\site-packages\\pandas\\core\\generic.py\u001b[0m in \u001b[0;36m_get_item_cache\u001b[1;34m(self, item)\u001b[0m\n\u001b[0;32m   2487\u001b[0m         \u001b[0mres\u001b[0m \u001b[1;33m=\u001b[0m \u001b[0mcache\u001b[0m\u001b[1;33m.\u001b[0m\u001b[0mget\u001b[0m\u001b[1;33m(\u001b[0m\u001b[0mitem\u001b[0m\u001b[1;33m)\u001b[0m\u001b[1;33m\u001b[0m\u001b[1;33m\u001b[0m\u001b[0m\n\u001b[0;32m   2488\u001b[0m         \u001b[1;32mif\u001b[0m \u001b[0mres\u001b[0m \u001b[1;32mis\u001b[0m \u001b[1;32mNone\u001b[0m\u001b[1;33m:\u001b[0m\u001b[1;33m\u001b[0m\u001b[1;33m\u001b[0m\u001b[0m\n\u001b[1;32m-> 2489\u001b[1;33m             \u001b[0mvalues\u001b[0m \u001b[1;33m=\u001b[0m \u001b[0mself\u001b[0m\u001b[1;33m.\u001b[0m\u001b[0m_data\u001b[0m\u001b[1;33m.\u001b[0m\u001b[0mget\u001b[0m\u001b[1;33m(\u001b[0m\u001b[0mitem\u001b[0m\u001b[1;33m)\u001b[0m\u001b[1;33m\u001b[0m\u001b[1;33m\u001b[0m\u001b[0m\n\u001b[0m\u001b[0;32m   2490\u001b[0m             \u001b[0mres\u001b[0m \u001b[1;33m=\u001b[0m \u001b[0mself\u001b[0m\u001b[1;33m.\u001b[0m\u001b[0m_box_item_values\u001b[0m\u001b[1;33m(\u001b[0m\u001b[0mitem\u001b[0m\u001b[1;33m,\u001b[0m \u001b[0mvalues\u001b[0m\u001b[1;33m)\u001b[0m\u001b[1;33m\u001b[0m\u001b[1;33m\u001b[0m\u001b[0m\n\u001b[0;32m   2491\u001b[0m             \u001b[0mcache\u001b[0m\u001b[1;33m[\u001b[0m\u001b[0mitem\u001b[0m\u001b[1;33m]\u001b[0m \u001b[1;33m=\u001b[0m \u001b[0mres\u001b[0m\u001b[1;33m\u001b[0m\u001b[1;33m\u001b[0m\u001b[0m\n",
      "\u001b[1;32mC:\\ProgramData\\Anaconda3\\lib\\site-packages\\pandas\\core\\internals.py\u001b[0m in \u001b[0;36mget\u001b[1;34m(self, item, fastpath)\u001b[0m\n\u001b[0;32m   4113\u001b[0m \u001b[1;33m\u001b[0m\u001b[0m\n\u001b[0;32m   4114\u001b[0m             \u001b[1;32mif\u001b[0m \u001b[1;32mnot\u001b[0m \u001b[0misna\u001b[0m\u001b[1;33m(\u001b[0m\u001b[0mitem\u001b[0m\u001b[1;33m)\u001b[0m\u001b[1;33m:\u001b[0m\u001b[1;33m\u001b[0m\u001b[1;33m\u001b[0m\u001b[0m\n\u001b[1;32m-> 4115\u001b[1;33m                 \u001b[0mloc\u001b[0m \u001b[1;33m=\u001b[0m \u001b[0mself\u001b[0m\u001b[1;33m.\u001b[0m\u001b[0mitems\u001b[0m\u001b[1;33m.\u001b[0m\u001b[0mget_loc\u001b[0m\u001b[1;33m(\u001b[0m\u001b[0mitem\u001b[0m\u001b[1;33m)\u001b[0m\u001b[1;33m\u001b[0m\u001b[1;33m\u001b[0m\u001b[0m\n\u001b[0m\u001b[0;32m   4116\u001b[0m             \u001b[1;32melse\u001b[0m\u001b[1;33m:\u001b[0m\u001b[1;33m\u001b[0m\u001b[1;33m\u001b[0m\u001b[0m\n\u001b[0;32m   4117\u001b[0m                 \u001b[0mindexer\u001b[0m \u001b[1;33m=\u001b[0m \u001b[0mnp\u001b[0m\u001b[1;33m.\u001b[0m\u001b[0marange\u001b[0m\u001b[1;33m(\u001b[0m\u001b[0mlen\u001b[0m\u001b[1;33m(\u001b[0m\u001b[0mself\u001b[0m\u001b[1;33m.\u001b[0m\u001b[0mitems\u001b[0m\u001b[1;33m)\u001b[0m\u001b[1;33m)\u001b[0m\u001b[1;33m[\u001b[0m\u001b[0misna\u001b[0m\u001b[1;33m(\u001b[0m\u001b[0mself\u001b[0m\u001b[1;33m.\u001b[0m\u001b[0mitems\u001b[0m\u001b[1;33m)\u001b[0m\u001b[1;33m]\u001b[0m\u001b[1;33m\u001b[0m\u001b[1;33m\u001b[0m\u001b[0m\n",
      "\u001b[1;32mC:\\ProgramData\\Anaconda3\\lib\\site-packages\\pandas\\core\\indexes\\base.py\u001b[0m in \u001b[0;36mget_loc\u001b[1;34m(self, key, method, tolerance)\u001b[0m\n\u001b[0;32m   3078\u001b[0m                 \u001b[1;32mreturn\u001b[0m \u001b[0mself\u001b[0m\u001b[1;33m.\u001b[0m\u001b[0m_engine\u001b[0m\u001b[1;33m.\u001b[0m\u001b[0mget_loc\u001b[0m\u001b[1;33m(\u001b[0m\u001b[0mkey\u001b[0m\u001b[1;33m)\u001b[0m\u001b[1;33m\u001b[0m\u001b[1;33m\u001b[0m\u001b[0m\n\u001b[0;32m   3079\u001b[0m             \u001b[1;32mexcept\u001b[0m \u001b[0mKeyError\u001b[0m\u001b[1;33m:\u001b[0m\u001b[1;33m\u001b[0m\u001b[1;33m\u001b[0m\u001b[0m\n\u001b[1;32m-> 3080\u001b[1;33m                 \u001b[1;32mreturn\u001b[0m \u001b[0mself\u001b[0m\u001b[1;33m.\u001b[0m\u001b[0m_engine\u001b[0m\u001b[1;33m.\u001b[0m\u001b[0mget_loc\u001b[0m\u001b[1;33m(\u001b[0m\u001b[0mself\u001b[0m\u001b[1;33m.\u001b[0m\u001b[0m_maybe_cast_indexer\u001b[0m\u001b[1;33m(\u001b[0m\u001b[0mkey\u001b[0m\u001b[1;33m)\u001b[0m\u001b[1;33m)\u001b[0m\u001b[1;33m\u001b[0m\u001b[1;33m\u001b[0m\u001b[0m\n\u001b[0m\u001b[0;32m   3081\u001b[0m \u001b[1;33m\u001b[0m\u001b[0m\n\u001b[0;32m   3082\u001b[0m         \u001b[0mindexer\u001b[0m \u001b[1;33m=\u001b[0m \u001b[0mself\u001b[0m\u001b[1;33m.\u001b[0m\u001b[0mget_indexer\u001b[0m\u001b[1;33m(\u001b[0m\u001b[1;33m[\u001b[0m\u001b[0mkey\u001b[0m\u001b[1;33m]\u001b[0m\u001b[1;33m,\u001b[0m \u001b[0mmethod\u001b[0m\u001b[1;33m=\u001b[0m\u001b[0mmethod\u001b[0m\u001b[1;33m,\u001b[0m \u001b[0mtolerance\u001b[0m\u001b[1;33m=\u001b[0m\u001b[0mtolerance\u001b[0m\u001b[1;33m)\u001b[0m\u001b[1;33m\u001b[0m\u001b[1;33m\u001b[0m\u001b[0m\n",
      "\u001b[1;32mpandas\\_libs\\index.pyx\u001b[0m in \u001b[0;36mpandas._libs.index.IndexEngine.get_loc\u001b[1;34m()\u001b[0m\n",
      "\u001b[1;32mpandas\\_libs\\index.pyx\u001b[0m in \u001b[0;36mpandas._libs.index.IndexEngine.get_loc\u001b[1;34m()\u001b[0m\n",
      "\u001b[1;32mpandas\\_libs\\hashtable_class_helper.pxi\u001b[0m in \u001b[0;36mpandas._libs.hashtable.PyObjectHashTable.get_item\u001b[1;34m()\u001b[0m\n",
      "\u001b[1;32mpandas\\_libs\\hashtable_class_helper.pxi\u001b[0m in \u001b[0;36mpandas._libs.hashtable.PyObjectHashTable.get_item\u001b[1;34m()\u001b[0m\n",
      "\u001b[1;31mKeyError\u001b[0m: 'New York'"
     ]
    }
   ],
   "source": [
    "states['New York'] # altijd eerst kolom"
   ]
  },
  {
   "cell_type": "code",
   "execution_count": 33,
   "metadata": {
    "slideshow": {
     "slide_type": "fragment"
    }
   },
   "outputs": [
    {
     "data": {
      "text/plain": [
       "12882135"
      ]
     },
     "execution_count": 33,
     "metadata": {},
     "output_type": "execute_result"
    }
   ],
   "source": [
    "# dot-style (attribute access)\n",
    "states.population.Illinois "
   ]
  },
  {
   "cell_type": "code",
   "execution_count": 16,
   "metadata": {},
   "outputs": [
    {
     "ename": "SyntaxError",
     "evalue": "invalid syntax (<ipython-input-16-a1ccdd95bc07>, line 1)",
     "output_type": "error",
     "traceback": [
      "\u001b[1;36m  File \u001b[1;32m\"<ipython-input-16-a1ccdd95bc07>\"\u001b[1;36m, line \u001b[1;32m1\u001b[0m\n\u001b[1;33m    states.population.New York # dot-style werkt niet met spaties\u001b[0m\n\u001b[1;37m                             ^\u001b[0m\n\u001b[1;31mSyntaxError\u001b[0m\u001b[1;31m:\u001b[0m invalid syntax\n"
     ]
    }
   ],
   "source": [
    "states.population.New York # dot-style werkt niet met spaties"
   ]
  },
  {
   "cell_type": "markdown",
   "metadata": {
    "slideshow": {
     "slide_type": "fragment"
    }
   },
   "source": [
    "naast bovenstande selectiemethode (die eigenlijk voor het gemak zijn) heb je selectie bij positie x, y ``.iloc[]`` of bij label 'rijnaam', 'kolomnaam' ``.loc[]`` (deze twee methode bij voorkeur gebruiken, robuuster). pas op bij deze selectiemethode is de __volgorde rij, kolom__ ```iloc[rijindex, kolomindex]```, ```loc[rijnaam, kolomnaam]```, dus precies andersom in vergelijking tot hierboven. je kan ze ook ```loc``` en ```iloc``` combineren!"
   ]
  },
  {
   "cell_type": "code",
   "execution_count": 35,
   "metadata": {},
   "outputs": [
    {
     "data": {
      "text/html": [
       "<div>\n",
       "<style scoped>\n",
       "    .dataframe tbody tr th:only-of-type {\n",
       "        vertical-align: middle;\n",
       "    }\n",
       "\n",
       "    .dataframe tbody tr th {\n",
       "        vertical-align: top;\n",
       "    }\n",
       "\n",
       "    .dataframe thead th {\n",
       "        text-align: right;\n",
       "    }\n",
       "</style>\n",
       "<table border=\"1\" class=\"dataframe\">\n",
       "  <thead>\n",
       "    <tr style=\"text-align: right;\">\n",
       "      <th></th>\n",
       "      <th>population</th>\n",
       "      <th>area</th>\n",
       "    </tr>\n",
       "  </thead>\n",
       "  <tbody>\n",
       "    <tr>\n",
       "      <th>California</th>\n",
       "      <td>38332521</td>\n",
       "      <td>423967</td>\n",
       "    </tr>\n",
       "    <tr>\n",
       "      <th>Texas</th>\n",
       "      <td>26448193</td>\n",
       "      <td>695662</td>\n",
       "    </tr>\n",
       "    <tr>\n",
       "      <th>New York</th>\n",
       "      <td>19651127</td>\n",
       "      <td>141297</td>\n",
       "    </tr>\n",
       "    <tr>\n",
       "      <th>Florida</th>\n",
       "      <td>19552860</td>\n",
       "      <td>170312</td>\n",
       "    </tr>\n",
       "    <tr>\n",
       "      <th>Illinois</th>\n",
       "      <td>12882135</td>\n",
       "      <td>149995</td>\n",
       "    </tr>\n",
       "  </tbody>\n",
       "</table>\n",
       "</div>"
      ],
      "text/plain": [
       "            population    area\n",
       "California    38332521  423967\n",
       "Texas         26448193  695662\n",
       "New York      19651127  141297\n",
       "Florida       19552860  170312\n",
       "Illinois      12882135  149995"
      ]
     },
     "execution_count": 35,
     "metadata": {},
     "output_type": "execute_result"
    }
   ],
   "source": [
    "states"
   ]
  },
  {
   "cell_type": "code",
   "execution_count": 36,
   "metadata": {
    "slideshow": {
     "slide_type": "fragment"
    }
   },
   "outputs": [
    {
     "data": {
      "text/plain": [
       "19651127"
      ]
     },
     "execution_count": 36,
     "metadata": {},
     "output_type": "execute_result"
    }
   ],
   "source": [
    "states.iloc[2,0] # population van New York, index begint altijd met 0!"
   ]
  },
  {
   "cell_type": "code",
   "execution_count": 37,
   "metadata": {
    "slideshow": {
     "slide_type": "fragment"
    }
   },
   "outputs": [
    {
     "data": {
      "text/plain": [
       "19651127"
      ]
     },
     "execution_count": 37,
     "metadata": {},
     "output_type": "execute_result"
    }
   ],
   "source": [
    "states.loc['New York', 'population']"
   ]
  },
  {
   "cell_type": "code",
   "execution_count": 38,
   "metadata": {},
   "outputs": [
    {
     "data": {
      "text/plain": [
       "California    38332521\n",
       "Texas         26448193\n",
       "New York      19651127\n",
       "Florida       19552860\n",
       "Illinois      12882135\n",
       "Name: population, dtype: int64"
      ]
     },
     "execution_count": 38,
     "metadata": {},
     "output_type": "execute_result"
    }
   ],
   "source": [
    "states.loc[:, 'population'] # alle rijen van population kolom"
   ]
  },
  {
   "cell_type": "code",
   "execution_count": 39,
   "metadata": {
    "slideshow": {
     "slide_type": "fragment"
    }
   },
   "outputs": [
    {
     "data": {
      "text/plain": [
       "19651127"
      ]
     },
     "execution_count": 39,
     "metadata": {},
     "output_type": "execute_result"
    }
   ],
   "source": [
    "states.loc['New York'].iloc[0] # combineren, altijd rij eerst!"
   ]
  },
  {
   "cell_type": "markdown",
   "metadata": {
    "slideshow": {
     "slide_type": "slide"
    }
   },
   "source": [
    "# indexing & selection\n",
    "\n",
    "## slicing\n",
    "```slicing``` het selecteren van meerdere rijen, kolommen. ook in ```pandas``` kan je ```slicing``` gebruiken, werkt vergelijkbaar met slicing van ```lists```, kan voor zowel ```iloc``` als ```loc```"
   ]
  },
  {
   "cell_type": "code",
   "execution_count": null,
   "metadata": {
    "slideshow": {
     "slide_type": "fragment"
    }
   },
   "outputs": [],
   "source": [
    "states.iloc[1:] # alles vanaf 1e element"
   ]
  },
  {
   "cell_type": "code",
   "execution_count": null,
   "metadata": {
    "slideshow": {
     "slide_type": "fragment"
    }
   },
   "outputs": [],
   "source": [
    "states.iloc[:1] # alles tot 1e element"
   ]
  },
  {
   "cell_type": "code",
   "execution_count": null,
   "metadata": {
    "slideshow": {
     "slide_type": "fragment"
    }
   },
   "outputs": [],
   "source": [
    "states.iloc[:-1] # alles tot een na laatste element"
   ]
  },
  {
   "cell_type": "code",
   "execution_count": null,
   "metadata": {},
   "outputs": [],
   "source": [
    "states.loc['Texas':] # alles vanaf 'Texas'"
   ]
  },
  {
   "cell_type": "markdown",
   "metadata": {
    "slideshow": {
     "slide_type": "slide"
    }
   },
   "source": [
    "# indexing & selection\n",
    "## boolean indexing/masking\n",
    "met ```boolean indexing``` ofwel ```masking``` kan logica gebruiken in je selectie (<, >, <=, >=, ==, !=), dus een deel van de ```DataFrame``` selecteren met een regel  \n",
    "er zijn verschillende operators die je kan gebruiken in je query, subquery tussen ();\n",
    "- ``|`` -> or;\n",
    "- ``&`` -> and;\n",
    "- ``~`` -> not  "
   ]
  },
  {
   "cell_type": "code",
   "execution_count": null,
   "metadata": {
    "slideshow": {
     "slide_type": "fragment"
    }
   },
   "outputs": [],
   "source": [
    "states[states.population > 20000000]"
   ]
  },
  {
   "cell_type": "code",
   "execution_count": null,
   "metadata": {
    "slideshow": {
     "slide_type": "fragment"
    }
   },
   "outputs": [],
   "source": [
    "states[(states.area <= 500000) | (states.population <= 15000000)]"
   ]
  },
  {
   "cell_type": "code",
   "execution_count": null,
   "metadata": {
    "slideshow": {
     "slide_type": "fragment"
    }
   },
   "outputs": [],
   "source": [
    "states[~(states.population > 20000000)]"
   ]
  },
  {
   "cell_type": "markdown",
   "metadata": {},
   "source": [
    "<a id='ex1'></a>\n",
    "[terug naar index](#index)\n",
    "# exercise 1\n",
    "\n",
    "Het bestand ``data/annual_precip.csv`` bevat de gemiddelde jaarlijkse neerslag voor alle landen in de wereld (alhoewel er wel wat waarden missen), de data komt van de website van de world bank. Open het databestand om te zien hoe het eruit ziet (dit kan in de files tab van Jupyter). Laad de data in met ``read_csv`` van ``pandas``, zorg ervoor dat de namen van de landen gebruikt kunnen worden om de rij te selecteren."
   ]
  },
  {
   "cell_type": "markdown",
   "metadata": {},
   "source": [
    "Selecteer de jaarlijkse gemiddelde neerslag jaarsom in Nederland ('Netherlands').\n",
    "\n",
    "^ 778 mm"
   ]
  },
  {
   "cell_type": "code",
   "execution_count": null,
   "metadata": {},
   "outputs": [],
   "source": []
  },
  {
   "cell_type": "markdown",
   "metadata": {},
   "source": [
    "Wat is het laatste land in het DataFrame? Gebruik ``iloc``.\n",
    "\n",
    "^ Zimbabwe"
   ]
  },
  {
   "cell_type": "code",
   "execution_count": null,
   "metadata": {},
   "outputs": [],
   "source": []
  },
  {
   "cell_type": "markdown",
   "metadata": {},
   "source": [
    "Wat is de gemiddelde gemiddelde neerslag jaarsom voor de hele wereld? En wat het maximum?\n",
    "\n",
    "^ gemiddelde, ~1160 mm  \n",
    "^ maximum, 3200 mm"
   ]
  },
  {
   "cell_type": "code",
   "execution_count": null,
   "metadata": {},
   "outputs": [],
   "source": []
  },
  {
   "cell_type": "markdown",
   "metadata": {},
   "source": [
    "Selecteer alle landen waar de gemiddelde neerslag jaarsom meer is dan 3000 mm/jaar.\n",
    "\n",
    "^ Papua New Guinea, Sao Tome and Principe, Solomon Islands"
   ]
  },
  {
   "cell_type": "code",
   "execution_count": null,
   "metadata": {},
   "outputs": [],
   "source": []
  },
  {
   "cell_type": "markdown",
   "metadata": {},
   "source": [
    "Selecteer alle landen met een gemiddelde neerslag jaarsom tussen de 250 en 300 mm.\n",
    "\n",
    "^ Kazakhstan, Mali, Namibia, Somalia, Syrian Arab Republic"
   ]
  },
  {
   "cell_type": "code",
   "execution_count": null,
   "metadata": {},
   "outputs": [],
   "source": []
  },
  {
   "cell_type": "markdown",
   "metadata": {},
   "source": [
    "Selecteer alle landen waar de neerslag jaarsom niet meer dan absoluut (``abs()``) 25 mm afwijkt van die van Nederland.\n",
    "\n",
    "^ Lesotho, Swaziland"
   ]
  },
  {
   "cell_type": "code",
   "execution_count": null,
   "metadata": {},
   "outputs": [],
   "source": []
  },
  {
   "cell_type": "markdown",
   "metadata": {},
   "source": [
    "![](https://media.giphy.com/media/3o7btNa0RUYa5E7iiQ/giphy.gif)"
   ]
  },
  {
   "cell_type": "markdown",
   "metadata": {
    "slideshow": {
     "slide_type": "slide"
    }
   },
   "source": [
    "[terug naar index](#index)\n",
    "# indexing & selection\n",
    "## setting/assignment\n",
    "```assigment``` het aanpassen of toevoegen van ```value(s)```, ```assignment``` van specifieke records in ```pandas``` kan je doen met ```indexing```&```selection```. verder kan je rijen, kolommen, toevoegen en aanpassen van rijen, kolommen, waarden."
   ]
  },
  {
   "cell_type": "code",
   "execution_count": null,
   "metadata": {
    "slideshow": {
     "slide_type": "fragment"
    }
   },
   "outputs": [],
   "source": [
    "states['population']['California'] = 39217391 # waarde aanpassen met slice, voorkeur heeft loc of iloc\n",
    "states"
   ]
  },
  {
   "cell_type": "code",
   "execution_count": null,
   "metadata": {
    "slideshow": {
     "slide_type": "fragment"
    }
   },
   "outputs": [],
   "source": [
    "states.loc['California', 'population'] = 40119326 # gebruik, loc of iloc!\n",
    "states"
   ]
  },
  {
   "cell_type": "code",
   "execution_count": null,
   "metadata": {
    "slideshow": {
     "slide_type": "fragment"
    }
   },
   "outputs": [],
   "source": [
    "states['density'] = states['population'] / states['area'] # nieuwe kolom aanmaken\n",
    "states"
   ]
  },
  {
   "cell_type": "code",
   "execution_count": null,
   "metadata": {
    "slideshow": {
     "slide_type": "fragment"
    }
   },
   "outputs": [],
   "source": [
    "states['density'] = states['density']/100 # alle operators met values kan je gebruiken om je values aan te passen\n",
    "states"
   ]
  },
  {
   "cell_type": "markdown",
   "metadata": {
    "slideshow": {
     "slide_type": "fragment"
    }
   },
   "source": [
    "[terug naar index](#index)\n",
    "<a id='drop'></a>\n",
    "# dropping\n",
    "```dropping``` is het verwijderen van kolommen of rijen, in ```pandas``` gebruik je daarvoor ```drop```"
   ]
  },
  {
   "cell_type": "code",
   "execution_count": 40,
   "metadata": {
    "slideshow": {
     "slide_type": "fragment"
    }
   },
   "outputs": [
    {
     "data": {
      "text/html": [
       "<div>\n",
       "<style scoped>\n",
       "    .dataframe tbody tr th:only-of-type {\n",
       "        vertical-align: middle;\n",
       "    }\n",
       "\n",
       "    .dataframe tbody tr th {\n",
       "        vertical-align: top;\n",
       "    }\n",
       "\n",
       "    .dataframe thead th {\n",
       "        text-align: right;\n",
       "    }\n",
       "</style>\n",
       "<table border=\"1\" class=\"dataframe\">\n",
       "  <thead>\n",
       "    <tr style=\"text-align: right;\">\n",
       "      <th></th>\n",
       "      <th>population</th>\n",
       "      <th>area</th>\n",
       "    </tr>\n",
       "  </thead>\n",
       "  <tbody>\n",
       "    <tr>\n",
       "      <th>Texas</th>\n",
       "      <td>26448193</td>\n",
       "      <td>695662</td>\n",
       "    </tr>\n",
       "    <tr>\n",
       "      <th>New York</th>\n",
       "      <td>19651127</td>\n",
       "      <td>141297</td>\n",
       "    </tr>\n",
       "    <tr>\n",
       "      <th>Florida</th>\n",
       "      <td>19552860</td>\n",
       "      <td>170312</td>\n",
       "    </tr>\n",
       "    <tr>\n",
       "      <th>Illinois</th>\n",
       "      <td>12882135</td>\n",
       "      <td>149995</td>\n",
       "    </tr>\n",
       "  </tbody>\n",
       "</table>\n",
       "</div>"
      ],
      "text/plain": [
       "          population    area\n",
       "Texas       26448193  695662\n",
       "New York    19651127  141297\n",
       "Florida     19552860  170312\n",
       "Illinois    12882135  149995"
      ]
     },
     "execution_count": 40,
     "metadata": {},
     "output_type": "execute_result"
    }
   ],
   "source": [
    "states.drop('California') # default as waarover je dropt is rijen (axis=0)\n",
    "states.drop(index='California') # alternatief"
   ]
  },
  {
   "cell_type": "code",
   "execution_count": 41,
   "metadata": {
    "slideshow": {
     "slide_type": "fragment"
    }
   },
   "outputs": [
    {
     "data": {
      "text/html": [
       "<div>\n",
       "<style scoped>\n",
       "    .dataframe tbody tr th:only-of-type {\n",
       "        vertical-align: middle;\n",
       "    }\n",
       "\n",
       "    .dataframe tbody tr th {\n",
       "        vertical-align: top;\n",
       "    }\n",
       "\n",
       "    .dataframe thead th {\n",
       "        text-align: right;\n",
       "    }\n",
       "</style>\n",
       "<table border=\"1\" class=\"dataframe\">\n",
       "  <thead>\n",
       "    <tr style=\"text-align: right;\">\n",
       "      <th></th>\n",
       "      <th>area</th>\n",
       "    </tr>\n",
       "  </thead>\n",
       "  <tbody>\n",
       "    <tr>\n",
       "      <th>California</th>\n",
       "      <td>423967</td>\n",
       "    </tr>\n",
       "    <tr>\n",
       "      <th>Texas</th>\n",
       "      <td>695662</td>\n",
       "    </tr>\n",
       "    <tr>\n",
       "      <th>New York</th>\n",
       "      <td>141297</td>\n",
       "    </tr>\n",
       "    <tr>\n",
       "      <th>Florida</th>\n",
       "      <td>170312</td>\n",
       "    </tr>\n",
       "    <tr>\n",
       "      <th>Illinois</th>\n",
       "      <td>149995</td>\n",
       "    </tr>\n",
       "  </tbody>\n",
       "</table>\n",
       "</div>"
      ],
      "text/plain": [
       "              area\n",
       "California  423967\n",
       "Texas       695662\n",
       "New York    141297\n",
       "Florida     170312\n",
       "Illinois    149995"
      ]
     },
     "execution_count": 41,
     "metadata": {},
     "output_type": "execute_result"
    }
   ],
   "source": [
    "states.drop('population', axis=1) # als je een kolom wil droppen zet axis=1\n",
    "states.drop(columns='population') # alternatief op axis = 1"
   ]
  },
  {
   "cell_type": "markdown",
   "metadata": {
    "slideshow": {
     "slide_type": "slide"
    }
   },
   "source": [
    "<a id='nan'></a>\n",
    "[terug naar index](#index)\n",
    "# missende data (none/nan)\n",
    "er zijn verschillende methodes in ```pandas``` ingebouwd om missende data te vinden, verwijderen en vervangen. je past deze toe op het ```pandas object```, zie hieronder wat van de methoden:\n",
    "- ``isnull()``, boolean mask voor missende waarden, dus NAN -> True, geen NAN -> False;\n",
    "- ``notnull()``, tegenovergestelde van ``isnull()``;\n",
    "- ``dropna()``, gefilterde versie zonder NANs;\n",
    "- ``fillna()``, kopie met NANs gevuld;"
   ]
  },
  {
   "cell_type": "code",
   "execution_count": null,
   "metadata": {
    "slideshow": {
     "slide_type": "fragment"
    }
   },
   "outputs": [],
   "source": [
    "states.iloc[0,0] = float('nan')\n",
    "states"
   ]
  },
  {
   "cell_type": "code",
   "execution_count": null,
   "metadata": {
    "slideshow": {
     "slide_type": "fragment"
    }
   },
   "outputs": [],
   "source": [
    "states.isnull()"
   ]
  },
  {
   "cell_type": "code",
   "execution_count": null,
   "metadata": {
    "slideshow": {
     "slide_type": "fragment"
    }
   },
   "outputs": [],
   "source": [
    "states[states.isnull().values]"
   ]
  },
  {
   "cell_type": "code",
   "execution_count": null,
   "metadata": {
    "slideshow": {
     "slide_type": "fragment"
    }
   },
   "outputs": [],
   "source": [
    "states.dropna() # dropt default hele rij"
   ]
  },
  {
   "cell_type": "code",
   "execution_count": null,
   "metadata": {
    "slideshow": {
     "slide_type": "fragment"
    }
   },
   "outputs": [],
   "source": [
    "states.dropna(axis=1) # axis=1 dropt kolom"
   ]
  },
  {
   "cell_type": "code",
   "execution_count": null,
   "metadata": {
    "slideshow": {
     "slide_type": "fragment"
    }
   },
   "outputs": [],
   "source": [
    "states.dropna(subset=['area']) # drop alleen als er nans in de kolom 'area' zitten"
   ]
  },
  {
   "cell_type": "code",
   "execution_count": null,
   "metadata": {
    "slideshow": {
     "slide_type": "fragment"
    }
   },
   "outputs": [],
   "source": [
    "states.fillna(value=-999) # vervang alle nans met -999"
   ]
  },
  {
   "cell_type": "code",
   "execution_count": null,
   "metadata": {
    "slideshow": {
     "slide_type": "fragment"
    }
   },
   "outputs": [],
   "source": [
    "states.fillna(method='bfill') # heeft ook verschillende methodes, ffill (forward fill), bfill (backward fill)"
   ]
  },
  {
   "cell_type": "markdown",
   "metadata": {},
   "source": [
    "<a id='ex2'></a>\n",
    "[terug naar index](#index)\n",
    "# exercise 2\n",
    "Vind de eerste 5 landen met NAN-waardes voor neerslag.\n",
    "\n",
    "^ Algeria, American Samoa, Andorra, Angola, Antigua and Barbuda"
   ]
  },
  {
   "cell_type": "code",
   "execution_count": null,
   "metadata": {},
   "outputs": [],
   "source": []
  },
  {
   "cell_type": "markdown",
   "metadata": {},
   "source": [
    "Vul de landen met NAN-waardes voor neerslag op met de gemiddelde neerslag. Wat is nu de gemiddelde neerslag voor Andorra en voor Virgin Islands (U.S.)?\n",
    "\n",
    "^ ~1160 mm"
   ]
  },
  {
   "cell_type": "code",
   "execution_count": null,
   "metadata": {},
   "outputs": [],
   "source": []
  },
  {
   "cell_type": "markdown",
   "metadata": {},
   "source": [
    "<a id='sort'></a>\n",
    "[terug naar index](#index)\n",
    "# sorteren\n",
    "in ```pandas``` kan je sorteren met ``.sort_values()``, hieronder enkele keywords van ```sort_values```:\n",
    "- keyword ``inplace=True``, kan je gebruiken om je bestaande ```DataFrame``` te vervangen met de gesorteerde;\n",
    "- keyword ``by``, kan je gebruiken om de kolom waarop gesorteerd dient te worden te selecteren;\n",
    "- keyword ``ascending=True`` is default, als je oplopend wil sorteren gebruik ```False``` "
   ]
  },
  {
   "cell_type": "code",
   "execution_count": 42,
   "metadata": {},
   "outputs": [
    {
     "data": {
      "text/html": [
       "<div>\n",
       "<style scoped>\n",
       "    .dataframe tbody tr th:only-of-type {\n",
       "        vertical-align: middle;\n",
       "    }\n",
       "\n",
       "    .dataframe tbody tr th {\n",
       "        vertical-align: top;\n",
       "    }\n",
       "\n",
       "    .dataframe thead th {\n",
       "        text-align: right;\n",
       "    }\n",
       "</style>\n",
       "<table border=\"1\" class=\"dataframe\">\n",
       "  <thead>\n",
       "    <tr style=\"text-align: right;\">\n",
       "      <th></th>\n",
       "      <th>population</th>\n",
       "      <th>area</th>\n",
       "    </tr>\n",
       "  </thead>\n",
       "  <tbody>\n",
       "    <tr>\n",
       "      <th>Illinois</th>\n",
       "      <td>12882135</td>\n",
       "      <td>149995</td>\n",
       "    </tr>\n",
       "    <tr>\n",
       "      <th>Florida</th>\n",
       "      <td>19552860</td>\n",
       "      <td>170312</td>\n",
       "    </tr>\n",
       "    <tr>\n",
       "      <th>New York</th>\n",
       "      <td>19651127</td>\n",
       "      <td>141297</td>\n",
       "    </tr>\n",
       "    <tr>\n",
       "      <th>Texas</th>\n",
       "      <td>26448193</td>\n",
       "      <td>695662</td>\n",
       "    </tr>\n",
       "    <tr>\n",
       "      <th>California</th>\n",
       "      <td>38332521</td>\n",
       "      <td>423967</td>\n",
       "    </tr>\n",
       "  </tbody>\n",
       "</table>\n",
       "</div>"
      ],
      "text/plain": [
       "            population    area\n",
       "Illinois      12882135  149995\n",
       "Florida       19552860  170312\n",
       "New York      19651127  141297\n",
       "Texas         26448193  695662\n",
       "California    38332521  423967"
      ]
     },
     "execution_count": 42,
     "metadata": {},
     "output_type": "execute_result"
    }
   ],
   "source": [
    "states.sort_values(by='population')"
   ]
  },
  {
   "cell_type": "code",
   "execution_count": 44,
   "metadata": {},
   "outputs": [
    {
     "data": {
      "text/html": [
       "<div>\n",
       "<style scoped>\n",
       "    .dataframe tbody tr th:only-of-type {\n",
       "        vertical-align: middle;\n",
       "    }\n",
       "\n",
       "    .dataframe tbody tr th {\n",
       "        vertical-align: top;\n",
       "    }\n",
       "\n",
       "    .dataframe thead th {\n",
       "        text-align: right;\n",
       "    }\n",
       "</style>\n",
       "<table border=\"1\" class=\"dataframe\">\n",
       "  <thead>\n",
       "    <tr style=\"text-align: right;\">\n",
       "      <th></th>\n",
       "      <th>population</th>\n",
       "      <th>area</th>\n",
       "    </tr>\n",
       "  </thead>\n",
       "  <tbody>\n",
       "    <tr>\n",
       "      <th>Texas</th>\n",
       "      <td>26448193</td>\n",
       "      <td>695662</td>\n",
       "    </tr>\n",
       "    <tr>\n",
       "      <th>California</th>\n",
       "      <td>38332521</td>\n",
       "      <td>423967</td>\n",
       "    </tr>\n",
       "    <tr>\n",
       "      <th>Florida</th>\n",
       "      <td>19552860</td>\n",
       "      <td>170312</td>\n",
       "    </tr>\n",
       "    <tr>\n",
       "      <th>Illinois</th>\n",
       "      <td>12882135</td>\n",
       "      <td>149995</td>\n",
       "    </tr>\n",
       "    <tr>\n",
       "      <th>New York</th>\n",
       "      <td>19651127</td>\n",
       "      <td>141297</td>\n",
       "    </tr>\n",
       "  </tbody>\n",
       "</table>\n",
       "</div>"
      ],
      "text/plain": [
       "            population    area\n",
       "Texas         26448193  695662\n",
       "California    38332521  423967\n",
       "Florida       19552860  170312\n",
       "Illinois      12882135  149995\n",
       "New York      19651127  141297"
      ]
     },
     "execution_count": 44,
     "metadata": {},
     "output_type": "execute_result"
    }
   ],
   "source": [
    "states.sort_values(by='area', ascending=False)"
   ]
  },
  {
   "cell_type": "markdown",
   "metadata": {
    "slideshow": {
     "slide_type": "slide"
    }
   },
   "source": [
    "<a id='merge'></a>\n",
    "[terug naar index](#index)\n",
    "# samenvoegen\n",
    "voor het samenvoegen van ```pd.Series```, ```pd.DataFrame``` & ```gpd.GeoDataFrame``` zijn verschillende opties beschikbaar in ```pandas```;\n",
    "- ``pd.concat()``, werkt zowel op kolommen als rijen;\n",
    "- ``.append()``, enkel toevoegen van rijen;\n",
    "- ``.merge()``, samenvoegen op basis van kolomwaarden; (dus rijen)\n",
    "- ``.join()``, subset van merge, samenvoegen op basis van indexwaarden;\n",
    "\n",
    "hieronder voorbeelden met twee nieuwe ```DataFrames```, goed om te weten dat andere bestaan, we focussen nu enkel op ``.merge()``"
   ]
  },
  {
   "cell_type": "code",
   "execution_count": 17,
   "metadata": {
    "slideshow": {
     "slide_type": "skip"
    }
   },
   "outputs": [
    {
     "name": "stdout",
     "output_type": "stream",
     "text": [
      "     country  capital   inhabitant\n",
      "0    Germany   Berlin   82500000.0\n",
      "1     France    Paris   66900000.0\n",
      "2  Indonesia  Jakarta  255500000.0\n",
      "\n",
      "   country capital    HDI\n",
      "0  Germany  Berlin  0.926\n",
      "1    Italy    Rome  0.897\n",
      "2    Spain  Madrid  0.844\n",
      "3  Austria  Vienna  0.893\n"
     ]
    }
   ],
   "source": [
    "import pandas as pd\n",
    "\n",
    "countries = ['Germany', 'France', 'Indonesia']\n",
    "inhabitants = [82.5 * 10**6, 66.9 * 10**6, 255.5 * 10**6]\n",
    "capitals = ['Berlin', 'Paris', 'Jakarta']\n",
    "\n",
    "df1 = pd.DataFrame({'country': countries,\n",
    "                    'inhabitant': inhabitants,\n",
    "                    'capital': capitals})\n",
    "df1 = df1[['country', 'capital', 'inhabitant']]\n",
    "print(df1)\n",
    "print()\n",
    "\n",
    "countries = ['Germany', 'Italy', 'Spain', 'Austria']\n",
    "capitals = ['Berlin', 'Rome', 'Madrid', 'Vienna']\n",
    "hdis = [0.926, 0.897, 0.844, 0.893]\n",
    "df2 = pd.DataFrame({'country': countries,\n",
    "                    'capital': capitals,\n",
    "                    'HDI': hdis})\n",
    "df2 = df2[['country', 'capital', 'HDI']]\n",
    "print(df2)"
   ]
  },
  {
   "cell_type": "code",
   "execution_count": 18,
   "metadata": {
    "slideshow": {
     "slide_type": "fragment"
    }
   },
   "outputs": [
    {
     "data": {
      "text/html": [
       "<div>\n",
       "<style scoped>\n",
       "    .dataframe tbody tr th:only-of-type {\n",
       "        vertical-align: middle;\n",
       "    }\n",
       "\n",
       "    .dataframe tbody tr th {\n",
       "        vertical-align: top;\n",
       "    }\n",
       "\n",
       "    .dataframe thead th {\n",
       "        text-align: right;\n",
       "    }\n",
       "</style>\n",
       "<table border=\"1\" class=\"dataframe\">\n",
       "  <thead>\n",
       "    <tr style=\"text-align: right;\">\n",
       "      <th></th>\n",
       "      <th>country</th>\n",
       "      <th>capital</th>\n",
       "      <th>inhabitant</th>\n",
       "    </tr>\n",
       "  </thead>\n",
       "  <tbody>\n",
       "    <tr>\n",
       "      <td>0</td>\n",
       "      <td>Germany</td>\n",
       "      <td>Berlin</td>\n",
       "      <td>82500000.0</td>\n",
       "    </tr>\n",
       "    <tr>\n",
       "      <td>1</td>\n",
       "      <td>France</td>\n",
       "      <td>Paris</td>\n",
       "      <td>66900000.0</td>\n",
       "    </tr>\n",
       "    <tr>\n",
       "      <td>2</td>\n",
       "      <td>Indonesia</td>\n",
       "      <td>Jakarta</td>\n",
       "      <td>255500000.0</td>\n",
       "    </tr>\n",
       "  </tbody>\n",
       "</table>\n",
       "</div>"
      ],
      "text/plain": [
       "     country  capital   inhabitant\n",
       "0    Germany   Berlin   82500000.0\n",
       "1     France    Paris   66900000.0\n",
       "2  Indonesia  Jakarta  255500000.0"
      ]
     },
     "execution_count": 18,
     "metadata": {},
     "output_type": "execute_result"
    }
   ],
   "source": [
    "df1"
   ]
  },
  {
   "cell_type": "code",
   "execution_count": 19,
   "metadata": {
    "slideshow": {
     "slide_type": "fragment"
    }
   },
   "outputs": [
    {
     "data": {
      "text/html": [
       "<div>\n",
       "<style scoped>\n",
       "    .dataframe tbody tr th:only-of-type {\n",
       "        vertical-align: middle;\n",
       "    }\n",
       "\n",
       "    .dataframe tbody tr th {\n",
       "        vertical-align: top;\n",
       "    }\n",
       "\n",
       "    .dataframe thead th {\n",
       "        text-align: right;\n",
       "    }\n",
       "</style>\n",
       "<table border=\"1\" class=\"dataframe\">\n",
       "  <thead>\n",
       "    <tr style=\"text-align: right;\">\n",
       "      <th></th>\n",
       "      <th>country</th>\n",
       "      <th>capital</th>\n",
       "      <th>HDI</th>\n",
       "    </tr>\n",
       "  </thead>\n",
       "  <tbody>\n",
       "    <tr>\n",
       "      <td>0</td>\n",
       "      <td>Germany</td>\n",
       "      <td>Berlin</td>\n",
       "      <td>0.926</td>\n",
       "    </tr>\n",
       "    <tr>\n",
       "      <td>1</td>\n",
       "      <td>Italy</td>\n",
       "      <td>Rome</td>\n",
       "      <td>0.897</td>\n",
       "    </tr>\n",
       "    <tr>\n",
       "      <td>2</td>\n",
       "      <td>Spain</td>\n",
       "      <td>Madrid</td>\n",
       "      <td>0.844</td>\n",
       "    </tr>\n",
       "    <tr>\n",
       "      <td>3</td>\n",
       "      <td>Austria</td>\n",
       "      <td>Vienna</td>\n",
       "      <td>0.893</td>\n",
       "    </tr>\n",
       "  </tbody>\n",
       "</table>\n",
       "</div>"
      ],
      "text/plain": [
       "   country capital    HDI\n",
       "0  Germany  Berlin  0.926\n",
       "1    Italy    Rome  0.897\n",
       "2    Spain  Madrid  0.844\n",
       "3  Austria  Vienna  0.893"
      ]
     },
     "execution_count": 19,
     "metadata": {},
     "output_type": "execute_result"
    }
   ],
   "source": [
    "df2"
   ]
  },
  {
   "cell_type": "code",
   "execution_count": 20,
   "metadata": {
    "slideshow": {
     "slide_type": "fragment"
    }
   },
   "outputs": [
    {
     "data": {
      "text/html": [
       "<div>\n",
       "<style scoped>\n",
       "    .dataframe tbody tr th:only-of-type {\n",
       "        vertical-align: middle;\n",
       "    }\n",
       "\n",
       "    .dataframe tbody tr th {\n",
       "        vertical-align: top;\n",
       "    }\n",
       "\n",
       "    .dataframe thead th {\n",
       "        text-align: right;\n",
       "    }\n",
       "</style>\n",
       "<table border=\"1\" class=\"dataframe\">\n",
       "  <thead>\n",
       "    <tr style=\"text-align: right;\">\n",
       "      <th></th>\n",
       "      <th>country</th>\n",
       "      <th>capital_x</th>\n",
       "      <th>inhabitant</th>\n",
       "      <th>capital_y</th>\n",
       "      <th>HDI</th>\n",
       "    </tr>\n",
       "  </thead>\n",
       "  <tbody>\n",
       "    <tr>\n",
       "      <td>0</td>\n",
       "      <td>Germany</td>\n",
       "      <td>Berlin</td>\n",
       "      <td>82500000.0</td>\n",
       "      <td>Berlin</td>\n",
       "      <td>0.926</td>\n",
       "    </tr>\n",
       "  </tbody>\n",
       "</table>\n",
       "</div>"
      ],
      "text/plain": [
       "   country capital_x  inhabitant capital_y    HDI\n",
       "0  Germany    Berlin  82500000.0    Berlin  0.926"
      ]
     },
     "execution_count": 20,
     "metadata": {},
     "output_type": "execute_result"
    }
   ],
   "source": [
    "df1.merge(df2, on='country', how='inner') # default is inner"
   ]
  },
  {
   "cell_type": "code",
   "execution_count": 21,
   "metadata": {
    "slideshow": {
     "slide_type": "fragment"
    }
   },
   "outputs": [
    {
     "data": {
      "text/html": [
       "<div>\n",
       "<style scoped>\n",
       "    .dataframe tbody tr th:only-of-type {\n",
       "        vertical-align: middle;\n",
       "    }\n",
       "\n",
       "    .dataframe tbody tr th {\n",
       "        vertical-align: top;\n",
       "    }\n",
       "\n",
       "    .dataframe thead th {\n",
       "        text-align: right;\n",
       "    }\n",
       "</style>\n",
       "<table border=\"1\" class=\"dataframe\">\n",
       "  <thead>\n",
       "    <tr style=\"text-align: right;\">\n",
       "      <th></th>\n",
       "      <th>country</th>\n",
       "      <th>capital_x</th>\n",
       "      <th>inhabitant</th>\n",
       "      <th>capital_y</th>\n",
       "      <th>HDI</th>\n",
       "    </tr>\n",
       "  </thead>\n",
       "  <tbody>\n",
       "    <tr>\n",
       "      <td>0</td>\n",
       "      <td>Germany</td>\n",
       "      <td>Berlin</td>\n",
       "      <td>82500000.0</td>\n",
       "      <td>Berlin</td>\n",
       "      <td>0.926</td>\n",
       "    </tr>\n",
       "    <tr>\n",
       "      <td>1</td>\n",
       "      <td>France</td>\n",
       "      <td>Paris</td>\n",
       "      <td>66900000.0</td>\n",
       "      <td>NaN</td>\n",
       "      <td>NaN</td>\n",
       "    </tr>\n",
       "    <tr>\n",
       "      <td>2</td>\n",
       "      <td>Indonesia</td>\n",
       "      <td>Jakarta</td>\n",
       "      <td>255500000.0</td>\n",
       "      <td>NaN</td>\n",
       "      <td>NaN</td>\n",
       "    </tr>\n",
       "  </tbody>\n",
       "</table>\n",
       "</div>"
      ],
      "text/plain": [
       "     country capital_x   inhabitant capital_y    HDI\n",
       "0    Germany    Berlin   82500000.0    Berlin  0.926\n",
       "1     France     Paris   66900000.0       NaN    NaN\n",
       "2  Indonesia   Jakarta  255500000.0       NaN    NaN"
      ]
     },
     "execution_count": 21,
     "metadata": {},
     "output_type": "execute_result"
    }
   ],
   "source": [
    "df1.merge(df2, on='country', how='left') # df1 basis, df2 plak je eraan, right precies andersom"
   ]
  },
  {
   "cell_type": "code",
   "execution_count": 22,
   "metadata": {
    "slideshow": {
     "slide_type": "fragment"
    }
   },
   "outputs": [
    {
     "data": {
      "text/html": [
       "<div>\n",
       "<style scoped>\n",
       "    .dataframe tbody tr th:only-of-type {\n",
       "        vertical-align: middle;\n",
       "    }\n",
       "\n",
       "    .dataframe tbody tr th {\n",
       "        vertical-align: top;\n",
       "    }\n",
       "\n",
       "    .dataframe thead th {\n",
       "        text-align: right;\n",
       "    }\n",
       "</style>\n",
       "<table border=\"1\" class=\"dataframe\">\n",
       "  <thead>\n",
       "    <tr style=\"text-align: right;\">\n",
       "      <th></th>\n",
       "      <th>country</th>\n",
       "      <th>capital_x</th>\n",
       "      <th>inhabitant</th>\n",
       "      <th>capital_y</th>\n",
       "      <th>HDI</th>\n",
       "    </tr>\n",
       "  </thead>\n",
       "  <tbody>\n",
       "    <tr>\n",
       "      <td>0</td>\n",
       "      <td>Germany</td>\n",
       "      <td>Berlin</td>\n",
       "      <td>82500000.0</td>\n",
       "      <td>Berlin</td>\n",
       "      <td>0.926</td>\n",
       "    </tr>\n",
       "    <tr>\n",
       "      <td>1</td>\n",
       "      <td>France</td>\n",
       "      <td>Paris</td>\n",
       "      <td>66900000.0</td>\n",
       "      <td>NaN</td>\n",
       "      <td>NaN</td>\n",
       "    </tr>\n",
       "    <tr>\n",
       "      <td>2</td>\n",
       "      <td>Indonesia</td>\n",
       "      <td>Jakarta</td>\n",
       "      <td>255500000.0</td>\n",
       "      <td>NaN</td>\n",
       "      <td>NaN</td>\n",
       "    </tr>\n",
       "    <tr>\n",
       "      <td>3</td>\n",
       "      <td>Italy</td>\n",
       "      <td>NaN</td>\n",
       "      <td>NaN</td>\n",
       "      <td>Rome</td>\n",
       "      <td>0.897</td>\n",
       "    </tr>\n",
       "    <tr>\n",
       "      <td>4</td>\n",
       "      <td>Spain</td>\n",
       "      <td>NaN</td>\n",
       "      <td>NaN</td>\n",
       "      <td>Madrid</td>\n",
       "      <td>0.844</td>\n",
       "    </tr>\n",
       "    <tr>\n",
       "      <td>5</td>\n",
       "      <td>Austria</td>\n",
       "      <td>NaN</td>\n",
       "      <td>NaN</td>\n",
       "      <td>Vienna</td>\n",
       "      <td>0.893</td>\n",
       "    </tr>\n",
       "  </tbody>\n",
       "</table>\n",
       "</div>"
      ],
      "text/plain": [
       "     country capital_x   inhabitant capital_y    HDI\n",
       "0    Germany    Berlin   82500000.0    Berlin  0.926\n",
       "1     France     Paris   66900000.0       NaN    NaN\n",
       "2  Indonesia   Jakarta  255500000.0       NaN    NaN\n",
       "3      Italy       NaN          NaN      Rome  0.897\n",
       "4      Spain       NaN          NaN    Madrid  0.844\n",
       "5    Austria       NaN          NaN    Vienna  0.893"
      ]
     },
     "execution_count": 22,
     "metadata": {},
     "output_type": "execute_result"
    }
   ],
   "source": [
    "df1.merge(df2, on='country', how='outer') # beide frames blijven behouden"
   ]
  },
  {
   "cell_type": "markdown",
   "metadata": {},
   "source": [
    "<a id='ex3'></a>\n",
    "[terug naar index](#index)\n",
    "# exercise 3\n",
    "Merge ``world`` op jouw gecreerde ```DataFrame``` bij Exercise 1. Zoek even uit hoe je een merge doet op een ``index`` en op een kolomnaam die je kan definieren (``name``) (hint: df.merge?). Denk na over de ``how``. ```merge``` op ```world``` anders raak je je ```GeoDataFrame``` functionaliteit kwijt, en die heb bij de volgende vraag nodig ;)"
   ]
  },
  {
   "cell_type": "code",
   "execution_count": null,
   "metadata": {},
   "outputs": [],
   "source": []
  },
  {
   "cell_type": "markdown",
   "metadata": {},
   "source": [
    "Bepaal het aantal kuubs (m3, neerslag * oppervlak) per inwoner per land dat afkomstig is van de neerslag per jaar. Wat is het aantal kuubs per inwoner voor Qatar? En hoe verhoudt zich dat tot het gemiddelde buiten Azie?\n",
    "\n",
    "^ Qatar: 445... m3/inwoner  \n",
    "^ gemiddelde buiten Azie: 6979018... m3/inwoner"
   ]
  },
  {
   "cell_type": "code",
   "execution_count": null,
   "metadata": {},
   "outputs": [],
   "source": [
    "merged.crs\n",
    "merged = merged.to_crs({'init': 'epsg:3857'}) # om area in m2 te kunnen berekenen\n"
   ]
  },
  {
   "cell_type": "markdown",
   "metadata": {},
   "source": [
    "Drop de rijen als er een NAN-value staat in de hierboven gecreeërde kolom. Sorteer op de kuubs per inwoner aflopend. Selecteer de drie landen met het meestal aantal m3/inwoner aan neerslag.\n",
    "\n",
    "^ Greenland, Iceland, Norway"
   ]
  },
  {
   "cell_type": "code",
   "execution_count": null,
   "metadata": {},
   "outputs": [],
   "source": []
  },
  {
   "cell_type": "markdown",
   "metadata": {},
   "source": [
    "![](https://media.giphy.com/media/xUPGGgtGEJxrfDDNja/giphy.gif)"
   ]
  },
  {
   "cell_type": "markdown",
   "metadata": {
    "slideshow": {
     "slide_type": "slide"
    }
   },
   "source": [
    "<a id='group'></a>\n",
    "[terug naar index](#index)\n",
    "# grouping\n",
    "\n",
    "## groupby\n",
    "met ```groupby``` kan je je ```DataFrame``` aggregeren op kolom(men), en daar berekeningen mee doen (vergelijkbaar met draaitabellen in Excel). er zijn verschillende manier om berekeningen met je```groupby``` te doen:\n",
    "- je kan direct ``.mean()``, ``.max()`` etc. gebruiken. \n",
    "- of ``.aggregate()``, dan kan je meerdere statistieken tegelijk berekenen;\n",
    "- daarnaast heb je ``.transform()`` of ``.apply()`` om eigen functies toe te passen (hier kan je heftige dingen mee doen);  \n",
    "\n",
    "met ``.unstack()`` als je aggregeert op meerdere kolommen kan je deze pivoten (dus van rij naar kolom);"
   ]
  },
  {
   "cell_type": "code",
   "execution_count": 45,
   "metadata": {
    "slideshow": {
     "slide_type": "fragment"
    }
   },
   "outputs": [
    {
     "data": {
      "text/html": [
       "<div>\n",
       "<style scoped>\n",
       "    .dataframe tbody tr th:only-of-type {\n",
       "        vertical-align: middle;\n",
       "    }\n",
       "\n",
       "    .dataframe tbody tr th {\n",
       "        vertical-align: top;\n",
       "    }\n",
       "\n",
       "    .dataframe thead th {\n",
       "        text-align: right;\n",
       "    }\n",
       "</style>\n",
       "<table border=\"1\" class=\"dataframe\">\n",
       "  <thead>\n",
       "    <tr style=\"text-align: right;\">\n",
       "      <th></th>\n",
       "      <th>count</th>\n",
       "      <th>mean</th>\n",
       "      <th>std</th>\n",
       "      <th>min</th>\n",
       "      <th>25%</th>\n",
       "      <th>50%</th>\n",
       "      <th>75%</th>\n",
       "      <th>max</th>\n",
       "    </tr>\n",
       "    <tr>\n",
       "      <th>continent</th>\n",
       "      <th></th>\n",
       "      <th></th>\n",
       "      <th></th>\n",
       "      <th></th>\n",
       "      <th></th>\n",
       "      <th></th>\n",
       "      <th></th>\n",
       "      <th></th>\n",
       "    </tr>\n",
       "  </thead>\n",
       "  <tbody>\n",
       "    <tr>\n",
       "      <th>Africa</th>\n",
       "      <td>51.0</td>\n",
       "      <td>1.947612e+07</td>\n",
       "      <td>2.694769e+07</td>\n",
       "      <td>-99.0</td>\n",
       "      <td>3756404.5</td>\n",
       "      <td>10486339.0</td>\n",
       "      <td>21161417.0</td>\n",
       "      <td>1.492291e+08</td>\n",
       "    </tr>\n",
       "    <tr>\n",
       "      <th>Antarctica</th>\n",
       "      <td>1.0</td>\n",
       "      <td>3.802000e+03</td>\n",
       "      <td>NaN</td>\n",
       "      <td>3802.0</td>\n",
       "      <td>3802.0</td>\n",
       "      <td>3802.0</td>\n",
       "      <td>3802.0</td>\n",
       "      <td>3.802000e+03</td>\n",
       "    </tr>\n",
       "    <tr>\n",
       "      <th>Asia</th>\n",
       "      <td>47.0</td>\n",
       "      <td>8.693304e+07</td>\n",
       "      <td>2.541139e+08</td>\n",
       "      <td>265100.0</td>\n",
       "      <td>4367445.0</td>\n",
       "      <td>20178485.0</td>\n",
       "      <td>48323356.5</td>\n",
       "      <td>1.338613e+09</td>\n",
       "    </tr>\n",
       "    <tr>\n",
       "      <th>Europe</th>\n",
       "      <td>39.0</td>\n",
       "      <td>1.867003e+07</td>\n",
       "      <td>2.870842e+07</td>\n",
       "      <td>306694.0</td>\n",
       "      <td>3921326.5</td>\n",
       "      <td>7379339.0</td>\n",
       "      <td>13726713.5</td>\n",
       "      <td>1.400412e+08</td>\n",
       "    </tr>\n",
       "    <tr>\n",
       "      <th>North America</th>\n",
       "      <td>18.0</td>\n",
       "      <td>2.996394e+07</td>\n",
       "      <td>7.537815e+07</td>\n",
       "      <td>57600.0</td>\n",
       "      <td>2959564.5</td>\n",
       "      <td>6538208.5</td>\n",
       "      <td>11001252.5</td>\n",
       "      <td>3.139730e+08</td>\n",
       "    </tr>\n",
       "    <tr>\n",
       "      <th>Oceania</th>\n",
       "      <td>7.0</td>\n",
       "      <td>4.788516e+06</td>\n",
       "      <td>7.608994e+06</td>\n",
       "      <td>218519.0</td>\n",
       "      <td>411524.5</td>\n",
       "      <td>944720.0</td>\n",
       "      <td>5135340.5</td>\n",
       "      <td>2.126264e+07</td>\n",
       "    </tr>\n",
       "    <tr>\n",
       "      <th>Seven seas (open ocean)</th>\n",
       "      <td>1.0</td>\n",
       "      <td>1.400000e+02</td>\n",
       "      <td>NaN</td>\n",
       "      <td>140.0</td>\n",
       "      <td>140.0</td>\n",
       "      <td>140.0</td>\n",
       "      <td>140.0</td>\n",
       "      <td>1.400000e+02</td>\n",
       "    </tr>\n",
       "    <tr>\n",
       "      <th>South America</th>\n",
       "      <td>13.0</td>\n",
       "      <td>3.033504e+07</td>\n",
       "      <td>5.285940e+07</td>\n",
       "      <td>3140.0</td>\n",
       "      <td>3494382.0</td>\n",
       "      <td>14573101.0</td>\n",
       "      <td>29546963.0</td>\n",
       "      <td>1.987393e+08</td>\n",
       "    </tr>\n",
       "  </tbody>\n",
       "</table>\n",
       "</div>"
      ],
      "text/plain": [
       "                         count          mean           std       min  \\\n",
       "continent                                                              \n",
       "Africa                    51.0  1.947612e+07  2.694769e+07     -99.0   \n",
       "Antarctica                 1.0  3.802000e+03           NaN    3802.0   \n",
       "Asia                      47.0  8.693304e+07  2.541139e+08  265100.0   \n",
       "Europe                    39.0  1.867003e+07  2.870842e+07  306694.0   \n",
       "North America             18.0  2.996394e+07  7.537815e+07   57600.0   \n",
       "Oceania                    7.0  4.788516e+06  7.608994e+06  218519.0   \n",
       "Seven seas (open ocean)    1.0  1.400000e+02           NaN     140.0   \n",
       "South America             13.0  3.033504e+07  5.285940e+07    3140.0   \n",
       "\n",
       "                               25%         50%         75%           max  \n",
       "continent                                                                 \n",
       "Africa                   3756404.5  10486339.0  21161417.0  1.492291e+08  \n",
       "Antarctica                  3802.0      3802.0      3802.0  3.802000e+03  \n",
       "Asia                     4367445.0  20178485.0  48323356.5  1.338613e+09  \n",
       "Europe                   3921326.5   7379339.0  13726713.5  1.400412e+08  \n",
       "North America            2959564.5   6538208.5  11001252.5  3.139730e+08  \n",
       "Oceania                   411524.5    944720.0   5135340.5  2.126264e+07  \n",
       "Seven seas (open ocean)      140.0       140.0       140.0  1.400000e+02  \n",
       "South America            3494382.0  14573101.0  29546963.0  1.987393e+08  "
      ]
     },
     "execution_count": 45,
     "metadata": {},
     "output_type": "execute_result"
    }
   ],
   "source": [
    "world.groupby('continent')['pop_est'].describe() # statistieken aantal inwoners per continent"
   ]
  },
  {
   "cell_type": "code",
   "execution_count": 23,
   "metadata": {
    "slideshow": {
     "slide_type": "fragment"
    }
   },
   "outputs": [
    {
     "ename": "NameError",
     "evalue": "name 'world' is not defined",
     "output_type": "error",
     "traceback": [
      "\u001b[1;31m---------------------------------------------------------------------------\u001b[0m",
      "\u001b[1;31mNameError\u001b[0m                                 Traceback (most recent call last)",
      "\u001b[1;32m<ipython-input-23-44205945f5d2>\u001b[0m in \u001b[0;36m<module>\u001b[1;34m()\u001b[0m\n\u001b[0;32m      1\u001b[0m \u001b[1;32mimport\u001b[0m \u001b[0mnumpy\u001b[0m \u001b[1;32mas\u001b[0m \u001b[0mnp\u001b[0m\u001b[1;33m\u001b[0m\u001b[0m\n\u001b[1;32m----> 2\u001b[1;33m \u001b[0mworld\u001b[0m\u001b[1;33m.\u001b[0m\u001b[0mgroupby\u001b[0m\u001b[1;33m(\u001b[0m\u001b[1;34m'continent'\u001b[0m\u001b[1;33m)\u001b[0m\u001b[1;33m[\u001b[0m\u001b[1;34m'pop_est'\u001b[0m\u001b[1;33m]\u001b[0m\u001b[1;33m.\u001b[0m\u001b[0maggregate\u001b[0m\u001b[1;33m(\u001b[0m\u001b[1;33m[\u001b[0m\u001b[1;34m'min'\u001b[0m\u001b[1;33m,\u001b[0m \u001b[0mmax\u001b[0m\u001b[1;33m,\u001b[0m \u001b[1;34m'mean'\u001b[0m\u001b[1;33m,\u001b[0m \u001b[0mnp\u001b[0m\u001b[1;33m.\u001b[0m\u001b[0msum\u001b[0m\u001b[1;33m]\u001b[0m\u001b[1;33m)\u001b[0m \u001b[1;31m# verschillende statistieken je kan de strings\u001b[0m\u001b[1;33m\u001b[0m\u001b[0m\n\u001b[0m\u001b[0;32m      3\u001b[0m \u001b[1;31m# gebruiken, maar ook de methodes of numpy statistieken\u001b[0m\u001b[1;33m\u001b[0m\u001b[1;33m\u001b[0m\u001b[0m\n",
      "\u001b[1;31mNameError\u001b[0m: name 'world' is not defined"
     ]
    }
   ],
   "source": [
    "import numpy as np\n",
    "world.groupby('continent')['pop_est'].aggregate(['min', max, 'mean', np.sum]) # verschillende statistieken je kan de strings \n",
    "# gebruiken, maar ook de methodes of numpy statistieken"
   ]
  },
  {
   "cell_type": "code",
   "execution_count": 88,
   "metadata": {
    "slideshow": {
     "slide_type": "fragment"
    }
   },
   "outputs": [
    {
     "data": {
      "text/html": [
       "<div>\n",
       "<style scoped>\n",
       "    .dataframe tbody tr th:only-of-type {\n",
       "        vertical-align: middle;\n",
       "    }\n",
       "\n",
       "    .dataframe tbody tr th {\n",
       "        vertical-align: top;\n",
       "    }\n",
       "\n",
       "    .dataframe thead th {\n",
       "        text-align: right;\n",
       "    }\n",
       "</style>\n",
       "<table border=\"1\" class=\"dataframe\">\n",
       "  <thead>\n",
       "    <tr style=\"text-align: right;\">\n",
       "      <th></th>\n",
       "      <th>pop_est</th>\n",
       "      <th>gdp_md_est</th>\n",
       "      <th>gdp_per_cap</th>\n",
       "    </tr>\n",
       "    <tr>\n",
       "      <th>name</th>\n",
       "      <th></th>\n",
       "      <th></th>\n",
       "      <th></th>\n",
       "    </tr>\n",
       "  </thead>\n",
       "  <tbody>\n",
       "    <tr>\n",
       "      <th>Afghanistan</th>\n",
       "      <td>-5.853304e+07</td>\n",
       "      <td>-505957.463191</td>\n",
       "      <td>-12340.425532</td>\n",
       "    </tr>\n",
       "    <tr>\n",
       "      <th>Angola</th>\n",
       "      <td>-6.676822e+06</td>\n",
       "      <td>57000.603922</td>\n",
       "      <td>-11960.784314</td>\n",
       "    </tr>\n",
       "    <tr>\n",
       "      <th>Albania</th>\n",
       "      <td>-1.503058e+07</td>\n",
       "      <td>-453732.538462</td>\n",
       "      <td>-16153.846154</td>\n",
       "    </tr>\n",
       "    <tr>\n",
       "      <th>United Arab Emirates</th>\n",
       "      <td>-8.213455e+07</td>\n",
       "      <td>-343927.463191</td>\n",
       "      <td>27659.574468</td>\n",
       "    </tr>\n",
       "    <tr>\n",
       "      <th>Argentina</th>\n",
       "      <td>1.057855e+07</td>\n",
       "      <td>262988.838462</td>\n",
       "      <td>769.230769</td>\n",
       "    </tr>\n",
       "    <tr>\n",
       "      <th>Armenia</th>\n",
       "      <td>-8.396603e+07</td>\n",
       "      <td>-509457.463191</td>\n",
       "      <td>-2340.425532</td>\n",
       "    </tr>\n",
       "    <tr>\n",
       "      <th>Antarctica</th>\n",
       "      <td>0.000000e+00</td>\n",
       "      <td>0.000000</td>\n",
       "      <td>0.000000</td>\n",
       "    </tr>\n",
       "    <tr>\n",
       "      <th>Fr. S. Antarctic Lands</th>\n",
       "      <td>0.000000e+00</td>\n",
       "      <td>0.000000</td>\n",
       "      <td>0.000000</td>\n",
       "    </tr>\n",
       "    <tr>\n",
       "      <th>Australia</th>\n",
       "      <td>1.647413e+07</td>\n",
       "      <td>666069.500000</td>\n",
       "      <td>28571.428571</td>\n",
       "    </tr>\n",
       "    <tr>\n",
       "      <th>Austria</th>\n",
       "      <td>-1.045975e+07</td>\n",
       "      <td>-146042.538462</td>\n",
       "      <td>13846.153846</td>\n",
       "    </tr>\n",
       "  </tbody>\n",
       "</table>\n",
       "</div>"
      ],
      "text/plain": [
       "                             pop_est     gdp_md_est   gdp_per_cap\n",
       "name                                                             \n",
       "Afghanistan            -5.853304e+07 -505957.463191 -12340.425532\n",
       "Angola                 -6.676822e+06   57000.603922 -11960.784314\n",
       "Albania                -1.503058e+07 -453732.538462 -16153.846154\n",
       "United Arab Emirates   -8.213455e+07 -343927.463191  27659.574468\n",
       "Argentina               1.057855e+07  262988.838462    769.230769\n",
       "Armenia                -8.396603e+07 -509457.463191  -2340.425532\n",
       "Antarctica              0.000000e+00       0.000000      0.000000\n",
       "Fr. S. Antarctic Lands  0.000000e+00       0.000000      0.000000\n",
       "Australia               1.647413e+07  666069.500000  28571.428571\n",
       "Austria                -1.045975e+07 -146042.538462  13846.153846"
      ]
     },
     "execution_count": 88,
     "metadata": {},
     "output_type": "execute_result"
    }
   ],
   "source": [
    "world.set_index('name', inplace=True)\n",
    "world.groupby('continent').transform(lambda x: x - x.mean()).head(10) # voor elk land, land - gemiddelde continent"
   ]
  },
  {
   "cell_type": "code",
   "execution_count": 89,
   "metadata": {
    "slideshow": {
     "slide_type": "fragment"
    }
   },
   "outputs": [
    {
     "data": {
      "text/plain": [
       "name\n",
       "Afghanistan               2.121599e-02\n",
       "Angola                    9.561608e-03\n",
       "Albania                   2.718824e-03\n",
       "United Arab Emirates      3.584674e-03\n",
       "Argentina                 3.056416e-02\n",
       "Armenia                   2.216476e-03\n",
       "Antarctica                2.840253e-06\n",
       "Fr. S. Antarctic Lands    1.045859e-07\n",
       "Australia                 1.588408e-02\n",
       "Austria                   6.133424e-03\n",
       "Name: pop_est, dtype: float64"
      ]
     },
     "execution_count": 89,
     "metadata": {},
     "output_type": "execute_result"
    }
   ],
   "source": [
    "def normalize(x):\n",
    "    x = x/world['pop_est'].max()\n",
    "    return x\n",
    "    \n",
    "world.groupby('continent')['pop_est'].apply(normalize).head(10) # genormaliseerde inwoneraantallen"
   ]
  },
  {
   "cell_type": "code",
   "execution_count": 90,
   "metadata": {
    "slideshow": {
     "slide_type": "fragment"
    }
   },
   "outputs": [
    {
     "data": {
      "text/html": [
       "<div>\n",
       "<style scoped>\n",
       "    .dataframe tbody tr th:only-of-type {\n",
       "        vertical-align: middle;\n",
       "    }\n",
       "\n",
       "    .dataframe tbody tr th {\n",
       "        vertical-align: top;\n",
       "    }\n",
       "\n",
       "    .dataframe thead th {\n",
       "        text-align: right;\n",
       "    }\n",
       "</style>\n",
       "<table border=\"1\" class=\"dataframe\">\n",
       "  <thead>\n",
       "    <tr style=\"text-align: right;\">\n",
       "      <th>gdp_per_cap</th>\n",
       "      <th>0</th>\n",
       "      <th>10000</th>\n",
       "      <th>20000</th>\n",
       "      <th>30000</th>\n",
       "      <th>40000</th>\n",
       "      <th>50000</th>\n",
       "      <th>60000</th>\n",
       "      <th>80000</th>\n",
       "      <th>110000</th>\n",
       "      <th>200000</th>\n",
       "      <th>1000000</th>\n",
       "    </tr>\n",
       "    <tr>\n",
       "      <th>continent</th>\n",
       "      <th></th>\n",
       "      <th></th>\n",
       "      <th></th>\n",
       "      <th></th>\n",
       "      <th></th>\n",
       "      <th></th>\n",
       "      <th></th>\n",
       "      <th></th>\n",
       "      <th></th>\n",
       "      <th></th>\n",
       "      <th></th>\n",
       "    </tr>\n",
       "  </thead>\n",
       "  <tbody>\n",
       "    <tr>\n",
       "      <th>Africa</th>\n",
       "      <td>789</td>\n",
       "      <td>202</td>\n",
       "      <td>0</td>\n",
       "      <td>0</td>\n",
       "      <td>0</td>\n",
       "      <td>0</td>\n",
       "      <td>0</td>\n",
       "      <td>0</td>\n",
       "      <td>0</td>\n",
       "      <td>0</td>\n",
       "      <td>0</td>\n",
       "    </tr>\n",
       "    <tr>\n",
       "      <th>Antarctica</th>\n",
       "      <td>0</td>\n",
       "      <td>0</td>\n",
       "      <td>0</td>\n",
       "      <td>0</td>\n",
       "      <td>0</td>\n",
       "      <td>0</td>\n",
       "      <td>0</td>\n",
       "      <td>0</td>\n",
       "      <td>0</td>\n",
       "      <td>0</td>\n",
       "      <td>0</td>\n",
       "    </tr>\n",
       "    <tr>\n",
       "      <th>Asia</th>\n",
       "      <td>2228</td>\n",
       "      <td>1609</td>\n",
       "      <td>32</td>\n",
       "      <td>205</td>\n",
       "      <td>5</td>\n",
       "      <td>0</td>\n",
       "      <td>2</td>\n",
       "      <td>0</td>\n",
       "      <td>0</td>\n",
       "      <td>0</td>\n",
       "      <td>0</td>\n",
       "    </tr>\n",
       "    <tr>\n",
       "      <th>Europe</th>\n",
       "      <td>6</td>\n",
       "      <td>103</td>\n",
       "      <td>216</td>\n",
       "      <td>247</td>\n",
       "      <td>149</td>\n",
       "      <td>0</td>\n",
       "      <td>4</td>\n",
       "      <td>0</td>\n",
       "      <td>0</td>\n",
       "      <td>0</td>\n",
       "      <td>0</td>\n",
       "    </tr>\n",
       "    <tr>\n",
       "      <th>North America</th>\n",
       "      <td>22</td>\n",
       "      <td>163</td>\n",
       "      <td>5</td>\n",
       "      <td>0</td>\n",
       "      <td>33</td>\n",
       "      <td>313</td>\n",
       "      <td>0</td>\n",
       "      <td>0</td>\n",
       "      <td>0</td>\n",
       "      <td>0</td>\n",
       "      <td>0</td>\n",
       "    </tr>\n",
       "    <tr>\n",
       "      <th>Oceania</th>\n",
       "      <td>7</td>\n",
       "      <td>0</td>\n",
       "      <td>0</td>\n",
       "      <td>4</td>\n",
       "      <td>21</td>\n",
       "      <td>0</td>\n",
       "      <td>0</td>\n",
       "      <td>0</td>\n",
       "      <td>0</td>\n",
       "      <td>0</td>\n",
       "      <td>0</td>\n",
       "    </tr>\n",
       "    <tr>\n",
       "      <th>Seven seas (open ocean)</th>\n",
       "      <td>0</td>\n",
       "      <td>0</td>\n",
       "      <td>0</td>\n",
       "      <td>0</td>\n",
       "      <td>0</td>\n",
       "      <td>0</td>\n",
       "      <td>0</td>\n",
       "      <td>0</td>\n",
       "      <td>0</td>\n",
       "      <td>0</td>\n",
       "      <td>0</td>\n",
       "    </tr>\n",
       "    <tr>\n",
       "      <th>South America</th>\n",
       "      <td>17</td>\n",
       "      <td>376</td>\n",
       "      <td>0</td>\n",
       "      <td>0</td>\n",
       "      <td>0</td>\n",
       "      <td>0</td>\n",
       "      <td>0</td>\n",
       "      <td>0</td>\n",
       "      <td>0</td>\n",
       "      <td>0</td>\n",
       "      <td>0</td>\n",
       "    </tr>\n",
       "  </tbody>\n",
       "</table>\n",
       "</div>"
      ],
      "text/plain": [
       "gdp_per_cap              0        10000    20000    30000    40000    50000    \\\n",
       "continent                                                                       \n",
       "Africa                       789      202        0        0        0        0   \n",
       "Antarctica                     0        0        0        0        0        0   \n",
       "Asia                        2228     1609       32      205        5        0   \n",
       "Europe                         6      103      216      247      149        0   \n",
       "North America                 22      163        5        0       33      313   \n",
       "Oceania                        7        0        0        4       21        0   \n",
       "Seven seas (open ocean)        0        0        0        0        0        0   \n",
       "South America                 17      376        0        0        0        0   \n",
       "\n",
       "gdp_per_cap              60000    80000    110000   200000   1000000  \n",
       "continent                                                             \n",
       "Africa                         0        0        0        0        0  \n",
       "Antarctica                     0        0        0        0        0  \n",
       "Asia                           2        0        0        0        0  \n",
       "Europe                         4        0        0        0        0  \n",
       "North America                  0        0        0        0        0  \n",
       "Oceania                        0        0        0        0        0  \n",
       "Seven seas (open ocean)        0        0        0        0        0  \n",
       "South America                  0        0        0        0        0  "
      ]
     },
     "execution_count": 90,
     "metadata": {},
     "output_type": "execute_result"
    }
   ],
   "source": [
    "world['gdp_per_cap'] = (round(world.gdp_md_est / world.pop_est, 2) * 1E6).astype(int) # gpd afgerond op 10.000 dollar, anders \n",
    "# teveel verschillende getallen\n",
    "(world.groupby(['continent', 'gdp_per_cap'])['pop_est'].sum().unstack().fillna(0)/1E6).astype(int) # miljoenen inwoners, \n",
    "# per continent per bin in 10.000 dollars"
   ]
  },
  {
   "cell_type": "code",
   "execution_count": 94,
   "metadata": {
    "slideshow": {
     "slide_type": "fragment"
    }
   },
   "outputs": [
    {
     "data": {
      "text/plain": [
       "pop_est                                               1.6716e+07\n",
       "continent                                                 Europe\n",
       "iso_a3                                                       NLD\n",
       "gdp_md_est                                                672000\n",
       "geometry       POLYGON ((6.074182570020923 53.51040334737814,...\n",
       "gdp_per_cap                                                40000\n",
       "Name: Netherlands, dtype: object"
      ]
     },
     "execution_count": 94,
     "metadata": {},
     "output_type": "execute_result"
    }
   ],
   "source": [
    "world.loc['Netherlands',:] # waar zit Nederland"
   ]
  },
  {
   "cell_type": "code",
   "execution_count": 95,
   "metadata": {
    "slideshow": {
     "slide_type": "fragment"
    }
   },
   "outputs": [
    {
     "data": {
      "text/html": [
       "<div>\n",
       "<style scoped>\n",
       "    .dataframe tbody tr th:only-of-type {\n",
       "        vertical-align: middle;\n",
       "    }\n",
       "\n",
       "    .dataframe tbody tr th {\n",
       "        vertical-align: top;\n",
       "    }\n",
       "\n",
       "    .dataframe thead th {\n",
       "        text-align: right;\n",
       "    }\n",
       "</style>\n",
       "<table border=\"1\" class=\"dataframe\">\n",
       "  <thead>\n",
       "    <tr style=\"text-align: right;\">\n",
       "      <th></th>\n",
       "      <th>pop_est</th>\n",
       "      <th>continent</th>\n",
       "      <th>iso_a3</th>\n",
       "      <th>gdp_md_est</th>\n",
       "      <th>geometry</th>\n",
       "      <th>gdp_per_cap</th>\n",
       "    </tr>\n",
       "    <tr>\n",
       "      <th>name</th>\n",
       "      <th></th>\n",
       "      <th></th>\n",
       "      <th></th>\n",
       "      <th></th>\n",
       "      <th></th>\n",
       "      <th></th>\n",
       "    </tr>\n",
       "  </thead>\n",
       "  <tbody>\n",
       "    <tr>\n",
       "      <th>Antarctica</th>\n",
       "      <td>3802.0</td>\n",
       "      <td>Antarctica</td>\n",
       "      <td>ATA</td>\n",
       "      <td>760.4</td>\n",
       "      <td>(POLYGON ((-59.57209469261153 -80.040178725096...</td>\n",
       "      <td>200000</td>\n",
       "    </tr>\n",
       "    <tr>\n",
       "      <th>Fr. S. Antarctic Lands</th>\n",
       "      <td>140.0</td>\n",
       "      <td>Seven seas (open ocean)</td>\n",
       "      <td>ATF</td>\n",
       "      <td>16.0</td>\n",
       "      <td>POLYGON ((68.935 -48.62500000000001, 69.58 -48...</td>\n",
       "      <td>110000</td>\n",
       "    </tr>\n",
       "    <tr>\n",
       "      <th>Brunei</th>\n",
       "      <td>388190.0</td>\n",
       "      <td>Asia</td>\n",
       "      <td>BRN</td>\n",
       "      <td>20250.0</td>\n",
       "      <td>POLYGON ((114.2040165548284 4.525873928236805,...</td>\n",
       "      <td>50000</td>\n",
       "    </tr>\n",
       "    <tr>\n",
       "      <th>Kuwait</th>\n",
       "      <td>2691158.0</td>\n",
       "      <td>Asia</td>\n",
       "      <td>KWT</td>\n",
       "      <td>149100.0</td>\n",
       "      <td>POLYGON ((47.9745190773499 29.9758192001485, 4...</td>\n",
       "      <td>60000</td>\n",
       "    </tr>\n",
       "    <tr>\n",
       "      <th>Luxembourg</th>\n",
       "      <td>491775.0</td>\n",
       "      <td>Europe</td>\n",
       "      <td>LUX</td>\n",
       "      <td>39370.0</td>\n",
       "      <td>POLYGON ((6.043073357781111 50.12805166279423,...</td>\n",
       "      <td>80000</td>\n",
       "    </tr>\n",
       "    <tr>\n",
       "      <th>Norway</th>\n",
       "      <td>4676305.0</td>\n",
       "      <td>Europe</td>\n",
       "      <td>NOR</td>\n",
       "      <td>276400.0</td>\n",
       "      <td>(POLYGON ((28.16554731620292 71.18547435168051...</td>\n",
       "      <td>60000</td>\n",
       "    </tr>\n",
       "    <tr>\n",
       "      <th>Qatar</th>\n",
       "      <td>833285.0</td>\n",
       "      <td>Asia</td>\n",
       "      <td>QAT</td>\n",
       "      <td>91330.0</td>\n",
       "      <td>POLYGON ((50.81010827006958 24.75474253997138,...</td>\n",
       "      <td>110000</td>\n",
       "    </tr>\n",
       "    <tr>\n",
       "      <th>W. Sahara</th>\n",
       "      <td>-99.0</td>\n",
       "      <td>Africa</td>\n",
       "      <td>ESH</td>\n",
       "      <td>-99.0</td>\n",
       "      <td>POLYGON ((-8.794883999049077 27.12069631602251...</td>\n",
       "      <td>1000000</td>\n",
       "    </tr>\n",
       "    <tr>\n",
       "      <th>United States</th>\n",
       "      <td>313973000.0</td>\n",
       "      <td>North America</td>\n",
       "      <td>USA</td>\n",
       "      <td>15094000.0</td>\n",
       "      <td>(POLYGON ((-155.54211 19.08348000000001, -155....</td>\n",
       "      <td>50000</td>\n",
       "    </tr>\n",
       "  </tbody>\n",
       "</table>\n",
       "</div>"
      ],
      "text/plain": [
       "                            pop_est                continent iso_a3  \\\n",
       "name                                                                  \n",
       "Antarctica                   3802.0               Antarctica    ATA   \n",
       "Fr. S. Antarctic Lands        140.0  Seven seas (open ocean)    ATF   \n",
       "Brunei                     388190.0                     Asia    BRN   \n",
       "Kuwait                    2691158.0                     Asia    KWT   \n",
       "Luxembourg                 491775.0                   Europe    LUX   \n",
       "Norway                    4676305.0                   Europe    NOR   \n",
       "Qatar                      833285.0                     Asia    QAT   \n",
       "W. Sahara                     -99.0                   Africa    ESH   \n",
       "United States           313973000.0            North America    USA   \n",
       "\n",
       "                        gdp_md_est  \\\n",
       "name                                 \n",
       "Antarctica                   760.4   \n",
       "Fr. S. Antarctic Lands        16.0   \n",
       "Brunei                     20250.0   \n",
       "Kuwait                    149100.0   \n",
       "Luxembourg                 39370.0   \n",
       "Norway                    276400.0   \n",
       "Qatar                      91330.0   \n",
       "W. Sahara                    -99.0   \n",
       "United States           15094000.0   \n",
       "\n",
       "                                                                 geometry  \\\n",
       "name                                                                        \n",
       "Antarctica              (POLYGON ((-59.57209469261153 -80.040178725096...   \n",
       "Fr. S. Antarctic Lands  POLYGON ((68.935 -48.62500000000001, 69.58 -48...   \n",
       "Brunei                  POLYGON ((114.2040165548284 4.525873928236805,...   \n",
       "Kuwait                  POLYGON ((47.9745190773499 29.9758192001485, 4...   \n",
       "Luxembourg              POLYGON ((6.043073357781111 50.12805166279423,...   \n",
       "Norway                  (POLYGON ((28.16554731620292 71.18547435168051...   \n",
       "Qatar                   POLYGON ((50.81010827006958 24.75474253997138,...   \n",
       "W. Sahara               POLYGON ((-8.794883999049077 27.12069631602251...   \n",
       "United States           (POLYGON ((-155.54211 19.08348000000001, -155....   \n",
       "\n",
       "                        gdp_per_cap  \n",
       "name                                 \n",
       "Antarctica                   200000  \n",
       "Fr. S. Antarctic Lands       110000  \n",
       "Brunei                        50000  \n",
       "Kuwait                        60000  \n",
       "Luxembourg                    80000  \n",
       "Norway                        60000  \n",
       "Qatar                        110000  \n",
       "W. Sahara                   1000000  \n",
       "United States                 50000  "
      ]
     },
     "execution_count": 95,
     "metadata": {},
     "output_type": "execute_result"
    }
   ],
   "source": [
    "world[world.gdp_per_cap > 40000] # wat kunnen we nog aanpassen om betere resultaten te krijgen?"
   ]
  },
  {
   "cell_type": "markdown",
   "metadata": {},
   "source": [
    "<a id='ex4'></a>\n",
    "[terug naar index](#index)\n",
    "# exercise 4\n",
    "Gebruik het in [exercise 3](#ex3) gemaakte ```GeoDataFrame```.\n",
    "Bepaal met ```groupby``` per ```continent``` de minimale, gemiddelde en maximale neerslag.\n",
    "\n",
    "^  \n",
    "\n",
    "| continent     |   min |     mean |   max |\n",
    "|---------------|-------|----------|-------|\n",
    "| Africa        |    56 |  873.293 |  2526 |\n",
    "| Asia          |    59 | 1014.78  |  2875 |\n",
    "| Europe        |   450 |  914.903 |  1940 |\n",
    "| North America |   537 | 1766.27  |  2926 |\n",
    "| Oceania       |   534 | 2000     |  3142 |\n",
    "| South America |   591 | 1690.09  |  2612 |"
   ]
  },
  {
   "cell_type": "code",
   "execution_count": null,
   "metadata": {},
   "outputs": [],
   "source": []
  },
  {
   "cell_type": "markdown",
   "metadata": {
    "slideshow": {
     "slide_type": "slide"
    }
   },
   "source": [
    "<a id='str'></a>\n",
    "[terug naar index](#index)\n",
    "# strings\n",
    "\n",
    "dezelfde methodes die je op ```python``` ```strings``` kan gebruiken kan je ook in ```pandas``` op ```Series```, of ```DataFrames```  gebruiken gebruik ``.str`` en dan de methode, zie hieronder een lijst van de mogelijkheden \n",
    "\n",
    "| method      |           method |           method |           method |\n",
    "|-------------|------------------|------------------|------------------|\n",
    "|``len()``    | ``lower()``      | ``translate()``  | ``islower()``    | \n",
    "|``ljust()``  | ``upper()``      | ``startswith()`` | ``isupper()``    | \n",
    "|``rjust()``  | ``find()``       | ``endswith()``   | ``isnumeric()``  | \n",
    "|``center()`` | ``rfind()``      | ``isalnum()``    | ``isdecimal()``  | \n",
    "|``zfill()``  | ``index()``      | ``isalpha()``    | ``split()``      | \n",
    "|``strip()``  | ``rindex()``     | ``isdigit()``    | ``rsplit()``     | \n",
    "|``rstrip()`` | ``capitalize()`` | ``isspace()``    | ``partition()``  | \n",
    "|``lstrip()`` |  ``swapcase()``  |  ``istitle()``   | ``rpartition()`` |"
   ]
  },
  {
   "cell_type": "code",
   "execution_count": 122,
   "metadata": {
    "slideshow": {
     "slide_type": "fragment"
    }
   },
   "outputs": [
    {
     "data": {
      "text/plain": [
       "Index(['afghanistan', 'angola', 'albania', 'united arab emirates', 'argentina',\n",
       "       'armenia', 'antarctica', 'fr. s. antarctic lands', 'australia',\n",
       "       'austria'],\n",
       "      dtype='object', name='name')"
      ]
     },
     "execution_count": 122,
     "metadata": {},
     "output_type": "execute_result"
    }
   ],
   "source": [
    "world.index.str.lower()[:10]"
   ]
  },
  {
   "cell_type": "code",
   "execution_count": 123,
   "metadata": {
    "slideshow": {
     "slide_type": "fragment"
    }
   },
   "outputs": [
    {
     "data": {
      "text/html": [
       "<div>\n",
       "<style scoped>\n",
       "    .dataframe tbody tr th:only-of-type {\n",
       "        vertical-align: middle;\n",
       "    }\n",
       "\n",
       "    .dataframe tbody tr th {\n",
       "        vertical-align: top;\n",
       "    }\n",
       "\n",
       "    .dataframe thead th {\n",
       "        text-align: right;\n",
       "    }\n",
       "</style>\n",
       "<table border=\"1\" class=\"dataframe\">\n",
       "  <thead>\n",
       "    <tr style=\"text-align: right;\">\n",
       "      <th></th>\n",
       "      <th>pop_est</th>\n",
       "      <th>continent</th>\n",
       "      <th>iso_a3</th>\n",
       "      <th>gdp_md_est</th>\n",
       "      <th>geometry</th>\n",
       "      <th>gdp_per_cap</th>\n",
       "    </tr>\n",
       "    <tr>\n",
       "      <th>name</th>\n",
       "      <th></th>\n",
       "      <th></th>\n",
       "      <th></th>\n",
       "      <th></th>\n",
       "      <th></th>\n",
       "      <th></th>\n",
       "    </tr>\n",
       "  </thead>\n",
       "  <tbody>\n",
       "    <tr>\n",
       "      <th>Zambia</th>\n",
       "      <td>11862740.0</td>\n",
       "      <td>Africa</td>\n",
       "      <td>ZMB</td>\n",
       "      <td>17500.0</td>\n",
       "      <td>POLYGON ((32.75937544122132 -9.23059905358906,...</td>\n",
       "      <td>0</td>\n",
       "    </tr>\n",
       "    <tr>\n",
       "      <th>Zimbabwe</th>\n",
       "      <td>12619600.0</td>\n",
       "      <td>Africa</td>\n",
       "      <td>ZWE</td>\n",
       "      <td>9323.0</td>\n",
       "      <td>POLYGON ((31.19140913262129 -22.2515096981724,...</td>\n",
       "      <td>0</td>\n",
       "    </tr>\n",
       "  </tbody>\n",
       "</table>\n",
       "</div>"
      ],
      "text/plain": [
       "             pop_est continent iso_a3  gdp_md_est  \\\n",
       "name                                                \n",
       "Zambia    11862740.0    Africa    ZMB     17500.0   \n",
       "Zimbabwe  12619600.0    Africa    ZWE      9323.0   \n",
       "\n",
       "                                                   geometry  gdp_per_cap  \n",
       "name                                                                      \n",
       "Zambia    POLYGON ((32.75937544122132 -9.23059905358906,...            0  \n",
       "Zimbabwe  POLYGON ((31.19140913262129 -22.2515096981724,...            0  "
      ]
     },
     "execution_count": 123,
     "metadata": {},
     "output_type": "execute_result"
    }
   ],
   "source": [
    "world[world.index.str.startswith('Z')]"
   ]
  },
  {
   "cell_type": "markdown",
   "metadata": {
    "slideshow": {
     "slide_type": "fragment"
    }
   },
   "source": [
    "als aanvulling op de standaard methode zijn er onderstaande methodes\n",
    "\n",
    "| Method | Description |\n",
    "|--------|-------------|\n",
    "| ``match()`` | Call ``re.match()`` on each element, returning a boolean. |\n",
    "| ``extract()`` | Call ``re.match()`` on each element, returning matched groups as strings.|\n",
    "| ``findall()`` | Call ``re.findall()`` on each element |\n",
    "| ``replace()`` | Replace occurrences of pattern with some other string|\n",
    "| ``contains()`` | Call ``re.search()`` on each element, returning a boolean |\n",
    "| ``count()`` | Count occurrences of pattern|\n",
    "| ``split()``   | Equivalent to ``str.split()``, but accepts regexps |\n",
    "| ``rsplit()`` | Equivalent to ``str.rsplit()``, but accepts regexps |"
   ]
  },
  {
   "cell_type": "code",
   "execution_count": 125,
   "metadata": {
    "slideshow": {
     "slide_type": "fragment"
    }
   },
   "outputs": [
    {
     "data": {
      "text/html": [
       "<div>\n",
       "<style scoped>\n",
       "    .dataframe tbody tr th:only-of-type {\n",
       "        vertical-align: middle;\n",
       "    }\n",
       "\n",
       "    .dataframe tbody tr th {\n",
       "        vertical-align: top;\n",
       "    }\n",
       "\n",
       "    .dataframe thead th {\n",
       "        text-align: right;\n",
       "    }\n",
       "</style>\n",
       "<table border=\"1\" class=\"dataframe\">\n",
       "  <thead>\n",
       "    <tr style=\"text-align: right;\">\n",
       "      <th></th>\n",
       "      <th>pop_est</th>\n",
       "      <th>continent</th>\n",
       "      <th>iso_a3</th>\n",
       "      <th>gdp_md_est</th>\n",
       "      <th>geometry</th>\n",
       "      <th>gdp_per_cap</th>\n",
       "    </tr>\n",
       "    <tr>\n",
       "      <th>name</th>\n",
       "      <th></th>\n",
       "      <th></th>\n",
       "      <th></th>\n",
       "      <th></th>\n",
       "      <th></th>\n",
       "      <th></th>\n",
       "    </tr>\n",
       "  </thead>\n",
       "  <tbody>\n",
       "    <tr>\n",
       "      <th>Switzerland</th>\n",
       "      <td>7604467.0</td>\n",
       "      <td>Europe</td>\n",
       "      <td>CHE</td>\n",
       "      <td>316700.0</td>\n",
       "      <td>POLYGON ((9.59422610844635 47.52505809182027, ...</td>\n",
       "      <td>40000</td>\n",
       "    </tr>\n",
       "    <tr>\n",
       "      <th>Finland</th>\n",
       "      <td>5250275.0</td>\n",
       "      <td>Europe</td>\n",
       "      <td>FIN</td>\n",
       "      <td>193500.0</td>\n",
       "      <td>POLYGON ((28.59192955904319 69.06477692328666,...</td>\n",
       "      <td>40000</td>\n",
       "    </tr>\n",
       "    <tr>\n",
       "      <th>Falkland Is.</th>\n",
       "      <td>3140.0</td>\n",
       "      <td>South America</td>\n",
       "      <td>FLK</td>\n",
       "      <td>105.1</td>\n",
       "      <td>POLYGON ((-61.2 -51.85, -60 -51.25, -59.15 -51...</td>\n",
       "      <td>30000</td>\n",
       "    </tr>\n",
       "    <tr>\n",
       "      <th>Greenland</th>\n",
       "      <td>57600.0</td>\n",
       "      <td>North America</td>\n",
       "      <td>GRL</td>\n",
       "      <td>1100.0</td>\n",
       "      <td>POLYGON ((-46.76379 82.62796, -43.40644 83.225...</td>\n",
       "      <td>20000</td>\n",
       "    </tr>\n",
       "    <tr>\n",
       "      <th>Ireland</th>\n",
       "      <td>4203200.0</td>\n",
       "      <td>Europe</td>\n",
       "      <td>IRL</td>\n",
       "      <td>188400.0</td>\n",
       "      <td>POLYGON ((-6.197884894220991 53.86756500916336...</td>\n",
       "      <td>40000</td>\n",
       "    </tr>\n",
       "    <tr>\n",
       "      <th>Iceland</th>\n",
       "      <td>306694.0</td>\n",
       "      <td>Europe</td>\n",
       "      <td>ISL</td>\n",
       "      <td>12710.0</td>\n",
       "      <td>POLYGON ((-14.50869544112923 66.45589223903143...</td>\n",
       "      <td>40000</td>\n",
       "    </tr>\n",
       "    <tr>\n",
       "      <th>Netherlands</th>\n",
       "      <td>16715999.0</td>\n",
       "      <td>Europe</td>\n",
       "      <td>NLD</td>\n",
       "      <td>672000.0</td>\n",
       "      <td>POLYGON ((6.074182570020923 53.51040334737814,...</td>\n",
       "      <td>40000</td>\n",
       "    </tr>\n",
       "    <tr>\n",
       "      <th>New Zealand</th>\n",
       "      <td>4213418.0</td>\n",
       "      <td>Oceania</td>\n",
       "      <td>NZL</td>\n",
       "      <td>116700.0</td>\n",
       "      <td>(POLYGON ((173.0203747907408 -40.9190524228564...</td>\n",
       "      <td>30000</td>\n",
       "    </tr>\n",
       "    <tr>\n",
       "      <th>Poland</th>\n",
       "      <td>38482919.0</td>\n",
       "      <td>Europe</td>\n",
       "      <td>POL</td>\n",
       "      <td>667900.0</td>\n",
       "      <td>POLYGON ((15.01699588385867 51.10667409932158,...</td>\n",
       "      <td>20000</td>\n",
       "    </tr>\n",
       "    <tr>\n",
       "      <th>Somaliland</th>\n",
       "      <td>3500000.0</td>\n",
       "      <td>Africa</td>\n",
       "      <td>-99</td>\n",
       "      <td>12250.0</td>\n",
       "      <td>POLYGON ((48.93812951029651 9.451748968946674,...</td>\n",
       "      <td>0</td>\n",
       "    </tr>\n",
       "    <tr>\n",
       "      <th>Swaziland</th>\n",
       "      <td>1123913.0</td>\n",
       "      <td>Africa</td>\n",
       "      <td>SWZ</td>\n",
       "      <td>5702.0</td>\n",
       "      <td>POLYGON ((32.07166548028107 -26.73382008230491...</td>\n",
       "      <td>10000</td>\n",
       "    </tr>\n",
       "    <tr>\n",
       "      <th>Thailand</th>\n",
       "      <td>65905410.0</td>\n",
       "      <td>Asia</td>\n",
       "      <td>THA</td>\n",
       "      <td>547400.0</td>\n",
       "      <td>POLYGON ((102.5849324890267 12.18659495691328,...</td>\n",
       "      <td>10000</td>\n",
       "    </tr>\n",
       "  </tbody>\n",
       "</table>\n",
       "</div>"
      ],
      "text/plain": [
       "                 pop_est      continent iso_a3  gdp_md_est  \\\n",
       "name                                                         \n",
       "Switzerland    7604467.0         Europe    CHE    316700.0   \n",
       "Finland        5250275.0         Europe    FIN    193500.0   \n",
       "Falkland Is.      3140.0  South America    FLK       105.1   \n",
       "Greenland        57600.0  North America    GRL      1100.0   \n",
       "Ireland        4203200.0         Europe    IRL    188400.0   \n",
       "Iceland         306694.0         Europe    ISL     12710.0   \n",
       "Netherlands   16715999.0         Europe    NLD    672000.0   \n",
       "New Zealand    4213418.0        Oceania    NZL    116700.0   \n",
       "Poland        38482919.0         Europe    POL    667900.0   \n",
       "Somaliland     3500000.0         Africa    -99     12250.0   \n",
       "Swaziland      1123913.0         Africa    SWZ      5702.0   \n",
       "Thailand      65905410.0           Asia    THA    547400.0   \n",
       "\n",
       "                                                       geometry  gdp_per_cap  \n",
       "name                                                                          \n",
       "Switzerland   POLYGON ((9.59422610844635 47.52505809182027, ...        40000  \n",
       "Finland       POLYGON ((28.59192955904319 69.06477692328666,...        40000  \n",
       "Falkland Is.  POLYGON ((-61.2 -51.85, -60 -51.25, -59.15 -51...        30000  \n",
       "Greenland     POLYGON ((-46.76379 82.62796, -43.40644 83.225...        20000  \n",
       "Ireland       POLYGON ((-6.197884894220991 53.86756500916336...        40000  \n",
       "Iceland       POLYGON ((-14.50869544112923 66.45589223903143...        40000  \n",
       "Netherlands   POLYGON ((6.074182570020923 53.51040334737814,...        40000  \n",
       "New Zealand   (POLYGON ((173.0203747907408 -40.9190524228564...        30000  \n",
       "Poland        POLYGON ((15.01699588385867 51.10667409932158,...        20000  \n",
       "Somaliland    POLYGON ((48.93812951029651 9.451748968946674,...            0  \n",
       "Swaziland     POLYGON ((32.07166548028107 -26.73382008230491...        10000  \n",
       "Thailand      POLYGON ((102.5849324890267 12.18659495691328,...        10000  "
      ]
     },
     "execution_count": 125,
     "metadata": {},
     "output_type": "execute_result"
    }
   ],
   "source": [
    "world[world.index.str.contains('land')]"
   ]
  },
  {
   "cell_type": "markdown",
   "metadata": {},
   "source": [
    "<a id='ex5'></a>\n",
    "[terug naar index](#index)\n",
    "\n",
    "# exercise 5\n",
    "Laad ```data/wiski_export.csv``` naar een ```DataFrame```. Het is altijd goed om even het bestand te openen om het te bekijken, voor je gaat typen. Denk om de specifieke NAN-values uit WISKI.\n",
    "Maak een ```DataFrame``` met per maand de gemiddelde waterstand.\n",
    "\n",
    "(hint, datumformaat is gelijk, kan je iets met ```slicing```?)  \n",
    "  \n",
    "^\n",
    "  \n",
    "|   maand |   Value[mNAP] |\n",
    "|--------:|--------------:|\n",
    "|      01 |      0.66216  |\n",
    "|      02 |      0.597385 |\n",
    "|      03 |      0.557481 |\n",
    "|      04 |      0.47264  |\n",
    "|      05 |      0.461586 |\n",
    "|      06 |      0.470609 |\n",
    "|      07 |      0.472668 |\n",
    "|      08 |      0.479452 |\n",
    "|      09 |      0.497054 |\n",
    "|      10 |      0.516211 |\n",
    "|      11 |      0.584946 |\n",
    "|      12 |      0.63924  |"
   ]
  },
  {
   "cell_type": "code",
   "execution_count": null,
   "metadata": {},
   "outputs": [],
   "source": []
  },
  {
   "cell_type": "markdown",
   "metadata": {},
   "source": [
    "Bepaal de gemiddelde waterstand voor 2018, gebruik ``selection``.\n",
    "\n",
    "^ 0.43... m NAP"
   ]
  },
  {
   "cell_type": "code",
   "execution_count": null,
   "metadata": {},
   "outputs": [],
   "source": []
  },
  {
   "cell_type": "markdown",
   "metadata": {
    "slideshow": {
     "slide_type": "slide"
    }
   },
   "source": [
    "<a id='ts'></a>\n",
    "[terug naar index](#index)\n",
    "# timeseries\n",
    "\n",
    "## basics\n",
    "```pandas``` datum component bouwt voort op verschillende andere packages (zoals bijv. ``datetime``, ``dateutil``). enkele veel voorkomende taken:\n",
    "- van argument (``string``, ``list``, ``Series``) naar ``TimeStamp``, ``pd.to_datetime()``;\n",
    "- van ``TimeStamp`` naar string ``.strftime()`` op ```DateTime``` object;\n",
    "- omzetten van argument (``string``, ``list``, ``Series``) naar ``TimeDeltaIndex``, ``pd.to_timedelta()``;  \n",
    "  \n",
    "onderstaand de datumcodes, die worden gebruikt.\n",
    "\n",
    "|Code    | Meaning     | Time span (relative) | Time span (absolute)   |\n",
    "|--------|-------------|----------------------|------------------------|\n",
    "| ``Y``  | Year\t       | ± 9.2e18 years       | [9.2e18 BC, 9.2e18 AD] |\n",
    "| ``M``  | Month       | ± 7.6e17 years       | [7.6e17 BC, 7.6e17 AD] |\n",
    "| ``W``  | Week\t       | ± 1.7e17 years       | [1.7e17 BC, 1.7e17 AD] |\n",
    "| ``D``  | Day         | ± 2.5e16 years       | [2.5e16 BC, 2.5e16 AD] |\n",
    "| ``h``  | Hour        | ± 1.0e15 years       | [1.0e15 BC, 1.0e15 AD] |\n",
    "| ``m``  | Minute      | ± 1.7e13 years       | [1.7e13 BC, 1.7e13 AD] |\n",
    "| ``s``  | Second      | ± 2.9e12 years       | [ 2.9e9 BC, 2.9e9 AD]  |\n",
    "| ``ms`` | Millisecond | ± 2.9e9 years        | [ 2.9e6 BC, 2.9e6 AD]  |\n",
    "| ``us`` | Microsecond | ± 2.9e6 years        | [290301 BC, 294241 AD] |\n",
    "| ``ns`` | Nanosecond  | ± 292 years          | [ 1678 AD, 2262 AD]    |\n",
    "| ``ps`` | Picosecond  | ± 106 days           | [ 1969 AD, 1970 AD]    |\n",
    "| ``fs`` | Femtosecond | ± 2.6 hours          | [ 1969 AD, 1970 AD]    |\n",
    "| ``as`` | Attosecond  | ± 9.2 seconds        | [ 1969 AD, 1970 AD]    |\n"
   ]
  },
  {
   "cell_type": "code",
   "execution_count": null,
   "metadata": {
    "slideshow": {
     "slide_type": "subslide"
    }
   },
   "outputs": [],
   "source": [
    "pd.to_datetime('4-7-2015', dayfirst=True) # text naar TimeStamp"
   ]
  },
  {
   "cell_type": "code",
   "execution_count": null,
   "metadata": {
    "slideshow": {
     "slide_type": "subslide"
    }
   },
   "outputs": [],
   "source": [
    "pd.to_datetime('4-7-2015', dayfirst=True).strftime('%Y') # TimeStamp naar text, enkel jaar"
   ]
  },
  {
   "cell_type": "code",
   "execution_count": null,
   "metadata": {
    "slideshow": {
     "slide_type": "subslide"
    }
   },
   "outputs": [],
   "source": [
    "pd.to_timedelta(range(15), 'd') # twee weken timedelta"
   ]
  },
  {
   "cell_type": "code",
   "execution_count": null,
   "metadata": {
    "slideshow": {
     "slide_type": "subslide"
    }
   },
   "outputs": [],
   "source": [
    "pd.to_datetime('4-7-2015', dayfirst=True) + pd.to_timedelta(range(15), 'd') # combineren kan ook!"
   ]
  },
  {
   "cell_type": "markdown",
   "metadata": {
    "slideshow": {
     "slide_type": "subslide"
    }
   },
   "source": [
    "enkele timeseries gerelateerde ```Index``` objecten:\n",
    "- een ``DateTimeIndex``, is een ```Index``` van ``TimeStamps``;\n",
    "- een ``PeriodIndex``, meerdere ``TimeStamps`` met een bepaalde periodiciteit, je kan ``to_period()`` gebruiken om een ``DateTimeIndex`` om te zetten naar een ``PeriodIndex``;\n",
    "- een ``TimeDeltaIndex``, wordt bijv. gecreerd als je dagen van elkaar af haalt;  \n",
    "  \n",
    "enkele methodes om deze objecten te maken:\n",
    "- ``pd.date_range()`` kan je snel een range van ``DateTimeIndex`` maken;\n",
    "- ``pd.period_range()`` kan je snel een range van ``PeriodIndex`` maken;\n",
    "- ``pd.timedelta_range()`` kan je snel een range van ``TimeDeltaIndex`` maken;"
   ]
  },
  {
   "cell_type": "code",
   "execution_count": null,
   "metadata": {
    "slideshow": {
     "slide_type": "subslide"
    }
   },
   "outputs": [],
   "source": [
    "pd.date_range('2015-07-01', '2015-07-14')"
   ]
  },
  {
   "cell_type": "code",
   "execution_count": null,
   "metadata": {
    "slideshow": {
     "slide_type": "subslide"
    }
   },
   "outputs": [],
   "source": [
    "pd.date_range('2015-07-01', periods=8, freq='H')"
   ]
  },
  {
   "cell_type": "code",
   "execution_count": null,
   "metadata": {
    "slideshow": {
     "slide_type": "subslide"
    }
   },
   "outputs": [],
   "source": [
    "pd.period_range('2015-07', periods=8, freq='M')"
   ]
  },
  {
   "cell_type": "code",
   "execution_count": null,
   "metadata": {
    "slideshow": {
     "slide_type": "subslide"
    }
   },
   "outputs": [],
   "source": [
    "pd.timedelta_range(0, periods=10, freq='H')"
   ]
  },
  {
   "cell_type": "markdown",
   "metadata": {
    "slideshow": {
     "slide_type": "slide"
    }
   },
   "source": [
    "# timeseries\n",
    "\n",
    "## frequencies\n",
    "hierboven ook al deels gebruikt, hieronder de codes voor de verschillende frequencies;\n",
    "\n",
    "| Code   | Description         | Code   | Description          |\n",
    "|--------|---------------------|--------|----------------------|\n",
    "| ``D``  | Calendar day        | ``B``  | Business day         |\n",
    "| ``W``  | Weekly              |        |                      |\n",
    "| ``M``  | Month end           | ``BM`` | Business month end   |\n",
    "| ``Q``  | Quarter end         | ``BQ`` | Business quarter end |\n",
    "| ``A``  | Year end            | ``BA`` | Business year end    |\n",
    "| ``H``  | Hours               | ``BH`` | Business hours       |\n",
    "| ``T``  | Minutes             |        |                      |\n",
    "| ``S``  | Seconds             |        |                      |\n",
    "| ``L``  | Milliseonds         |        |                      |\n",
    "| ``U``  | Microseconds        |        |                      |\n",
    "| ``N``  | nanoseconds         |        |                      |\n",
    "\n",
    "je kan ze ook nog aanpassen, bijv. een kwartaal wat in januari begint ``Q-JAN``\n",
    "- ``Q-JAN``, ``BQ-FEB``, ``QS-MAR``, ``BQS-APR``, etc.\n",
    "- ``A-JAN``, ``BA-FEB``, ``AS-MAR``, ``BAS-APR``, etc.\n",
    "- ``W-SUN``, ``W-MON``, ``W-TUE``, ``W-WED``, etc."
   ]
  },
  {
   "cell_type": "markdown",
   "metadata": {
    "slideshow": {
     "slide_type": "slide"
    }
   },
   "source": [
    "# timeseries\n",
    "\n",
    "## resampling\n",
    "je kan een timeseries resamplen naar hogere of lagere resolutie met ``resample()``, of de simpelere ``asfreq()``, deze resampling gebeurt op de index.\n",
    "  \n",
    "verschil tussen de twee methodes:  \n",
    "- ``resample()`` is data aggreagtie (dus je kan bijv. de means, of de sums bepalen);\n",
    "- ``asfreq()`` is data selectie;"
   ]
  },
  {
   "cell_type": "code",
   "execution_count": 182,
   "metadata": {
    "slideshow": {
     "slide_type": "fragment"
    }
   },
   "outputs": [],
   "source": [
    "df = pd.read_csv('data/wiski_export.csv', parse_dates=[['Date', 'Time']], index_col=['Date_Time'], \n",
    "                 usecols=['Date', 'Time', 'Value[mNAP]'], na_values='---') # inladen csv, kolom Date & Time naar dates,\n",
    "# Date_Time als index kolom\n",
    "df = df['2018'] # selecteer jaar 2018"
   ]
  },
  {
   "cell_type": "code",
   "execution_count": 183,
   "metadata": {
    "slideshow": {
     "slide_type": "fragment"
    }
   },
   "outputs": [
    {
     "data": {
      "image/png": "[encoded data removed]",
      "text/plain": [
       "<Figure size 792x648 with 1 Axes>"
      ]
     },
     "metadata": {
      "needs_background": "light"
     },
     "output_type": "display_data"
    }
   ],
   "source": [
    "%matplotlib inline\n",
    "import matplotlib.pyplot as plt\n",
    "plt.rcParams.update({'font.size': 16})\n",
    "\n",
    "fig, ax = plt.subplots(figsize=(11,9))\n",
    "df.plot(ax=ax) # een plaatje ter verduidelijking van wat er gebeurt\n",
    "df.asfreq('M').plot(style='--o', ax=ax, markersize=10) # asfreq, laatste waarde maand wordt naar maand gezet\n",
    "df.resample('M').mean().plot(style='--o', ax=ax, markersize=10) # resample, gemiddelde van de hele maand\n",
    "ax.legend(['originele WISKI reeks', 'asfreq (selectie)', 'resample (aggregatie)'])\n",
    "ax.grid(linestyle='dotted')\n",
    "plt.show()"
   ]
  },
  {
   "cell_type": "markdown",
   "metadata": {
    "slideshow": {
     "slide_type": "slide"
    }
   },
   "source": [
    "# timeseries\n",
    "\n",
    "## shifts\n",
    "\n",
    "de methode ``shift()`` verplaatst de data, terwijl ``tshift()`` de index verplaatst, zie hieronder een voorbeeld"
   ]
  },
  {
   "cell_type": "code",
   "execution_count": null,
   "metadata": {
    "slideshow": {
     "slide_type": "fragment"
    }
   },
   "outputs": [],
   "source": [
    "df.shift(3).head()"
   ]
  },
  {
   "cell_type": "code",
   "execution_count": null,
   "metadata": {
    "slideshow": {
     "slide_type": "fragment"
    }
   },
   "outputs": [],
   "source": [
    "df.tshift(3).head()"
   ]
  },
  {
   "cell_type": "markdown",
   "metadata": {
    "slideshow": {
     "slide_type": "slide"
    }
   },
   "source": [
    "# timeseries\n",
    "\n",
    "## rolling\n",
    "```rolling``` is in het nederlands, het voortschrijdend gemiddelde, ``rolling()`` methode in ```pandas```. je kan een ```window``` definieren, dit kan bijv. een week zijn ```7d```."
   ]
  },
  {
   "cell_type": "code",
   "execution_count": 185,
   "metadata": {
    "slideshow": {
     "slide_type": "fragment"
    }
   },
   "outputs": [
    {
     "data": {
      "text/html": [
       "<div>\n",
       "<style scoped>\n",
       "    .dataframe tbody tr th:only-of-type {\n",
       "        vertical-align: middle;\n",
       "    }\n",
       "\n",
       "    .dataframe tbody tr th {\n",
       "        vertical-align: top;\n",
       "    }\n",
       "\n",
       "    .dataframe thead th {\n",
       "        text-align: right;\n",
       "    }\n",
       "</style>\n",
       "<table border=\"1\" class=\"dataframe\">\n",
       "  <thead>\n",
       "    <tr style=\"text-align: right;\">\n",
       "      <th></th>\n",
       "      <th>Value[mNAP]</th>\n",
       "      <th>rolling 7d</th>\n",
       "    </tr>\n",
       "    <tr>\n",
       "      <th>Date_Time</th>\n",
       "      <th></th>\n",
       "      <th></th>\n",
       "    </tr>\n",
       "  </thead>\n",
       "  <tbody>\n",
       "    <tr>\n",
       "      <th>2018-01-01</th>\n",
       "      <td>0.950</td>\n",
       "      <td>0.950000</td>\n",
       "    </tr>\n",
       "    <tr>\n",
       "      <th>2018-01-02</th>\n",
       "      <td>1.059</td>\n",
       "      <td>1.004500</td>\n",
       "    </tr>\n",
       "    <tr>\n",
       "      <th>2018-01-03</th>\n",
       "      <td>1.202</td>\n",
       "      <td>1.070333</td>\n",
       "    </tr>\n",
       "    <tr>\n",
       "      <th>2018-01-04</th>\n",
       "      <td>1.301</td>\n",
       "      <td>1.128000</td>\n",
       "    </tr>\n",
       "    <tr>\n",
       "      <th>2018-01-05</th>\n",
       "      <td>1.130</td>\n",
       "      <td>1.128400</td>\n",
       "    </tr>\n",
       "    <tr>\n",
       "      <th>2018-01-06</th>\n",
       "      <td>0.992</td>\n",
       "      <td>1.105667</td>\n",
       "    </tr>\n",
       "    <tr>\n",
       "      <th>2018-01-07</th>\n",
       "      <td>0.767</td>\n",
       "      <td>1.057286</td>\n",
       "    </tr>\n",
       "    <tr>\n",
       "      <th>2018-01-08</th>\n",
       "      <td>0.673</td>\n",
       "      <td>1.017714</td>\n",
       "    </tr>\n",
       "    <tr>\n",
       "      <th>2018-01-09</th>\n",
       "      <td>0.703</td>\n",
       "      <td>0.966857</td>\n",
       "    </tr>\n",
       "    <tr>\n",
       "      <th>2018-01-10</th>\n",
       "      <td>0.764</td>\n",
       "      <td>0.904286</td>\n",
       "    </tr>\n",
       "  </tbody>\n",
       "</table>\n",
       "</div>"
      ],
      "text/plain": [
       "            Value[mNAP]  rolling 7d\n",
       "Date_Time                          \n",
       "2018-01-01        0.950    0.950000\n",
       "2018-01-02        1.059    1.004500\n",
       "2018-01-03        1.202    1.070333\n",
       "2018-01-04        1.301    1.128000\n",
       "2018-01-05        1.130    1.128400\n",
       "2018-01-06        0.992    1.105667\n",
       "2018-01-07        0.767    1.057286\n",
       "2018-01-08        0.673    1.017714\n",
       "2018-01-09        0.703    0.966857\n",
       "2018-01-10        0.764    0.904286"
      ]
     },
     "execution_count": 185,
     "metadata": {},
     "output_type": "execute_result"
    }
   ],
   "source": [
    "df['rolling 7d'] = df.rolling(window='7d').mean() # 7daags rollend gemiddelde\n",
    "df.head(10)"
   ]
  },
  {
   "cell_type": "code",
   "execution_count": 189,
   "metadata": {
    "slideshow": {
     "slide_type": "fragment"
    }
   },
   "outputs": [
    {
     "data": {
      "image/png": "[encoded data removed]",
      "text/plain": [
       "<Figure size 792x648 with 1 Axes>"
      ]
     },
     "metadata": {
      "needs_background": "light"
     },
     "output_type": "display_data"
    }
   ],
   "source": [
    "fig, ax = plt.subplots(figsize=(11,9)) # een plaatje om het te verduidelijken\n",
    "df.plot(ax=ax)\n",
    "df['Value[mNAP]'].rolling(window='7d').max().plot(ax=ax)\n",
    "ax.legend(['originele WISKI reeks van Dintelsas', 'rolling, 7d, mean', 'rolling, 7d, max'])\n",
    "ax.grid(linestyle='dotted')\n",
    "plt.show()"
   ]
  },
  {
   "cell_type": "markdown",
   "metadata": {},
   "source": [
    "<a id='ex6'></a>\n",
    "[terug naar index](#index)\n",
    "\n",
    "# exercise 6\n",
    "Laad ```data/etmgeg_350.txt``` naar een ```DataFrame```. Het zijn de metingen van KNMI Meteostation Gilze Rijen. Zet  kolom ```YYYYMMDD``` om naar een ```DateTimeIndex``` maak de kolom de ```index``` van het ```DataFrame```. Er zitten allemaal vervelende spaties in oa de kolomnamen, heeft ```read_csv``` geen setting om dit te fixen? Drop alle rijen waar kolom ```RH``` (neerslag in 0.1 mm) ```NaN``` is."
   ]
  },
  {
   "cell_type": "code",
   "execution_count": null,
   "metadata": {},
   "outputs": [],
   "source": []
  },
  {
   "cell_type": "markdown",
   "metadata": {},
   "source": [
    "Bepaal de minimale, gemiddelde, mediane en maximale neerslag __som__ per maand in hele mm (```RH```), zie hieronder de beschrijving van RH.  \n",
    "RH        = Etmaalsom van de neerslag (in 0.1 mm) (-1 voor <0.05 mm) / Daily precipitation amount (in 0.1 mm) (-1 for <0.05 mm)  \n",
    "We moeten de -1 waardes dus nog aanpassen. (dit kan met ```selection```, maar je kan ook ```.replace()``` gebruiken)\n",
    "\n",
    "^\n",
    "  \n",
    "|    maandnr |   min |   mean |   median |   max |\n",
    "|-----------:|------:|-------:|---------:|------:|\n",
    "|          1 |     1 |     70 |       67 |   152 |\n",
    "|          2 |     0 |     56 |       57 |   132 |\n",
    "|          3 |     7 |     62 |       68 |   128 |\n",
    "|          4 |     0 |     44 |       38 |   117 |\n",
    "|          5 |     3 |     62 |       57 |   137 |\n",
    "|          6 |     2 |     67 |       59 |   135 |\n",
    "|          7 |     1 |     76 |       67 |   167 |\n",
    "|          8 |    12 |     67 |       59 |   221 |\n",
    "|          9 |     8 |     65 |       55 |   179 |\n",
    "|         10 |    18 |     69 |       70 |   177 |\n",
    "|         11 |     9 |     72 |       72 |   150 |\n",
    "|         12 |    18 |     79 |       75 |   171 |"
   ]
  },
  {
   "cell_type": "code",
   "execution_count": null,
   "metadata": {},
   "outputs": [],
   "source": []
  },
  {
   "cell_type": "markdown",
   "metadata": {},
   "source": [
    "Bereken de toename of afname van de gemiddelde temperatuur (```TG```) tussen twee dagen in graden Celsius. Wat is het grootste tussen twee dagen?\n",
    "\n",
    "^ 10.7 graden Celsius"
   ]
  },
  {
   "cell_type": "code",
   "execution_count": null,
   "metadata": {},
   "outputs": [],
   "source": []
  },
  {
   "cell_type": "markdown",
   "metadata": {},
   "source": [
    "Bereken het totaal doorlopend potentieel neerslagoverschot (neerslag, ```RH``` - potentiele verdamping, ```EV24```) per jaar in mm. Het neerslagoverschot wordt berekend in de periode tussen 1 april en 31 september.\n",
    "\n",
    "^  \n",
    "  \n",
    "|   jaar     |   neerslagoverschot (mm) |\n",
    "|-----------:|-------------------------:|\n",
    "|       2010 |                   -104.9 |\n",
    "|       2011 |                   -129.8 |\n",
    "|       2012 |                    -24.8 |\n",
    "|       2013 |                   -137.6 |\n",
    "|       2014 |                    -16.7 |\n",
    "|       2015 |                   -117.5 |\n",
    "|       2016 |                    -44.1 |\n",
    "|       2017 |                   -116.8 |\n",
    "|       2018 |                   -353   |\n",
    "|       2019 |                   -191.8 |\n"
   ]
  },
  {
   "cell_type": "code",
   "execution_count": null,
   "metadata": {},
   "outputs": [],
   "source": []
  },
  {
   "cell_type": "markdown",
   "metadata": {},
   "source": [
    "<a id='ex7'></a>\n",
    "[terug naar index](#index)\n",
    "\n",
    "# exercise 7\n",
    "Laad ```data\\legger.gdb``` in, hiervoor kan je ```read_file``` van ```geopandas``` gebruiken, met ```keywords```: ```driver='FileGDB'``` en ```layer=0```. Dit zijn alle A-watergangen in ons gebied uit de Legger (2014)."
   ]
  },
  {
   "cell_type": "code",
   "execution_count": null,
   "metadata": {},
   "outputs": [],
   "source": []
  },
  {
   "cell_type": "markdown",
   "metadata": {},
   "source": [
    "Bepaal per bijzondere functie de minimale, gemiddelde, mediane en maximale bodembreedte, voeg daaraan de totale lengte van de watergangen per categorie in kilometer toe (som, ```merge```?).  \n",
    "Wat valt je op? Er zitten enkele dubbele functies in, typfoutjes. Corrigeer ze. Verander de functie ```<Null>```, en functieloos (```NaN```) naar ```Overig```.\n",
    "\n",
    "^  \n",
    "  \n",
    "| BIJZ_FUNCT                               |   min |     mean |   median |    max |   SHAPE_Length |\n",
    "|:-----------------------------------------|------:|---------:|---------:|-------:|---------------:|\n",
    "| Ecologische Verbindingszone              |   0.5 |  2.8327  |    1.5   |  31.47 |     198.669    |\n",
    "| Ecologische verbindingszone, Scheepvaart |  12.7 | 12.7     |   12.7   |  12.7  |       2.47563  |\n",
    "| MV                                       |   0.7 |  4.56    |    0.7   |  20    |       1.43652  |\n",
    "| Overig                                   |   0.1 |  2.03411 |    1.14  |  80    |    3321.86     |\n",
    "| Retentie                                 |   0.5 |  8.30548 |    5.2   |  70    |       9.05696  |\n",
    "| Scheepvaart                              |   4   | 16.9714  |   12.7   |  60    |       6.73371  |\n",
    "| Verweven                                 |   0.8 |  9.05432 |   12.5   |  36.5  |      29.5066   |\n",
    "| Verweven, Ecologische Verbindingszone    |   0.5 |  6.99868 |    6.4   |  39.3  |      76.404    |\n",
    "| Waternatuur                              |   0.5 |  4.82538 |    1.9   |  78.16 |      96.4808   |\n",
    "| Waternatuur, Ecologische Verbindingszone |   0.5 |  9.07035 |    4.705 | 100    |      40.0791   |\n",
    "| Zwemwater                                |  10   | 10       |   10     |  10    |       2.89047  |\n",
    "| persleiding                              |   0.5 |  0.5     |    0.5   |   0.5  |       0.113302 |"
   ]
  },
  {
   "cell_type": "code",
   "execution_count": null,
   "metadata": {},
   "outputs": [],
   "source": []
  },
  {
   "cell_type": "markdown",
   "metadata": {},
   "source": [
    "Bepaal per gemeente er per bijzonder functie de totale lengte aan watergangen in kilometers (som). Maak er een tabel van met rijen met daarin de functies, en de kolommen de gemeentes. Rond af op 2 decimalen.\n",
    "\n",
    "^ \n",
    "  \n",
    "| BIJZ_FUNCT                               | Alphen-Chaam   | Baarle Nassau   | Bergen op Zoom   | Breda   | Dongen   | Drimmelen   | Etten-Leur   | Geertruidenberg   | Gilze en Rijen   | Goirle   | Halderberge   | Loon op Zand   | Moerdijk   | Oosterhout   | Roosendaal   | Rucphen   | Steenbergen   | Tilburg   | Waalwijk   | Woensdrecht   | Zundert   |\n",
    "|:-----------------------------------------|:---------------|:----------------|:-----------------|:--------|:---------|:------------|:-------------|:------------------|:-----------------|:---------|:--------------|:---------------|:-----------|:-------------|:-------------|:----------|:--------------|:----------|:-----------|:--------------|:----------|\n",
    "| Ecologische Verbindingszone              | 19.45          | 22.4            | 15.0             | 20.44   | 8.23     | 12.98       | 13.62        | -                 | 15.86            | 3.11     | 7.69          | -              | 8.15       | 6.09         | 19.09        | 4.63      | 17.24         | 4.37      | -          | -             | 0.34      |\n",
    "| Ecologische verbindingszone, Scheepvaart | -              | -               | -                | -       | -        | -           | 2.48         | -                 | -                | -        | -             | -              | -          | -            | -            | -         | -             | -         | -          | -             | -         |\n",
    "| MV                                       | -              | -               | -                | 1.44    | -        | -           | -            | -                 | -                | -        | -             | -              | -          | -            | -            | -         | -             | -         | -          | -             | -         |\n",
    "| Overig                                   | 77.36          | 56.37           | 111.71           | 227.98  | 49.94    | 316.18      | 132.67       | 72.61             | 60.33            | 12.49    | 180.08        | 52.21          | 670.71     | 102.6        | 182.51       | 74.38     | 355.8         | 77.63     | 180.21     | 152.59        | 175.52    |\n",
    "| Retentie                                 | 0.1            | -               | 0.41             | 5.27    | -        | 0.19        | 3.08         | -                 | -                | -        | -             | -              | -          | -            | -            | -         | -             | -         | -          | -             | -         |\n",
    "| Scheepvaart                              | -              | -               | 1.99             | -       | -        | -           | 3.2          | -                 | -                | -        | -             | -              | -          | -            | -            | -         | 1.55          | -         | -          | -             | -         |\n",
    "| Verweven                                 | 3.68           | 1.55            | 1.55             | 10.87   | 3.69     | 0.24        | -            | -                 | -                | 4.86     | -             | -              | -          | 0.03         | 3.05         | -         | -             | -         | -          | -             | -         |\n",
    "| Verweven, Ecologische Verbindingszone    | -              | -               | -                | 5.2     | -        | 3.2         | -            | 4.15              | -                | 3.44     | 0.05          | -              | 10.6       | 3.97         | 23.45        | 0.49      | 12.14         | 9.72      | -          | -             | -         |\n",
    "| Waternatuur                              | 39.36          | 19.74           | 6.08             | 6.73    | -        | 2.63        | 1.78         | -                 | 1.38             | -        | -             | -              | 3.18       | -            | -            | -         | 13.29         | -         | -          | 1.95          | 0.36      |\n",
    "| Waternatuur, Ecologische Verbindingszone | 4.97           | -               | -                | 4.31    | -        | 3.39        | -            | -                 | -                | -        | -             | -              | 5.78       | -            | -            | -         | 21.63         | -         | -          | -             | -         |\n",
    "| Zwemwater                                | -              | -               | 2.89             | -       | -        | -           | -            | -                 | -                | -        | -             | -              | -          | -            | -            | -         | -             | -         | -          | -             | -         |\n",
    "| persleiding                              | -              | -               | -                | 0.11    | -        | -           | -            | -                 | -                | -        | -             | -              | -          | -            | -            | -         | -             | -         | -          | -             | -         |"
   ]
  },
  {
   "cell_type": "code",
   "execution_count": null,
   "metadata": {},
   "outputs": [],
   "source": []
  },
  {
   "cell_type": "markdown",
   "metadata": {},
   "source": [
    "Welke 3 gemeente hebben de meeste Ecologische Verbindingszones in kilometers (alle types).\n",
    "\n",
    "^  \n",
    "Steenbergen    51.01  \n",
    "Roosendaal     42.54  \n",
    "Breda          29.95  "
   ]
  },
  {
   "cell_type": "code",
   "execution_count": null,
   "metadata": {},
   "outputs": [],
   "source": []
  },
  {
   "cell_type": "markdown",
   "metadata": {},
   "source": [
    "![](https://media.giphy.com/media/lvOnlEYunAwOkHjgmU/giphy.gif)"
   ]
  },
  {
   "cell_type": "markdown",
   "metadata": {},
   "source": [
    "<a id='ex8'></a>\n",
    "[terug naar index](#index)\n",
    "\n",
    "# exercise 8 - de vrije opdracht\n",
    "\n",
    "![](https://media.giphy.com/media/6901DbEbbm4o0/giphy.gif)  \n",
    "  \n",
    "Als het goed is heb je zelf een bestand meegenomen (```.csv```, ```.xls```, ```.shp``` of wat dan ook). Lees dit bestand eerst in met ```pandas``` dan wel ```geopandas```. Zorg dat je datum kolommen inleest als ```DateTimeIndex```, en je overige kolommen ook het juiste ```type``` zijn. Gebruik een logische ```index```."
   ]
  },
  {
   "cell_type": "code",
   "execution_count": null,
   "metadata": {},
   "outputs": [],
   "source": []
  },
  {
   "cell_type": "markdown",
   "metadata": {},
   "source": [
    "Doe wat analyse. Kijk bijv. naar ```.describe()```, ```.info()```. Wat wil je doen met ```NaN```waardes, verwijderen, opvullen of behouden?"
   ]
  },
  {
   "cell_type": "code",
   "execution_count": null,
   "metadata": {},
   "outputs": [],
   "source": []
  },
  {
   "cell_type": "markdown",
   "metadata": {},
   "source": [
    "Kan je bijv. een interessante ```groupby``` doen, ```resample``` of wat dan ook."
   ]
  },
  {
   "cell_type": "code",
   "execution_count": null,
   "metadata": {},
   "outputs": [],
   "source": []
  }
 ],
 "metadata": {
  "kernelspec": {
   "display_name": "Python 3",
   "language": "python",
   "name": "python3"
  },
  "language_info": {
   "codemirror_mode": {
    "name": "ipython",
    "version": 3
   },
   "file_extension": ".py",
   "mimetype": "text/x-python",
   "name": "python",
   "nbconvert_exporter": "python",
   "pygments_lexer": "ipython3",
   "version": "3.7.3"
  }
 },
 "nbformat": 4,
 "nbformat_minor": 2
}
