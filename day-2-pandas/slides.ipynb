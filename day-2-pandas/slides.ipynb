{
 "cells": [
  {
   "cell_type": "code",
   "execution_count": 6,
   "metadata": {
    "slideshow": {
     "slide_type": "skip"
    }
   },
   "outputs": [
    {
     "name": "stderr",
     "output_type": "stream",
     "text": [
      "[NbConvertApp] Converting notebook slides.ipynb to slides\n",
      "[NbConvertApp] Writing 284824 bytes to slides.slides.html\n"
     ]
    }
   ],
   "source": [
    "!jupyter nbconvert --to=slides slides.ipynb --SlidesExporter.reveal_transition=none"
   ]
  },
  {
   "cell_type": "raw",
   "metadata": {
    "raw_mimetype": "text/html",
    "slideshow": {
     "slide_type": "skip"
    }
   },
   "source": [
    "<style>\n",
    "\n",
    ".CodeMirror {\n",
    "    width: 100vw;\n",
    "}\n",
    "\n",
    ".container {\n",
    "    width: 99% !important;\n",
    "}\n",
    "\n",
    ".rendered_html {\n",
    "  font-size:0.8em;\n",
    "}\n",
    ".rendered_html table, .rendered_html th, .rendered_html tr, .rendered_html td {\n",
    "     font-size: 100%;\n",
    "}\n",
    "\n",
    "</style>"
   ]
  },
  {
   "cell_type": "markdown",
   "metadata": {
    "slideshow": {
     "slide_type": "slide"
    }
   },
   "source": [
    "# python bij wsbd\n",
    "### today: pandas\n",
    "![](https://media.giphy.com/media/EatwJZRUIv41G/giphy.gif)\n",
    "\n",
    "- introductie;\n",
    "- daarna weer aan de slag in notebook;\n",
    "    - pandas object (pd.Series, pd.DataFrame);\n",
    "    - i/o (inlezen, wegschrijven);\n",
    "    - indexing & selection;\n",
    "    - dropping;\n",
    "    - missende data (nans);\n",
    "    - sorteren\n",
    "    - samenvoegen (merge);\n",
    "    - grouping;\n",
    "    - string;\n",
    "    - timeseries;\n",
    "    \n",
    "<script>\n",
    "    console.log(\"Hello. You'll see this printed in your browser's DevTools / Console. Feel free to delete this line.\");\n",
    "    document.querySelector('head').innerHTML += '<style>.slides { zoom: 1.0 !important; }</style>';\n",
    "</script>"
   ]
  },
  {
   "cell_type": "markdown",
   "metadata": {
    "slideshow": {
     "slide_type": "slide"
    }
   },
   "source": [
    "# python bij wsbd afgelopen sessie\n",
    "## wat vond je van afgelopen keer?\n",
    "\n",
    "ga naar [menti.com](https://www.mentimeter.com/s/83e9989d7b6e8400b220b940f3510390/59448e1b81f4)"
   ]
  },
  {
   "cell_type": "markdown",
   "metadata": {
    "slideshow": {
     "slide_type": "slide"
    }
   },
   "source": [
    "# pandas introductie\n",
    "## wat is dat?\n",
    "\n",
    "- package;\n",
    "- pandas -> “Python Data Analysis Library”;\n",
    "- gebouwd op numpy (overgeslagen, pandas toegankelijker);\n",
    "- bevat data structures en tools voor data analyse;\n",
    "- kracht: van data (csv, en vele andere) naar indeling vergelijkbaar met bijv. Excel, SPSS;\n",
    "- veel van de bewerkingen die je kan doen in deze programma's (Excel, SPSS, R) kan je ook met pandas;\n",
    "- broertje van pandas, geopandas voegt daar ook nog is geometry aan toe;\n",
    "\n",
    "\n",
    "![](https://pandas.pydata.org/_static/pandas_logo.png)"
   ]
  },
  {
   "cell_type": "markdown",
   "metadata": {
    "slideshow": {
     "slide_type": "slide"
    }
   },
   "source": [
    "# pandas introductie\n",
    "## gebruiken in jouw code\n",
    "\n",
    "```python\n",
    "import pandas as pd # soort van conventie om pd te gebruiken\n",
    "import geopandas as gpd # voor de geovariant\n",
    "```\n",
    "\n",
    "## recap built-in documentation\n",
    "om de volledige inhoud van de pandas namespace (pd) te zien;\n",
    "```ipython\n",
    "In [3]: pd.<TAB>\n",
    "```\n",
    "om de ingebouwde documentatie van pandas te openen\n",
    "```ipython\n",
    "In [4]: pd?\n",
    "```\n",
    "kan ook voor een specifieke functie\n",
    "```ipython\n",
    "In [5]: pd.read_csv?\n",
    "```"
   ]
  },
  {
   "cell_type": "markdown",
   "metadata": {
    "slideshow": {
     "slide_type": "slide"
    }
   },
   "source": [
    "# pak een bak koffie en let's go\n",
    "![](https://thumbs.gfycat.com/LoneLinedFurseal-small.gif)"
   ]
  },
  {
   "cell_type": "markdown",
   "metadata": {
    "slideshow": {
     "slide_type": "slide"
    }
   },
   "source": [
    "# aan de slag!\n",
    "de bestanden zijn weer te vinden op ```G:\\Iedereen\\python-wsbd\\day-2```  \n",
    "kopieer de bestanden naar dezelfde map als waar je je andere bestanden hebt gedropt, maak een mapje pandas ofzo \n",
    "run het ```.bat``` bestand (dubbelklik), er zou een ```cmd``` scherm moeten openen, wacht even  \n",
    "```browser``` moet geopend worden, met daarin de filetree van de map die je hebt geselecteerd\n",
    "open ```notebook.ipynb```  \n",
    "ga aan de slag!  \n",
    "bij vragen ```Valerie``` of ```Thomas```\n",
    "  \n",
    "als je er vorige keer niet bij bent, pas het ```.bat``` bestand aan, verander ```G\\Iedereen\\python-wsbd```, naar de mapnaam waar je het naartoe hebt gekopieerd.\n",
    "  \n",
    "![](https://res.cloudinary.com/practicaldev/image/fetch/s--dWwH4rJ4--/c_limit%2Cf_auto%2Cfl_progressive%2Cq_66%2Cw_880/https://media2.giphy.com/media/fnD9cHHIrYRYk/giphy.gif)\n"
   ]
  },
  {
   "cell_type": "code",
   "execution_count": null,
   "metadata": {},
   "outputs": [],
   "source": []
  }
 ],
 "metadata": {
  "celltoolbar": "Raw Cell Format",
  "kernelspec": {
   "display_name": "Python 3",
   "language": "python",
   "name": "python3"
  },
  "language_info": {
   "codemirror_mode": {
    "name": "ipython",
    "version": 3
   },
   "file_extension": ".py",
   "mimetype": "text/x-python",
   "name": "python",
   "nbconvert_exporter": "python",
   "pygments_lexer": "ipython3",
   "version": "3.7.3"
  }
 },
 "nbformat": 4,
 "nbformat_minor": 2
}
