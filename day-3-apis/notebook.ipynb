{
 "cells": [
  {
   "cell_type": "markdown",
   "metadata": {},
   "source": [
    "<a id='index'></a>\n",
    "# APIs\n",
    "- [requests](#requests)\n",
    "- [json](#json)\n",
    "- [exercise 1](#ex1)\n",
    "- [exercise 2](#ex2)\n",
    "- [requests continued](#requests2)\n",
    "- [exercise 3](#ex3)\n",
    "- [knmi api](#knmi)\n",
    "- [exercise 4](#ex4)\n",
    "\n",
    "### keuze\n",
    "- [kiwis api](#kiwis)\n",
    "- [kiwis exercise](#exkiwis)\n",
    "- [hydronet api](#hydronet)\n",
    "- [hydronet exercise](#hydronetex)"
   ]
  },
  {
   "cell_type": "markdown",
   "metadata": {},
   "source": [
    "<a id='requests'></a>\n",
    "[terug naar index](#index)\n",
    "# requests\n",
    "met ``requests`` kan je 'het web' bevragen, [documentatie](https://requests.kennethreitz.org/en/master/). met ```get``` zoals de naam ook al zegt krijg je iets terug. daarnaast heb je nog andere standaard HTTP requests deze gebruik je waarschijnlijk niet of minimaal."
   ]
  },
  {
   "cell_type": "code",
   "execution_count": null,
   "metadata": {
    "scrolled": false
   },
   "outputs": [],
   "source": [
    "import requests\n",
    "r = requests.get('https://www.brabantsedelta.nl')\n",
    "r.text[:1000] # eerste 1000 tekens van brabantsedelta website"
   ]
  },
  {
   "cell_type": "markdown",
   "metadata": {},
   "source": [
    "```r``` hierboven is een ```Response``` object, een ```Response``` object heeft verschillende ```methods```, hierboven zag je al ```text```, daarnaast heb je:\n",
    "- ```encoding```, geeft de encoding terug;\n",
    "- ```content```, geeft de content as bytes terug, bijv. als je een foto wil laden;\n",
    "- ```json```, als je met ``json`` data werkt;\n",
    "- ```status``` geeft de statuscode terug:\n",
    "    - 100+ Mededelend\n",
    "    - 200+ OK\n",
    "    - 300+ Omleiding\n",
    "    - 400+ Aanvraagfout\n",
    "    - 500+ Serverfout"
   ]
  },
  {
   "cell_type": "code",
   "execution_count": null,
   "metadata": {},
   "outputs": [],
   "source": [
    "r = requests.get('http://media.giphy.com/media/xTiTnwVTjUsBJAMim4/giphy.gif', verify=False)\n",
    "display(r.encoding)"
   ]
  },
  {
   "cell_type": "code",
   "execution_count": null,
   "metadata": {},
   "outputs": [],
   "source": [
    "display(r.content[:1000]) # eerste 1000 tekens van de gif"
   ]
  },
  {
   "cell_type": "code",
   "execution_count": null,
   "metadata": {
    "scrolled": false
   },
   "outputs": [],
   "source": [
    "from IPython.display import Image\n",
    "display(Image(r.content))"
   ]
  },
  {
   "cell_type": "code",
   "execution_count": null,
   "metadata": {
    "scrolled": false
   },
   "outputs": [],
   "source": [
    "r = requests.get('https://raw.githubusercontent.com/michaelx/climate/master/climate.json', verify=False) # bij het waterschap\n",
    "# is de SSL kapot, dus als je iets van een https-site wil halen moet je verify=False meegeven, je krijgt dan ook onderstaande\n",
    "# lelijke melding\n",
    "r.json()[0]"
   ]
  },
  {
   "cell_type": "markdown",
   "metadata": {},
   "source": [
    "<a id='json'></a>\n",
    "[terug naar index](#index)\n",
    "# json\n",
    "```JSON```of JavaScript Object Notation, is een gestandaardiseerd gegevensformaat. ``JSON`` maakt gebruik van een door mens leesbare vorm met attributen en waarden. (een soort ```dictionary```) ```JSON``` wordt veel gebruikt in uitwisseling van data tussen servers en applicaties, het is een alternatief voor ```XML```. En wordt veel gebruikt in API's.  \n",
    "  \n",
    "Een ```JSON``` kan bestaan uit getallen, strings, letterlijke waardes (true, false, null), lists [waarde,..], en een soort dictionary {string: waarde, ...}.\n",
    "\n",
    "``.json()`` zet een ``JSON`` om naar een combinatie van ``python`` ``lists`` en ``dictionaries``.\n",
    "\n",
    "Hieronder een voorbeeld, met daarin een lijst met steden (als voorbeeld enkel de eerste 3), per stad zijn in ``dictionary`` vorm verschillende attributen en waarden weergegeven. ``monthlyAvg`` is weer een ``list`` met daarin ``dictionaries``."
   ]
  },
  {
   "cell_type": "code",
   "execution_count": null,
   "metadata": {},
   "outputs": [],
   "source": [
    "r.json()[0:3]"
   ]
  },
  {
   "cell_type": "markdown",
   "metadata": {},
   "source": [
    "je kan in een ```JSON``` door middel van ```selection``` ``[]`` selecteren, recap bij een ``list`` gebruik je een integer ``index``, en bij een ``dictionary`` de ``key``."
   ]
  },
  {
   "cell_type": "code",
   "execution_count": null,
   "metadata": {},
   "outputs": [],
   "source": [
    "r.json()[0]['monthlyAvg'][5] # Amsterdam, maandgemiddelde juni"
   ]
  },
  {
   "cell_type": "code",
   "execution_count": null,
   "metadata": {},
   "outputs": [],
   "source": [
    "r.json()[1]['city']"
   ]
  },
  {
   "cell_type": "markdown",
   "metadata": {},
   "source": [
    "```python``` kent ook een standaard package ```json```, met ```loads``` kan je een ``string`` inlezen naar een ``JSON``, waarbij het wordt omgezet in een combinatie van ``lists`` en ``dictionaries``. dit doet ``json()`` van request ook."
   ]
  },
  {
   "cell_type": "code",
   "execution_count": null,
   "metadata": {},
   "outputs": [],
   "source": [
    "import json\n",
    "json.loads(r.text)[0:3]"
   ]
  },
  {
   "cell_type": "markdown",
   "metadata": {},
   "source": [
    "omdat ```.json()``` van ```requests``` of ```.loads()``` van ```json``` het ``JSON`` bestand inleest naar ``lists`` en ``dictionaries`` kan je ook de ``methods`` van vorige week gebruiken."
   ]
  },
  {
   "cell_type": "code",
   "execution_count": null,
   "metadata": {},
   "outputs": [],
   "source": [
    "r.json()[0].keys()"
   ]
  },
  {
   "cell_type": "code",
   "execution_count": null,
   "metadata": {},
   "outputs": [],
   "source": [
    "r.json()[0].values()"
   ]
  },
  {
   "cell_type": "markdown",
   "metadata": {},
   "source": [
    "<a id='ex1'></a>\n",
    "[terug naar index](#index)\n",
    "# exercise 1\n",
    "Bepaal de neerslag jaarsom van Amsterdam. (hint: gebruik ```pandas```)\n",
    "\n",
    "^ 805 mm"
   ]
  },
  {
   "cell_type": "code",
   "execution_count": null,
   "metadata": {},
   "outputs": [],
   "source": []
  },
  {
   "cell_type": "markdown",
   "metadata": {},
   "source": [
    "Doe hetzelfde voor Tokyo.\n",
    "\n",
    "^ 1342.8"
   ]
  },
  {
   "cell_type": "code",
   "execution_count": null,
   "metadata": {},
   "outputs": [],
   "source": []
  },
  {
   "cell_type": "markdown",
   "metadata": {},
   "source": [
    "Hoeveel Spaanse steden zitten er in de ```JSON```?\n",
    "\n",
    "^ 5"
   ]
  },
  {
   "cell_type": "code",
   "execution_count": null,
   "metadata": {},
   "outputs": [],
   "source": []
  },
  {
   "cell_type": "markdown",
   "metadata": {},
   "source": [
    "<a id='ex2'></a>\n",
    "[terug naar index](#index)\n",
    "# exercise 2\n",
    "\n",
    "Om wat te oefenen met ``requests`` en api's gaan we ```OMDb API``` gebruiken, deze API bevat informatie over films. Bekijk de [documentatie](http://www.omdbapi.com/). En zoek de laatste film op waar je naartoe bent geweest. Wat was de IMDb score? (hint: gebruik ``get``)"
   ]
  },
  {
   "cell_type": "code",
   "execution_count": null,
   "metadata": {},
   "outputs": [],
   "source": [
    "API_KEY = '2bf1b169'\n",
    "url = 'http://www.omdbapi.com/?apikey=%s&' % (API_KEY)"
   ]
  },
  {
   "cell_type": "code",
   "execution_count": null,
   "metadata": {},
   "outputs": [],
   "source": []
  },
  {
   "cell_type": "markdown",
   "metadata": {},
   "source": [
    "Maak een functie ```get_film_by_title```. Die voor de parameter ```title```, ofwel de filmtitel, de geparste json terug geeft."
   ]
  },
  {
   "cell_type": "code",
   "execution_count": null,
   "metadata": {},
   "outputs": [],
   "source": []
  },
  {
   "cell_type": "markdown",
   "metadata": {},
   "source": [
    "Maak een functie ```return_runtime_by_title```. Die voor de parameter ```title```, de Runtime teruggeeft. Test het op 'The Matrix'.\n",
    "\n",
    "^ 136 min"
   ]
  },
  {
   "cell_type": "code",
   "execution_count": null,
   "metadata": {},
   "outputs": [],
   "source": []
  },
  {
   "cell_type": "markdown",
   "metadata": {},
   "source": [
    "<a id='requests2'></a>\n",
    "[terug naar index](#index)\n",
    "# requests, continued\n",
    "```get``` van ```request``` kent ook het keyword ```params```. met ```params``` kan je met een ```dictionary``` een request opbouwen, ``params`` vertaald je ``dictionary`` naar bijbehorende url (standaard opbouw), ``key`` is de parameter, ``value`` de waarde."
   ]
  },
  {
   "cell_type": "code",
   "execution_count": null,
   "metadata": {},
   "outputs": [],
   "source": [
    "import requests\n",
    "r = requests.get(url, params={'t': 'The Shawshank Redemption', 'year': '1994'})\n",
    "r.json()"
   ]
  },
  {
   "cell_type": "code",
   "execution_count": null,
   "metadata": {},
   "outputs": [],
   "source": [
    "r.url"
   ]
  },
  {
   "cell_type": "markdown",
   "metadata": {},
   "source": [
    "<a id='ex3'></a>\n",
    "[terug naar index](#index)\n",
    "# exercise 3\n",
    "Bouw een functie ``get_movie``, met de parameters ``title``, ``year`` en ``type``. Je functie moet ook werken als er bijv. alleen een titel wordt meegegeven. Return de hele geparste ``JSON``."
   ]
  },
  {
   "cell_type": "code",
   "execution_count": null,
   "metadata": {},
   "outputs": [],
   "source": []
  },
  {
   "cell_type": "markdown",
   "metadata": {},
   "source": [
    "<a id='knmi'></a>\n",
    "[terug naar index](#index)\n",
    "# knmi api\n",
    "de [KNMI API](https://www.knmi.nl/kennis-en-datacentrum/achtergrond/data-ophalen-vanuit-een-script), hiermee kan je daggegevens van de automatische stations en neerslagstations ophalen. en uurgegevens van sommige parameters van de automatische stations. de API geeft het standaard KNMI formaat terug, wat verschrikkelijk is, dus het inlezen is altijd een gedoe.\n",
    "\n",
    "In het algemeen worden de volgende parameters herkend (gekopieerd van documentatie), voor specifieke parameters per API kijk naar de [documentatie](https://www.knmi.nl/kennis-en-datacentrum/achtergrond/data-ophalen-vanuit-een-script):\n",
    "\n",
    "- ``start``, De volledige datum (start) in het format YYYYMMDD. Default is de eerste dag van de huidige maand.\n",
    "- ``end``, De volledige datum (end) in het format YYYYMMDD. Default is de huidige dag (of de laatste dag waarvoor data aanwezig is).\n",
    "- ``inseason`` Wanneer deze variabele ingevuld is, worden van elk jaar tussen begin- en einddatum alleen de dagen geselecteerd die binnen het seizoen (bday,bmonth)-(eday,emonth) vallen. Bijvoorbeeld, als inseason=Y en de begin- en einddatum zijn respectievelijk 19731101 en 20030303, dan bevat de uitvoer alleen de dagen tussen deze twee data die in de periode 1 november t/m 3 maart vallen, terwijl 19730406 en 20080406 alle 6-aprils in de jaren 1973 t/m 2008 opleveren.\n",
    "- ``vars`` Lijst van gewenste variabelen in willekeurige volgorde, aangeduid met hun acroniemen (zoals op de selectiepagina) gescheiden door ':', bijvoorbeeld 'TG:TN:EV24'. Hierin zijn de volgende acroniemen gedefiniëerd om groepen van variabelen aan te duiden:\n",
    "    - WIND = DDVEC:FG:FHX:FHX:FX wind\n",
    "    - TEMP = TG:TN:TX:T10N temperatuur\n",
    "    - SUNR = SQ:SP:Q Zonneschijnduur en globale straling\n",
    "    - PRCP = DR:RH:EV24 neerslag en potentiële verdamping\n",
    "    - PRES = PG:PGX:PGN druk op zeeniveau\n",
    "    - VICL = VVN:VVX:NG zicht en bewolking\n",
    "    - MSTR = UG:UX:UN luchtvochtigheid\n",
    "    - ALL alle variabelen (default)\n",
    "- ``stns`` Lijst van gewenste stations (nummers) in willekeurige volgorde, gescheiden door ':'. Geen default waarde; Stations móeten zijn gespecificeerd. ALL staat voor álle stations.\n",
    "\n",
    "De beginurls zijn:\n",
    "- http://projects.knmi.nl/klimatologie/daggegevens/getdata_dag.cgi voor de dagdata van de automatische stations;\n",
    "- http://projects.knmi.nl/klimatologie/monv/reeksen/getdata_rr.cgi voor de dagdata van de neerslagstations;\n",
    "- http://projects.knmi.nl/klimatologie/uurgegevens/getdata_uur.cgi voor de uurdata van de automatische stations\n",
    "\n",
    "hieronder een voorbeeld waar we de neerslagvars (```PRCP```) binnenhalen voor Gilze-Rijen (```350```), van 1 januari 2018 tot nu. je heb ``StringIO`` nodig om de text die terug wordt gegeven te parsen (er zitten ``\\n`` en ``\\r`` in etc.). knmi heeft een verschrikkelijk formaat, de header met informatie heeft een # voor elke regel. we moeten een trucje uithalen om de kolomnamen binnen te halen, deze zijn ook gecomment met #. dit doe ik hieronder met een ``list comprehension``."
   ]
  },
  {
   "cell_type": "code",
   "execution_count": null,
   "metadata": {
    "scrolled": false
   },
   "outputs": [],
   "source": [
    "from io import StringIO\n",
    "import pandas as pd\n",
    "\n",
    "url_dag = 'http://projects.knmi.nl/klimatologie/daggegevens/getdata_dag.cgi'\n",
    "params = {'start': '20180101', 'vars': 'PRCP', 'stns': '350'}\n",
    "\n",
    "r = requests.get(url_dag, params=params)\n",
    "columnnames = [column.strip() for column in StringIO(r.text).read().split(\"#\")[-2].split(',')] # split op comment #, pak de\n",
    "# een-na-laatste dit zijn de kolomnamen, split weer met komma, en strip() de kolomnamen van spaties en /r/n\n",
    "pd.read_csv(StringIO(r.text), comment='#', sep=',', names=columnnames, parse_dates=[1], index_col=[1])"
   ]
  },
  {
   "cell_type": "markdown",
   "metadata": {},
   "source": [
    "<a id='ex4'></a>\n",
    "[terug naar index](#index)\n",
    "# exercise 4\n",
    "Haal de gehele neerslagreeks van het neerslagstation Chaam binnen ```834```. Lees deze in naar een ```DataFrame``` met als ```index``` de datum (natuurlijk als DateTime object). Om het handig te maken heeft dit bestand weer geen comments... Kijk naar de foutmelding van ```read_csv``` waar het foutgaat... (```skiprows```?)"
   ]
  },
  {
   "cell_type": "code",
   "execution_count": null,
   "metadata": {},
   "outputs": [],
   "source": []
  },
  {
   "cell_type": "markdown",
   "metadata": {},
   "source": [
    "Geef de verschillende statistieken (``describe``) voor de neerslagsom (```RD```) per maand (``groupby``) in mm over alle jaren voor station Chaam.\n",
    "\n",
    "^\n",
    "  \n",
    "|   YYYYMMDD |   count |    mean |     std |   min |   25% |   50% |    75% |   max |\n",
    "|-----------:|--------:|--------:|--------:|------:|------:|------:|-------:|------:|\n",
    "|          1 |      69 | 69.7783 | 31.5334 |   3.1 | 49.5  | 71    |  87.2  | 148   |\n",
    "|          2 |      69 | 53.671  | 27.72   |   1.6 | 31.2  | 55.6  |  73.5  | 137.1 |\n",
    "|          3 |      69 | 59.6087 | 29.458  |   5.2 | 38.3  | 55.4  |  78.7  | 133.2 |\n",
    "|          4 |      69 | 46.2971 | 28.0235 |   0   | 23.6  | 39.9  |  63.7  | 124.9 |\n",
    "|          5 |      69 | 58.4116 | 30.2682 |   3.2 | 34.4  | 52.1  |  75.6  | 136.7 |\n",
    "|          6 |      69 | 70.0348 | 34.4038 |   3.6 | 43.9  | 64.6  |  91.2  | 149.8 |\n",
    "|          7 |      69 | 78.7159 | 39.2226 |   2   | 45.3  | 79.9  | 109.7  | 166.1 |\n",
    "|          8 |      69 | 75.4145 | 38.4923 |  12.6 | 47.8  | 72.7  |  97.8  | 209.5 |\n",
    "|          9 |      69 | 69      | 44.168  |   5.1 | 35.9  | 60.6  |  92    | 214.3 |\n",
    "|         10 |      69 | 72.0261 | 36.166  |   5.2 | 48    | 69.9  |  86.5  | 162.9 |\n",
    "|         11 |      68 | 74.1    | 32.1221 |   9   | 47.95 | 76.1  |  91.5  | 168.9 |\n",
    "|         12 |      68 | 76.9794 | 37.8252 |  12   | 52.55 | 68.15 | 103.65 | 172.9 |"
   ]
  },
  {
   "cell_type": "code",
   "execution_count": null,
   "metadata": {},
   "outputs": [],
   "source": []
  },
  {
   "cell_type": "markdown",
   "metadata": {},
   "source": [
    "gelukkig zijn er mensen die ook al packages hebben geschreven op de knmi api te gebruiken en direct om te schrijven naar een ```DataFrame```, zoals ```knmi``` dat is bij ons geinstalleerd."
   ]
  },
  {
   "cell_type": "code",
   "execution_count": null,
   "metadata": {},
   "outputs": [],
   "source": [
    "import knmi\n",
    "knmi.get_day_data_dataframe(['350'], start='20180101')"
   ]
  },
  {
   "cell_type": "markdown",
   "metadata": {},
   "source": [
    "<a id='kiwis'></a>\n",
    "[terug naar index](#index)\n",
    "# kiwis api\n",
    "``KIWIS`` is de API van ons WIS systeem: WISKI, hierin worden onze tijdsreeksen opgeslagen. de API is enkel te benaderen vanaf het interne netwerk. dit is het [startpunt](http://10.10.3.126:8080/KiWIS/KiWIS?datasource=0&service=kisters&type=queryServices) van de API. de [documentatie](http://10.10.3.126:8080/KiWIS/KiWIS?datasource=0&service=kisters&type=queryServices&request=getrequestinfo) van KIWIS is redelijk goed, dus pak die erbij als je een query maakt.\n",
    "\n",
    "de documentatie is opgebouwd uit: \n",
    "- ```queryfields```, deze parameters kan je gebruiken om een selectie te maken;\n",
    "- ```formats```, de formaten die teruggegeven kunnen worden;\n",
    "- ```returnfields```, met de parameter ```returnfields``` kan je verder specificeren wat de API teruggeeft;\n",
    "- ```optional fields```, met overige settings;\n",
    "\n",
    "onderaan vind je een paar voorbeelden, voor ```localhost``` moet je invullen ```10.10.3.126```.\n",
    "\n",
    "hieronder een paar voorbeelden, om het voor jezelf overzichtelijk te houden gebruik het ``keyword`` ```params``` in ``get``."
   ]
  },
  {
   "cell_type": "code",
   "execution_count": null,
   "metadata": {},
   "outputs": [],
   "source": [
    "url = 'http://10.10.3.126:8080/KiWIS/KiWIS?datasource=0&service=kisters&type=queryServices'\n",
    "params = {'request': 'getsitelist', 'format': 'json'}\n",
    "r = requests.get(url, params=params)\n",
    "pd.DataFrame(r.json()[2:12], columns=r.json()[0]) # eerste 10 sites in WISKI, eerste rij zijn de kolomnamen (r.json()[0])"
   ]
  },
  {
   "cell_type": "code",
   "execution_count": null,
   "metadata": {},
   "outputs": [],
   "source": [
    "url = 'http://10.10.3.126:8080/KiWIS/KiWIS?datasource=0&service=kisters&type=queryServices'\n",
    "params = {'request': 'getsitelist', 'format': 'json', 'site_name': '*stuw*'} # * is wildcard\n",
    "r = requests.get(url, params=params)\n",
    "pd.DataFrame(r.json()[2:12], columns=r.json()[0]) # eerste 10 sites met in de naam stuw"
   ]
  },
  {
   "cell_type": "code",
   "execution_count": null,
   "metadata": {},
   "outputs": [],
   "source": [
    "url = 'http://10.10.3.126:8080/KiWIS/KiWIS?datasource=0&service=kisters&type=queryServices'\n",
    "params = {'request': 'getsitelist', 'format': 'json', 'site_name': '*stuw*', 'returnfields': ','.join(['site_no', 'site_name', \\\n",
    "                                                                                              'site_latitude', 'site_longitude'])}\n",
    "r = requests.get(url, params=params)\n",
    "pd.DataFrame(r.json()[2:12], columns=r.json()[0]) # eerste 10 sites met in de naam stuw & returnfields"
   ]
  },
  {
   "cell_type": "markdown",
   "metadata": {},
   "source": [
    "wat ```WISKI``` basis, een ```site``` bestaat uit ```stations```, welke weer ```timeseries``` bevat, deze hebben een ``ts_id`` unieke identifier per reeks en daarmee kan je de waarden van de reeks ophalen.\n",
    "\n",
    "``site`` {site} -> meerdere ``stations`` (zoals bijv. waterstand bovenstrooms {site}_WTH_BOV, waterstand benedenstrooms {site}_WTH_BEN, klepstand {site}_KKL) -> meerdere ``timeseries`` (zoals bijv. dag gemiddelde, Continuereeks etc.) -> elke ``timeseries`` van een ``station`` heeft een ``ts_id``.\n",
    "\n",
    "om dat te illustreren hieronder een voorbeeld voor de ``site`` -> 'Brooijmans' het gemaal in Kruislandse Kreken."
   ]
  },
  {
   "cell_type": "code",
   "execution_count": null,
   "metadata": {},
   "outputs": [],
   "source": [
    "url = 'http://10.10.3.126:8080/KiWIS/KiWIS?datasource=0&service=kisters&type=queryServices'\n",
    "params = {'request': 'getsitelist', 'format': 'json', 'site_name': '*Brooijmans*'} \n",
    "r = requests.get(url, params=params)\n",
    "pd.DataFrame(r.json()[1:], columns=r.json()[0]) # een site met site_no 7131"
   ]
  },
  {
   "cell_type": "code",
   "execution_count": null,
   "metadata": {},
   "outputs": [],
   "source": [
    "url = 'http://10.10.3.126:8080/KiWIS/KiWIS?datasource=0&service=kisters&type=queryServices'\n",
    "params = {'request': 'getstationlist', 'format': 'json', 'site_name': 'Brooijmans*'} \n",
    "r = requests.get(url, params=params)\n",
    "stations = pd.DataFrame(r.json()[1:], columns=r.json()[0]) # met meerdere stations, bijv. de pompen, waterstanden, en debieten\n",
    "stations # stations met station_no 7131_WTH_IN etc."
   ]
  },
  {
   "cell_type": "code",
   "execution_count": null,
   "metadata": {},
   "outputs": [],
   "source": [
    "url = 'http://10.10.3.126:8080/KiWIS/KiWIS?datasource=0&service=kisters&type=queryServices'\n",
    "params = {'request': 'gettimeserieslist', 'format': 'json', 'station_no': '7131_TDB'} # hier kan je site_name niet meer gebruiken\n",
    "# als query\n",
    "r = requests.get(url, params=params)\n",
    "pd.DataFrame(r.json()[1:], columns=r.json()[0]) # een station_no met timeseries, verschillende aggregaties en niveaus & eenheden"
   ]
  },
  {
   "cell_type": "code",
   "execution_count": null,
   "metadata": {},
   "outputs": [],
   "source": [
    "url = 'http://10.10.3.126:8080/KiWIS/KiWIS?datasource=0&service=kisters&type=queryServices'\n",
    "params = {'request': 'gettimeseriesvalues', 'format': 'json', 'ts_id': '16713042'} # enkel ts_id kan je hier als query gebruiken\n",
    "# om te reeks te selecteren, je kan ook nog periode die je wil meegeven, als je niks meegeeft krijg je de laatste meting terug\n",
    "r = requests.get(url, params=params)\n",
    "pd.DataFrame(r.json()) # meting behorende bij ts_id"
   ]
  },
  {
   "cell_type": "markdown",
   "metadata": {},
   "source": [
    "<a id='kiwisex'></a>\n",
    "[terug naar index](#index)\n",
    "# exercise KIWIS\n",
    "Haal de ``Dag.Gem`` ``Totaaldebiet`` reeks van ``Blauwe Kamer`` binnen van de afgelopen 10 jaar. Maak er een ``DataFrame``  van met een ``DateTimeIndex``."
   ]
  },
  {
   "cell_type": "code",
   "execution_count": null,
   "metadata": {},
   "outputs": [],
   "source": []
  },
  {
   "cell_type": "markdown",
   "metadata": {},
   "source": [
    "Haal de eerste 10 ``Dag.Gem`` Peilbuizen meetreeksen binnen, van de afgelopen 3 jaar. Maak er een ``DataFrame`` van met een ``DateTimeIndex`` en in de kolommen de metingen, maak de kolomnaam gelijk aan het ``station_no``. (hint: ``merge``?)"
   ]
  },
  {
   "cell_type": "code",
   "execution_count": null,
   "metadata": {},
   "outputs": [],
   "source": []
  },
  {
   "cell_type": "markdown",
   "metadata": {},
   "source": [
    "Haal alle waterstandmeetreeksen in WISKI binnen in het KRW-stroomgebied van de Aa of Weerijs. Gebruik daarvoor ``data/krwaaofweerijs.shp``, lees deze in als ``GeoDataFrame``. Haal daarna alle metadata binnen van de waterstandsmetingen, zet deze om naar een ``GeoDataFrame``, let op ze moeten dezelfde projectie hebben (het stroomgebied is in RD (``'epsg:28992'``)). Je kan punten aanmaken in de ``geometry`` met ``[Point(x, y) for x, y in zip(df.Longitude, df.Latitude)]``. "
   ]
  },
  {
   "cell_type": "code",
   "execution_count": null,
   "metadata": {},
   "outputs": [],
   "source": [
    "import geopandas as gpd # geopandas inladen\n",
    "from shapely.geometry import Point # point om de geometry aan te maken\n",
    "stroomgebied = \n",
    "meta = "
   ]
  },
  {
   "cell_type": "markdown",
   "metadata": {},
   "source": [
    "Gebruik ``.within()`` om de meetpunten in het krw stroomgebied van de Aa of Weerijs te selecteren, ```within``` moet je toepassen op de ```geometry``` van de ```GeoDataFrames```. "
   ]
  },
  {
   "cell_type": "code",
   "execution_count": null,
   "metadata": {},
   "outputs": [],
   "source": [
    "within_stroomgebied = "
   ]
  },
  {
   "cell_type": "markdown",
   "metadata": {},
   "source": [
    "Haal alle ``Dag.Gem`` meetreeksen binnen voor de geselecteerde meetpunten. Maak de kolomnaam weer gelijk aan het ``station_no``, gebruik een ``DateTimeIndex``."
   ]
  },
  {
   "cell_type": "code",
   "execution_count": null,
   "metadata": {},
   "outputs": [],
   "source": []
  },
  {
   "cell_type": "markdown",
   "metadata": {},
   "source": [
    "<a id='hydronet'></a>\n",
    "[terug naar index](#index)\n",
    "# HydroNET API\n",
    "de HydroNET API (ofwel hydro.dommel.nl) bevat informatie uit WISKI, ZICHT, IRIS & AQUO (en daarnaast ook data van de Dommel & Aa en Maas). de [documentatie](http://hydro.dommel.nl/) is hier terug te vinden, deze is niet geweldig en je zal het vooral met de voorbeelden uit de documentatie moeten doen.\n",
    "\n",
    "dws.api?request=[```requestname```]&format=[```format```][&```parameters```]dit is de standaard url bevraging,\n",
    "\n",
    "### requestnames\n",
    "de ```requestnames``` die gebruikt kunnen worden zijn:\n",
    "- GetDwsLog\tReturn the dws log table from the dws database\t\n",
    "- GetRequestLog\tReturn the request log table from the dws database\n",
    "- GetUpdateStatusLog\tReturn the update status log table from the dws database\t\n",
    "- GetStatus\tReturn the status table from the dws database\t\n",
    "- GetDataSources\tReturn the DataSources configured in the DWS\t\n",
    "- GetLocations\tReturn the Locations configured for a specific theme in the DWS\t\n",
    "- GetGeoLocations\tReturn the Locations based on some EPSG configured in the DWS\t\n",
    "- GetParameterGroups\tReturn the parameter groups configured in the DWS\t\n",
    "- GetParameters\tReturn the parameters based on a theme configured in the DWS\t\n",
    "- GetThmeCategories\tReturn the theme categories configured in the DWS\t\n",
    "- GetThemes\tReturn the themes configured in the DWS\t\n",
    "- GetTimeseries\tReturn the timeseries configured in the DWS\t\n",
    "- GetData\tGet data from the source system and return it\t\n",
    "- GetDataCalc\tGet data from the source system, perform an operation on the data and return it\t\n",
    "\n",
    "### formats\n",
    "de ```formats``` die gebruikt kunnen worden zijn:\n",
    "- xml\n",
    "- html\n",
    "- json\n",
    "- jsonp\n",
    "- jsont (Json returned as html)\n",
    "- csv\n",
    "\n",
    "### parameters\n",
    "selectie van de ```parameters``` die gebruikt kunnen worden:\n",
    "- datasource=[id]\n",
    "- search=[code/name/description query]\n",
    "- startdate=[yyyymmddhhmm]\n",
    "- enddate=[yyyymmddhhmm]\n",
    "- parameter=[parameter id's], parcode=[parameter code str]\n",
    "- parametergroups=[parametergroup id]\n",
    "- locations=[location id's]\n",
    "- locationcodes=[location codes]\n",
    "- timeserie=[timeserie id]\n",
    "- timeseries=[timeserie id's]"
   ]
  },
  {
   "cell_type": "code",
   "execution_count": null,
   "metadata": {},
   "outputs": [],
   "source": [
    "import requests\n",
    "url = 'http://hydro.dommel.nl/dws.api?'\n",
    "\n",
    "params = {'request': 'getthemes', 'format': 'json'}\n",
    "r = requests.get(url, params=params)\n",
    "r.json()"
   ]
  },
  {
   "cell_type": "code",
   "execution_count": null,
   "metadata": {},
   "outputs": [],
   "source": [
    "import pandas as pd\n",
    "pd.DataFrame(r.json()['Data'])"
   ]
  },
  {
   "cell_type": "code",
   "execution_count": null,
   "metadata": {},
   "outputs": [],
   "source": [
    "params = {'request': 'getdatasources', 'format': 'json'}\n",
    "r = requests.get(url, params=params)\n",
    "pd.DataFrame(r.json()['Data'])"
   ]
  },
  {
   "cell_type": "code",
   "execution_count": null,
   "metadata": {},
   "outputs": [],
   "source": [
    "r.url"
   ]
  },
  {
   "cell_type": "code",
   "execution_count": null,
   "metadata": {
    "scrolled": false
   },
   "outputs": [],
   "source": [
    "params = {'request': 'getgeolocations', 'format': 'json', 'theme': 1}\n",
    "r = requests.get(url, params=params)\n",
    "all_locations = pd.DataFrame(r.json()['Data']) # alle geolocaties voor het thema water kwaliteit\n",
    "all_locations"
   ]
  },
  {
   "cell_type": "code",
   "execution_count": null,
   "metadata": {},
   "outputs": [],
   "source": [
    "all_locations[all_locations.Name.str.contains('Tonnekreek')]"
   ]
  },
  {
   "cell_type": "code",
   "execution_count": null,
   "metadata": {
    "scrolled": true
   },
   "outputs": [],
   "source": [
    "params = {'request': 'getparameters', 'format': 'json', 'theme': 1, 'parcode': 'Ntot[mg/l][N][OW]'}\n",
    "r = requests.get(url, params=params)\n",
    "pd.DataFrame(r.json()['Data'])"
   ]
  },
  {
   "cell_type": "code",
   "execution_count": null,
   "metadata": {},
   "outputs": [],
   "source": [
    "params = {'request': 'getdata', 'format': 'json', 'theme': 1, 'parcode': 'Ntot[mg/l][N][OW]', 'loccode': '790401', \\\n",
    "          'startdate': '201801010000', 'enddate': '201910010000', 'timeserie': 42} # loccode met WSBDID of loc met LocationID\n",
    "r = requests.get(url, params=params)\n",
    "r.text\n",
    "pd.DataFrame(r.json()['Data'])"
   ]
  },
  {
   "cell_type": "code",
   "execution_count": null,
   "metadata": {
    "scrolled": false
   },
   "outputs": [],
   "source": [
    "pd.DataFrame(r.json()['Data'][0]['Values'])"
   ]
  },
  {
   "cell_type": "markdown",
   "metadata": {},
   "source": [
    "Grote probleem bij HydroNET API is, je moet echt weten welke parameter je wil hebben, welke locatie etc. Dat maakt het gebruik wat omslachtig, er is geen overzicht met daarin waar welke parameters worden gemeten. Maar daar kunnen we misschien wel brute force iets op verzinnen, zie opdracht hieronder. Hij is wel ietsje lastiger..."
   ]
  },
  {
   "cell_type": "markdown",
   "metadata": {},
   "source": [
    "<a id='hydronetex'></a>\n",
    "[terug naar index](#index)\n",
    "# exercise hydronet - waterkwaliteit\n"
   ]
  },
  {
   "cell_type": "markdown",
   "metadata": {},
   "source": [
    "Lees ``data/krwaaofweerijs.shp`` in met ``geopandas``, dit is het krw stroomgebied van de Aa of Weerijs. En haal met de ``HydroNET-API`` alle geolocaties van het waterkwaliteitthema binnen, maak van de geolocaties een ``GeoDataFrame``. Je kan ```pd.concat([locations, pd.DataFrame([x[0] for x in locations['Projections']])], axis=1)``` gebruiken om de ```Projections``` kolom 'uit te pakken'. Zet de projectie ```crs``` naar ``'epsg:28992'``. Om de punten (x,y) in te laden naar de ``geometry``  kan je gebruik maken van ``[Point(x, y) for x, y in zip(df.Longitude, df.Latitude)]``."
   ]
  },
  {
   "cell_type": "code",
   "execution_count": null,
   "metadata": {},
   "outputs": [],
   "source": [
    "import geopandas as gpd # geopandas inladen\n",
    "from shapely.geometry import Point # point om de geometry aan te maken\n",
    "stroomgebied = \n",
    "meta = "
   ]
  },
  {
   "cell_type": "code",
   "execution_count": null,
   "metadata": {},
   "outputs": [],
   "source": []
  },
  {
   "cell_type": "markdown",
   "metadata": {},
   "source": [
    "Gebruik ``.within()`` om de meetpunten in het krw stroomgebied van de Aa of Weerijs te selecteren, ```within``` moet je toepassen op de ```geometry``` van de ```GeoDataFrames```. "
   ]
  },
  {
   "cell_type": "code",
   "execution_count": null,
   "metadata": {},
   "outputs": [],
   "source": []
  },
  {
   "cell_type": "markdown",
   "metadata": {},
   "source": [
    "Kijk voor al deze meetpunten (gebruik alleen de unieke ``Code``) of er reeksen zijn van Stikstof Totaal (``Ntot[mg/l][N][OW]``). Lees de meetreeks in als je ```DataFrame``` niet ``empty`` is. Je ```DataFrame``` enkel de kolom ``'Values'`` te bevatten, maak van de index een ``DateTimeIndex``. Zet de kolomnaam (df.columns = [kolomnaam]) gelijk aan de ``'Code'`` van het meetpunt. ``merge`` voor alle meetpunten de reeksen aan elkaar.\n",
    "Bepaal de gemiddelde concentratie van alle meetpunten per maand over alle jaren.\n",
    "\n",
    "^  \n",
    "  \n",
    "|   Date | Ntot (mg/l) |\n",
    "|-------:|---------:|\n",
    "|      1 | 24.7833  |\n",
    "|      2 |  8.08074 |\n",
    "|      3 | 15.1619  |\n",
    "|      4 |  8.96428 |\n",
    "|      5 | 19.4139  |\n",
    "|      6 |  5.8413  |\n",
    "|      7 | 14.5883  |\n",
    "|      8 |  4.97162 |\n",
    "|      9 |  4.92305 |\n",
    "|     10 |  6.33352 |\n",
    "|     11 | 13.4333  |\n",
    "|     12 |  8.67037 |"
   ]
  },
  {
   "cell_type": "code",
   "execution_count": null,
   "metadata": {
    "scrolled": false
   },
   "outputs": [],
   "source": []
  },
  {
   "cell_type": "markdown",
   "metadata": {},
   "source": [
    "``merge`` de gemiddelde concentratie Stikstof totaal aan het ``GeoDataFrame`` met daarin de meetpunten in de Aa of Weerijs. Noem het ``DataFrame`` ``gemNtotaafoweerijs``, de kolom met daarin de gemiddelde stikstof concentraties ``Ntot (mg/l)``, en run de cel eronder, en bekijk wat voor moois je hebt gemaakt. Volgende week meer daarover!"
   ]
  },
  {
   "cell_type": "code",
   "execution_count": null,
   "metadata": {},
   "outputs": [],
   "source": []
  },
  {
   "cell_type": "code",
   "execution_count": null,
   "metadata": {},
   "outputs": [],
   "source": [
    "import matplotlib.pyplot as plt\n",
    "import seaborn as sns\n",
    "\n",
    "from matplotlib.colors import ListedColormap\n",
    "\n",
    "%matplotlib inline\n",
    "\n",
    "cmap = ListedColormap(sns.color_palette('rainbow', 10).as_hex()) # discrete colormap\n",
    "fig, ax = plt.subplots(figsize=(11,9), dpi=500) # figuur aanmaken\n",
    "stroomgebied.plot(ax=ax, alpha=0.5, color='lightgrey') # ondergrond stroomgebied plotten\n",
    "ax.set_title('Gemiddelde concentratie Stikstof totaal (mg/l)\\nper meetpunt in KRW-stroomgebied van de Aa of Weerijs') # titel\n",
    "gemNtotaafoweerijs.plot(column=['Ntot (mg/l)'], figsize=(11,9), legend=False, vmin=0, vmax=10, markersize=24, ax=ax, cmap=cmap)\n",
    "scatter = ax.collections[1] # je plot met Ntot ophalen\n",
    "plt.colorbar(scatter, ax=ax, extend='max', shrink=0.5) # colorbar toevoegen (kan ook met legend=True) maar die is enorm groot\n",
    "ax.axis('off') # geen assen\n",
    "fig.tight_layout() # alles iets dichter bij elkaar zette\n",
    "for x, y, label in zip(merged.geometry.x, merged.geometry.y, merged['Ntot (mg/l)'].round(1)): # waarde erbij zetten\n",
    "    ax.annotate(label, xy=(x, y), xytext=(4, 4), textcoords=\"offset points\")"
   ]
  }
 ],
 "metadata": {
  "kernelspec": {
   "display_name": "Python 3",
   "language": "python",
   "name": "python3"
  },
  "language_info": {
   "codemirror_mode": {
    "name": "ipython",
    "version": 3
   },
   "file_extension": ".py",
   "mimetype": "text/x-python",
   "name": "python",
   "nbconvert_exporter": "python",
   "pygments_lexer": "ipython3",
   "version": "3.7.3"
  }
 },
 "nbformat": 4,
 "nbformat_minor": 2
}
