{
 "cells": [
  {
   "cell_type": "code",
   "execution_count": 2,
   "metadata": {
    "slideshow": {
     "slide_type": "skip"
    }
   },
   "outputs": [
    {
     "name": "stderr",
     "output_type": "stream",
     "text": [
      "[NbConvertApp] Converting notebook slides.ipynb to slides\n",
      "[NbConvertApp] Writing 280581 bytes to slides.slides.html\n"
     ]
    }
   ],
   "source": [
    "!jupyter nbconvert --to=slides slides.ipynb --SlidesExporter.reveal_transition=none"
   ]
  },
  {
   "cell_type": "raw",
   "metadata": {
    "raw_mimetype": "text/html",
    "slideshow": {
     "slide_type": "skip"
    }
   },
   "source": [
    "<style>\n",
    "\n",
    ".CodeMirror {\n",
    "    width: 100vw;\n",
    "}\n",
    "\n",
    ".container {\n",
    "    width: 99% !important;\n",
    "}\n",
    "\n",
    ".rendered_html {\n",
    "  font-size:0.8em;\n",
    "}\n",
    ".rendered_html table, .rendered_html th, .rendered_html tr, .rendered_html td {\n",
    "     font-size: 100%;\n",
    "}\n",
    "\n",
    "</style>"
   ]
  },
  {
   "cell_type": "markdown",
   "metadata": {
    "slideshow": {
     "slide_type": "slide"
    }
   },
   "source": [
    "# python bij wsbd\n",
    "\n",
    "## today: APIs\n",
    "- introductie\n",
    "- daarna weer aan de slag in notebook;\n",
    "    - requests\n",
    "    - json\n",
    "    - oefeningen met movie api (omdb)\n",
    "    - knmi api\n",
    "    - keuze uit:\n",
    "        - kiwis api\n",
    "        - hydronet api\n",
    "        - enig ander?\n",
    "    \n",
    "<script>\n",
    "    console.log(\"Hello. You'll see this printed in your browser's DevTools / Console. Feel free to delete this line.\");\n",
    "    document.querySelector('head').innerHTML += '<style>.slides { zoom: 1.0 !important; }</style>';\n",
    "</script>"
   ]
  },
  {
   "cell_type": "markdown",
   "metadata": {
    "slideshow": {
     "slide_type": "slide"
    }
   },
   "source": [
    "# introductie\n",
    "\n",
    "[![IMAGE ALT TEXT](http://img.youtube.com/vi/s7wmiS2mSXY/0.jpg)](http://www.youtube.com/watch?v=s7wmiS2mSXY \"API Explained\")"
   ]
  },
  {
   "cell_type": "markdown",
   "metadata": {
    "slideshow": {
     "slide_type": "slide"
    }
   },
   "source": [
    "# apis bij wsbd\n",
    "\n",
    "- KIWIS (WISKI, kwantiteit meetgegevens API);\n",
    "- hydro.dommel.nl (HydroNET, kwantiteit, kwaliteit meetgegevens API);\n",
    "- WIWB (Weer Informatie Waterbeheer, meet en modelgegevens van het weer);\n",
    "- KNMI (meetgegevens van knmi stations);\n",
    "- TMX...\n",
    "- ?"
   ]
  }
 ],
 "metadata": {
  "celltoolbar": "Slideshow",
  "kernelspec": {
   "display_name": "Python 3",
   "language": "python",
   "name": "python3"
  },
  "language_info": {
   "codemirror_mode": {
    "name": "ipython",
    "version": 3
   },
   "file_extension": ".py",
   "mimetype": "text/x-python",
   "name": "python",
   "nbconvert_exporter": "python",
   "pygments_lexer": "ipython3",
   "version": "3.7.3"
  }
 },
 "nbformat": 4,
 "nbformat_minor": 2
}
