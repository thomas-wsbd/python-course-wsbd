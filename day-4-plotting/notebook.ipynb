{
 "cells": [
  {
   "cell_type": "markdown",
   "metadata": {},
   "source": [
    "# plotting\n",
    "Vandaag gaan we kijken naar de ```matplotlib``` package in python, met deze package kan je data visualeren, we gaan kennis maken met een paar basis plottypes. Verder gaan we nog kijken naar ``seaborn`` een package gebouwd op ``matplotlib`` waar wat heftigere voorgebakken visualisaties inzitten en als laatste kijken we kort nog even naar twee interactieve packages ``folium`` voor geodata en ``mpld3`` als uitbouw op ``matplotlib``.\n",
    "\n",
    "Ook vandaag zul je weer wat ``pandas`` kennis nodig hebben.\n",
    "\n",
    "<a id='index'></a>\n",
    "- [matplotlib](#mpl)\n",
    "    - [lineplot met basics](#line)\n",
    "    - [exercise 1](#ex1)\n",
    "    - [scatter](#scatter)\n",
    "    - [exercise 2](#ex2)\n",
    "    - [contour](#contour)\n",
    "    - [exercise 3](#ex3)\n",
    "    - [histogram](#hist)\n",
    "    - [exercise 4](#ex4)\n",
    "- [pandas](#pd)\n",
    "- [exercise 5](#ex5)\n",
    "- [geopandas](#gpd)\n",
    "- [seaborn](#sns)"
   ]
  },
  {
   "cell_type": "markdown",
   "metadata": {},
   "source": [
    "<a id='mpl'></a>\n",
    "[terug naar index](#index)\n",
    "# matplotlib\n",
    "\n",
    "### importeren\n",
    "Net als dat we zagen dat we ``pd`` als afkorting gebruiken voor ``pandas`` bij het inladen, zijn er ook standaard shorthands voor ``matplotlib`` import. We zullen vooral ``plt`` gebruiken."
   ]
  },
  {
   "cell_type": "code",
   "execution_count": null,
   "metadata": {},
   "outputs": [],
   "source": [
    "import matplotlib as mpl\n",
    "import matplotlib.pyplot as plt\n",
    "%matplotlib inline"
   ]
  },
  {
   "cell_type": "markdown",
   "metadata": {},
   "source": [
    "### notebook vs script\n",
    "Werken met ``matplotlib`` in een ``notebook`` verschilt met werken met ``matplotlib`` in een script. Om plots automatisch te laten zien in een ``notebook`` gebruiken we ``%matplotlib inline`` dit geeft je plots direct onder de codecel weer, hij geeft ook automatisch de laatste regel mee terug, dit kan je voorkomen door er een ``;`` achter te zetten. In een script gebruik je ``plt.show()`` na je code waarin je plot hebt gedefinieerd. Zie hieronder de twee methodes."
   ]
  },
  {
   "cell_type": "code",
   "execution_count": null,
   "metadata": {},
   "outputs": [],
   "source": [
    "import numpy as np # gebruiken we om wat data te genereren\n",
    "%matplotlib inline\n",
    "plt.rcParams['figure.figsize'] = (9,7) # default afmeting van plots vergroten\n",
    "\n",
    "x = np.linspace(0, 10, 100)\n",
    "\n",
    "fig = plt.figure()\n",
    "plt.plot(x, np.sin(x), '-')\n",
    "plt.plot(x, np.cos(x), '--');"
   ]
  },
  {
   "cell_type": "code",
   "execution_count": null,
   "metadata": {},
   "outputs": [],
   "source": [
    "x = np.linspace(0, 10, 100)\n",
    "\n",
    "fig = plt.figure()\n",
    "plt.plot(x, np.sin(x), '-')\n",
    "plt.plot(x, np.cos(x), '--');\n",
    "plt.show()"
   ]
  },
  {
   "cell_type": "markdown",
   "metadata": {},
   "source": [
    "### opslaan van figuren\n",
    "Opslaan kan je met het ``savefig()`` command. Hieronder sla je bovenstaand gecreeerde figuur op als PNG figuur."
   ]
  },
  {
   "cell_type": "code",
   "execution_count": null,
   "metadata": {},
   "outputs": [],
   "source": [
    "fig.savefig('myplot.png')"
   ]
  },
  {
   "cell_type": "markdown",
   "metadata": {},
   "source": [
    "### twee interfaces\n",
    "Een mogelijk verwarrende feature van ``matplotlib`` is dat het twee interfaces ondersteund, een meer MATLAB-style state-based interface, en een meer kractigere object-georienteerde interface. Hieronder probeer ik het verschil tussen de twee interfaces snel te laten zien.\n",
    "\n",
    "__MATLAB-style interface__  \n",
    "``matplotlib`` is eigenlijk geschreven als een alternatief voor MATLAB gebruikers in python. Daarom heeft het veel een vergelijkbare syntax. MATLAB-style tools zitten in de pyplot (``plt``) interface. Hieronder een stukje code die deze stijl beschrijft, zou voor MATLAB gebruikers en bekend uit moeten zien."
   ]
  },
  {
   "cell_type": "code",
   "execution_count": null,
   "metadata": {},
   "outputs": [],
   "source": [
    "plt.figure() # creeer een figuur\n",
    "\n",
    "# creeer het eerste paneel en vul\n",
    "plt.subplot(2, 1, 1) # (rows, columns, paneel nr.)\n",
    "plt.plot(x, np.sin(x))\n",
    "\n",
    "# creer het tweede paneel en vul\n",
    "plt.subplot(2, 1, 2)\n",
    "plt.plot(x, np.cos(x));"
   ]
  },
  {
   "cell_type": "markdown",
   "metadata": {},
   "source": [
    "__object georienteerde interface__  \n",
    "De object georienteerde interface is voor de complexere situaties en voor nog meer controle over je figuren. Zie hieronder het voorbeeld om bovenstaande figuur te reproduceren."
   ]
  },
  {
   "cell_type": "code",
   "execution_count": null,
   "metadata": {},
   "outputs": [],
   "source": [
    "# eerst creeeren we een grid voor de plots\n",
    "# ax is een list/array van twee Axes objecten\n",
    "fig, ax = plt.subplots(2)\n",
    "\n",
    "# call plot() method op het juiste object\n",
    "ax[0].plot(x, np.sin(x))\n",
    "ax[1].plot(x, np.cos(x));"
   ]
  },
  {
   "cell_type": "markdown",
   "metadata": {},
   "source": [
    "<a id='line'></a>\n",
    "[terug naar index](#index)\n",
    "## line plots introductie\n",
    "Laten we eerst kijken hoe we een simpele functie $y = f(x)$ kunnen plotten. Laten we weer de sinus van hierboven gebruiken."
   ]
  },
  {
   "cell_type": "code",
   "execution_count": null,
   "metadata": {},
   "outputs": [],
   "source": [
    "fig, ax = plt.subplots()\n",
    "ax.plot(x, np.sin(x));"
   ]
  },
  {
   "cell_type": "code",
   "execution_count": null,
   "metadata": {},
   "outputs": [],
   "source": [
    "plt.plot(x, np.sin(x)); # of het in dit geval simpelere alternatief"
   ]
  },
  {
   "cell_type": "markdown",
   "metadata": {},
   "source": [
    "Als je meerdere lijnen wil maken in dezelfde figuur kan je de ``plot`` functie gewoon meerdere keren gebruiken."
   ]
  },
  {
   "cell_type": "code",
   "execution_count": null,
   "metadata": {},
   "outputs": [],
   "source": [
    "plt.plot(x, np.sin(x))\n",
    "plt.plot(x, np.cos(x));"
   ]
  },
  {
   "cell_type": "markdown",
   "metadata": {},
   "source": [
    "### plots aanpassen, kleur & stijl\n",
    "Als je de kleur wil aanpassen van de lijn, kan je in ``plt.plot()`` het keyword ``color`` gebruiken. Zie hieronder wat voorbeelden, je kan verschillende manieren van kleur definities gebruiken."
   ]
  },
  {
   "cell_type": "code",
   "execution_count": null,
   "metadata": {},
   "outputs": [],
   "source": [
    "plt.plot(x, np.sin(x - 0), color='blue')        # specify color by name\n",
    "plt.plot(x, np.sin(x - 1), color='g')           # short color code (rgbcmyk)\n",
    "plt.plot(x, np.sin(x - 2), color='0.75')        # Grayscale between 0 and 1\n",
    "plt.plot(x, np.sin(x - 3), color='#FFDD44')     # Hex code (RRGGBB from 00 to FF)\n",
    "plt.plot(x, np.sin(x - 4), color=(1.0,0.2,0.3)) # RGB tuple, values 0 to 1\n",
    "plt.plot(x, np.sin(x - 5), color='chartreuse'); # all HTML color names supported"
   ]
  },
  {
   "cell_type": "markdown",
   "metadata": {},
   "source": [
    "Als geen kleur is ingesteld, pakt ``matplotlib`` standaard verschillende kleuren uit een colorcycle. (zoals je hierboven zag is de eerste blauwig, daarna oranje etc. zie hieronder voor de rest)\n",
    "\n",
    "Net als de kleur, kan je de lijnstijl aanpassen met het ``linestyle`` keyword. Zie hieronder weer wat voorbeelden."
   ]
  },
  {
   "cell_type": "code",
   "execution_count": null,
   "metadata": {},
   "outputs": [],
   "source": [
    "plt.plot(x, x + 0, linestyle='solid')\n",
    "plt.plot(x, x + 1, linestyle='dashed')\n",
    "plt.plot(x, x + 2, linestyle='dashdot')\n",
    "plt.plot(x, x + 3, linestyle='dotted');\n",
    "\n",
    "# For short, you can use the following codes:\n",
    "plt.plot(x, x + 4, linestyle='-')  # solid\n",
    "plt.plot(x, x + 5, linestyle='--') # dashed\n",
    "plt.plot(x, x + 6, linestyle='-.') # dashdot\n",
    "plt.plot(x, x + 7, linestyle=':');  # dotted"
   ]
  },
  {
   "cell_type": "markdown",
   "metadata": {},
   "source": [
    "Je kan ook kleur en style combinieren in een enkel ``non-keyword`` argument in ``plt.plot()``, zie hieronder wat voorbeelden."
   ]
  },
  {
   "cell_type": "code",
   "execution_count": null,
   "metadata": {},
   "outputs": [],
   "source": [
    "plt.plot(x, x + 0, '-g')  # solid green\n",
    "plt.plot(x, x + 1, '--c') # dashed cyan\n",
    "plt.plot(x, x + 2, '-.k') # dashdot black\n",
    "plt.plot(x, x + 3, ':r');  # dotted red"
   ]
  },
  {
   "cell_type": "markdown",
   "metadata": {},
   "source": [
    "### as limieten\n",
    "``matplotlib`` geeft default meestal aardige assen terug, je kan ze nog verder aanpassen mocht je dat willen. Het simpelste is om de as limieten aan te passen, met ``plt.xlim()`` of ``plt.ylim()``."
   ]
  },
  {
   "cell_type": "code",
   "execution_count": null,
   "metadata": {},
   "outputs": [],
   "source": [
    "plt.plot(x, np.sin(x))\n",
    "\n",
    "plt.xlim(-1, 11)\n",
    "plt.ylim(-1.5, 1.5);"
   ]
  },
  {
   "cell_type": "markdown",
   "metadata": {},
   "source": [
    "### labelen van plots"
   ]
  },
  {
   "cell_type": "markdown",
   "metadata": {},
   "source": [
    "Als laatste van de lineplots kijken we nog naar het labelen van plots, denk aan de titel (``plt.title()``), as labels (``plt.xlabel()``, ``plt.ylabel()``), en simpele legendas (``plt.legend()``). Zie hieronder twee voorbeeld."
   ]
  },
  {
   "cell_type": "code",
   "execution_count": null,
   "metadata": {},
   "outputs": [],
   "source": [
    "plt.plot(x, np.sin(x))\n",
    "plt.title(\"A Sine Curve\")\n",
    "plt.xlabel(\"x\")\n",
    "plt.ylabel(\"sin(x)\");"
   ]
  },
  {
   "cell_type": "code",
   "execution_count": null,
   "metadata": {},
   "outputs": [],
   "source": [
    "plt.plot(x, np.sin(x), '-g', label='sin(x)')\n",
    "plt.plot(x, np.cos(x), ':b', label='cos(x)')\n",
    "plt.legend();"
   ]
  },
  {
   "cell_type": "markdown",
   "metadata": {},
   "source": [
    "We hebben nu vooral de MATLAB style gebruikt, meestal vertaald de MATLAB style (``plt``) direct naar de object georienteerde style (``ax``) (bijv. ``plt.plot()`` → ``ax.plot()``, ``plt.legend()`` → ``ax.legend()``). Maar vooral voor het aanpassen van limieten, labels en titels zijn de functies net aangepast zie hieronder de verschillen.\n",
    "\n",
    "- ``plt.xlabel()``  → ``ax.set_xlabel()``\n",
    "- ``plt.ylabel()`` → ``ax.set_ylabel()``\n",
    "- ``plt.xlim()``  → ``ax.set_xlim()``\n",
    "- ``plt.ylim()`` → ``ax.set_ylim()``\n",
    "- ``plt.title()`` → ``ax.set_title()``\n",
    "\n",
    "Met ``ax.set()`` methode kan je alles in een keer zetten."
   ]
  },
  {
   "cell_type": "markdown",
   "metadata": {},
   "source": [
    "<a id='ex1'></a>\n",
    "[terug naar index](#index)\n",
    "\n",
    "# exercise 1\n",
    "Laad het ``data/lobith.csv`` bestand in met ``pandas``. Haal de volgende kolommen binnen, ``['WAARNEMINGDATUM', 'WAARNEMINGTIJD', 'NUMERIEKEWAARDE']``. Het is een Nederlands bestand, dus denk aan het scheidingsteken en decimaal. Zet de datum/tijd kolommen om naar een ``DateTimeIndex``. Gebruik ``dayfirst=True``, om het Nederlands formaat met dag eerst in datum in te lezen. Omdat het best veel data is en de kolom een uniforme indeling heeft, gebruikt ``infer_datetime_format=True``, hiermee neem je aan dat de datumindeling gelijk is in de kolom. Het ``NaN`` getal bij RWS zit ergens in de 0.99E38, selecteer enkel de logische waarden (debiet bij Lobith is in de afgelopen jaren zeker niet meer dan 20.000 m3/s geweest)."
   ]
  },
  {
   "cell_type": "code",
   "execution_count": null,
   "metadata": {},
   "outputs": [],
   "source": []
  },
  {
   "cell_type": "markdown",
   "metadata": {},
   "source": [
    "Maak een line plot van de debietreeks bij Lobith van 2017-2018. Voeg een maand gemiddelde reeks toe met een gestreepde lijn. Geef de plot asnamen, een titel en een legenda."
   ]
  },
  {
   "cell_type": "code",
   "execution_count": null,
   "metadata": {},
   "outputs": [],
   "source": []
  },
  {
   "cell_type": "markdown",
   "metadata": {},
   "source": [
    "<a id='scatter'></a>\n",
    "[terug naar index](#index)\n",
    "\n",
    "## scatter\n",
    "Een andere plot die je waarschijnlijk veel gebruikt is de ``scatter``. Lijkt erg op de ``line plot``, alleen nu zijn de punten niet verbonden met lijnen, de punten worden individueel weergegeven met een marker, zoals bijv. een cirkel, driehoek etc. \n",
    "\n",
    "### scatter met plt.plot\n",
    "Je kan ook een scatter maken met de hierboven behandelde ``plt.plot()``."
   ]
  },
  {
   "cell_type": "code",
   "execution_count": null,
   "metadata": {},
   "outputs": [],
   "source": [
    "x = np.linspace(0, 10, 30)\n",
    "y = np.sin(x)\n",
    "\n",
    "plt.plot(x, y, 'o', color='black');"
   ]
  },
  {
   "cell_type": "markdown",
   "metadata": {},
   "source": [
    "Het derde argument in de functie is het symbool gebruikt in de plot. Net als je ``'-'`` en ``'--'`` kan gebruiken voor de ``linestyle`` heeft de ``marker`` ook een aantal short string codes, zie hieronder, de meeste zijn redelijk intuitief."
   ]
  },
  {
   "cell_type": "code",
   "execution_count": null,
   "metadata": {},
   "outputs": [],
   "source": [
    "rng = np.random.RandomState(0)\n",
    "for marker in ['o', '.', ',', 'x', '+', 'v', '^', '<', '>', 's', 'd']:\n",
    "    plt.plot(rng.rand(5), rng.rand(5), marker,\n",
    "             label=\"marker='{0}'\".format(marker))\n",
    "plt.legend(numpoints=1)\n",
    "plt.xlim(0, 1.8);"
   ]
  },
  {
   "cell_type": "markdown",
   "metadata": {},
   "source": [
    "Je kan de short codes voor ``linestyle`` ``marker`` en ``color`` ook combineren zie hieronder een voorbeeld."
   ]
  },
  {
   "cell_type": "code",
   "execution_count": null,
   "metadata": {},
   "outputs": [],
   "source": [
    "plt.plot(x, y, 'o--r');"
   ]
  },
  {
   "cell_type": "markdown",
   "metadata": {},
   "source": [
    "### scatter plots met plt.scatter\n",
    "Naast ``plt.plot``  kan je ook ``plt.scatter`` gebruiken, hier heb je iets meer scatter functies. Zie hieronder een standaardvoorbeeld. "
   ]
  },
  {
   "cell_type": "code",
   "execution_count": null,
   "metadata": {},
   "outputs": [],
   "source": [
    "plt.scatter(x, y, marker='o');"
   ]
  },
  {
   "cell_type": "markdown",
   "metadata": {},
   "source": [
    "Het grootste verschil tussen ``plot`` en ``scatter`` is dat je bij ``scatter`` elk punt apart kan stylen. Zie hieronder een voorbeeld."
   ]
  },
  {
   "cell_type": "code",
   "execution_count": null,
   "metadata": {},
   "outputs": [],
   "source": [
    "rng = np.random.RandomState(0)\n",
    "x = rng.randn(100)\n",
    "y = rng.randn(100)\n",
    "colors = rng.rand(100)\n",
    "sizes = 1000 * rng.rand(100)\n",
    "\n",
    "plt.scatter(x, y, c=colors, s=sizes, alpha=0.3,\n",
    "            cmap='viridis')\n",
    "plt.colorbar();  # show color scale"
   ]
  },
  {
   "cell_type": "markdown",
   "metadata": {},
   "source": [
    "Als je heel veel data hebt is ``plot`` een stuk sneller dan ``scatter``."
   ]
  },
  {
   "cell_type": "markdown",
   "metadata": {},
   "source": [
    "<a id='ex2'></a>\n",
    "[terug naar index](#index)\n",
    "\n",
    "# exercise 2\n",
    "Lees ``data/sint_pieter.csv`` in. Deze heeft hetzelfde format als de file die je bij exercise 1 hebt ingeladen."
   ]
  },
  {
   "cell_type": "code",
   "execution_count": null,
   "metadata": {},
   "outputs": [],
   "source": []
  },
  {
   "cell_type": "markdown",
   "metadata": {},
   "source": [
    "Maak een scatter voor het jaar 2018 met op de X-as de afvoer van Lobith en op de Y-as de afvoer van Sint Pieter. Resample de data naar dagwaarden."
   ]
  },
  {
   "cell_type": "code",
   "execution_count": null,
   "metadata": {},
   "outputs": [],
   "source": []
  },
  {
   "cell_type": "markdown",
   "metadata": {},
   "source": [
    "Kleur de scatter op maand (``df.index.month``) en pas de grootte aan op basis van de som van de afvoeren van de Rijn en de Maas. Je kan de ``cmap`` gebruiken, door een integer mee te geven krijg je een discrete verdeling van de kleuren. Geef de plot labels, titel en een legenda (colorbar?)."
   ]
  },
  {
   "cell_type": "code",
   "execution_count": null,
   "metadata": {},
   "outputs": [],
   "source": []
  },
  {
   "cell_type": "markdown",
   "metadata": {},
   "source": [
    "<a id='contour'></a>\n",
    "[terug naar index](#index)\n",
    "## contourplots\n",
    "Met een contour kan je 3d data in een 2d vlak laten zien. Er zijn in ``matplotlib`` meerder functies die hiervoor kan gebruiken, hier behandelen we:\n",
    "- ``plt.contour`` voor contour plots (enkel lijnen);\n",
    "- ``plt.contourf`` voor gevulde contour plots. \n",
    "  \n",
    "We gaan de verschillende methodes aan het werk zien op een 3d functie; $z = f(x, y)$."
   ]
  },
  {
   "cell_type": "code",
   "execution_count": null,
   "metadata": {},
   "outputs": [],
   "source": [
    "def f(x, y):\n",
    "    return np.sin(x) ** 10 + np.cos(10 + y * x) * np.cos(x)\n",
    "\n",
    "x = np.linspace(0, 5, 50)\n",
    "y = np.linspace(0, 5, 40)\n",
    "\n",
    "X, Y = np.meshgrid(x, y)\n",
    "Z = f(X, Y)"
   ]
  },
  {
   "cell_type": "markdown",
   "metadata": {},
   "source": [
    "Een contour kan je maken met ``plt.contour`` heeft ten minste drie argumenten nodig, een grid x-waardes, een grid y-waardes en een grid z-waardes. De x en y waardes geven de positie weer, de z waardes de waarde van de contour. Hieronder een de line-only contour."
   ]
  },
  {
   "cell_type": "code",
   "execution_count": null,
   "metadata": {},
   "outputs": [],
   "source": [
    "plt.contour(X, Y, Z, colors='black');"
   ]
  },
  {
   "cell_type": "markdown",
   "metadata": {},
   "source": [
    "Default wordt een kleur gebruikt, negatieve waardes worden weergegeven door een stippellijn. We kunnen de lijnen ook kleurcoderen door een ``cmap``  mee te geven. We moeten ook het aantal gelijke intervallen in de data meegeven, hieronder gebruiken we 20."
   ]
  },
  {
   "cell_type": "code",
   "execution_count": null,
   "metadata": {},
   "outputs": [],
   "source": [
    "plt.contour(X, Y, Z, 20, cmap='rainbow');"
   ]
  },
  {
   "cell_type": "markdown",
   "metadata": {},
   "source": [
    "Om te kijken welke ``cmaps``  beschikbaar zijn kunnen we ``plt.cm.<TAB>``  gebruiken. Pas de ``cmap`` hierboven maar aan."
   ]
  },
  {
   "cell_type": "code",
   "execution_count": null,
   "metadata": {},
   "outputs": [],
   "source": [
    "plt.cm."
   ]
  },
  {
   "cell_type": "markdown",
   "metadata": {},
   "source": [
    "Om de gaten tussen de lijnen op te vullen kunnen we ``plt.contourf`` gebruiken. Met ``plt.colorbar``  wordt er een extra as meegegeven met daarin de kleur, data relatie, een legenda."
   ]
  },
  {
   "cell_type": "code",
   "execution_count": null,
   "metadata": {},
   "outputs": [],
   "source": [
    "plt.contourf(X, Y, Z, 20, cmap='rainbow')\n",
    "plt.colorbar();"
   ]
  },
  {
   "cell_type": "markdown",
   "metadata": {},
   "source": [
    "<a id='ex3'></a>\n",
    "[terug naar index](#index)\n",
    "\n",
    "# exercise 3\n",
    "Maak een gevulde contourplot van het ingeladen AHN3 raster, voeg een colorbar toe."
   ]
  },
  {
   "cell_type": "code",
   "execution_count": null,
   "metadata": {},
   "outputs": [],
   "source": [
    "import gdal\n",
    "import numpy as np\n",
    "gtif = gdal.Open('data/AHN3.tif')\n",
    "array = gtif.ReadAsArray().astype(float)\n",
    "array[array == 0] = np.nan"
   ]
  },
  {
   "cell_type": "code",
   "execution_count": null,
   "metadata": {},
   "outputs": [],
   "source": []
  },
  {
   "cell_type": "markdown",
   "metadata": {},
   "source": [
    "<a id='hist'></a>\n",
    "[terug naar index](#index)\n",
    "\n",
    "## histogram\n",
    "Een histogram wordt vaak gebruikt om simpel een dataset (oa verdeling, spreiding etc.) beter te begrijpen. Met ``plt.hist`` kunnen we een histogram maken. Zie hieronder een voorbeeld."
   ]
  },
  {
   "cell_type": "code",
   "execution_count": null,
   "metadata": {},
   "outputs": [],
   "source": [
    "data = np.random.randn(1000)\n",
    "plt.hist(data);"
   ]
  },
  {
   "cell_type": "markdown",
   "metadata": {},
   "source": [
    "De ``hist``  functie heeft veel methodes om de histogram te stijlen en de berekeningen aan te passen zie hieronder een iets complexer voorbeeld."
   ]
  },
  {
   "cell_type": "code",
   "execution_count": null,
   "metadata": {},
   "outputs": [],
   "source": [
    "plt.hist(data, bins=30, density=True, alpha=0.5,\n",
    "         histtype='stepfilled', color='steelblue',\n",
    "         edgecolor='none');"
   ]
  },
  {
   "cell_type": "markdown",
   "metadata": {},
   "source": [
    "Met ``plt.hist?`` kan je weer de documentatie te openen voor meer informatie. Vooral de combinatie ``stepfileed`` met ``alpha`` is handig om verschillende distributies van data te vergelijken. We gebruiken hier ook ``**kwargs`` om dezelfde settings naar alle plots mee te geven."
   ]
  },
  {
   "cell_type": "code",
   "execution_count": null,
   "metadata": {},
   "outputs": [],
   "source": [
    "x1 = np.random.normal(0, 0.8, 1000)\n",
    "x2 = np.random.normal(-2, 1, 1000)\n",
    "x3 = np.random.normal(3, 2, 1000)\n",
    "\n",
    "kwargs = dict(histtype='stepfilled', alpha=0.3, density=True, bins=40)\n",
    "\n",
    "plt.hist(x1, **kwargs)\n",
    "plt.hist(x2, **kwargs)\n",
    "plt.hist(x3, **kwargs);"
   ]
  },
  {
   "cell_type": "markdown",
   "metadata": {},
   "source": [
    "<a id='ex4'></a>\n",
    "[terug naar index](#index)\n",
    "# exercise 4\n",
    "Maak een histogram van de Lobith (Rijn) en Sint Pieter (Maas) debietreeks"
   ]
  },
  {
   "cell_type": "code",
   "execution_count": null,
   "metadata": {},
   "outputs": [],
   "source": []
  },
  {
   "cell_type": "markdown",
   "metadata": {},
   "source": [
    "<a id='pd'></a>\n",
    "[terug naar index](#index)\n",
    "# pandas\n",
    "``pandas`` heeft ook ``matplotlib`` geintegreerd. Je kan data direct plotten van een ``DataFrame`` met de ``plot`` methode."
   ]
  },
  {
   "cell_type": "code",
   "execution_count": null,
   "metadata": {
    "scrolled": false
   },
   "outputs": [],
   "source": [
    "import requests\n",
    "import pandas as pd\n",
    "from io import StringIO\n",
    "\n",
    "params = {'stns': 834, 'start': '19000101'} # station Chaam vanaf 1900\n",
    "r = requests.get('http://projects.knmi.nl/klimatologie/monv/reeksen/getdata_rr.cgi', params=params)\n",
    "df = pd.read_csv(StringIO(r.text), skiprows=23, parse_dates=['YYYYMMDD'], \n",
    "                 index_col='YYYYMMDD', skipinitialspace=True) # lees data in index datetime\n",
    "df[df.SX > 996] = float('nan') # 997 + geeft iets aan over liggende sneeuw\n",
    "df = df.drop(columns=['STN', 'Unnamed: 4']) # drop onnodige kolommen\n",
    "df = df.copy()/10\n",
    "df.head()"
   ]
  },
  {
   "cell_type": "code",
   "execution_count": null,
   "metadata": {},
   "outputs": [],
   "source": [
    "df.plot(); # default plot is een lineplot, plot hele dataframe"
   ]
  },
  {
   "cell_type": "code",
   "execution_count": null,
   "metadata": {},
   "outputs": [],
   "source": [
    "df.plot(subplots=True, style='-o'); # elke series krijgt een subplot, met style kan je de linestyle en marker aanpassen"
   ]
  },
  {
   "cell_type": "code",
   "execution_count": null,
   "metadata": {},
   "outputs": [],
   "source": [
    "df.RD.plot() # of plotten van een enkele Series\n",
    "df.plot(y='RD'); # dit werkt ook"
   ]
  },
  {
   "cell_type": "markdown",
   "metadata": {},
   "source": [
    "Met het argument ``kind`` kan je verschillende plottypes, hieronder enkele:\n",
    "- ``line``;\n",
    "- ``scatter``;\n",
    "- ``bar``;\n",
    "- ``barh``, horizontale barplot;\n",
    "- ``hist``, histogram;\n",
    "- ``box``, boxplot;\n",
    "- ``pie``."
   ]
  },
  {
   "cell_type": "code",
   "execution_count": null,
   "metadata": {},
   "outputs": [],
   "source": [
    "df[df>0].plot(kind='box');"
   ]
  },
  {
   "cell_type": "code",
   "execution_count": null,
   "metadata": {},
   "outputs": [],
   "source": [
    "df.RD.plot(kind='hist', bins=50);"
   ]
  },
  {
   "cell_type": "code",
   "execution_count": null,
   "metadata": {},
   "outputs": [],
   "source": [
    "df.sum(axis=0).plot(kind='pie', legend=True, startangle=90);"
   ]
  },
  {
   "cell_type": "markdown",
   "metadata": {},
   "source": [
    "<a id='ex5'></a>\n",
    "[terug naar index](#index)\n",
    "\n",
    "# exercise 5\n",
    "Maak drie plots met de meetreeksen van Lobith en Sint Pieter, deze zitten al in een ``DataFrame``. Misschien iets met een ``merge`` of ``groupby`` proberen om het een beetje spannender te maken?"
   ]
  },
  {
   "cell_type": "code",
   "execution_count": null,
   "metadata": {},
   "outputs": [],
   "source": []
  },
  {
   "cell_type": "code",
   "execution_count": null,
   "metadata": {},
   "outputs": [],
   "source": []
  },
  {
   "cell_type": "code",
   "execution_count": null,
   "metadata": {},
   "outputs": [],
   "source": []
  },
  {
   "cell_type": "markdown",
   "metadata": {},
   "source": [
    "<a id='gpd'></a>\n",
    "[terug naar index](#index)\n",
    "\n",
    "# geopandas\n",
    "``geopandas`` kent ook een ``.plot`` methode, deze geeft de ``geometry`` in x, y weer, eigenlijk een soort ``contour`` plot."
   ]
  },
  {
   "cell_type": "code",
   "execution_count": null,
   "metadata": {},
   "outputs": [],
   "source": [
    "import geopandas as gpd\n",
    "\n",
    "gdf = gpd.read_file('data/krwaaofweerijs.shp')\n",
    "ax = gdf.plot(edgecolor='k')"
   ]
  },
  {
   "cell_type": "markdown",
   "metadata": {},
   "source": [
    "``mplleaflet`` kan een basemap toevoegen aan je ``geopandas`` plot. Het voegt ook een klein interactief gedeelte toe je kan zoomen. Zie hieronder een voorbeeld met bovenstaande shapefile"
   ]
  },
  {
   "cell_type": "code",
   "execution_count": null,
   "metadata": {},
   "outputs": [],
   "source": [
    "import mplleaflet\n",
    "mplleaflet.display(fig=ax.figure, crs=gdf.crs)"
   ]
  },
  {
   "cell_type": "markdown",
   "metadata": {},
   "source": [
    "Rasters kan je bijvoorbeeld inladen met ``gdal`` (dit gebruikt QGIS ook). Zie hieronder een voorbeeldje van een contourplot van de AHN."
   ]
  },
  {
   "cell_type": "code",
   "execution_count": 1,
   "metadata": {},
   "outputs": [
    {
     "ename": "NameError",
     "evalue": "name 'plt' is not defined",
     "output_type": "error",
     "traceback": [
      "\u001b[1;31m---------------------------------------------------------------------------\u001b[0m",
      "\u001b[1;31mNameError\u001b[0m                                 Traceback (most recent call last)",
      "\u001b[1;32m<ipython-input-1-2bebb97403c8>\u001b[0m in \u001b[0;36m<module>\u001b[1;34m\u001b[0m\n\u001b[0;32m     11\u001b[0m \u001b[0my1\u001b[0m \u001b[1;33m=\u001b[0m \u001b[0my0\u001b[0m \u001b[1;33m+\u001b[0m \u001b[0mdy\u001b[0m \u001b[1;33m*\u001b[0m \u001b[0mnrows\u001b[0m\u001b[1;33m\u001b[0m\u001b[1;33m\u001b[0m\u001b[0m\n\u001b[0;32m     12\u001b[0m \u001b[1;33m\u001b[0m\u001b[0m\n\u001b[1;32m---> 13\u001b[1;33m \u001b[0max\u001b[0m \u001b[1;33m=\u001b[0m \u001b[0mplt\u001b[0m\u001b[1;33m.\u001b[0m\u001b[0mimshow\u001b[0m\u001b[1;33m(\u001b[0m\u001b[0mdata\u001b[0m\u001b[1;33m,\u001b[0m \u001b[0mcmap\u001b[0m\u001b[1;33m=\u001b[0m\u001b[1;34m'gist_earth'\u001b[0m\u001b[1;33m,\u001b[0m \u001b[0mextent\u001b[0m\u001b[1;33m=\u001b[0m\u001b[1;33m[\u001b[0m\u001b[0mx0\u001b[0m\u001b[1;33m,\u001b[0m \u001b[0mx1\u001b[0m\u001b[1;33m,\u001b[0m \u001b[0my1\u001b[0m\u001b[1;33m,\u001b[0m \u001b[0my0\u001b[0m\u001b[1;33m]\u001b[0m\u001b[1;33m)\u001b[0m\u001b[1;33m\u001b[0m\u001b[1;33m\u001b[0m\u001b[0m\n\u001b[0m",
      "\u001b[1;31mNameError\u001b[0m: name 'plt' is not defined"
     ]
    }
   ],
   "source": [
    "import gdal\n",
    "\n",
    "ds = gdal.Open('data/AHN3.tif')\n",
    "\n",
    "ahn = ds.ReadAsArray()\n",
    "proj = ds.GetProjection()\n",
    "\n",
    "nrows, ncols = ahn.shape\n",
    "x0, dx, dxdy, y0, dydx, dy = ds.GetGeoTransform()\n",
    "x1 = x0 + dx * ncols\n",
    "y1 = y0 + dy * nrows\n",
    "\n",
    "ax = plt.imshow(data, cmap='gist_earth', extent=[x0, x1, y1, y0])\n",
    "plt.show()"
   ]
  },
  {
   "cell_type": "markdown",
   "metadata": {},
   "source": [
    "En met een basemap."
   ]
  },
  {
   "cell_type": "code",
   "execution_count": null,
   "metadata": {},
   "outputs": [],
   "source": [
    "mplleaflet.display(fig=ax.figure, crs=proj)"
   ]
  },
  {
   "cell_type": "markdown",
   "metadata": {},
   "source": [
    "<a id='sns'></a>\n",
    "[terug naar index](#index)\n",
    "\n",
    "# seaborn\n",
    "``seaborn`` bevat een high-level functies voor veel voorkomende plots en werkt goed samen met pandas. Neem een keer een kijkje in de [gallery van seaborn](https://seaborn.pydata.org/examples/index.html). Hieronder een paar voorbeelden met data de standaard ``iris`` dataset van seaborn."
   ]
  },
  {
   "cell_type": "markdown",
   "metadata": {},
   "source": [
    "``pairplot`` geeft een overzicht van een ``DataFrame``."
   ]
  },
  {
   "cell_type": "code",
   "execution_count": null,
   "metadata": {},
   "outputs": [],
   "source": [
    "import seaborn as sns # weer conventie om sns te gebruiken\n",
    "\n",
    "df = sns.load_dataset(\"iris\")\n",
    "sns.pairplot(df, hue=\"species\");"
   ]
  },
  {
   "cell_type": "markdown",
   "metadata": {},
   "source": [
    "Hieronder twee ``kdeplots`` fit een verdeling en plot deze."
   ]
  },
  {
   "cell_type": "code",
   "execution_count": null,
   "metadata": {},
   "outputs": [],
   "source": [
    "# Subset the iris dataset by species\n",
    "setosa = df.query(\"species == 'setosa'\")\n",
    "virginica = df.query(\"species == 'virginica'\")\n",
    "\n",
    "# Set up the figure\n",
    "f, ax = plt.subplots(figsize=(8, 8))\n",
    "ax.set_aspect(\"equal\")\n",
    "\n",
    "# Draw the two density plots\n",
    "ax = sns.kdeplot(setosa.sepal_width, setosa.sepal_length,\n",
    "                 cmap=\"Reds\", shade=True, shade_lowest=False)\n",
    "ax = sns.kdeplot(virginica.sepal_width, virginica.sepal_length,\n",
    "                 cmap=\"Blues\", shade=True, shade_lowest=False)\n",
    "\n",
    "# Add labels to the plot\n",
    "red = sns.color_palette(\"Reds\")[-2]\n",
    "blue = sns.color_palette(\"Blues\")[-2]\n",
    "ax.text(2.5, 8.2, \"virginica\", size=16, color=blue)\n",
    "ax.text(3.8, 4.5, \"setosa\", size=16, color=red);"
   ]
  },
  {
   "cell_type": "markdown",
   "metadata": {},
   "source": [
    "Je kan ook met ``heatmap`` snel een ``heatmap`` maken van bijv. de correlatie tussen verschillende kolommen. Hieronder maken we een ``heatmap`` voor alle variabelen gemeten door KNMI station Gilze Rijen."
   ]
  },
  {
   "cell_type": "code",
   "execution_count": null,
   "metadata": {},
   "outputs": [],
   "source": [
    "from io import StringIO\n",
    "import pandas as pd\n",
    "import requests\n",
    "\n",
    "url_dag = 'http://projects.knmi.nl/klimatologie/daggegevens/getdata_dag.cgi'\n",
    "params = {'start': '20180101', 'stns': '350'}\n",
    "\n",
    "r = requests.get(url_dag, params=params)\n",
    "columnnames = [column.strip() for column in StringIO(r.text).read().split(\"#\")[-2].split(',')] # split op comment #, pak de\n",
    "# een-na-laatste dit zijn de kolomnamen, split weer met komma, en strip() de kolomnamen van spaties en /r/n\n",
    "df = pd.read_csv(StringIO(r.text), comment='#', sep=',', names=columnnames, parse_dates=[1], index_col=[1])\n",
    "df.head()"
   ]
  },
  {
   "cell_type": "code",
   "execution_count": null,
   "metadata": {},
   "outputs": [],
   "source": [
    "import numpy as np\n",
    "import seaborn as sns\n",
    "\n",
    "corr = df.corr() # correlatie matrix\n",
    "\n",
    "mask = np.zeros_like(corr, dtype=np.bool)\n",
    "mask[np.triu_indices_from(mask)] = True # masker voor de bovenste driehoek\n",
    "\n",
    "plt.title('correlatie tussen verschillende parameters knmi station gilze rijen')\n",
    "sns.heatmap(corr, mask=mask, vmin=-1, vmax=1, cmap='PiYG', square=True, linewidth=.5, cbar_kws={'shrink': .5});"
   ]
  },
  {
   "cell_type": "code",
   "execution_count": null,
   "metadata": {},
   "outputs": [],
   "source": []
  }
 ],
 "metadata": {
  "kernelspec": {
   "display_name": "Python 3",
   "language": "python",
   "name": "python3"
  },
  "language_info": {
   "codemirror_mode": {
    "name": "ipython",
    "version": 3
   },
   "file_extension": ".py",
   "mimetype": "text/x-python",
   "name": "python",
   "nbconvert_exporter": "python",
   "pygments_lexer": "ipython3",
   "version": "3.7.1"
  }
 },
 "nbformat": 4,
 "nbformat_minor": 2
}
