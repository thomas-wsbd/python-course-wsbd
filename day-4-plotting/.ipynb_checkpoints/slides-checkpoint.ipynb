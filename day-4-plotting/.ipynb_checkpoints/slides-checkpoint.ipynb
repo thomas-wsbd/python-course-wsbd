{
 "cells": [
  {
   "cell_type": "code",
   "execution_count": 3,
   "metadata": {
    "slideshow": {
     "slide_type": "skip"
    }
   },
   "outputs": [
    {
     "name": "stderr",
     "output_type": "stream",
     "text": [
      "[NbConvertApp] Converting notebook slides.ipynb to slides\n",
      "[NbConvertApp] Writing 281600 bytes to slides.slides.html\n"
     ]
    }
   ],
   "source": [
    "!jupyter nbconvert --to=slides slides.ipynb --SlidesExporter.reveal_transition=none"
   ]
  },
  {
   "cell_type": "raw",
   "metadata": {
    "slideshow": {
     "slide_type": "skip"
    }
   },
   "source": [
    "<style>\n",
    "\n",
    ".CodeMirror {\n",
    "    width: 100vw;\n",
    "}\n",
    "\n",
    ".container {\n",
    "    width: 99% !important;\n",
    "}\n",
    "\n",
    ".rendered_html {\n",
    "  font-size:0.8em;\n",
    "}\n",
    ".rendered_html table, .rendered_html th, .rendered_html tr, .rendered_html td {\n",
    "     font-size: 100%;\n",
    "}\n",
    "\n",
    "</style>"
   ]
  },
  {
   "cell_type": "markdown",
   "metadata": {
    "slideshow": {
     "slide_type": "slide"
    }
   },
   "source": [
    "![](https://media0.giphy.com/media/8ss6RDxYBCvSg/source.gif)\n",
    "\n",
    "## today: plotting\n",
    "- introductie\n",
    "- daarna weer aan de slag in notebook;\n",
    "    - matplotlib\n",
    "        - line plots\n",
    "        - scatter\n",
    "        - contour\n",
    "        - histogram\n",
    "    - pandas\n",
    "    - geopandas\n",
    "    - seaborn\n",
    "    \n",
    "<script>\n",
    "    console.log(\"Hello. You'll see this printed in your browser's DevTools / Console. Feel free to delete this line.\");\n",
    "    document.querySelector('head').innerHTML += '<style>.slides { zoom: 1.0 !important; }</style>';\n",
    "</script>"
   ]
  },
  {
   "cell_type": "markdown",
   "metadata": {
    "slideshow": {
     "slide_type": "slide"
    }
   },
   "source": [
    "# weer een kleine quiz\n",
    "\n",
    "ga naar [menti.com](https://www.mentimeter.com/s/bf95a3347d51092d67880af41f99884b/465bb3519a7b)"
   ]
  },
  {
   "cell_type": "markdown",
   "metadata": {
    "slideshow": {
     "slide_type": "slide"
    }
   },
   "source": [
    "# ter inspiratie...\n",
    "enkele voorbeeldjes\n",
    "\n",
    "![](http://thomasdeurloo.nl/static/img/gallery/sealevel.png)"
   ]
  },
  {
   "cell_type": "markdown",
   "metadata": {
    "slideshow": {
     "slide_type": "slide"
    }
   },
   "source": [
    "![](http://thomasdeurloo.nl/static/img/gallery/subbasins.png)"
   ]
  },
  {
   "cell_type": "markdown",
   "metadata": {
    "slideshow": {
     "slide_type": "slide"
    }
   },
   "source": [
    "![](http://thomasdeurloo.nl/static/img/gallery/rainworld.png)"
   ]
  },
  {
   "cell_type": "markdown",
   "metadata": {
    "slideshow": {
     "slide_type": "slide"
    }
   },
   "source": [
    "# een bak koffie en lets go\n",
    "![](https://media.giphy.com/media/u9QoHec9uGfq8/giphy.gif)\n",
    "\n",
    "G:/Iedereen/python-wsbd/day-4"
   ]
  },
  {
   "cell_type": "code",
   "execution_count": null,
   "metadata": {
    "slideshow": {
     "slide_type": "skip"
    }
   },
   "outputs": [],
   "source": []
  }
 ],
 "metadata": {
  "celltoolbar": "Slideshow",
  "kernelspec": {
   "display_name": "Python 3",
   "language": "python",
   "name": "python3"
  },
  "language_info": {
   "codemirror_mode": {
    "name": "ipython",
    "version": 3
   },
   "file_extension": ".py",
   "mimetype": "text/x-python",
   "name": "python",
   "nbconvert_exporter": "python",
   "pygments_lexer": "ipython3",
   "version": "3.7.1"
  }
 },
 "nbformat": 4,
 "nbformat_minor": 2
}
